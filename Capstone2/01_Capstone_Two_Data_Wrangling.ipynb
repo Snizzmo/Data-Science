{
 "cells": [
  {
   "cell_type": "markdown",
   "id": "04df6d36",
   "metadata": {},
   "source": [
    "# Capstone Two: Data Wrangling\n",
    "\n",
    "Data from: https://www.kaggle.com/c/competitive-data-science-predict-future-sales\n",
    "\n",
    "The goal is to predict total sales for every product and store in the next month, and potentially get other insights."
   ]
  },
  {
   "cell_type": "code",
   "execution_count": 3,
   "id": "f63005b8",
   "metadata": {},
   "outputs": [],
   "source": [
    "# import libraries and format output\n",
    "import numpy as np\n",
    "import pandas as pd\n",
    "import seaborn as sns\n",
    "import os\n",
    "from library.sb_utils import save_file\n",
    "pd.options.display.float_format = '{:.2f}'.format"
   ]
  },
  {
   "cell_type": "markdown",
   "id": "ce7abd97",
   "metadata": {},
   "source": [
    "##### File descriptions\n",
    "sales_train.csv - the training set. Daily historical data from January 2013 to October 2015.\n",
    "\n",
    "test.csv - the test set. You need to forecast the sales for these shops and products for November 2015.\n",
    "\n",
    "sample_submission.csv - a sample submission file in the correct format.\n",
    "\n",
    "items.csv - supplemental information about the items/products.\n",
    "\n",
    "item_categories.csv  - supplemental information about the items categories.\n",
    "\n",
    "shops.csv- supplemental information about the shops."
   ]
  },
  {
   "cell_type": "code",
   "execution_count": 5,
   "id": "c0145d0a",
   "metadata": {
    "scrolled": true
   },
   "outputs": [
    {
     "data": {
      "text/plain": [
       "[Index(['date', 'date_block_num', 'shop_id', 'item_id', 'item_price',\n",
       "        'item_cnt_day'],\n",
       "       dtype='object'),\n",
       " Index(['ID', 'shop_id', 'item_id'], dtype='object'),\n",
       " Index(['item_name', 'item_id', 'item_category_id'], dtype='object'),\n",
       " Index(['item_category_name', 'item_category_id'], dtype='object'),\n",
       " Index(['shop_name', 'shop_id'], dtype='object')]"
      ]
     },
     "execution_count": 5,
     "metadata": {},
     "output_type": "execute_result"
    }
   ],
   "source": [
    "# get all the csv files from the data folder\n",
    "data_path = './data/'\n",
    "sales_train = pd.read_csv(data_path+\"sales_train.csv\")\n",
    "test_dataset = pd.read_csv(data_path+\"test.csv\")\n",
    "items = pd.read_csv(data_path+\"items.csv\")\n",
    "item_categories = pd.read_csv(data_path+\"item_categories.csv\")\n",
    "shops = pd.read_csv(data_path+\"shops.csv\")\n",
    "#Let's make sure they all loaded\n",
    "[loaded.columns for loaded in [sales_train, test_dataset, items, item_categories, shops]]"
   ]
  },
  {
   "cell_type": "code",
   "execution_count": 6,
   "id": "d2df109f",
   "metadata": {
    "scrolled": true
   },
   "outputs": [
    {
     "name": "stdout",
     "output_type": "stream",
     "text": [
      "date              0\n",
      "date_block_num    0\n",
      "shop_id           0\n",
      "item_id           0\n",
      "item_price        0\n",
      "item_cnt_day      0\n",
      "dtype: int64\n",
      "ID         0\n",
      "shop_id    0\n",
      "item_id    0\n",
      "dtype: int64\n"
     ]
    }
   ],
   "source": [
    "# Check for null values in our train and test data\n",
    "print(sales_train.isna().sum())\n",
    "print(test_dataset.isna().sum())"
   ]
  },
  {
   "cell_type": "code",
   "execution_count": 4,
   "id": "6419ab5a",
   "metadata": {},
   "outputs": [
    {
     "name": "stdout",
     "output_type": "stream",
     "text": [
      "(2935849, 6)\n",
      "(214200, 3)\n",
      "(22170, 3)\n",
      "(84, 2)\n",
      "(60, 2)\n"
     ]
    }
   ],
   "source": [
    "# Let's do some basic exploration of the dataframes and find how many records are in each of our dataframes.\n",
    "print(sales_train.shape)\n",
    "print(test_dataset.shape)\n",
    "print(items.shape)\n",
    "print(item_categories.shape)\n",
    "print(shops.shape)"
   ]
  },
  {
   "cell_type": "code",
   "execution_count": 5,
   "id": "51f20670",
   "metadata": {},
   "outputs": [
    {
     "data": {
      "text/html": [
       "<div>\n",
       "<style scoped>\n",
       "    .dataframe tbody tr th:only-of-type {\n",
       "        vertical-align: middle;\n",
       "    }\n",
       "\n",
       "    .dataframe tbody tr th {\n",
       "        vertical-align: top;\n",
       "    }\n",
       "\n",
       "    .dataframe thead th {\n",
       "        text-align: right;\n",
       "    }\n",
       "</style>\n",
       "<table border=\"1\" class=\"dataframe\">\n",
       "  <thead>\n",
       "    <tr style=\"text-align: right;\">\n",
       "      <th></th>\n",
       "      <th>date</th>\n",
       "      <th>date_block_num</th>\n",
       "      <th>shop_id</th>\n",
       "      <th>item_id</th>\n",
       "      <th>item_price</th>\n",
       "      <th>item_cnt_day</th>\n",
       "    </tr>\n",
       "  </thead>\n",
       "  <tbody>\n",
       "    <tr>\n",
       "      <th>0</th>\n",
       "      <td>02.01.2013</td>\n",
       "      <td>0</td>\n",
       "      <td>59</td>\n",
       "      <td>22154</td>\n",
       "      <td>999.00</td>\n",
       "      <td>1.00</td>\n",
       "    </tr>\n",
       "    <tr>\n",
       "      <th>1</th>\n",
       "      <td>03.01.2013</td>\n",
       "      <td>0</td>\n",
       "      <td>25</td>\n",
       "      <td>2552</td>\n",
       "      <td>899.00</td>\n",
       "      <td>1.00</td>\n",
       "    </tr>\n",
       "    <tr>\n",
       "      <th>2</th>\n",
       "      <td>05.01.2013</td>\n",
       "      <td>0</td>\n",
       "      <td>25</td>\n",
       "      <td>2552</td>\n",
       "      <td>899.00</td>\n",
       "      <td>-1.00</td>\n",
       "    </tr>\n",
       "    <tr>\n",
       "      <th>3</th>\n",
       "      <td>06.01.2013</td>\n",
       "      <td>0</td>\n",
       "      <td>25</td>\n",
       "      <td>2554</td>\n",
       "      <td>1709.05</td>\n",
       "      <td>1.00</td>\n",
       "    </tr>\n",
       "    <tr>\n",
       "      <th>4</th>\n",
       "      <td>15.01.2013</td>\n",
       "      <td>0</td>\n",
       "      <td>25</td>\n",
       "      <td>2555</td>\n",
       "      <td>1099.00</td>\n",
       "      <td>1.00</td>\n",
       "    </tr>\n",
       "  </tbody>\n",
       "</table>\n",
       "</div>"
      ],
      "text/plain": [
       "         date  date_block_num  shop_id  item_id  item_price  item_cnt_day\n",
       "0  02.01.2013               0       59    22154      999.00          1.00\n",
       "1  03.01.2013               0       25     2552      899.00          1.00\n",
       "2  05.01.2013               0       25     2552      899.00         -1.00\n",
       "3  06.01.2013               0       25     2554     1709.05          1.00\n",
       "4  15.01.2013               0       25     2555     1099.00          1.00"
      ]
     },
     "execution_count": 5,
     "metadata": {},
     "output_type": "execute_result"
    }
   ],
   "source": [
    "# Since it is clear that there are more items than item categories and shops, \n",
    "# and that our train set is larget than our test set, this makes sense. \n",
    "# Let's continue to look at our training data \n",
    "sales_train.head()"
   ]
  },
  {
   "cell_type": "code",
   "execution_count": 6,
   "id": "a7ca2712",
   "metadata": {},
   "outputs": [
    {
     "name": "stdout",
     "output_type": "stream",
     "text": [
      "<class 'pandas.core.frame.DataFrame'>\n",
      "RangeIndex: 2935849 entries, 0 to 2935848\n",
      "Data columns (total 6 columns):\n",
      " #   Column          Dtype  \n",
      "---  ------          -----  \n",
      " 0   date            object \n",
      " 1   date_block_num  int64  \n",
      " 2   shop_id         int64  \n",
      " 3   item_id         int64  \n",
      " 4   item_price      float64\n",
      " 5   item_cnt_day    float64\n",
      "dtypes: float64(2), int64(3), object(1)\n",
      "memory usage: 134.4+ MB\n"
     ]
    }
   ],
   "source": [
    "sales_train.info()"
   ]
  },
  {
   "cell_type": "code",
   "execution_count": 7,
   "id": "3a0328db",
   "metadata": {},
   "outputs": [
    {
     "data": {
      "text/plain": [
       "0     02.01.2013\n",
       "1     03.01.2013\n",
       "2     05.01.2013\n",
       "3     06.01.2013\n",
       "4     15.01.2013\n",
       "5     10.01.2013\n",
       "6     02.01.2013\n",
       "7     04.01.2013\n",
       "8     11.01.2013\n",
       "9     03.01.2013\n",
       "10    03.01.2013\n",
       "11    05.01.2013\n",
       "12    07.01.2013\n",
       "13    08.01.2013\n",
       "14    10.01.2013\n",
       "15    11.01.2013\n",
       "16    13.01.2013\n",
       "17    16.01.2013\n",
       "18    26.01.2013\n",
       "19    27.01.2013\n",
       "Name: date, dtype: object"
      ]
     },
     "execution_count": 7,
     "metadata": {},
     "output_type": "execute_result"
    }
   ],
   "source": [
    "sales_train[sales_train.date_block_num == 0]['date'].head(20)"
   ]
  },
  {
   "cell_type": "code",
   "execution_count": 8,
   "id": "bcb61f5b",
   "metadata": {
    "scrolled": true
   },
   "outputs": [
    {
     "name": "stdout",
     "output_type": "stream",
     "text": [
      "<class 'pandas.core.frame.DataFrame'>\n",
      "RangeIndex: 2935849 entries, 0 to 2935848\n",
      "Data columns (total 7 columns):\n",
      " #   Column          Dtype         \n",
      "---  ------          -----         \n",
      " 0   date            object        \n",
      " 1   date_block_num  int64         \n",
      " 2   shop_id         int64         \n",
      " 3   item_id         int64         \n",
      " 4   item_price      float64       \n",
      " 5   item_cnt_day    float64       \n",
      " 6   datetime        datetime64[ns]\n",
      "dtypes: datetime64[ns](1), float64(2), int64(3), object(1)\n",
      "memory usage: 156.8+ MB\n"
     ]
    }
   ],
   "source": [
    "# I want to add a datetime format column for later. The rest of the info looks fine as is. Easy fix!\n",
    "sales_train['datetime'] = pd.to_datetime(sales_train['date'], format='%d.%m.%Y')\n",
    "sales_train.info()"
   ]
  },
  {
   "cell_type": "code",
   "execution_count": 9,
   "id": "f5d825c8",
   "metadata": {},
   "outputs": [
    {
     "data": {
      "text/plain": [
       "0    02.01.2013\n",
       "1    03.01.2013\n",
       "2    05.01.2013\n",
       "3    06.01.2013\n",
       "4    15.01.2013\n",
       "Name: date, dtype: object"
      ]
     },
     "execution_count": 9,
     "metadata": {},
     "output_type": "execute_result"
    }
   ],
   "source": [
    "sales_train[sales_train.date_block_num == 0]['date'].head()"
   ]
  },
  {
   "cell_type": "code",
   "execution_count": 10,
   "id": "c185f684",
   "metadata": {},
   "outputs": [
    {
     "name": "stdout",
     "output_type": "stream",
     "text": [
      "date_block_num\n",
      "[ 0  1  2  3  4  5  6  7  8  9 10 11 12 13 14 15 16 17 18 19 20 21 22 23\n",
      " 24 25 26 27 28 29 30 31 32 33]\n",
      "34\n",
      "\n",
      "shop_id\n",
      "[ 0  1  2  3  4  5  6  7  8  9 10 11 12 13 14 15 16 17 18 19 20 21 22 23\n",
      " 24 25 26 27 28 29 30 31 32 33 34 35 36 37 38 39 40 41 42 43 44 45 46 47\n",
      " 48 49 50 51 52 53 54 55 56 57 58 59]\n",
      "60\n",
      "\n",
      "item_id\n",
      "[    0     1     2 ... 22167 22168 22169]\n",
      "21807\n"
     ]
    }
   ],
   "source": [
    "# Now, let's look at the unique items in each feature. \n",
    "# [Index(['date', 'date_block_num', 'shop_id', 'item_id', 'item_price', 'item_cnt_day'],\n",
    "print('date_block_num')\n",
    "print(sales_train.sort_values('date_block_num').date_block_num.unique())\n",
    "print(len(sales_train.sort_values('date_block_num').date_block_num.unique()))\n",
    "\n",
    "print('\\nshop_id')\n",
    "print(sales_train.sort_values('shop_id').shop_id.unique())\n",
    "print(len(sales_train.sort_values('shop_id').shop_id.unique()))\n",
    "\n",
    "print('\\nitem_id')\n",
    "print(sales_train.sort_values('item_id').item_id.unique())\n",
    "print(len(sales_train.sort_values('item_id').item_id.unique()))"
   ]
  },
  {
   "cell_type": "markdown",
   "id": "61d714d2",
   "metadata": {},
   "source": [
    "Not every ID is present in the item_id column, which makes sense, but the date_block_num and the shop_id both have the full range without missing values. Nice! This dataset is great. "
   ]
  },
  {
   "cell_type": "markdown",
   "id": "ea2ff018",
   "metadata": {},
   "source": [
    "What are the minimum and maximum prices in the item_price and item_cnt_day columns? "
   ]
  },
  {
   "cell_type": "code",
   "execution_count": 11,
   "id": "303b874c",
   "metadata": {},
   "outputs": [
    {
     "name": "stdout",
     "output_type": "stream",
     "text": [
      "count   2935849.00\n",
      "mean        890.85\n",
      "std        1729.80\n",
      "min          -1.00\n",
      "25%         249.00\n",
      "50%         399.00\n",
      "75%         999.00\n",
      "max      307980.00\n",
      "Name: item_price, dtype: float64\n",
      "count   2935849.00\n",
      "mean          1.24\n",
      "std           2.62\n",
      "min         -22.00\n",
      "25%           1.00\n",
      "50%           1.00\n",
      "75%           1.00\n",
      "max        2169.00\n",
      "Name: item_cnt_day, dtype: float64\n"
     ]
    }
   ],
   "source": [
    "print(sales_train.item_price.describe())\n",
    "print(sales_train.item_cnt_day.describe())"
   ]
  },
  {
   "cell_type": "markdown",
   "id": "a6024862",
   "metadata": {},
   "source": [
    "We have some negative values - in item count, it could represent returns or a canceled sale, but it's impossible to sell an item for a negative price! Let's take a closer look at those columns."
   ]
  },
  {
   "cell_type": "code",
   "execution_count": 12,
   "id": "0fa23b63",
   "metadata": {},
   "outputs": [
    {
     "data": {
      "text/html": [
       "<div>\n",
       "<style scoped>\n",
       "    .dataframe tbody tr th:only-of-type {\n",
       "        vertical-align: middle;\n",
       "    }\n",
       "\n",
       "    .dataframe tbody tr th {\n",
       "        vertical-align: top;\n",
       "    }\n",
       "\n",
       "    .dataframe thead th {\n",
       "        text-align: right;\n",
       "    }\n",
       "</style>\n",
       "<table border=\"1\" class=\"dataframe\">\n",
       "  <thead>\n",
       "    <tr style=\"text-align: right;\">\n",
       "      <th></th>\n",
       "      <th>date</th>\n",
       "      <th>date_block_num</th>\n",
       "      <th>shop_id</th>\n",
       "      <th>item_id</th>\n",
       "      <th>item_price</th>\n",
       "      <th>item_cnt_day</th>\n",
       "      <th>datetime</th>\n",
       "    </tr>\n",
       "  </thead>\n",
       "  <tbody>\n",
       "    <tr>\n",
       "      <th>484683</th>\n",
       "      <td>15.05.2013</td>\n",
       "      <td>4</td>\n",
       "      <td>32</td>\n",
       "      <td>2973</td>\n",
       "      <td>-1.00</td>\n",
       "      <td>1.00</td>\n",
       "      <td>2013-05-15</td>\n",
       "    </tr>\n",
       "  </tbody>\n",
       "</table>\n",
       "</div>"
      ],
      "text/plain": [
       "              date  date_block_num  shop_id  item_id  item_price  \\\n",
       "484683  15.05.2013               4       32     2973       -1.00   \n",
       "\n",
       "        item_cnt_day   datetime  \n",
       "484683          1.00 2013-05-15  "
      ]
     },
     "execution_count": 12,
     "metadata": {},
     "output_type": "execute_result"
    }
   ],
   "source": [
    "neg_price = sales_train[sales_train['item_price']<=0]\n",
    "neg_price"
   ]
  },
  {
   "cell_type": "markdown",
   "id": "b0f79130",
   "metadata": {},
   "source": [
    "Just one value, we could drop that row with the following command. \n",
    "\n",
    "```sales_train.drop(neg_price.index, inplace=True)```\n",
    "\n",
    "However, there could still be valueable info in it from item category or shop information so we'll keep it. "
   ]
  },
  {
   "cell_type": "code",
   "execution_count": 13,
   "id": "3601a80c",
   "metadata": {
    "scrolled": true
   },
   "outputs": [
    {
     "data": {
      "text/html": [
       "<div>\n",
       "<style scoped>\n",
       "    .dataframe tbody tr th:only-of-type {\n",
       "        vertical-align: middle;\n",
       "    }\n",
       "\n",
       "    .dataframe tbody tr th {\n",
       "        vertical-align: top;\n",
       "    }\n",
       "\n",
       "    .dataframe thead th {\n",
       "        text-align: right;\n",
       "    }\n",
       "</style>\n",
       "<table border=\"1\" class=\"dataframe\">\n",
       "  <thead>\n",
       "    <tr style=\"text-align: right;\">\n",
       "      <th></th>\n",
       "      <th>date_block_num</th>\n",
       "      <th>shop_id</th>\n",
       "      <th>item_id</th>\n",
       "      <th>item_price</th>\n",
       "      <th>item_cnt_day</th>\n",
       "    </tr>\n",
       "  </thead>\n",
       "  <tbody>\n",
       "    <tr>\n",
       "      <th>count</th>\n",
       "      <td>7356.00</td>\n",
       "      <td>7356.00</td>\n",
       "      <td>7356.00</td>\n",
       "      <td>7356.00</td>\n",
       "      <td>7356.00</td>\n",
       "    </tr>\n",
       "    <tr>\n",
       "      <th>mean</th>\n",
       "      <td>14.63</td>\n",
       "      <td>32.51</td>\n",
       "      <td>8982.02</td>\n",
       "      <td>1442.95</td>\n",
       "      <td>-1.03</td>\n",
       "    </tr>\n",
       "    <tr>\n",
       "      <th>std</th>\n",
       "      <td>9.44</td>\n",
       "      <td>16.83</td>\n",
       "      <td>6166.32</td>\n",
       "      <td>2419.68</td>\n",
       "      <td>0.37</td>\n",
       "    </tr>\n",
       "    <tr>\n",
       "      <th>min</th>\n",
       "      <td>0.00</td>\n",
       "      <td>2.00</td>\n",
       "      <td>28.00</td>\n",
       "      <td>0.50</td>\n",
       "      <td>-22.00</td>\n",
       "    </tr>\n",
       "    <tr>\n",
       "      <th>25%</th>\n",
       "      <td>7.00</td>\n",
       "      <td>19.00</td>\n",
       "      <td>3734.00</td>\n",
       "      <td>349.00</td>\n",
       "      <td>-1.00</td>\n",
       "    </tr>\n",
       "    <tr>\n",
       "      <th>50%</th>\n",
       "      <td>13.00</td>\n",
       "      <td>31.00</td>\n",
       "      <td>6927.00</td>\n",
       "      <td>799.00</td>\n",
       "      <td>-1.00</td>\n",
       "    </tr>\n",
       "    <tr>\n",
       "      <th>75%</th>\n",
       "      <td>23.00</td>\n",
       "      <td>47.00</td>\n",
       "      <td>14056.00</td>\n",
       "      <td>1699.00</td>\n",
       "      <td>-1.00</td>\n",
       "    </tr>\n",
       "    <tr>\n",
       "      <th>max</th>\n",
       "      <td>33.00</td>\n",
       "      <td>59.00</td>\n",
       "      <td>22167.00</td>\n",
       "      <td>33490.00</td>\n",
       "      <td>-1.00</td>\n",
       "    </tr>\n",
       "  </tbody>\n",
       "</table>\n",
       "</div>"
      ],
      "text/plain": [
       "       date_block_num  shop_id  item_id  item_price  item_cnt_day\n",
       "count         7356.00  7356.00  7356.00     7356.00       7356.00\n",
       "mean            14.63    32.51  8982.02     1442.95         -1.03\n",
       "std              9.44    16.83  6166.32     2419.68          0.37\n",
       "min              0.00     2.00    28.00        0.50        -22.00\n",
       "25%              7.00    19.00  3734.00      349.00         -1.00\n",
       "50%             13.00    31.00  6927.00      799.00         -1.00\n",
       "75%             23.00    47.00 14056.00     1699.00         -1.00\n",
       "max             33.00    59.00 22167.00    33490.00         -1.00"
      ]
     },
     "execution_count": 13,
     "metadata": {},
     "output_type": "execute_result"
    }
   ],
   "source": [
    "sales_train[sales_train['item_cnt_day']<=0].describe()"
   ]
  },
  {
   "cell_type": "markdown",
   "id": "444c48a8",
   "metadata": {},
   "source": [
    "Seems like almost all of the negative values are -1. If we could reach out to someone to know if this is from missing data or returns, that would be great. Since we can't, I'll keep the data. \n",
    "\n",
    "Because of this, I am going to clip the data later in the process, after I have made the monthly features."
   ]
  },
  {
   "cell_type": "markdown",
   "id": "21cbde79",
   "metadata": {},
   "source": [
    "Next, I want to check if there are any values in training data that are not in items, item_categories, or shops"
   ]
  },
  {
   "cell_type": "code",
   "execution_count": 14,
   "id": "7d805c65",
   "metadata": {
    "scrolled": true
   },
   "outputs": [
    {
     "name": "stdout",
     "output_type": "stream",
     "text": [
      "Empty DataFrame\n",
      "Columns: [date, date_block_num, shop_id, item_id, item_price, item_cnt_day, datetime]\n",
      "Index: []\n",
      "Empty DataFrame\n",
      "Columns: [date, date_block_num, shop_id, item_id, item_price, item_cnt_day, datetime]\n",
      "Index: []\n",
      "Empty DataFrame\n",
      "Columns: [item_name, item_id, item_category_id]\n",
      "Index: []\n"
     ]
    }
   ],
   "source": [
    "# Check if there are any values in training data that are not in items, item_categories, or shops\n",
    "print(sales_train[~sales_train.item_id.isin(items.item_id)])\n",
    "print(sales_train[~sales_train.shop_id.isin(shops.shop_id)])\n",
    "print(items[~items.item_category_id.isin(item_categories.item_category_id)])"
   ]
  },
  {
   "cell_type": "markdown",
   "id": "4ae73f1b",
   "metadata": {},
   "source": [
    "Every item in our training data has shop, item, and category info! Knowing this, I can confidently join the tables later on."
   ]
  },
  {
   "cell_type": "markdown",
   "id": "e2e7cf9e",
   "metadata": {},
   "source": [
    "Now, I want to check if there are any duplicated rows. "
   ]
  },
  {
   "cell_type": "code",
   "execution_count": 15,
   "id": "658ca6b8",
   "metadata": {},
   "outputs": [
    {
     "name": "stdout",
     "output_type": "stream",
     "text": [
      "               date  date_block_num  shop_id  item_id  item_price  \\\n",
      "76962    05.01.2013               0       54    20130      149.00   \n",
      "1435367  23.02.2014              13       50     3423      999.00   \n",
      "1496766  23.03.2014              14       21     3423      999.00   \n",
      "1671873  01.05.2014              16       50     3423      999.00   \n",
      "1866340  12.07.2014              18       25     3423      999.00   \n",
      "2198566  31.12.2014              23       42    21619      499.00   \n",
      "\n",
      "         item_cnt_day   datetime  \n",
      "76962            1.00 2013-01-05  \n",
      "1435367          1.00 2014-02-23  \n",
      "1496766          1.00 2014-03-23  \n",
      "1671873          1.00 2014-05-01  \n",
      "1866340          1.00 2014-07-12  \n",
      "2198566          1.00 2014-12-31  \n",
      "Empty DataFrame\n",
      "Columns: [item_name, item_id, item_category_id]\n",
      "Index: []\n",
      "Empty DataFrame\n",
      "Columns: [ID, shop_id, item_id]\n",
      "Index: []\n",
      "Empty DataFrame\n",
      "Columns: [item_category_name, item_category_id]\n",
      "Index: []\n",
      "Empty DataFrame\n",
      "Columns: [shop_name, shop_id]\n",
      "Index: []\n"
     ]
    }
   ],
   "source": [
    "print(sales_train[sales_train.duplicated()])\n",
    "print(items[items.duplicated()])\n",
    "print(test_dataset[test_dataset.duplicated()])\n",
    "print(item_categories[item_categories.duplicated()])\n",
    "print(shops[shops.duplicated()])"
   ]
  },
  {
   "cell_type": "markdown",
   "id": "7280e180",
   "metadata": {},
   "source": [
    "The only duplicated data is in the sales dataset; there are no other duplicated rows. "
   ]
  },
  {
   "cell_type": "code",
   "execution_count": 16,
   "id": "33ccf097",
   "metadata": {},
   "outputs": [
    {
     "name": "stdout",
     "output_type": "stream",
     "text": [
      "(2935849, 7)\n",
      "(2935843, 7)\n"
     ]
    },
    {
     "data": {
      "text/html": [
       "<div>\n",
       "<style scoped>\n",
       "    .dataframe tbody tr th:only-of-type {\n",
       "        vertical-align: middle;\n",
       "    }\n",
       "\n",
       "    .dataframe tbody tr th {\n",
       "        vertical-align: top;\n",
       "    }\n",
       "\n",
       "    .dataframe thead th {\n",
       "        text-align: right;\n",
       "    }\n",
       "</style>\n",
       "<table border=\"1\" class=\"dataframe\">\n",
       "  <thead>\n",
       "    <tr style=\"text-align: right;\">\n",
       "      <th></th>\n",
       "      <th>date</th>\n",
       "      <th>date_block_num</th>\n",
       "      <th>shop_id</th>\n",
       "      <th>item_id</th>\n",
       "      <th>item_price</th>\n",
       "      <th>item_cnt_day</th>\n",
       "      <th>datetime</th>\n",
       "    </tr>\n",
       "  </thead>\n",
       "  <tbody>\n",
       "  </tbody>\n",
       "</table>\n",
       "</div>"
      ],
      "text/plain": [
       "Empty DataFrame\n",
       "Columns: [date, date_block_num, shop_id, item_id, item_price, item_cnt_day, datetime]\n",
       "Index: []"
      ]
     },
     "execution_count": 16,
     "metadata": {},
     "output_type": "execute_result"
    }
   ],
   "source": [
    "# finally, we drop duplicates. \n",
    "print(sales_train.shape)\n",
    "sales_train.drop_duplicates(keep='last', inplace=True)\n",
    "print(sales_train.shape)\n",
    "sales_train[sales_train.duplicated()]"
   ]
  },
  {
   "cell_type": "markdown",
   "id": "dee35c07",
   "metadata": {},
   "source": [
    "Let's look more at the names of items and shops to make sure none of them are duplicates or misspellings. "
   ]
  },
  {
   "cell_type": "code",
   "execution_count": 17,
   "id": "026b2f70",
   "metadata": {},
   "outputs": [
    {
     "name": "stdout",
     "output_type": "stream",
     "text": [
      "True\n",
      "True\n"
     ]
    }
   ],
   "source": [
    "print(len(items.item_id.unique()) == len(items.item_name.unique()))\n",
    "print(len(shops.shop_name.unique()) == len(shops.shop_id.unique()))"
   ]
  },
  {
   "cell_type": "markdown",
   "id": "11407185",
   "metadata": {},
   "source": [
    "Assuming that the item id and shop id are unique and correct, then we are good to go! "
   ]
  },
  {
   "cell_type": "code",
   "execution_count": 19,
   "id": "65c64359",
   "metadata": {},
   "outputs": [
    {
     "name": "stdout",
     "output_type": "stream",
     "text": [
      "Directory ./data/clean was created.\n",
      "Writing file.  \"./data/clean\\clean_sales_train.csv\"\n",
      "Writing file.  \"./data/clean\\clean_test.csv\"\n",
      "Writing file.  \"./data/clean\\clean_items.csv\"\n",
      "Writing file.  \"./data/clean\\clean_item_categories.csv\"\n",
      "Writing file.  \"./data/clean\\clean_shops.csv\"\n"
     ]
    }
   ],
   "source": [
    "# Save the data\n",
    "datapath = './data/clean'\n",
    "save_file(sales_train, 'clean_sales_train.csv', datapath)\n",
    "save_file(test_dataset, 'clean_test.csv', datapath)\n",
    "save_file(items, 'clean_items.csv', datapath)\n",
    "save_file(item_categories, 'clean_item_categories.csv', datapath)\n",
    "save_file(shops, 'clean_shops.csv', datapath)"
   ]
  },
  {
   "cell_type": "code",
   "execution_count": null,
   "id": "53eb191d",
   "metadata": {},
   "outputs": [],
   "source": []
  }
 ],
 "metadata": {
  "kernelspec": {
   "display_name": "Python 3 (ipykernel)",
   "language": "python",
   "name": "python3"
  },
  "language_info": {
   "codemirror_mode": {
    "name": "ipython",
    "version": 3
   },
   "file_extension": ".py",
   "mimetype": "text/x-python",
   "name": "python",
   "nbconvert_exporter": "python",
   "pygments_lexer": "ipython3",
   "version": "3.8.8"
  }
 },
 "nbformat": 4,
 "nbformat_minor": 5
}
