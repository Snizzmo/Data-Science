{
 "cells": [
  {
   "cell_type": "markdown",
   "id": "b8b0bf8b",
   "metadata": {},
   "source": [
    "# Capstone Two: Feature Engineering\n",
    "\n",
    "In this step for my capstone, I am going to use my insights from the EDA step as well as tools like featuretools\n",
    "\n",
    "The general plan for this notebook will be: \n",
    "\n",
    "1. Import the data.\n",
    "2. Add features using EDA and other insights. \n",
    "3. Save the new DataFrames. "
   ]
  },
  {
   "cell_type": "markdown",
   "id": "cba20394",
   "metadata": {},
   "source": [
    "# 1. Import the data."
   ]
  },
  {
   "cell_type": "code",
   "execution_count": 251,
   "id": "57343761",
   "metadata": {},
   "outputs": [],
   "source": [
    "import numpy as np\n",
    "import pandas as pd\n",
    "import featuretools as ft\n",
    "\n",
    "import warnings\n",
    "warnings.filterwarnings('ignore')\n",
    "\n",
    "import os\n",
    "from library.sb_utils import save_file\n",
    "\n",
    "pd.options.display.float_format = '{:.2f}'.format"
   ]
  },
  {
   "cell_type": "code",
   "execution_count": 252,
   "id": "78f55c1a",
   "metadata": {},
   "outputs": [],
   "source": [
    "training = pd.read_csv(\"./data/training_data_cleaned.csv\")\n",
    "testing = pd.read_csv('./data/test.csv')\n",
    "categories = pd.read_csv(\"./data/item_categories.csv\")"
   ]
  },
  {
   "cell_type": "code",
   "execution_count": 253,
   "id": "77876808",
   "metadata": {},
   "outputs": [],
   "source": [
    "training['datetime'] = pd.to_datetime(training.date, format='%Y-%m-%d', errors='coerce')"
   ]
  },
  {
   "cell_type": "code",
   "execution_count": 254,
   "id": "e105527a",
   "metadata": {
    "scrolled": true
   },
   "outputs": [
    {
     "data": {
      "text/plain": [
       "date                          object\n",
       "date_block_num                 int64\n",
       "shop_id                        int64\n",
       "item_id                        int64\n",
       "item_price                   float64\n",
       "item_cnt_day                 float64\n",
       "item_name                     object\n",
       "item_category_id               int64\n",
       "item_category_name            object\n",
       "shop_name                     object\n",
       "datetime              datetime64[ns]\n",
       "dtype: object"
      ]
     },
     "execution_count": 254,
     "metadata": {},
     "output_type": "execute_result"
    }
   ],
   "source": [
    "training.dtypes"
   ]
  },
  {
   "cell_type": "code",
   "execution_count": 255,
   "id": "86848e5f",
   "metadata": {
    "scrolled": true
   },
   "outputs": [
    {
     "data": {
      "text/html": [
       "<div>\n",
       "<style scoped>\n",
       "    .dataframe tbody tr th:only-of-type {\n",
       "        vertical-align: middle;\n",
       "    }\n",
       "\n",
       "    .dataframe tbody tr th {\n",
       "        vertical-align: top;\n",
       "    }\n",
       "\n",
       "    .dataframe thead th {\n",
       "        text-align: right;\n",
       "    }\n",
       "</style>\n",
       "<table border=\"1\" class=\"dataframe\">\n",
       "  <thead>\n",
       "    <tr style=\"text-align: right;\">\n",
       "      <th></th>\n",
       "      <th>date</th>\n",
       "      <th>date_block_num</th>\n",
       "      <th>shop_id</th>\n",
       "      <th>item_id</th>\n",
       "      <th>item_price</th>\n",
       "      <th>item_cnt_day</th>\n",
       "      <th>item_name</th>\n",
       "      <th>item_category_id</th>\n",
       "      <th>item_category_name</th>\n",
       "      <th>shop_name</th>\n",
       "      <th>datetime</th>\n",
       "    </tr>\n",
       "  </thead>\n",
       "  <tbody>\n",
       "    <tr>\n",
       "      <th>0</th>\n",
       "      <td>2013-01-02</td>\n",
       "      <td>0</td>\n",
       "      <td>59</td>\n",
       "      <td>22154</td>\n",
       "      <td>999.00</td>\n",
       "      <td>1.00</td>\n",
       "      <td>ЯВЛЕНИЕ 2012 (BD)</td>\n",
       "      <td>37</td>\n",
       "      <td>Кино - Blu-Ray</td>\n",
       "      <td>Ярославль ТЦ \"Альтаир\"</td>\n",
       "      <td>2013-01-02</td>\n",
       "    </tr>\n",
       "    <tr>\n",
       "      <th>1</th>\n",
       "      <td>2013-01-03</td>\n",
       "      <td>0</td>\n",
       "      <td>25</td>\n",
       "      <td>2552</td>\n",
       "      <td>899.00</td>\n",
       "      <td>1.00</td>\n",
       "      <td>DEEP PURPLE  The House Of Blue Light  LP</td>\n",
       "      <td>58</td>\n",
       "      <td>Музыка - Винил</td>\n",
       "      <td>Москва ТРК \"Атриум\"</td>\n",
       "      <td>2013-01-03</td>\n",
       "    </tr>\n",
       "    <tr>\n",
       "      <th>2</th>\n",
       "      <td>2013-01-05</td>\n",
       "      <td>0</td>\n",
       "      <td>25</td>\n",
       "      <td>2552</td>\n",
       "      <td>899.00</td>\n",
       "      <td>-1.00</td>\n",
       "      <td>DEEP PURPLE  The House Of Blue Light  LP</td>\n",
       "      <td>58</td>\n",
       "      <td>Музыка - Винил</td>\n",
       "      <td>Москва ТРК \"Атриум\"</td>\n",
       "      <td>2013-01-05</td>\n",
       "    </tr>\n",
       "    <tr>\n",
       "      <th>3</th>\n",
       "      <td>2013-01-06</td>\n",
       "      <td>0</td>\n",
       "      <td>25</td>\n",
       "      <td>2554</td>\n",
       "      <td>1709.05</td>\n",
       "      <td>1.00</td>\n",
       "      <td>DEEP PURPLE  Who Do You Think We Are  LP</td>\n",
       "      <td>58</td>\n",
       "      <td>Музыка - Винил</td>\n",
       "      <td>Москва ТРК \"Атриум\"</td>\n",
       "      <td>2013-01-06</td>\n",
       "    </tr>\n",
       "    <tr>\n",
       "      <th>4</th>\n",
       "      <td>2013-01-15</td>\n",
       "      <td>0</td>\n",
       "      <td>25</td>\n",
       "      <td>2555</td>\n",
       "      <td>1099.00</td>\n",
       "      <td>1.00</td>\n",
       "      <td>DEEP PURPLE 30 Very Best Of 2CD (Фирм.)</td>\n",
       "      <td>56</td>\n",
       "      <td>Музыка - CD фирменного производства</td>\n",
       "      <td>Москва ТРК \"Атриум\"</td>\n",
       "      <td>2013-01-15</td>\n",
       "    </tr>\n",
       "  </tbody>\n",
       "</table>\n",
       "</div>"
      ],
      "text/plain": [
       "         date  date_block_num  shop_id  item_id  item_price  item_cnt_day  \\\n",
       "0  2013-01-02               0       59    22154      999.00          1.00   \n",
       "1  2013-01-03               0       25     2552      899.00          1.00   \n",
       "2  2013-01-05               0       25     2552      899.00         -1.00   \n",
       "3  2013-01-06               0       25     2554     1709.05          1.00   \n",
       "4  2013-01-15               0       25     2555     1099.00          1.00   \n",
       "\n",
       "                                  item_name  item_category_id  \\\n",
       "0                         ЯВЛЕНИЕ 2012 (BD)                37   \n",
       "1  DEEP PURPLE  The House Of Blue Light  LP                58   \n",
       "2  DEEP PURPLE  The House Of Blue Light  LP                58   \n",
       "3  DEEP PURPLE  Who Do You Think We Are  LP                58   \n",
       "4   DEEP PURPLE 30 Very Best Of 2CD (Фирм.)                56   \n",
       "\n",
       "                    item_category_name               shop_name   datetime  \n",
       "0                       Кино - Blu-Ray  Ярославль ТЦ \"Альтаир\" 2013-01-02  \n",
       "1                       Музыка - Винил     Москва ТРК \"Атриум\" 2013-01-03  \n",
       "2                       Музыка - Винил     Москва ТРК \"Атриум\" 2013-01-05  \n",
       "3                       Музыка - Винил     Москва ТРК \"Атриум\" 2013-01-06  \n",
       "4  Музыка - CD фирменного производства     Москва ТРК \"Атриум\" 2013-01-15  "
      ]
     },
     "execution_count": 255,
     "metadata": {},
     "output_type": "execute_result"
    }
   ],
   "source": [
    "training.head()"
   ]
  },
  {
   "cell_type": "markdown",
   "id": "a2507ba3",
   "metadata": {},
   "source": [
    "It's fine that date and datetime are non-numeric since we will drop those later. "
   ]
  },
  {
   "cell_type": "markdown",
   "id": "dff2101b",
   "metadata": {},
   "source": [
    "# 2. Add features by hand using EDA insights."
   ]
  },
  {
   "cell_type": "markdown",
   "id": "4c506007",
   "metadata": {},
   "source": [
    "Here are the major insights from the EDA step. \n",
    "1. The most popular items are Grand Theft Auto V PC, Grand Theft Auto V PS3, The Witcher 3: Wild Hunt PC. The most popular category is games.\n",
    "2. The stores that sell the most are either online or in Moscow. \n",
    "3. The general trend falling.\n",
    "4. There is a distinct seasonality to the data. \n",
    "5. Weekends  see more sales - by an average of about 211,116 per day.\n",
    "6. Holidays, specifically new year and Defender of the Fatherland Day, play a large role. \n",
    "\n",
    "\n",
    "This means we should implement the following features: \n",
    "1. Month (categorical)\n",
    "2. Day of the week (categorical)\n",
    "3. Is it a holiday? (discrete yes/no)\n",
    "\n",
    "I am also going to add other helpful factors: revenue, \n",
    "\n",
    "I am leaving out the store location because that is beyond the score of this notebook. I am leaving out release dates for games since that is both hard to find and simply creates outliers, so I do not think it is important enough for this application. The general trend is captured by date block num. "
   ]
  },
  {
   "cell_type": "code",
   "execution_count": 256,
   "id": "7de5b203",
   "metadata": {},
   "outputs": [],
   "source": [
    "# First, add the simple date info to testing dataset\n",
    "testing['date_block_num'] = 34"
   ]
  },
  {
   "cell_type": "markdown",
   "id": "140aea8f",
   "metadata": {},
   "source": [
    "### Add groups (more broad than categories)"
   ]
  },
  {
   "cell_type": "code",
   "execution_count": 257,
   "id": "2494b36a",
   "metadata": {
    "scrolled": false
   },
   "outputs": [
    {
     "data": {
      "text/html": [
       "<div>\n",
       "<style scoped>\n",
       "    .dataframe tbody tr th:only-of-type {\n",
       "        vertical-align: middle;\n",
       "    }\n",
       "\n",
       "    .dataframe tbody tr th {\n",
       "        vertical-align: top;\n",
       "    }\n",
       "\n",
       "    .dataframe thead th {\n",
       "        text-align: right;\n",
       "    }\n",
       "</style>\n",
       "<table border=\"1\" class=\"dataframe\">\n",
       "  <thead>\n",
       "    <tr style=\"text-align: right;\">\n",
       "      <th></th>\n",
       "      <th>item_category_name</th>\n",
       "      <th>item_category_id</th>\n",
       "    </tr>\n",
       "  </thead>\n",
       "  <tbody>\n",
       "    <tr>\n",
       "      <th>0</th>\n",
       "      <td>PC - Гарнитуры/Наушники</td>\n",
       "      <td>0</td>\n",
       "    </tr>\n",
       "    <tr>\n",
       "      <th>1</th>\n",
       "      <td>Аксессуары - PS2</td>\n",
       "      <td>1</td>\n",
       "    </tr>\n",
       "    <tr>\n",
       "      <th>2</th>\n",
       "      <td>Аксессуары - PS3</td>\n",
       "      <td>2</td>\n",
       "    </tr>\n",
       "    <tr>\n",
       "      <th>3</th>\n",
       "      <td>Аксессуары - PS4</td>\n",
       "      <td>3</td>\n",
       "    </tr>\n",
       "    <tr>\n",
       "      <th>4</th>\n",
       "      <td>Аксессуары - PSP</td>\n",
       "      <td>4</td>\n",
       "    </tr>\n",
       "  </tbody>\n",
       "</table>\n",
       "</div>"
      ],
      "text/plain": [
       "        item_category_name  item_category_id\n",
       "0  PC - Гарнитуры/Наушники                 0\n",
       "1         Аксессуары - PS2                 1\n",
       "2         Аксессуары - PS3                 2\n",
       "3         Аксессуары - PS4                 3\n",
       "4         Аксессуары - PSP                 4"
      ]
     },
     "execution_count": 257,
     "metadata": {},
     "output_type": "execute_result"
    }
   ],
   "source": [
    "categories.head()"
   ]
  },
  {
   "cell_type": "code",
   "execution_count": 258,
   "id": "d2b60734",
   "metadata": {},
   "outputs": [
    {
     "data": {
      "text/html": [
       "<div>\n",
       "<style scoped>\n",
       "    .dataframe tbody tr th:only-of-type {\n",
       "        vertical-align: middle;\n",
       "    }\n",
       "\n",
       "    .dataframe tbody tr th {\n",
       "        vertical-align: top;\n",
       "    }\n",
       "\n",
       "    .dataframe thead th {\n",
       "        text-align: right;\n",
       "    }\n",
       "</style>\n",
       "<table border=\"1\" class=\"dataframe\">\n",
       "  <thead>\n",
       "    <tr style=\"text-align: right;\">\n",
       "      <th></th>\n",
       "      <th>item_category_name</th>\n",
       "      <th>item_category_id</th>\n",
       "      <th>group_name</th>\n",
       "      <th>group_id</th>\n",
       "    </tr>\n",
       "  </thead>\n",
       "  <tbody>\n",
       "    <tr>\n",
       "      <th>55</th>\n",
       "      <td>Музыка - CD локального производства</td>\n",
       "      <td>55</td>\n",
       "      <td>Музыка</td>\n",
       "      <td>12</td>\n",
       "    </tr>\n",
       "    <tr>\n",
       "      <th>35</th>\n",
       "      <td>Карты оплаты - PSN</td>\n",
       "      <td>35</td>\n",
       "      <td>Карты оплаты</td>\n",
       "      <td>9</td>\n",
       "    </tr>\n",
       "    <tr>\n",
       "      <th>31</th>\n",
       "      <td>Игры PC - Цифра</td>\n",
       "      <td>31</td>\n",
       "      <td>Игры PC</td>\n",
       "      <td>8</td>\n",
       "    </tr>\n",
       "    <tr>\n",
       "      <th>0</th>\n",
       "      <td>PC - Гарнитуры/Наушники</td>\n",
       "      <td>0</td>\n",
       "      <td>PC</td>\n",
       "      <td>0</td>\n",
       "    </tr>\n",
       "    <tr>\n",
       "      <th>59</th>\n",
       "      <td>Музыка - Музыкальное видео</td>\n",
       "      <td>59</td>\n",
       "      <td>Музыка</td>\n",
       "      <td>12</td>\n",
       "    </tr>\n",
       "  </tbody>\n",
       "</table>\n",
       "</div>"
      ],
      "text/plain": [
       "                     item_category_name  item_category_id    group_name  \\\n",
       "55  Музыка - CD локального производства                55        Музыка   \n",
       "35                   Карты оплаты - PSN                35  Карты оплаты   \n",
       "31                      Игры PC - Цифра                31       Игры PC   \n",
       "0               PC - Гарнитуры/Наушники                 0            PC   \n",
       "59           Музыка - Музыкальное видео                59        Музыка   \n",
       "\n",
       "    group_id  \n",
       "55        12  \n",
       "35         9  \n",
       "31         8  \n",
       "0          0  \n",
       "59        12  "
      ]
     },
     "execution_count": 258,
     "metadata": {},
     "output_type": "execute_result"
    }
   ],
   "source": [
    "from sklearn.preprocessing import LabelEncoder\n",
    "le = LabelEncoder()\n",
    "\n",
    "#create broader category groupings, where group is general and item_category is more specific\n",
    "categories['group_name'] = categories['item_category_name'].str.extract(r'(^[\\w\\s]*)')\n",
    "categories['group_name'] = categories['group_name'].str.strip()\n",
    "#label encode group names\n",
    "categories['group_id']  = le.fit_transform(categories.group_name.values)\n",
    "categories.sample(5)"
   ]
  },
  {
   "cell_type": "code",
   "execution_count": 259,
   "id": "5864dc58",
   "metadata": {},
   "outputs": [
    {
     "data": {
      "text/html": [
       "<div>\n",
       "<style scoped>\n",
       "    .dataframe tbody tr th:only-of-type {\n",
       "        vertical-align: middle;\n",
       "    }\n",
       "\n",
       "    .dataframe tbody tr th {\n",
       "        vertical-align: top;\n",
       "    }\n",
       "\n",
       "    .dataframe thead th {\n",
       "        text-align: right;\n",
       "    }\n",
       "</style>\n",
       "<table border=\"1\" class=\"dataframe\">\n",
       "  <thead>\n",
       "    <tr style=\"text-align: right;\">\n",
       "      <th></th>\n",
       "      <th>item_category_name</th>\n",
       "      <th>group_name</th>\n",
       "      <th>group_id</th>\n",
       "    </tr>\n",
       "    <tr>\n",
       "      <th>item_category_id</th>\n",
       "      <th></th>\n",
       "      <th></th>\n",
       "      <th></th>\n",
       "    </tr>\n",
       "  </thead>\n",
       "  <tbody>\n",
       "    <tr>\n",
       "      <th>0</th>\n",
       "      <td>PC - Гарнитуры/Наушники</td>\n",
       "      <td>PC</td>\n",
       "      <td>0</td>\n",
       "    </tr>\n",
       "    <tr>\n",
       "      <th>1</th>\n",
       "      <td>Аксессуары - PS2</td>\n",
       "      <td>Аксессуары</td>\n",
       "      <td>1</td>\n",
       "    </tr>\n",
       "    <tr>\n",
       "      <th>2</th>\n",
       "      <td>Аксессуары - PS3</td>\n",
       "      <td>Аксессуары</td>\n",
       "      <td>1</td>\n",
       "    </tr>\n",
       "    <tr>\n",
       "      <th>3</th>\n",
       "      <td>Аксессуары - PS4</td>\n",
       "      <td>Аксессуары</td>\n",
       "      <td>1</td>\n",
       "    </tr>\n",
       "    <tr>\n",
       "      <th>4</th>\n",
       "      <td>Аксессуары - PSP</td>\n",
       "      <td>Аксессуары</td>\n",
       "      <td>1</td>\n",
       "    </tr>\n",
       "    <tr>\n",
       "      <th>...</th>\n",
       "      <td>...</td>\n",
       "      <td>...</td>\n",
       "      <td>...</td>\n",
       "    </tr>\n",
       "    <tr>\n",
       "      <th>79</th>\n",
       "      <td>Служебные</td>\n",
       "      <td>Служебные</td>\n",
       "      <td>15</td>\n",
       "    </tr>\n",
       "    <tr>\n",
       "      <th>80</th>\n",
       "      <td>Служебные - Билеты</td>\n",
       "      <td>Служебные</td>\n",
       "      <td>15</td>\n",
       "    </tr>\n",
       "    <tr>\n",
       "      <th>81</th>\n",
       "      <td>Чистые носители (шпиль)</td>\n",
       "      <td>Чистые носители</td>\n",
       "      <td>16</td>\n",
       "    </tr>\n",
       "    <tr>\n",
       "      <th>82</th>\n",
       "      <td>Чистые носители (штучные)</td>\n",
       "      <td>Чистые носители</td>\n",
       "      <td>16</td>\n",
       "    </tr>\n",
       "    <tr>\n",
       "      <th>83</th>\n",
       "      <td>Элементы питания</td>\n",
       "      <td>Элементы питания</td>\n",
       "      <td>17</td>\n",
       "    </tr>\n",
       "  </tbody>\n",
       "</table>\n",
       "<p>84 rows × 3 columns</p>\n",
       "</div>"
      ],
      "text/plain": [
       "                         item_category_name        group_name  group_id\n",
       "item_category_id                                                       \n",
       "0                   PC - Гарнитуры/Наушники                PC         0\n",
       "1                          Аксессуары - PS2        Аксессуары         1\n",
       "2                          Аксессуары - PS3        Аксессуары         1\n",
       "3                          Аксессуары - PS4        Аксессуары         1\n",
       "4                          Аксессуары - PSP        Аксессуары         1\n",
       "...                                     ...               ...       ...\n",
       "79                                Служебные         Служебные        15\n",
       "80                       Служебные - Билеты         Служебные        15\n",
       "81                  Чистые носители (шпиль)   Чистые носители        16\n",
       "82                Чистые носители (штучные)   Чистые носители        16\n",
       "83                         Элементы питания  Элементы питания        17\n",
       "\n",
       "[84 rows x 3 columns]"
      ]
     },
     "execution_count": 259,
     "metadata": {},
     "output_type": "execute_result"
    }
   ],
   "source": [
    "categories.set_index('item_category_id')"
   ]
  },
  {
   "cell_type": "code",
   "execution_count": 260,
   "id": "86faddda",
   "metadata": {},
   "outputs": [],
   "source": [
    "training = training.merge(categories.set_index('item_category_id').drop('item_category_name', axis=1), on='item_category_id', how='left')"
   ]
  },
  {
   "cell_type": "code",
   "execution_count": 261,
   "id": "49514503",
   "metadata": {
    "scrolled": true
   },
   "outputs": [
    {
     "data": {
      "text/html": [
       "<div>\n",
       "<style scoped>\n",
       "    .dataframe tbody tr th:only-of-type {\n",
       "        vertical-align: middle;\n",
       "    }\n",
       "\n",
       "    .dataframe tbody tr th {\n",
       "        vertical-align: top;\n",
       "    }\n",
       "\n",
       "    .dataframe thead th {\n",
       "        text-align: right;\n",
       "    }\n",
       "</style>\n",
       "<table border=\"1\" class=\"dataframe\">\n",
       "  <thead>\n",
       "    <tr style=\"text-align: right;\">\n",
       "      <th></th>\n",
       "      <th>date</th>\n",
       "      <th>date_block_num</th>\n",
       "      <th>shop_id</th>\n",
       "      <th>item_id</th>\n",
       "      <th>item_price</th>\n",
       "      <th>item_cnt_day</th>\n",
       "      <th>item_name</th>\n",
       "      <th>item_category_id</th>\n",
       "      <th>item_category_name</th>\n",
       "      <th>shop_name</th>\n",
       "      <th>datetime</th>\n",
       "      <th>group_name</th>\n",
       "      <th>group_id</th>\n",
       "    </tr>\n",
       "  </thead>\n",
       "  <tbody>\n",
       "    <tr>\n",
       "      <th>0</th>\n",
       "      <td>2013-01-02</td>\n",
       "      <td>0</td>\n",
       "      <td>59</td>\n",
       "      <td>22154</td>\n",
       "      <td>999.00</td>\n",
       "      <td>1.00</td>\n",
       "      <td>ЯВЛЕНИЕ 2012 (BD)</td>\n",
       "      <td>37</td>\n",
       "      <td>Кино - Blu-Ray</td>\n",
       "      <td>Ярославль ТЦ \"Альтаир\"</td>\n",
       "      <td>2013-01-02</td>\n",
       "      <td>Кино</td>\n",
       "      <td>10</td>\n",
       "    </tr>\n",
       "    <tr>\n",
       "      <th>1</th>\n",
       "      <td>2013-01-03</td>\n",
       "      <td>0</td>\n",
       "      <td>25</td>\n",
       "      <td>2552</td>\n",
       "      <td>899.00</td>\n",
       "      <td>1.00</td>\n",
       "      <td>DEEP PURPLE  The House Of Blue Light  LP</td>\n",
       "      <td>58</td>\n",
       "      <td>Музыка - Винил</td>\n",
       "      <td>Москва ТРК \"Атриум\"</td>\n",
       "      <td>2013-01-03</td>\n",
       "      <td>Музыка</td>\n",
       "      <td>12</td>\n",
       "    </tr>\n",
       "    <tr>\n",
       "      <th>2</th>\n",
       "      <td>2013-01-05</td>\n",
       "      <td>0</td>\n",
       "      <td>25</td>\n",
       "      <td>2552</td>\n",
       "      <td>899.00</td>\n",
       "      <td>-1.00</td>\n",
       "      <td>DEEP PURPLE  The House Of Blue Light  LP</td>\n",
       "      <td>58</td>\n",
       "      <td>Музыка - Винил</td>\n",
       "      <td>Москва ТРК \"Атриум\"</td>\n",
       "      <td>2013-01-05</td>\n",
       "      <td>Музыка</td>\n",
       "      <td>12</td>\n",
       "    </tr>\n",
       "    <tr>\n",
       "      <th>3</th>\n",
       "      <td>2013-01-06</td>\n",
       "      <td>0</td>\n",
       "      <td>25</td>\n",
       "      <td>2554</td>\n",
       "      <td>1709.05</td>\n",
       "      <td>1.00</td>\n",
       "      <td>DEEP PURPLE  Who Do You Think We Are  LP</td>\n",
       "      <td>58</td>\n",
       "      <td>Музыка - Винил</td>\n",
       "      <td>Москва ТРК \"Атриум\"</td>\n",
       "      <td>2013-01-06</td>\n",
       "      <td>Музыка</td>\n",
       "      <td>12</td>\n",
       "    </tr>\n",
       "    <tr>\n",
       "      <th>4</th>\n",
       "      <td>2013-01-15</td>\n",
       "      <td>0</td>\n",
       "      <td>25</td>\n",
       "      <td>2555</td>\n",
       "      <td>1099.00</td>\n",
       "      <td>1.00</td>\n",
       "      <td>DEEP PURPLE 30 Very Best Of 2CD (Фирм.)</td>\n",
       "      <td>56</td>\n",
       "      <td>Музыка - CD фирменного производства</td>\n",
       "      <td>Москва ТРК \"Атриум\"</td>\n",
       "      <td>2013-01-15</td>\n",
       "      <td>Музыка</td>\n",
       "      <td>12</td>\n",
       "    </tr>\n",
       "  </tbody>\n",
       "</table>\n",
       "</div>"
      ],
      "text/plain": [
       "         date  date_block_num  shop_id  item_id  item_price  item_cnt_day  \\\n",
       "0  2013-01-02               0       59    22154      999.00          1.00   \n",
       "1  2013-01-03               0       25     2552      899.00          1.00   \n",
       "2  2013-01-05               0       25     2552      899.00         -1.00   \n",
       "3  2013-01-06               0       25     2554     1709.05          1.00   \n",
       "4  2013-01-15               0       25     2555     1099.00          1.00   \n",
       "\n",
       "                                  item_name  item_category_id  \\\n",
       "0                         ЯВЛЕНИЕ 2012 (BD)                37   \n",
       "1  DEEP PURPLE  The House Of Blue Light  LP                58   \n",
       "2  DEEP PURPLE  The House Of Blue Light  LP                58   \n",
       "3  DEEP PURPLE  Who Do You Think We Are  LP                58   \n",
       "4   DEEP PURPLE 30 Very Best Of 2CD (Фирм.)                56   \n",
       "\n",
       "                    item_category_name               shop_name   datetime  \\\n",
       "0                       Кино - Blu-Ray  Ярославль ТЦ \"Альтаир\" 2013-01-02   \n",
       "1                       Музыка - Винил     Москва ТРК \"Атриум\" 2013-01-03   \n",
       "2                       Музыка - Винил     Москва ТРК \"Атриум\" 2013-01-05   \n",
       "3                       Музыка - Винил     Москва ТРК \"Атриум\" 2013-01-06   \n",
       "4  Музыка - CD фирменного производства     Москва ТРК \"Атриум\" 2013-01-15   \n",
       "\n",
       "  group_name  group_id  \n",
       "0       Кино        10  \n",
       "1     Музыка        12  \n",
       "2     Музыка        12  \n",
       "3     Музыка        12  \n",
       "4     Музыка        12  "
      ]
     },
     "execution_count": 261,
     "metadata": {},
     "output_type": "execute_result"
    }
   ],
   "source": [
    "training.head()"
   ]
  },
  {
   "cell_type": "code",
   "execution_count": 262,
   "id": "59c1c167",
   "metadata": {
    "scrolled": false
   },
   "outputs": [
    {
     "data": {
      "text/html": [
       "<div>\n",
       "<style scoped>\n",
       "    .dataframe tbody tr th:only-of-type {\n",
       "        vertical-align: middle;\n",
       "    }\n",
       "\n",
       "    .dataframe tbody tr th {\n",
       "        vertical-align: top;\n",
       "    }\n",
       "\n",
       "    .dataframe thead th {\n",
       "        text-align: right;\n",
       "    }\n",
       "</style>\n",
       "<table border=\"1\" class=\"dataframe\">\n",
       "  <thead>\n",
       "    <tr style=\"text-align: right;\">\n",
       "      <th></th>\n",
       "      <th>ID</th>\n",
       "      <th>shop_id</th>\n",
       "      <th>item_id</th>\n",
       "      <th>date_block_num</th>\n",
       "      <th>item_category_id</th>\n",
       "    </tr>\n",
       "  </thead>\n",
       "  <tbody>\n",
       "    <tr>\n",
       "      <th>0</th>\n",
       "      <td>0</td>\n",
       "      <td>5</td>\n",
       "      <td>5037</td>\n",
       "      <td>34</td>\n",
       "      <td>19.00</td>\n",
       "    </tr>\n",
       "    <tr>\n",
       "      <th>1</th>\n",
       "      <td>1</td>\n",
       "      <td>5</td>\n",
       "      <td>5320</td>\n",
       "      <td>34</td>\n",
       "      <td>NaN</td>\n",
       "    </tr>\n",
       "    <tr>\n",
       "      <th>2</th>\n",
       "      <td>2</td>\n",
       "      <td>5</td>\n",
       "      <td>5233</td>\n",
       "      <td>34</td>\n",
       "      <td>19.00</td>\n",
       "    </tr>\n",
       "    <tr>\n",
       "      <th>3</th>\n",
       "      <td>3</td>\n",
       "      <td>5</td>\n",
       "      <td>5232</td>\n",
       "      <td>34</td>\n",
       "      <td>23.00</td>\n",
       "    </tr>\n",
       "    <tr>\n",
       "      <th>4</th>\n",
       "      <td>4</td>\n",
       "      <td>5</td>\n",
       "      <td>5268</td>\n",
       "      <td>34</td>\n",
       "      <td>NaN</td>\n",
       "    </tr>\n",
       "  </tbody>\n",
       "</table>\n",
       "</div>"
      ],
      "text/plain": [
       "   ID  shop_id  item_id  date_block_num  item_category_id\n",
       "0   0        5     5037              34             19.00\n",
       "1   1        5     5320              34               NaN\n",
       "2   2        5     5233              34             19.00\n",
       "3   3        5     5232              34             23.00\n",
       "4   4        5     5268              34               NaN"
      ]
     },
     "execution_count": 262,
     "metadata": {},
     "output_type": "execute_result"
    }
   ],
   "source": [
    "# add item categories\n",
    "testing = pd.merge(testing, training[['item_id', 'item_category_id']], on = 'item_id', how='left') \n",
    "testing=testing.drop_duplicates(subset=['ID'])\n",
    "testing.reset_index(inplace=True, drop=True)\n",
    "testing.head()"
   ]
  },
  {
   "cell_type": "code",
   "execution_count": 263,
   "id": "2b270641",
   "metadata": {},
   "outputs": [
    {
     "name": "stdout",
     "output_type": "stream",
     "text": [
      "items in category 0: ID                 0.00\n",
      "shop_id            0.00\n",
      "item_id            0.00\n",
      "date_block_num     0.00\n",
      "item_category_id   0.00\n",
      "dtype: float64\n",
      "percent NaN:  0.0711764705882353\n",
      "percent NaN after filling with 0:  0.0\n"
     ]
    }
   ],
   "source": [
    "# how many item categories are na? if fewer than 5 percent, lets just set those to an unused value (0)\n",
    "print(\"items in category 0:\",testing[testing.item_category_id==0].sum())\n",
    "print(\"percent NaN: \", testing.item_category_id.isna().sum() / testing.ID.count())\n",
    "testing.item_category_id.fillna(0, inplace=True)\n",
    "print(\"percent NaN after filling with 0: \", testing.item_category_id.isna().sum() / testing.ID.count())"
   ]
  },
  {
   "cell_type": "code",
   "execution_count": 264,
   "id": "733d12b9",
   "metadata": {},
   "outputs": [],
   "source": [
    "testing['item_category_id']=testing['item_category_id'].astype('int64')"
   ]
  },
  {
   "cell_type": "code",
   "execution_count": 265,
   "id": "7d3c6925",
   "metadata": {},
   "outputs": [],
   "source": [
    "testing=testing.merge(categories.set_index('item_category_id'), on='item_category_id', how='left')"
   ]
  },
  {
   "cell_type": "code",
   "execution_count": 266,
   "id": "680ee167",
   "metadata": {},
   "outputs": [
    {
     "data": {
      "text/html": [
       "<div>\n",
       "<style scoped>\n",
       "    .dataframe tbody tr th:only-of-type {\n",
       "        vertical-align: middle;\n",
       "    }\n",
       "\n",
       "    .dataframe tbody tr th {\n",
       "        vertical-align: top;\n",
       "    }\n",
       "\n",
       "    .dataframe thead th {\n",
       "        text-align: right;\n",
       "    }\n",
       "</style>\n",
       "<table border=\"1\" class=\"dataframe\">\n",
       "  <thead>\n",
       "    <tr style=\"text-align: right;\">\n",
       "      <th></th>\n",
       "      <th>ID</th>\n",
       "      <th>shop_id</th>\n",
       "      <th>item_id</th>\n",
       "      <th>date_block_num</th>\n",
       "      <th>item_category_id</th>\n",
       "      <th>item_category_name</th>\n",
       "      <th>group_name</th>\n",
       "      <th>group_id</th>\n",
       "    </tr>\n",
       "  </thead>\n",
       "  <tbody>\n",
       "    <tr>\n",
       "      <th>0</th>\n",
       "      <td>0</td>\n",
       "      <td>5</td>\n",
       "      <td>5037</td>\n",
       "      <td>34</td>\n",
       "      <td>19</td>\n",
       "      <td>Игры - PS3</td>\n",
       "      <td>Игры</td>\n",
       "      <td>5</td>\n",
       "    </tr>\n",
       "    <tr>\n",
       "      <th>1</th>\n",
       "      <td>1</td>\n",
       "      <td>5</td>\n",
       "      <td>5320</td>\n",
       "      <td>34</td>\n",
       "      <td>0</td>\n",
       "      <td>PC - Гарнитуры/Наушники</td>\n",
       "      <td>PC</td>\n",
       "      <td>0</td>\n",
       "    </tr>\n",
       "    <tr>\n",
       "      <th>2</th>\n",
       "      <td>2</td>\n",
       "      <td>5</td>\n",
       "      <td>5233</td>\n",
       "      <td>34</td>\n",
       "      <td>19</td>\n",
       "      <td>Игры - PS3</td>\n",
       "      <td>Игры</td>\n",
       "      <td>5</td>\n",
       "    </tr>\n",
       "    <tr>\n",
       "      <th>3</th>\n",
       "      <td>3</td>\n",
       "      <td>5</td>\n",
       "      <td>5232</td>\n",
       "      <td>34</td>\n",
       "      <td>23</td>\n",
       "      <td>Игры - XBOX 360</td>\n",
       "      <td>Игры</td>\n",
       "      <td>5</td>\n",
       "    </tr>\n",
       "    <tr>\n",
       "      <th>4</th>\n",
       "      <td>4</td>\n",
       "      <td>5</td>\n",
       "      <td>5268</td>\n",
       "      <td>34</td>\n",
       "      <td>0</td>\n",
       "      <td>PC - Гарнитуры/Наушники</td>\n",
       "      <td>PC</td>\n",
       "      <td>0</td>\n",
       "    </tr>\n",
       "  </tbody>\n",
       "</table>\n",
       "</div>"
      ],
      "text/plain": [
       "   ID  shop_id  item_id  date_block_num  item_category_id  \\\n",
       "0   0        5     5037              34                19   \n",
       "1   1        5     5320              34                 0   \n",
       "2   2        5     5233              34                19   \n",
       "3   3        5     5232              34                23   \n",
       "4   4        5     5268              34                 0   \n",
       "\n",
       "        item_category_name group_name  group_id  \n",
       "0               Игры - PS3       Игры         5  \n",
       "1  PC - Гарнитуры/Наушники         PC         0  \n",
       "2               Игры - PS3       Игры         5  \n",
       "3          Игры - XBOX 360       Игры         5  \n",
       "4  PC - Гарнитуры/Наушники         PC         0  "
      ]
     },
     "execution_count": 266,
     "metadata": {},
     "output_type": "execute_result"
    }
   ],
   "source": [
    "testing.head()"
   ]
  },
  {
   "cell_type": "markdown",
   "id": "efaa3070",
   "metadata": {},
   "source": [
    "### Add total item revenue"
   ]
  },
  {
   "cell_type": "code",
   "execution_count": 267,
   "id": "db1f47a4",
   "metadata": {},
   "outputs": [],
   "source": [
    "training['revenue'] = training['item_cnt_day']*training['item_price']"
   ]
  },
  {
   "cell_type": "code",
   "execution_count": 268,
   "id": "02565ae2",
   "metadata": {},
   "outputs": [
    {
     "data": {
      "text/html": [
       "<div>\n",
       "<style scoped>\n",
       "    .dataframe tbody tr th:only-of-type {\n",
       "        vertical-align: middle;\n",
       "    }\n",
       "\n",
       "    .dataframe tbody tr th {\n",
       "        vertical-align: top;\n",
       "    }\n",
       "\n",
       "    .dataframe thead th {\n",
       "        text-align: right;\n",
       "    }\n",
       "</style>\n",
       "<table border=\"1\" class=\"dataframe\">\n",
       "  <thead>\n",
       "    <tr style=\"text-align: right;\">\n",
       "      <th></th>\n",
       "      <th>date</th>\n",
       "      <th>date_block_num</th>\n",
       "      <th>shop_id</th>\n",
       "      <th>item_id</th>\n",
       "      <th>item_price</th>\n",
       "      <th>item_cnt_day</th>\n",
       "      <th>item_name</th>\n",
       "      <th>item_category_id</th>\n",
       "      <th>item_category_name</th>\n",
       "      <th>shop_name</th>\n",
       "      <th>datetime</th>\n",
       "      <th>group_name</th>\n",
       "      <th>group_id</th>\n",
       "      <th>revenue</th>\n",
       "    </tr>\n",
       "  </thead>\n",
       "  <tbody>\n",
       "    <tr>\n",
       "      <th>0</th>\n",
       "      <td>2013-01-02</td>\n",
       "      <td>0</td>\n",
       "      <td>59</td>\n",
       "      <td>22154</td>\n",
       "      <td>999.00</td>\n",
       "      <td>1.00</td>\n",
       "      <td>ЯВЛЕНИЕ 2012 (BD)</td>\n",
       "      <td>37</td>\n",
       "      <td>Кино - Blu-Ray</td>\n",
       "      <td>Ярославль ТЦ \"Альтаир\"</td>\n",
       "      <td>2013-01-02</td>\n",
       "      <td>Кино</td>\n",
       "      <td>10</td>\n",
       "      <td>999.00</td>\n",
       "    </tr>\n",
       "    <tr>\n",
       "      <th>1</th>\n",
       "      <td>2013-01-03</td>\n",
       "      <td>0</td>\n",
       "      <td>25</td>\n",
       "      <td>2552</td>\n",
       "      <td>899.00</td>\n",
       "      <td>1.00</td>\n",
       "      <td>DEEP PURPLE  The House Of Blue Light  LP</td>\n",
       "      <td>58</td>\n",
       "      <td>Музыка - Винил</td>\n",
       "      <td>Москва ТРК \"Атриум\"</td>\n",
       "      <td>2013-01-03</td>\n",
       "      <td>Музыка</td>\n",
       "      <td>12</td>\n",
       "      <td>899.00</td>\n",
       "    </tr>\n",
       "    <tr>\n",
       "      <th>2</th>\n",
       "      <td>2013-01-05</td>\n",
       "      <td>0</td>\n",
       "      <td>25</td>\n",
       "      <td>2552</td>\n",
       "      <td>899.00</td>\n",
       "      <td>-1.00</td>\n",
       "      <td>DEEP PURPLE  The House Of Blue Light  LP</td>\n",
       "      <td>58</td>\n",
       "      <td>Музыка - Винил</td>\n",
       "      <td>Москва ТРК \"Атриум\"</td>\n",
       "      <td>2013-01-05</td>\n",
       "      <td>Музыка</td>\n",
       "      <td>12</td>\n",
       "      <td>-899.00</td>\n",
       "    </tr>\n",
       "    <tr>\n",
       "      <th>3</th>\n",
       "      <td>2013-01-06</td>\n",
       "      <td>0</td>\n",
       "      <td>25</td>\n",
       "      <td>2554</td>\n",
       "      <td>1709.05</td>\n",
       "      <td>1.00</td>\n",
       "      <td>DEEP PURPLE  Who Do You Think We Are  LP</td>\n",
       "      <td>58</td>\n",
       "      <td>Музыка - Винил</td>\n",
       "      <td>Москва ТРК \"Атриум\"</td>\n",
       "      <td>2013-01-06</td>\n",
       "      <td>Музыка</td>\n",
       "      <td>12</td>\n",
       "      <td>1709.05</td>\n",
       "    </tr>\n",
       "    <tr>\n",
       "      <th>4</th>\n",
       "      <td>2013-01-15</td>\n",
       "      <td>0</td>\n",
       "      <td>25</td>\n",
       "      <td>2555</td>\n",
       "      <td>1099.00</td>\n",
       "      <td>1.00</td>\n",
       "      <td>DEEP PURPLE 30 Very Best Of 2CD (Фирм.)</td>\n",
       "      <td>56</td>\n",
       "      <td>Музыка - CD фирменного производства</td>\n",
       "      <td>Москва ТРК \"Атриум\"</td>\n",
       "      <td>2013-01-15</td>\n",
       "      <td>Музыка</td>\n",
       "      <td>12</td>\n",
       "      <td>1099.00</td>\n",
       "    </tr>\n",
       "  </tbody>\n",
       "</table>\n",
       "</div>"
      ],
      "text/plain": [
       "         date  date_block_num  shop_id  item_id  item_price  item_cnt_day  \\\n",
       "0  2013-01-02               0       59    22154      999.00          1.00   \n",
       "1  2013-01-03               0       25     2552      899.00          1.00   \n",
       "2  2013-01-05               0       25     2552      899.00         -1.00   \n",
       "3  2013-01-06               0       25     2554     1709.05          1.00   \n",
       "4  2013-01-15               0       25     2555     1099.00          1.00   \n",
       "\n",
       "                                  item_name  item_category_id  \\\n",
       "0                         ЯВЛЕНИЕ 2012 (BD)                37   \n",
       "1  DEEP PURPLE  The House Of Blue Light  LP                58   \n",
       "2  DEEP PURPLE  The House Of Blue Light  LP                58   \n",
       "3  DEEP PURPLE  Who Do You Think We Are  LP                58   \n",
       "4   DEEP PURPLE 30 Very Best Of 2CD (Фирм.)                56   \n",
       "\n",
       "                    item_category_name               shop_name   datetime  \\\n",
       "0                       Кино - Blu-Ray  Ярославль ТЦ \"Альтаир\" 2013-01-02   \n",
       "1                       Музыка - Винил     Москва ТРК \"Атриум\" 2013-01-03   \n",
       "2                       Музыка - Винил     Москва ТРК \"Атриум\" 2013-01-05   \n",
       "3                       Музыка - Винил     Москва ТРК \"Атриум\" 2013-01-06   \n",
       "4  Музыка - CD фирменного производства     Москва ТРК \"Атриум\" 2013-01-15   \n",
       "\n",
       "  group_name  group_id  revenue  \n",
       "0       Кино        10   999.00  \n",
       "1     Музыка        12   899.00  \n",
       "2     Музыка        12  -899.00  \n",
       "3     Музыка        12  1709.05  \n",
       "4     Музыка        12  1099.00  "
      ]
     },
     "execution_count": 268,
     "metadata": {},
     "output_type": "execute_result"
    }
   ],
   "source": [
    "training.head()"
   ]
  },
  {
   "cell_type": "code",
   "execution_count": 269,
   "id": "1ebc4c8b",
   "metadata": {},
   "outputs": [],
   "source": [
    "agg = training.groupby(['date_block_num', 'shop_id', 'item_id']).agg({'revenue':'sum'})"
   ]
  },
  {
   "cell_type": "code",
   "execution_count": 270,
   "id": "7f6ac19d",
   "metadata": {
    "scrolled": true
   },
   "outputs": [],
   "source": [
    "training = training.drop('revenue', axis=1).merge(agg, on=[\"shop_id\", \"item_id\",\"date_block_num\"], how='left')"
   ]
  },
  {
   "cell_type": "code",
   "execution_count": 271,
   "id": "784fbc04",
   "metadata": {
    "scrolled": false
   },
   "outputs": [
    {
     "data": {
      "text/html": [
       "<div>\n",
       "<style scoped>\n",
       "    .dataframe tbody tr th:only-of-type {\n",
       "        vertical-align: middle;\n",
       "    }\n",
       "\n",
       "    .dataframe tbody tr th {\n",
       "        vertical-align: top;\n",
       "    }\n",
       "\n",
       "    .dataframe thead th {\n",
       "        text-align: right;\n",
       "    }\n",
       "</style>\n",
       "<table border=\"1\" class=\"dataframe\">\n",
       "  <thead>\n",
       "    <tr style=\"text-align: right;\">\n",
       "      <th></th>\n",
       "      <th>date</th>\n",
       "      <th>date_block_num</th>\n",
       "      <th>shop_id</th>\n",
       "      <th>item_id</th>\n",
       "      <th>item_price</th>\n",
       "      <th>item_cnt_day</th>\n",
       "      <th>item_name</th>\n",
       "      <th>item_category_id</th>\n",
       "      <th>item_category_name</th>\n",
       "      <th>shop_name</th>\n",
       "      <th>datetime</th>\n",
       "      <th>group_name</th>\n",
       "      <th>group_id</th>\n",
       "      <th>revenue</th>\n",
       "    </tr>\n",
       "  </thead>\n",
       "  <tbody>\n",
       "    <tr>\n",
       "      <th>0</th>\n",
       "      <td>2013-01-02</td>\n",
       "      <td>0</td>\n",
       "      <td>59</td>\n",
       "      <td>22154</td>\n",
       "      <td>999.00</td>\n",
       "      <td>1.00</td>\n",
       "      <td>ЯВЛЕНИЕ 2012 (BD)</td>\n",
       "      <td>37</td>\n",
       "      <td>Кино - Blu-Ray</td>\n",
       "      <td>Ярославль ТЦ \"Альтаир\"</td>\n",
       "      <td>2013-01-02</td>\n",
       "      <td>Кино</td>\n",
       "      <td>10</td>\n",
       "      <td>999.00</td>\n",
       "    </tr>\n",
       "    <tr>\n",
       "      <th>1</th>\n",
       "      <td>2013-01-03</td>\n",
       "      <td>0</td>\n",
       "      <td>25</td>\n",
       "      <td>2552</td>\n",
       "      <td>899.00</td>\n",
       "      <td>1.00</td>\n",
       "      <td>DEEP PURPLE  The House Of Blue Light  LP</td>\n",
       "      <td>58</td>\n",
       "      <td>Музыка - Винил</td>\n",
       "      <td>Москва ТРК \"Атриум\"</td>\n",
       "      <td>2013-01-03</td>\n",
       "      <td>Музыка</td>\n",
       "      <td>12</td>\n",
       "      <td>0.00</td>\n",
       "    </tr>\n",
       "    <tr>\n",
       "      <th>2</th>\n",
       "      <td>2013-01-05</td>\n",
       "      <td>0</td>\n",
       "      <td>25</td>\n",
       "      <td>2552</td>\n",
       "      <td>899.00</td>\n",
       "      <td>-1.00</td>\n",
       "      <td>DEEP PURPLE  The House Of Blue Light  LP</td>\n",
       "      <td>58</td>\n",
       "      <td>Музыка - Винил</td>\n",
       "      <td>Москва ТРК \"Атриум\"</td>\n",
       "      <td>2013-01-05</td>\n",
       "      <td>Музыка</td>\n",
       "      <td>12</td>\n",
       "      <td>0.00</td>\n",
       "    </tr>\n",
       "    <tr>\n",
       "      <th>3</th>\n",
       "      <td>2013-01-06</td>\n",
       "      <td>0</td>\n",
       "      <td>25</td>\n",
       "      <td>2554</td>\n",
       "      <td>1709.05</td>\n",
       "      <td>1.00</td>\n",
       "      <td>DEEP PURPLE  Who Do You Think We Are  LP</td>\n",
       "      <td>58</td>\n",
       "      <td>Музыка - Винил</td>\n",
       "      <td>Москва ТРК \"Атриум\"</td>\n",
       "      <td>2013-01-06</td>\n",
       "      <td>Музыка</td>\n",
       "      <td>12</td>\n",
       "      <td>1709.05</td>\n",
       "    </tr>\n",
       "    <tr>\n",
       "      <th>4</th>\n",
       "      <td>2013-01-15</td>\n",
       "      <td>0</td>\n",
       "      <td>25</td>\n",
       "      <td>2555</td>\n",
       "      <td>1099.00</td>\n",
       "      <td>1.00</td>\n",
       "      <td>DEEP PURPLE 30 Very Best Of 2CD (Фирм.)</td>\n",
       "      <td>56</td>\n",
       "      <td>Музыка - CD фирменного производства</td>\n",
       "      <td>Москва ТРК \"Атриум\"</td>\n",
       "      <td>2013-01-15</td>\n",
       "      <td>Музыка</td>\n",
       "      <td>12</td>\n",
       "      <td>1099.00</td>\n",
       "    </tr>\n",
       "  </tbody>\n",
       "</table>\n",
       "</div>"
      ],
      "text/plain": [
       "         date  date_block_num  shop_id  item_id  item_price  item_cnt_day  \\\n",
       "0  2013-01-02               0       59    22154      999.00          1.00   \n",
       "1  2013-01-03               0       25     2552      899.00          1.00   \n",
       "2  2013-01-05               0       25     2552      899.00         -1.00   \n",
       "3  2013-01-06               0       25     2554     1709.05          1.00   \n",
       "4  2013-01-15               0       25     2555     1099.00          1.00   \n",
       "\n",
       "                                  item_name  item_category_id  \\\n",
       "0                         ЯВЛЕНИЕ 2012 (BD)                37   \n",
       "1  DEEP PURPLE  The House Of Blue Light  LP                58   \n",
       "2  DEEP PURPLE  The House Of Blue Light  LP                58   \n",
       "3  DEEP PURPLE  Who Do You Think We Are  LP                58   \n",
       "4   DEEP PURPLE 30 Very Best Of 2CD (Фирм.)                56   \n",
       "\n",
       "                    item_category_name               shop_name   datetime  \\\n",
       "0                       Кино - Blu-Ray  Ярославль ТЦ \"Альтаир\" 2013-01-02   \n",
       "1                       Музыка - Винил     Москва ТРК \"Атриум\" 2013-01-03   \n",
       "2                       Музыка - Винил     Москва ТРК \"Атриум\" 2013-01-05   \n",
       "3                       Музыка - Винил     Москва ТРК \"Атриум\" 2013-01-06   \n",
       "4  Музыка - CD фирменного производства     Москва ТРК \"Атриум\" 2013-01-15   \n",
       "\n",
       "  group_name  group_id  revenue  \n",
       "0       Кино        10   999.00  \n",
       "1     Музыка        12     0.00  \n",
       "2     Музыка        12     0.00  \n",
       "3     Музыка        12  1709.05  \n",
       "4     Музыка        12  1099.00  "
      ]
     },
     "execution_count": 271,
     "metadata": {},
     "output_type": "execute_result"
    }
   ],
   "source": [
    "training.head()"
   ]
  },
  {
   "cell_type": "markdown",
   "id": "28a6e8a3",
   "metadata": {},
   "source": [
    "### TODO   \n",
    "How many days since last sale of an item"
   ]
  },
  {
   "cell_type": "code",
   "execution_count": 272,
   "id": "1760b14d",
   "metadata": {},
   "outputs": [],
   "source": [
    "training['first_sale_day'] = training.datetime.dt.dayofyear \n",
    "training['first_sale_day'] += 365 * (training.datetime.dt.year-2013)\n",
    "training['first_sale_day'] = training.groupby('item_id')['first_sale_day'].transform('min').astype('int16')"
   ]
  },
  {
   "cell_type": "code",
   "execution_count": 273,
   "id": "de2ed731",
   "metadata": {},
   "outputs": [],
   "source": [
    "agg = training.groupby(['date_block_num', 'shop_id', 'item_id']).agg({'first_sale_day':'first'}).reset_index()"
   ]
  },
  {
   "cell_type": "code",
   "execution_count": 274,
   "id": "48dc66cd",
   "metadata": {},
   "outputs": [],
   "source": [
    "training['first_sale_day'] = training.groupby('item_id')['first_sale_day'].transform('max').astype('int16')"
   ]
  },
  {
   "cell_type": "code",
   "execution_count": 275,
   "id": "0618ac07",
   "metadata": {
    "scrolled": false
   },
   "outputs": [
    {
     "data": {
      "text/html": [
       "<div>\n",
       "<style scoped>\n",
       "    .dataframe tbody tr th:only-of-type {\n",
       "        vertical-align: middle;\n",
       "    }\n",
       "\n",
       "    .dataframe tbody tr th {\n",
       "        vertical-align: top;\n",
       "    }\n",
       "\n",
       "    .dataframe thead th {\n",
       "        text-align: right;\n",
       "    }\n",
       "</style>\n",
       "<table border=\"1\" class=\"dataframe\">\n",
       "  <thead>\n",
       "    <tr style=\"text-align: right;\">\n",
       "      <th></th>\n",
       "      <th>date</th>\n",
       "      <th>date_block_num</th>\n",
       "      <th>shop_id</th>\n",
       "      <th>item_id</th>\n",
       "      <th>item_price</th>\n",
       "      <th>item_cnt_day</th>\n",
       "      <th>item_name</th>\n",
       "      <th>item_category_id</th>\n",
       "      <th>item_category_name</th>\n",
       "      <th>shop_name</th>\n",
       "      <th>datetime</th>\n",
       "      <th>group_name</th>\n",
       "      <th>group_id</th>\n",
       "      <th>revenue</th>\n",
       "      <th>first_sale_day</th>\n",
       "    </tr>\n",
       "  </thead>\n",
       "  <tbody>\n",
       "    <tr>\n",
       "      <th>0</th>\n",
       "      <td>2013-01-02</td>\n",
       "      <td>0</td>\n",
       "      <td>59</td>\n",
       "      <td>22154</td>\n",
       "      <td>999.00</td>\n",
       "      <td>1.00</td>\n",
       "      <td>ЯВЛЕНИЕ 2012 (BD)</td>\n",
       "      <td>37</td>\n",
       "      <td>Кино - Blu-Ray</td>\n",
       "      <td>Ярославль ТЦ \"Альтаир\"</td>\n",
       "      <td>2013-01-02</td>\n",
       "      <td>Кино</td>\n",
       "      <td>10</td>\n",
       "      <td>999.00</td>\n",
       "      <td>2</td>\n",
       "    </tr>\n",
       "    <tr>\n",
       "      <th>1</th>\n",
       "      <td>2013-01-03</td>\n",
       "      <td>0</td>\n",
       "      <td>25</td>\n",
       "      <td>2552</td>\n",
       "      <td>899.00</td>\n",
       "      <td>1.00</td>\n",
       "      <td>DEEP PURPLE  The House Of Blue Light  LP</td>\n",
       "      <td>58</td>\n",
       "      <td>Музыка - Винил</td>\n",
       "      <td>Москва ТРК \"Атриум\"</td>\n",
       "      <td>2013-01-03</td>\n",
       "      <td>Музыка</td>\n",
       "      <td>12</td>\n",
       "      <td>0.00</td>\n",
       "      <td>3</td>\n",
       "    </tr>\n",
       "    <tr>\n",
       "      <th>2</th>\n",
       "      <td>2013-01-05</td>\n",
       "      <td>0</td>\n",
       "      <td>25</td>\n",
       "      <td>2552</td>\n",
       "      <td>899.00</td>\n",
       "      <td>-1.00</td>\n",
       "      <td>DEEP PURPLE  The House Of Blue Light  LP</td>\n",
       "      <td>58</td>\n",
       "      <td>Музыка - Винил</td>\n",
       "      <td>Москва ТРК \"Атриум\"</td>\n",
       "      <td>2013-01-05</td>\n",
       "      <td>Музыка</td>\n",
       "      <td>12</td>\n",
       "      <td>0.00</td>\n",
       "      <td>3</td>\n",
       "    </tr>\n",
       "    <tr>\n",
       "      <th>3</th>\n",
       "      <td>2013-01-06</td>\n",
       "      <td>0</td>\n",
       "      <td>25</td>\n",
       "      <td>2554</td>\n",
       "      <td>1709.05</td>\n",
       "      <td>1.00</td>\n",
       "      <td>DEEP PURPLE  Who Do You Think We Are  LP</td>\n",
       "      <td>58</td>\n",
       "      <td>Музыка - Винил</td>\n",
       "      <td>Москва ТРК \"Атриум\"</td>\n",
       "      <td>2013-01-06</td>\n",
       "      <td>Музыка</td>\n",
       "      <td>12</td>\n",
       "      <td>1709.05</td>\n",
       "      <td>6</td>\n",
       "    </tr>\n",
       "    <tr>\n",
       "      <th>4</th>\n",
       "      <td>2013-01-15</td>\n",
       "      <td>0</td>\n",
       "      <td>25</td>\n",
       "      <td>2555</td>\n",
       "      <td>1099.00</td>\n",
       "      <td>1.00</td>\n",
       "      <td>DEEP PURPLE 30 Very Best Of 2CD (Фирм.)</td>\n",
       "      <td>56</td>\n",
       "      <td>Музыка - CD фирменного производства</td>\n",
       "      <td>Москва ТРК \"Атриум\"</td>\n",
       "      <td>2013-01-15</td>\n",
       "      <td>Музыка</td>\n",
       "      <td>12</td>\n",
       "      <td>1099.00</td>\n",
       "      <td>6</td>\n",
       "    </tr>\n",
       "  </tbody>\n",
       "</table>\n",
       "</div>"
      ],
      "text/plain": [
       "         date  date_block_num  shop_id  item_id  item_price  item_cnt_day  \\\n",
       "0  2013-01-02               0       59    22154      999.00          1.00   \n",
       "1  2013-01-03               0       25     2552      899.00          1.00   \n",
       "2  2013-01-05               0       25     2552      899.00         -1.00   \n",
       "3  2013-01-06               0       25     2554     1709.05          1.00   \n",
       "4  2013-01-15               0       25     2555     1099.00          1.00   \n",
       "\n",
       "                                  item_name  item_category_id  \\\n",
       "0                         ЯВЛЕНИЕ 2012 (BD)                37   \n",
       "1  DEEP PURPLE  The House Of Blue Light  LP                58   \n",
       "2  DEEP PURPLE  The House Of Blue Light  LP                58   \n",
       "3  DEEP PURPLE  Who Do You Think We Are  LP                58   \n",
       "4   DEEP PURPLE 30 Very Best Of 2CD (Фирм.)                56   \n",
       "\n",
       "                    item_category_name               shop_name   datetime  \\\n",
       "0                       Кино - Blu-Ray  Ярославль ТЦ \"Альтаир\" 2013-01-02   \n",
       "1                       Музыка - Винил     Москва ТРК \"Атриум\" 2013-01-03   \n",
       "2                       Музыка - Винил     Москва ТРК \"Атриум\" 2013-01-05   \n",
       "3                       Музыка - Винил     Москва ТРК \"Атриум\" 2013-01-06   \n",
       "4  Музыка - CD фирменного производства     Москва ТРК \"Атриум\" 2013-01-15   \n",
       "\n",
       "  group_name  group_id  revenue  first_sale_day  \n",
       "0       Кино        10   999.00               2  \n",
       "1     Музыка        12     0.00               3  \n",
       "2     Музыка        12     0.00               3  \n",
       "3     Музыка        12  1709.05               6  \n",
       "4     Музыка        12  1099.00               6  "
      ]
     },
     "execution_count": 275,
     "metadata": {},
     "output_type": "execute_result"
    }
   ],
   "source": [
    "training.head()"
   ]
  },
  {
   "cell_type": "markdown",
   "id": "6e926c4f",
   "metadata": {},
   "source": [
    "### TODO\n",
    "Add previous sales data (how many times it has sold)"
   ]
  },
  {
   "cell_type": "markdown",
   "id": "cf174d5a",
   "metadata": {},
   "source": [
    "### TODO\n",
    "Mean first month sales per item"
   ]
  },
  {
   "cell_type": "markdown",
   "id": "35ea6f0f",
   "metadata": {},
   "source": [
    "# The test set consists of the cartesian product of 42 shops and 5100 items. To make a training set which approximates the test set we create a training dataframe consisting of the cartesian product (active items) x (active shops) for each month."
   ]
  },
  {
   "cell_type": "code",
   "execution_count": null,
   "id": "2d5415f2",
   "metadata": {},
   "outputs": [],
   "source": [
    "df = [] \n",
    "for block_num in sales['date_block_num'].unique():\n",
    "    cur_shops = sales.loc[sales['date_block_num'] == block_num, 'shop_id'].unique()\n",
    "    cur_items = sales.loc[sales['date_block_num'] == block_num, 'item_id'].unique()\n",
    "    df.append(np.array(list(product(*[cur_shops, cur_items, [block_num]]))))\n",
    "\n",
    "df = pd.DataFrame(np.vstack(df), columns=['shop_id', 'item_id', 'date_block_num'])\n",
    "df.head()"
   ]
  },
  {
   "cell_type": "code",
   "execution_count": null,
   "id": "4f393c1a",
   "metadata": {},
   "outputs": [],
   "source": []
  },
  {
   "cell_type": "markdown",
   "id": "172fef67",
   "metadata": {},
   "source": [
    "### Month"
   ]
  },
  {
   "cell_type": "code",
   "execution_count": null,
   "id": "4348e032",
   "metadata": {},
   "outputs": [],
   "source": [
    "training['month'] = training.datetime.dt.month_name()"
   ]
  },
  {
   "cell_type": "markdown",
   "id": "b9d2bbd1",
   "metadata": {},
   "source": [
    "Now I want to one hot encode the days and months so that they can be used best in our algorithms. This is so that we do not rank them; if we simply said Januray = 1, Feb = 2, etc. then we would be ranking the months and that is less clear for the ML step. "
   ]
  },
  {
   "cell_type": "code",
   "execution_count": null,
   "id": "c939aadd",
   "metadata": {},
   "outputs": [],
   "source": [
    "months_to_one_hot = training['month']\n",
    "months = pd.get_dummies(months_to_one_hot)\n",
    "months"
   ]
  },
  {
   "cell_type": "markdown",
   "id": "ee0036ee",
   "metadata": {},
   "source": [
    "Let's combine this into our original dataframe. "
   ]
  },
  {
   "cell_type": "code",
   "execution_count": null,
   "id": "d22a66a9",
   "metadata": {},
   "outputs": [],
   "source": [
    "training = pd.concat([training, months], axis=1)\n",
    "training.drop('month', axis=1, inplace=True)"
   ]
  },
  {
   "cell_type": "code",
   "execution_count": null,
   "id": "a942fb20",
   "metadata": {
    "scrolled": false
   },
   "outputs": [],
   "source": [
    "# Finally, add the year as a columns with dummy variables. \n",
    "training['year'] = training.datetime.dt.year"
   ]
  },
  {
   "cell_type": "code",
   "execution_count": null,
   "id": "a4c9310e",
   "metadata": {
    "scrolled": false
   },
   "outputs": [],
   "source": [
    "years_to_one_hot = training['year']\n",
    "years = pd.get_dummies(years_to_one_hot)\n",
    "years"
   ]
  },
  {
   "cell_type": "code",
   "execution_count": null,
   "id": "73cf2ccc",
   "metadata": {},
   "outputs": [],
   "source": [
    "training = pd.concat([training, years], axis=1)\n",
    "training.drop('year', axis=1, inplace=True)"
   ]
  },
  {
   "cell_type": "code",
   "execution_count": null,
   "id": "b61168d5",
   "metadata": {},
   "outputs": [],
   "source": [
    "testing[['November', 2015, 'num_holidays', 'April', 'August', 'December', 'February',\n",
    "       'January', 'July', 'June', 'March', 'May', 'October',\n",
    "       'September', 2013, 2014]] = [1, 1, 1, 0,0,0,0,0,0,0,0,0,0,0,0,0]"
   ]
  },
  {
   "cell_type": "code",
   "execution_count": null,
   "id": "8f8b2d9a",
   "metadata": {
    "scrolled": true
   },
   "outputs": [],
   "source": [
    "training.head()"
   ]
  },
  {
   "cell_type": "code",
   "execution_count": null,
   "id": "f3873535",
   "metadata": {},
   "outputs": [],
   "source": [
    "testing.head()"
   ]
  },
  {
   "cell_type": "markdown",
   "id": "6401e075",
   "metadata": {},
   "source": [
    "### Holidays"
   ]
  },
  {
   "cell_type": "markdown",
   "id": "5207334f",
   "metadata": {},
   "source": [
    "The data goes through 2015-10, meaning we need to add Russian holidays through November 2015. \n",
    "\n",
    "This will be helpful as we can use the number of holidays per month as a metric later. "
   ]
  },
  {
   "cell_type": "code",
   "execution_count": null,
   "id": "afb23341",
   "metadata": {},
   "outputs": [],
   "source": [
    "# List of all Russian public hoildays 2013-2015\n",
    "holidays = ['2013-01-01', '2013-01-02', '2013-01-03', '2013-01-04',\n",
    "               '2013-01-05', '2013-01-06', '2013-01-07', '2013-01-08',\n",
    "               '2013-01-09', '2013-01-10', '2013-02-21', '2013-02-22',\n",
    "               '2013-02-23', '2013-03-06', '2013-03-07', '2013-03-08',\n",
    "               '2013-05-01', '2013-05-02', '2013-05-03', '2013-05-08',\n",
    "               '2013-05-09', '2013-05-10', '2013-06-12', '2013-11-04',\n",
    "               '2014-01-01', '2014-01-02', '2014-01-03', '2014-01-04',\n",
    "               '2014-01-05', '2014-01-06', '2014-01-07', '2014-01-08',\n",
    "               '2014-01-09', '2014-01-10', '2014-02-21', '2014-02-22',\n",
    "               '2014-02-23', '2014-03-06', '2014-03-07', '2014-03-08',\n",
    "               '2014-05-01', '2014-05-02', '2014-05-03', '2014-05-08',\n",
    "               '2014-05-09', '2014-05-10', '2014-06-12', '2014-11-04',\n",
    "               '2015-01-01', '2015-01-02', '2015-01-03', '2015-01-04',\n",
    "               '2015-01-05', '2015-01-06', '2015-01-07', '2015-01-08',\n",
    "               '2015-01-09', '2015-02-23', '2015-03-08', '2015-03-09',\n",
    "               '2015-05-01', '2015-05-04', '2015-05-09', '2015-05-11',\n",
    "               '2015-06-12', '2015-11-04']"
   ]
  },
  {
   "cell_type": "code",
   "execution_count": null,
   "id": "50d16cb0",
   "metadata": {},
   "outputs": [],
   "source": [
    "training['holiday']=0\n",
    "training.head()"
   ]
  },
  {
   "cell_type": "code",
   "execution_count": null,
   "id": "31c6bd45",
   "metadata": {
    "scrolled": true
   },
   "outputs": [],
   "source": [
    "training['holiday']=0\n",
    "training.loc[training['date'].isin(holidays), 'holiday'] = 1"
   ]
  },
  {
   "cell_type": "code",
   "execution_count": null,
   "id": "4d8d01b4",
   "metadata": {
    "scrolled": false
   },
   "outputs": [],
   "source": [
    "training.head()"
   ]
  },
  {
   "cell_type": "code",
   "execution_count": null,
   "id": "4b0aaff3",
   "metadata": {},
   "outputs": [],
   "source": [
    "# I want to group by monthly sales, since our final prediction will be for the enitre month (Nov 2015). \n",
    "grouped = training.groupby(['item_id','shop_id','item_category_id','date_block_num'])\n",
    "agg = grouped.agg({'item_cnt_day':'sum', 'item_price':'mean','holiday':'sum'}).reset_index()\n",
    "agg = agg.rename(columns = {'item_cnt_day' : 'item_cnt_month', 'item_price':'item_month_avg_price','holiday':'num_holidays'})\n",
    "agg.head()"
   ]
  },
  {
   "cell_type": "code",
   "execution_count": null,
   "id": "0c8f2909",
   "metadata": {},
   "outputs": [],
   "source": [
    "training = training.merge(agg, on=[\"shop_id\", \"item_id\",\"date_block_num\",'item_category_id'], how='left')"
   ]
  },
  {
   "cell_type": "code",
   "execution_count": null,
   "id": "17f37b1b",
   "metadata": {},
   "outputs": [],
   "source": [
    "training.drop(['holiday'], axis=1, inplace=True) #"
   ]
  },
  {
   "cell_type": "code",
   "execution_count": null,
   "id": "a67b4a26",
   "metadata": {},
   "outputs": [],
   "source": [
    "testing['num_holidays']=1 # only one, on 2015-11-04"
   ]
  },
  {
   "cell_type": "code",
   "execution_count": null,
   "id": "b67e1d66",
   "metadata": {},
   "outputs": [],
   "source": [
    "print(testing.count())"
   ]
  },
  {
   "cell_type": "code",
   "execution_count": null,
   "id": "2094d3d1",
   "metadata": {
    "scrolled": false
   },
   "outputs": [],
   "source": [
    "training.head()"
   ]
  },
  {
   "cell_type": "code",
   "execution_count": null,
   "id": "9a7873e5",
   "metadata": {
    "scrolled": false
   },
   "outputs": [],
   "source": [
    "testing.head()"
   ]
  },
  {
   "cell_type": "code",
   "execution_count": null,
   "id": "90148459",
   "metadata": {},
   "outputs": [],
   "source": [
    "# date and datetime are encoded enough in the date_block_num, so we will drop those.\n",
    "# item_cnt_day is encoded in item monthly sales, so we will drop that too.\n",
    "training.drop(['item_cnt_day','date','datetime'], axis=1, inplace=True) "
   ]
  },
  {
   "cell_type": "markdown",
   "id": "2a566e58",
   "metadata": {},
   "source": [
    "### Add item price"
   ]
  },
  {
   "cell_type": "code",
   "execution_count": null,
   "id": "0a5787bc",
   "metadata": {
    "scrolled": true
   },
   "outputs": [],
   "source": [
    "# fill item price with average price for that ite\n",
    "grouped = training.groupby(by = ['item_id'])\n",
    "result = grouped.agg({'item_price':'mean'})\n",
    "result = result.reset_index()\n",
    "testing = testing.merge(result, on=['item_id'], how='left')\n",
    "testing=testing.rename(columns={'item_price':'item_month_avg_price'})\n",
    "testing.head()"
   ]
  },
  {
   "cell_type": "code",
   "execution_count": null,
   "id": "1251c926",
   "metadata": {
    "scrolled": false
   },
   "outputs": [],
   "source": [
    "#testing.drop('item_price_y', axis=1, inplace=True)\n",
    "#testing.rename(columns={'item_price_x':'item_price'}, inplace=True)\n",
    "#testing.head()"
   ]
  },
  {
   "cell_type": "code",
   "execution_count": null,
   "id": "f7e10e6c",
   "metadata": {},
   "outputs": [],
   "source": [
    "testing=testing.drop_duplicates(subset=['ID'])"
   ]
  },
  {
   "cell_type": "code",
   "execution_count": null,
   "id": "72da4245",
   "metadata": {
    "scrolled": false
   },
   "outputs": [],
   "source": [
    "print(testing.item_month_avg_price.isna().sum())"
   ]
  },
  {
   "cell_type": "code",
   "execution_count": null,
   "id": "40fc0691",
   "metadata": {
    "scrolled": false
   },
   "outputs": [],
   "source": [
    "print(\"percent NaN: \", testing.item_month_avg_price.isna().sum() / testing.ID.count())\n",
    "testing.item_month_avg_price.fillna(testing.item_month_avg_price.mean(), inplace=True)\n",
    "print(\"percent NaN after filling with mean: \", testing.item_month_avg_price.isna().sum() / testing.ID.count())"
   ]
  },
  {
   "cell_type": "markdown",
   "id": "a06aedab",
   "metadata": {},
   "source": [
    "# 3. Save the new dataframe"
   ]
  },
  {
   "cell_type": "code",
   "execution_count": null,
   "id": "52d9240a",
   "metadata": {
    "scrolled": true
   },
   "outputs": [],
   "source": [
    "testing.head()"
   ]
  },
  {
   "cell_type": "code",
   "execution_count": null,
   "id": "fcdad49c",
   "metadata": {
    "scrolled": false
   },
   "outputs": [],
   "source": [
    "# cols=training.columns.to_list()\n",
    "# print(cols)\n",
    "# cols.remove('item_price')\n",
    "# testing.reindex(columns=cols)"
   ]
  },
  {
   "cell_type": "code",
   "execution_count": null,
   "id": "9d766a7d",
   "metadata": {
    "scrolled": false
   },
   "outputs": [],
   "source": [
    "# Save the data\n",
    "datapath = './data'\n",
    "save_file(training, 'training_data_feature_engineered.csv', datapath)\n",
    "save_file(testing, 'testing_data_feature_engineered.csv', datapath)"
   ]
  }
 ],
 "metadata": {
  "kernelspec": {
   "display_name": "Python 3 (ipykernel)",
   "language": "python",
   "name": "python3"
  },
  "language_info": {
   "codemirror_mode": {
    "name": "ipython",
    "version": 3
   },
   "file_extension": ".py",
   "mimetype": "text/x-python",
   "name": "python",
   "nbconvert_exporter": "python",
   "pygments_lexer": "ipython3",
   "version": "3.8.8"
  }
 },
 "nbformat": 4,
 "nbformat_minor": 5
}
