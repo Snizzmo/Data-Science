{
 "cells": [
  {
   "cell_type": "markdown",
   "id": "b8b0bf8b",
   "metadata": {},
   "source": [
    "# Capstone Two: Feature Engineering\n",
    "\n",
    "In this step for my capstone, I am going to use my insights from the EDA step as well as tools like featuretools\n",
    "\n",
    "The general plan for this notebook will be: \n",
    "\n",
    "1. Import the data.\n",
    "2. Add features using EDA and other insights. \n",
    "3. Save the new DataFrames. "
   ]
  },
  {
   "cell_type": "markdown",
   "id": "cba20394",
   "metadata": {},
   "source": [
    "# 1. Import the data."
   ]
  },
  {
   "cell_type": "code",
   "execution_count": 1,
   "id": "57343761",
   "metadata": {},
   "outputs": [],
   "source": [
    "import numpy as np\n",
    "import pandas as pd\n",
    "import seaborn as sns\n",
    "import matplotlib.pyplot as plt\n",
    "from itertools import product\n",
    "\n",
    "import warnings\n",
    "warnings.filterwarnings('ignore')\n",
    "\n",
    "import time\n",
    "import os\n",
    "from library.sb_utils import save_file\n",
    "\n",
    "pd.options.display.float_format = '{:.2f}'.format"
   ]
  },
  {
   "cell_type": "code",
   "execution_count": 2,
   "id": "78f55c1a",
   "metadata": {},
   "outputs": [],
   "source": [
    "sales = pd.read_csv(\"./data/clean/clean_sales_train.csv\")\n",
    "test = pd.read_csv('./data/clean/clean_test.csv').set_index('ID') # retain the ID data by setting it to the index\n",
    "shops = pd.read_csv(\"./data/clean/clean_shops.csv\")\n",
    "items = pd.read_csv(\"./data/clean/clean_items.csv\")\n",
    "categories = pd.read_csv(\"./data/clean/clean_item_categories.csv\")"
   ]
  },
  {
   "cell_type": "code",
   "execution_count": 3,
   "id": "77876808",
   "metadata": {},
   "outputs": [],
   "source": [
    "sales['datetime'] = pd.to_datetime(sales.datetime)"
   ]
  },
  {
   "cell_type": "code",
   "execution_count": 4,
   "id": "e105527a",
   "metadata": {
    "scrolled": true
   },
   "outputs": [
    {
     "data": {
      "text/plain": [
       "date                      object\n",
       "date_block_num             int64\n",
       "shop_id                    int64\n",
       "item_id                    int64\n",
       "item_price               float64\n",
       "item_cnt_day             float64\n",
       "datetime          datetime64[ns]\n",
       "dtype: object"
      ]
     },
     "execution_count": 4,
     "metadata": {},
     "output_type": "execute_result"
    }
   ],
   "source": [
    "sales.dtypes"
   ]
  },
  {
   "cell_type": "code",
   "execution_count": 5,
   "id": "86848e5f",
   "metadata": {
    "scrolled": true
   },
   "outputs": [
    {
     "data": {
      "text/html": [
       "<div>\n",
       "<style scoped>\n",
       "    .dataframe tbody tr th:only-of-type {\n",
       "        vertical-align: middle;\n",
       "    }\n",
       "\n",
       "    .dataframe tbody tr th {\n",
       "        vertical-align: top;\n",
       "    }\n",
       "\n",
       "    .dataframe thead th {\n",
       "        text-align: right;\n",
       "    }\n",
       "</style>\n",
       "<table border=\"1\" class=\"dataframe\">\n",
       "  <thead>\n",
       "    <tr style=\"text-align: right;\">\n",
       "      <th></th>\n",
       "      <th>date</th>\n",
       "      <th>date_block_num</th>\n",
       "      <th>shop_id</th>\n",
       "      <th>item_id</th>\n",
       "      <th>item_price</th>\n",
       "      <th>item_cnt_day</th>\n",
       "      <th>datetime</th>\n",
       "    </tr>\n",
       "  </thead>\n",
       "  <tbody>\n",
       "    <tr>\n",
       "      <th>0</th>\n",
       "      <td>02.01.2013</td>\n",
       "      <td>0</td>\n",
       "      <td>59</td>\n",
       "      <td>22154</td>\n",
       "      <td>999.00</td>\n",
       "      <td>1.00</td>\n",
       "      <td>2013-01-02</td>\n",
       "    </tr>\n",
       "    <tr>\n",
       "      <th>1</th>\n",
       "      <td>03.01.2013</td>\n",
       "      <td>0</td>\n",
       "      <td>25</td>\n",
       "      <td>2552</td>\n",
       "      <td>899.00</td>\n",
       "      <td>1.00</td>\n",
       "      <td>2013-01-03</td>\n",
       "    </tr>\n",
       "    <tr>\n",
       "      <th>2</th>\n",
       "      <td>05.01.2013</td>\n",
       "      <td>0</td>\n",
       "      <td>25</td>\n",
       "      <td>2552</td>\n",
       "      <td>899.00</td>\n",
       "      <td>-1.00</td>\n",
       "      <td>2013-01-05</td>\n",
       "    </tr>\n",
       "    <tr>\n",
       "      <th>3</th>\n",
       "      <td>06.01.2013</td>\n",
       "      <td>0</td>\n",
       "      <td>25</td>\n",
       "      <td>2554</td>\n",
       "      <td>1709.05</td>\n",
       "      <td>1.00</td>\n",
       "      <td>2013-01-06</td>\n",
       "    </tr>\n",
       "    <tr>\n",
       "      <th>4</th>\n",
       "      <td>15.01.2013</td>\n",
       "      <td>0</td>\n",
       "      <td>25</td>\n",
       "      <td>2555</td>\n",
       "      <td>1099.00</td>\n",
       "      <td>1.00</td>\n",
       "      <td>2013-01-15</td>\n",
       "    </tr>\n",
       "  </tbody>\n",
       "</table>\n",
       "</div>"
      ],
      "text/plain": [
       "         date  date_block_num  shop_id  item_id  item_price  item_cnt_day  \\\n",
       "0  02.01.2013               0       59    22154      999.00          1.00   \n",
       "1  03.01.2013               0       25     2552      899.00          1.00   \n",
       "2  05.01.2013               0       25     2552      899.00         -1.00   \n",
       "3  06.01.2013               0       25     2554     1709.05          1.00   \n",
       "4  15.01.2013               0       25     2555     1099.00          1.00   \n",
       "\n",
       "    datetime  \n",
       "0 2013-01-02  \n",
       "1 2013-01-03  \n",
       "2 2013-01-05  \n",
       "3 2013-01-06  \n",
       "4 2013-01-15  "
      ]
     },
     "execution_count": 5,
     "metadata": {},
     "output_type": "execute_result"
    }
   ],
   "source": [
    "sales.head()"
   ]
  },
  {
   "cell_type": "markdown",
   "id": "a2507ba3",
   "metadata": {},
   "source": [
    "It's fine that date and datetime are non-numeric since we will be using them to add featues."
   ]
  },
  {
   "cell_type": "markdown",
   "id": "d1333434",
   "metadata": {},
   "source": [
    "### Important! \n",
    "I am appending the test data onto the training data (sales) so that I can add all the features in one fell swoop. That final dataframe can be seperated by date_block_num for the training and testing section in the machine learning. \n",
    "\n",
    "There are 5100 items * 42 shops = 214200 pairs. 363 items are new compared to the train data. As such, many items and item/shop pairs should simply have a 0. We want the training and testing data to be similar, so we are going to calculate the monthly sales and set any unique, unseen pair so 0s. "
   ]
  },
  {
   "cell_type": "code",
   "execution_count": 6,
   "id": "7e31faff",
   "metadata": {
    "scrolled": true
   },
   "outputs": [],
   "source": [
    "matrix = []\n",
    "cols = ['date_block_num','shop_id','item_id']\n",
    "for i in range(34):\n",
    "    sales_month = sales[sales.date_block_num==i]\n",
    "    matrix.append(np.array(list(product([i], sales_month.shop_id.unique(), sales_month.item_id.unique())), dtype='int16'))\n",
    "\n",
    "df = pd.DataFrame(np.vstack(matrix), columns=cols)\n",
    "df['date_block_num'] = df['date_block_num'].astype(np.int8)\n",
    "df['shop_id'] = df['shop_id'].astype(np.int8)\n",
    "df['item_id'] = df['item_id'].astype(np.int16)\n",
    "df.sort_values(cols,inplace=True)"
   ]
  },
  {
   "cell_type": "markdown",
   "id": "a909acd9",
   "metadata": {},
   "source": [
    "Now we aggregate into monthly data."
   ]
  },
  {
   "cell_type": "code",
   "execution_count": 7,
   "id": "6f2f1c17",
   "metadata": {},
   "outputs": [],
   "source": [
    "group = sales.groupby(['date_block_num','shop_id','item_id']).agg({'item_cnt_day':'sum'})\n",
    "group.columns = ['item_cnt_month']\n",
    "group.reset_index(inplace=True)\n",
    "\n",
    "df = pd.merge(df, group, on=cols, how='left')\n",
    "df['item_cnt_month'] = (df['item_cnt_month']\n",
    "                                .fillna(0)\n",
    "                                .astype(np.float16))"
   ]
  },
  {
   "cell_type": "code",
   "execution_count": 8,
   "id": "86829189",
   "metadata": {
    "scrolled": false
   },
   "outputs": [
    {
     "data": {
      "text/html": [
       "<div>\n",
       "<style scoped>\n",
       "    .dataframe tbody tr th:only-of-type {\n",
       "        vertical-align: middle;\n",
       "    }\n",
       "\n",
       "    .dataframe tbody tr th {\n",
       "        vertical-align: top;\n",
       "    }\n",
       "\n",
       "    .dataframe thead th {\n",
       "        text-align: right;\n",
       "    }\n",
       "</style>\n",
       "<table border=\"1\" class=\"dataframe\">\n",
       "  <thead>\n",
       "    <tr style=\"text-align: right;\">\n",
       "      <th></th>\n",
       "      <th>date_block_num</th>\n",
       "      <th>shop_id</th>\n",
       "      <th>item_id</th>\n",
       "      <th>item_cnt_month</th>\n",
       "    </tr>\n",
       "  </thead>\n",
       "  <tbody>\n",
       "    <tr>\n",
       "      <th>4</th>\n",
       "      <td>0</td>\n",
       "      <td>0</td>\n",
       "      <td>32</td>\n",
       "      <td>6.00</td>\n",
       "    </tr>\n",
       "    <tr>\n",
       "      <th>5</th>\n",
       "      <td>0</td>\n",
       "      <td>0</td>\n",
       "      <td>33</td>\n",
       "      <td>3.00</td>\n",
       "    </tr>\n",
       "    <tr>\n",
       "      <th>7</th>\n",
       "      <td>0</td>\n",
       "      <td>0</td>\n",
       "      <td>35</td>\n",
       "      <td>1.00</td>\n",
       "    </tr>\n",
       "    <tr>\n",
       "      <th>11</th>\n",
       "      <td>0</td>\n",
       "      <td>0</td>\n",
       "      <td>43</td>\n",
       "      <td>1.00</td>\n",
       "    </tr>\n",
       "    <tr>\n",
       "      <th>19</th>\n",
       "      <td>0</td>\n",
       "      <td>0</td>\n",
       "      <td>51</td>\n",
       "      <td>2.00</td>\n",
       "    </tr>\n",
       "  </tbody>\n",
       "</table>\n",
       "</div>"
      ],
      "text/plain": [
       "    date_block_num  shop_id  item_id  item_cnt_month\n",
       "4                0        0       32            6.00\n",
       "5                0        0       33            3.00\n",
       "7                0        0       35            1.00\n",
       "11               0        0       43            1.00\n",
       "19               0        0       51            2.00"
      ]
     },
     "execution_count": 8,
     "metadata": {},
     "output_type": "execute_result"
    }
   ],
   "source": [
    "df[df.item_cnt_month>0].head()"
   ]
  },
  {
   "cell_type": "code",
   "execution_count": 9,
   "id": "0f42e2db",
   "metadata": {},
   "outputs": [],
   "source": [
    "test['date_block_num'] = 34\n",
    "test['date_block_num'] = test['date_block_num'].astype(np.int8)\n",
    "test['shop_id'] = test['shop_id'].astype(np.int8)\n",
    "test['item_id'] = test['item_id'].astype(np.int16)"
   ]
  },
  {
   "cell_type": "code",
   "execution_count": 10,
   "id": "f65ccf19",
   "metadata": {},
   "outputs": [],
   "source": [
    "df = pd.concat([df, test], ignore_index=True, sort=False, keys=cols)\n",
    "df.fillna(0, inplace=True) # 34 month"
   ]
  },
  {
   "cell_type": "code",
   "execution_count": 11,
   "id": "31f16984",
   "metadata": {
    "scrolled": true
   },
   "outputs": [
    {
     "data": {
      "text/html": [
       "<div>\n",
       "<style scoped>\n",
       "    .dataframe tbody tr th:only-of-type {\n",
       "        vertical-align: middle;\n",
       "    }\n",
       "\n",
       "    .dataframe tbody tr th {\n",
       "        vertical-align: top;\n",
       "    }\n",
       "\n",
       "    .dataframe thead th {\n",
       "        text-align: right;\n",
       "    }\n",
       "</style>\n",
       "<table border=\"1\" class=\"dataframe\">\n",
       "  <thead>\n",
       "    <tr style=\"text-align: right;\">\n",
       "      <th></th>\n",
       "      <th>date_block_num</th>\n",
       "      <th>shop_id</th>\n",
       "      <th>item_id</th>\n",
       "      <th>item_cnt_month</th>\n",
       "    </tr>\n",
       "  </thead>\n",
       "  <tbody>\n",
       "    <tr>\n",
       "      <th>0</th>\n",
       "      <td>0</td>\n",
       "      <td>0</td>\n",
       "      <td>19</td>\n",
       "      <td>0.00</td>\n",
       "    </tr>\n",
       "    <tr>\n",
       "      <th>1</th>\n",
       "      <td>0</td>\n",
       "      <td>0</td>\n",
       "      <td>27</td>\n",
       "      <td>0.00</td>\n",
       "    </tr>\n",
       "    <tr>\n",
       "      <th>2</th>\n",
       "      <td>0</td>\n",
       "      <td>0</td>\n",
       "      <td>28</td>\n",
       "      <td>0.00</td>\n",
       "    </tr>\n",
       "    <tr>\n",
       "      <th>3</th>\n",
       "      <td>0</td>\n",
       "      <td>0</td>\n",
       "      <td>29</td>\n",
       "      <td>0.00</td>\n",
       "    </tr>\n",
       "    <tr>\n",
       "      <th>4</th>\n",
       "      <td>0</td>\n",
       "      <td>0</td>\n",
       "      <td>32</td>\n",
       "      <td>6.00</td>\n",
       "    </tr>\n",
       "  </tbody>\n",
       "</table>\n",
       "</div>"
      ],
      "text/plain": [
       "   date_block_num  shop_id  item_id  item_cnt_month\n",
       "0               0        0       19            0.00\n",
       "1               0        0       27            0.00\n",
       "2               0        0       28            0.00\n",
       "3               0        0       29            0.00\n",
       "4               0        0       32            6.00"
      ]
     },
     "execution_count": 11,
     "metadata": {},
     "output_type": "execute_result"
    }
   ],
   "source": [
    "df.head()"
   ]
  },
  {
   "cell_type": "markdown",
   "id": "dff2101b",
   "metadata": {},
   "source": [
    "# 2. Add features by hand using EDA insights."
   ]
  },
  {
   "cell_type": "markdown",
   "id": "4c506007",
   "metadata": {},
   "source": [
    "Here are the major insights from the EDA step. \n",
    "\n",
    "1. The data is seasonal. There is a spike in sales during certain months, like December. \n",
    "2. The stores that sold best were in Moscow or online retailers/warehouses.  \n",
    "3. The items that sold best are games, specifically video games. There were spikes in sale data on game releases.  \n",
    "4. The weekends sold more than the weekdays. \n",
    "5. Holidays impacted the number of sales. \n",
    "6. There was a general negative trend in sale data. \n",
    "\n",
    "\n",
    "This means I am going to implement the following features: \n",
    "1. Number of holidays per month (numerical)\n",
    "2. Number of weekend days per month (numerical)\n",
    "3. Monthly revenue per item per shop (numerical)\n",
    "4. Month (categorical)\n",
    "5. Days per month (numerical)\n",
    "6. Group (categorical)\n",
    "7. First month sale of item\n",
    "8. Number of months since last sale of item\n",
    "\n",
    "\n",
    "1. Month (categorical)\n",
    "2. Group (categorical)\n",
    "3. Number of holidays per month (numerical)\n",
    "4. Number of weekend days per month (numerical)\n",
    "\n",
    "I am leaving out location and online/brick and mortal information since that is beyond the scope of my project. \n",
    "\n",
    "I am also going to add other helpful features: monthly revenue per item per shop, days since last sale, and total item sale count. This should help to capture some of the store info from location that I am excluding. The general negative trend is captured by date block num. "
   ]
  },
  {
   "cell_type": "markdown",
   "id": "530197c9",
   "metadata": {},
   "source": [
    "### 2.1 Number of holidays per month (numerical)"
   ]
  },
  {
   "cell_type": "markdown",
   "id": "e92c8139",
   "metadata": {},
   "source": [
    "First, select each day that is a holiday. Later, when we aggregate into monthly data, we will sum the number of holidays. "
   ]
  },
  {
   "cell_type": "code",
   "execution_count": 12,
   "id": "31807c5b",
   "metadata": {},
   "outputs": [],
   "source": [
    "# List of all Russian public hoildays 2013-2015\n",
    "holidays = ['2013-01-01', '2013-01-02', '2013-01-03', '2013-01-04',\n",
    "               '2013-01-05', '2013-01-06', '2013-01-07', '2013-01-08',\n",
    "               '2013-01-09', '2013-01-10', '2013-02-21', '2013-02-22',\n",
    "               '2013-02-23', '2013-03-06', '2013-03-07', '2013-03-08',\n",
    "               '2013-05-01', '2013-05-02', '2013-05-03', '2013-05-08',\n",
    "               '2013-05-09', '2013-05-10', '2013-06-12', '2013-11-04',\n",
    "               '2014-01-01', '2014-01-02', '2014-01-03', '2014-01-04',\n",
    "               '2014-01-05', '2014-01-06', '2014-01-07', '2014-01-08',\n",
    "               '2014-01-09', '2014-01-10', '2014-02-21', '2014-02-22',\n",
    "               '2014-02-23', '2014-03-06', '2014-03-07', '2014-03-08',\n",
    "               '2014-05-01', '2014-05-02', '2014-05-03', '2014-05-08',\n",
    "               '2014-05-09', '2014-05-10', '2014-06-12', '2014-11-04',\n",
    "               '2015-01-01', '2015-01-02', '2015-01-03', '2015-01-04',\n",
    "               '2015-01-05', '2015-01-06', '2015-01-07', '2015-01-08',\n",
    "               '2015-01-09', '2015-02-23', '2015-03-08', '2015-03-09',\n",
    "               '2015-05-01', '2015-05-04', '2015-05-09', '2015-05-11',\n",
    "               '2015-06-12', '2015-11-04']"
   ]
  },
  {
   "cell_type": "code",
   "execution_count": 13,
   "id": "d349f11f",
   "metadata": {},
   "outputs": [],
   "source": [
    "sales.loc[sales['datetime'].isin(holidays), 'holiday'] = 1\n",
    "sales.fillna(0, inplace=True)"
   ]
  },
  {
   "cell_type": "code",
   "execution_count": 14,
   "id": "85f2c2ce",
   "metadata": {
    "scrolled": false
   },
   "outputs": [
    {
     "data": {
      "text/html": [
       "<div>\n",
       "<style scoped>\n",
       "    .dataframe tbody tr th:only-of-type {\n",
       "        vertical-align: middle;\n",
       "    }\n",
       "\n",
       "    .dataframe tbody tr th {\n",
       "        vertical-align: top;\n",
       "    }\n",
       "\n",
       "    .dataframe thead th {\n",
       "        text-align: right;\n",
       "    }\n",
       "</style>\n",
       "<table border=\"1\" class=\"dataframe\">\n",
       "  <thead>\n",
       "    <tr style=\"text-align: right;\">\n",
       "      <th></th>\n",
       "      <th>date</th>\n",
       "      <th>date_block_num</th>\n",
       "      <th>shop_id</th>\n",
       "      <th>item_id</th>\n",
       "      <th>item_price</th>\n",
       "      <th>item_cnt_day</th>\n",
       "      <th>datetime</th>\n",
       "      <th>holiday</th>\n",
       "    </tr>\n",
       "  </thead>\n",
       "  <tbody>\n",
       "    <tr>\n",
       "      <th>1303960</th>\n",
       "      <td>07.01.2014</td>\n",
       "      <td>12</td>\n",
       "      <td>28</td>\n",
       "      <td>4886</td>\n",
       "      <td>899.00</td>\n",
       "      <td>2.00</td>\n",
       "      <td>2014-01-07</td>\n",
       "      <td>1.00</td>\n",
       "    </tr>\n",
       "    <tr>\n",
       "      <th>367632</th>\n",
       "      <td>03.04.2013</td>\n",
       "      <td>3</td>\n",
       "      <td>4</td>\n",
       "      <td>4374</td>\n",
       "      <td>599.00</td>\n",
       "      <td>1.00</td>\n",
       "      <td>2013-04-03</td>\n",
       "      <td>0.00</td>\n",
       "    </tr>\n",
       "    <tr>\n",
       "      <th>1883727</th>\n",
       "      <td>09.08.2014</td>\n",
       "      <td>19</td>\n",
       "      <td>41</td>\n",
       "      <td>21345</td>\n",
       "      <td>199.00</td>\n",
       "      <td>1.00</td>\n",
       "      <td>2014-08-09</td>\n",
       "      <td>0.00</td>\n",
       "    </tr>\n",
       "    <tr>\n",
       "      <th>939319</th>\n",
       "      <td>26.10.2013</td>\n",
       "      <td>9</td>\n",
       "      <td>42</td>\n",
       "      <td>7491</td>\n",
       "      <td>299.00</td>\n",
       "      <td>1.00</td>\n",
       "      <td>2013-10-26</td>\n",
       "      <td>0.00</td>\n",
       "    </tr>\n",
       "    <tr>\n",
       "      <th>1300835</th>\n",
       "      <td>29.01.2014</td>\n",
       "      <td>12</td>\n",
       "      <td>28</td>\n",
       "      <td>17347</td>\n",
       "      <td>629.00</td>\n",
       "      <td>1.00</td>\n",
       "      <td>2014-01-29</td>\n",
       "      <td>0.00</td>\n",
       "    </tr>\n",
       "  </tbody>\n",
       "</table>\n",
       "</div>"
      ],
      "text/plain": [
       "               date  date_block_num  shop_id  item_id  item_price  \\\n",
       "1303960  07.01.2014              12       28     4886      899.00   \n",
       "367632   03.04.2013               3        4     4374      599.00   \n",
       "1883727  09.08.2014              19       41    21345      199.00   \n",
       "939319   26.10.2013               9       42     7491      299.00   \n",
       "1300835  29.01.2014              12       28    17347      629.00   \n",
       "\n",
       "         item_cnt_day   datetime  holiday  \n",
       "1303960          2.00 2014-01-07     1.00  \n",
       "367632           1.00 2013-04-03     0.00  \n",
       "1883727          1.00 2014-08-09     0.00  \n",
       "939319           1.00 2013-10-26     0.00  \n",
       "1300835          1.00 2014-01-29     0.00  "
      ]
     },
     "execution_count": 14,
     "metadata": {},
     "output_type": "execute_result"
    }
   ],
   "source": [
    "sales.sample(5)"
   ]
  },
  {
   "cell_type": "markdown",
   "id": "48987ebb",
   "metadata": {},
   "source": [
    "### 2.2 Number of weekend days per month (numerical)"
   ]
  },
  {
   "cell_type": "markdown",
   "id": "6823b045",
   "metadata": {},
   "source": [
    "Like holidays, I am going to add the weekend value then aggregate later. "
   ]
  },
  {
   "cell_type": "code",
   "execution_count": 15,
   "id": "c622dcd7",
   "metadata": {},
   "outputs": [],
   "source": [
    "sales['num_weekend_days'] = ((pd.DatetimeIndex(sales.datetime).dayofweek) // 5 == 1).astype(float)"
   ]
  },
  {
   "cell_type": "markdown",
   "id": "90785cdf",
   "metadata": {},
   "source": [
    "### 2.3 Monthly revenue per item per shop (numerical)"
   ]
  },
  {
   "cell_type": "markdown",
   "id": "8fb1c541",
   "metadata": {},
   "source": [
    "Like the two above, I am going to do daily information now and aggregate later."
   ]
  },
  {
   "cell_type": "code",
   "execution_count": 16,
   "id": "a5d8b061",
   "metadata": {},
   "outputs": [],
   "source": [
    "sales['revenue'] = sales['item_cnt_day'] * sales['item_price']"
   ]
  },
  {
   "cell_type": "code",
   "execution_count": 17,
   "id": "c174f217",
   "metadata": {},
   "outputs": [
    {
     "data": {
      "text/html": [
       "<div>\n",
       "<style scoped>\n",
       "    .dataframe tbody tr th:only-of-type {\n",
       "        vertical-align: middle;\n",
       "    }\n",
       "\n",
       "    .dataframe tbody tr th {\n",
       "        vertical-align: top;\n",
       "    }\n",
       "\n",
       "    .dataframe thead th {\n",
       "        text-align: right;\n",
       "    }\n",
       "</style>\n",
       "<table border=\"1\" class=\"dataframe\">\n",
       "  <thead>\n",
       "    <tr style=\"text-align: right;\">\n",
       "      <th></th>\n",
       "      <th>date</th>\n",
       "      <th>date_block_num</th>\n",
       "      <th>shop_id</th>\n",
       "      <th>item_id</th>\n",
       "      <th>item_price</th>\n",
       "      <th>item_cnt_day</th>\n",
       "      <th>datetime</th>\n",
       "      <th>holiday</th>\n",
       "      <th>num_weekend_days</th>\n",
       "      <th>revenue</th>\n",
       "    </tr>\n",
       "  </thead>\n",
       "  <tbody>\n",
       "    <tr>\n",
       "      <th>0</th>\n",
       "      <td>02.01.2013</td>\n",
       "      <td>0</td>\n",
       "      <td>59</td>\n",
       "      <td>22154</td>\n",
       "      <td>999.00</td>\n",
       "      <td>1.00</td>\n",
       "      <td>2013-01-02</td>\n",
       "      <td>1.00</td>\n",
       "      <td>0.00</td>\n",
       "      <td>999.00</td>\n",
       "    </tr>\n",
       "    <tr>\n",
       "      <th>1</th>\n",
       "      <td>03.01.2013</td>\n",
       "      <td>0</td>\n",
       "      <td>25</td>\n",
       "      <td>2552</td>\n",
       "      <td>899.00</td>\n",
       "      <td>1.00</td>\n",
       "      <td>2013-01-03</td>\n",
       "      <td>1.00</td>\n",
       "      <td>0.00</td>\n",
       "      <td>899.00</td>\n",
       "    </tr>\n",
       "    <tr>\n",
       "      <th>2</th>\n",
       "      <td>05.01.2013</td>\n",
       "      <td>0</td>\n",
       "      <td>25</td>\n",
       "      <td>2552</td>\n",
       "      <td>899.00</td>\n",
       "      <td>-1.00</td>\n",
       "      <td>2013-01-05</td>\n",
       "      <td>1.00</td>\n",
       "      <td>1.00</td>\n",
       "      <td>-899.00</td>\n",
       "    </tr>\n",
       "    <tr>\n",
       "      <th>3</th>\n",
       "      <td>06.01.2013</td>\n",
       "      <td>0</td>\n",
       "      <td>25</td>\n",
       "      <td>2554</td>\n",
       "      <td>1709.05</td>\n",
       "      <td>1.00</td>\n",
       "      <td>2013-01-06</td>\n",
       "      <td>1.00</td>\n",
       "      <td>1.00</td>\n",
       "      <td>1709.05</td>\n",
       "    </tr>\n",
       "    <tr>\n",
       "      <th>4</th>\n",
       "      <td>15.01.2013</td>\n",
       "      <td>0</td>\n",
       "      <td>25</td>\n",
       "      <td>2555</td>\n",
       "      <td>1099.00</td>\n",
       "      <td>1.00</td>\n",
       "      <td>2013-01-15</td>\n",
       "      <td>0.00</td>\n",
       "      <td>0.00</td>\n",
       "      <td>1099.00</td>\n",
       "    </tr>\n",
       "    <tr>\n",
       "      <th>5</th>\n",
       "      <td>10.01.2013</td>\n",
       "      <td>0</td>\n",
       "      <td>25</td>\n",
       "      <td>2564</td>\n",
       "      <td>349.00</td>\n",
       "      <td>1.00</td>\n",
       "      <td>2013-01-10</td>\n",
       "      <td>1.00</td>\n",
       "      <td>0.00</td>\n",
       "      <td>349.00</td>\n",
       "    </tr>\n",
       "    <tr>\n",
       "      <th>6</th>\n",
       "      <td>02.01.2013</td>\n",
       "      <td>0</td>\n",
       "      <td>25</td>\n",
       "      <td>2565</td>\n",
       "      <td>549.00</td>\n",
       "      <td>1.00</td>\n",
       "      <td>2013-01-02</td>\n",
       "      <td>1.00</td>\n",
       "      <td>0.00</td>\n",
       "      <td>549.00</td>\n",
       "    </tr>\n",
       "    <tr>\n",
       "      <th>7</th>\n",
       "      <td>04.01.2013</td>\n",
       "      <td>0</td>\n",
       "      <td>25</td>\n",
       "      <td>2572</td>\n",
       "      <td>239.00</td>\n",
       "      <td>1.00</td>\n",
       "      <td>2013-01-04</td>\n",
       "      <td>1.00</td>\n",
       "      <td>0.00</td>\n",
       "      <td>239.00</td>\n",
       "    </tr>\n",
       "    <tr>\n",
       "      <th>8</th>\n",
       "      <td>11.01.2013</td>\n",
       "      <td>0</td>\n",
       "      <td>25</td>\n",
       "      <td>2572</td>\n",
       "      <td>299.00</td>\n",
       "      <td>1.00</td>\n",
       "      <td>2013-01-11</td>\n",
       "      <td>0.00</td>\n",
       "      <td>0.00</td>\n",
       "      <td>299.00</td>\n",
       "    </tr>\n",
       "    <tr>\n",
       "      <th>9</th>\n",
       "      <td>03.01.2013</td>\n",
       "      <td>0</td>\n",
       "      <td>25</td>\n",
       "      <td>2573</td>\n",
       "      <td>299.00</td>\n",
       "      <td>3.00</td>\n",
       "      <td>2013-01-03</td>\n",
       "      <td>1.00</td>\n",
       "      <td>0.00</td>\n",
       "      <td>897.00</td>\n",
       "    </tr>\n",
       "  </tbody>\n",
       "</table>\n",
       "</div>"
      ],
      "text/plain": [
       "         date  date_block_num  shop_id  item_id  item_price  item_cnt_day  \\\n",
       "0  02.01.2013               0       59    22154      999.00          1.00   \n",
       "1  03.01.2013               0       25     2552      899.00          1.00   \n",
       "2  05.01.2013               0       25     2552      899.00         -1.00   \n",
       "3  06.01.2013               0       25     2554     1709.05          1.00   \n",
       "4  15.01.2013               0       25     2555     1099.00          1.00   \n",
       "5  10.01.2013               0       25     2564      349.00          1.00   \n",
       "6  02.01.2013               0       25     2565      549.00          1.00   \n",
       "7  04.01.2013               0       25     2572      239.00          1.00   \n",
       "8  11.01.2013               0       25     2572      299.00          1.00   \n",
       "9  03.01.2013               0       25     2573      299.00          3.00   \n",
       "\n",
       "    datetime  holiday  num_weekend_days  revenue  \n",
       "0 2013-01-02     1.00              0.00   999.00  \n",
       "1 2013-01-03     1.00              0.00   899.00  \n",
       "2 2013-01-05     1.00              1.00  -899.00  \n",
       "3 2013-01-06     1.00              1.00  1709.05  \n",
       "4 2013-01-15     0.00              0.00  1099.00  \n",
       "5 2013-01-10     1.00              0.00   349.00  \n",
       "6 2013-01-02     1.00              0.00   549.00  \n",
       "7 2013-01-04     1.00              0.00   239.00  \n",
       "8 2013-01-11     0.00              0.00   299.00  \n",
       "9 2013-01-03     1.00              0.00   897.00  "
      ]
     },
     "execution_count": 17,
     "metadata": {},
     "output_type": "execute_result"
    }
   ],
   "source": [
    "sales.head(10)"
   ]
  },
  {
   "cell_type": "markdown",
   "id": "3dba14a3",
   "metadata": {},
   "source": [
    "### Aggregate into monthly data"
   ]
  },
  {
   "cell_type": "code",
   "execution_count": 18,
   "id": "ba399a49",
   "metadata": {},
   "outputs": [],
   "source": [
    "agg = sales.groupby(['date_block_num', 'shop_id', 'item_id']).agg({'revenue':'sum', 'item_price':'mean','item_cnt_day':'sum','revenue':'sum'})"
   ]
  },
  {
   "cell_type": "code",
   "execution_count": 19,
   "id": "6c45490e",
   "metadata": {},
   "outputs": [
    {
     "data": {
      "text/html": [
       "<div>\n",
       "<style scoped>\n",
       "    .dataframe tbody tr th:only-of-type {\n",
       "        vertical-align: middle;\n",
       "    }\n",
       "\n",
       "    .dataframe tbody tr th {\n",
       "        vertical-align: top;\n",
       "    }\n",
       "\n",
       "    .dataframe thead th {\n",
       "        text-align: right;\n",
       "    }\n",
       "</style>\n",
       "<table border=\"1\" class=\"dataframe\">\n",
       "  <thead>\n",
       "    <tr style=\"text-align: right;\">\n",
       "      <th></th>\n",
       "      <th></th>\n",
       "      <th></th>\n",
       "      <th>revenue</th>\n",
       "      <th>item_price</th>\n",
       "      <th>item_cnt_day</th>\n",
       "    </tr>\n",
       "    <tr>\n",
       "      <th>date_block_num</th>\n",
       "      <th>shop_id</th>\n",
       "      <th>item_id</th>\n",
       "      <th></th>\n",
       "      <th></th>\n",
       "      <th></th>\n",
       "    </tr>\n",
       "  </thead>\n",
       "  <tbody>\n",
       "    <tr>\n",
       "      <th rowspan=\"10\" valign=\"top\">0</th>\n",
       "      <th rowspan=\"10\" valign=\"top\">0</th>\n",
       "      <th>32</th>\n",
       "      <td>1326.00</td>\n",
       "      <td>221.00</td>\n",
       "      <td>6.00</td>\n",
       "    </tr>\n",
       "    <tr>\n",
       "      <th>33</th>\n",
       "      <td>1041.00</td>\n",
       "      <td>347.00</td>\n",
       "      <td>3.00</td>\n",
       "    </tr>\n",
       "    <tr>\n",
       "      <th>35</th>\n",
       "      <td>247.00</td>\n",
       "      <td>247.00</td>\n",
       "      <td>1.00</td>\n",
       "    </tr>\n",
       "    <tr>\n",
       "      <th>43</th>\n",
       "      <td>221.00</td>\n",
       "      <td>221.00</td>\n",
       "      <td>1.00</td>\n",
       "    </tr>\n",
       "    <tr>\n",
       "      <th>51</th>\n",
       "      <td>257.00</td>\n",
       "      <td>128.50</td>\n",
       "      <td>2.00</td>\n",
       "    </tr>\n",
       "    <tr>\n",
       "      <th>61</th>\n",
       "      <td>195.00</td>\n",
       "      <td>195.00</td>\n",
       "      <td>1.00</td>\n",
       "    </tr>\n",
       "    <tr>\n",
       "      <th>75</th>\n",
       "      <td>76.00</td>\n",
       "      <td>76.00</td>\n",
       "      <td>1.00</td>\n",
       "    </tr>\n",
       "    <tr>\n",
       "      <th>88</th>\n",
       "      <td>76.00</td>\n",
       "      <td>76.00</td>\n",
       "      <td>1.00</td>\n",
       "    </tr>\n",
       "    <tr>\n",
       "      <th>95</th>\n",
       "      <td>193.00</td>\n",
       "      <td>193.00</td>\n",
       "      <td>1.00</td>\n",
       "    </tr>\n",
       "    <tr>\n",
       "      <th>96</th>\n",
       "      <td>70.00</td>\n",
       "      <td>70.00</td>\n",
       "      <td>1.00</td>\n",
       "    </tr>\n",
       "  </tbody>\n",
       "</table>\n",
       "</div>"
      ],
      "text/plain": [
       "                                revenue  item_price  item_cnt_day\n",
       "date_block_num shop_id item_id                                   \n",
       "0              0       32       1326.00      221.00          6.00\n",
       "                       33       1041.00      347.00          3.00\n",
       "                       35        247.00      247.00          1.00\n",
       "                       43        221.00      221.00          1.00\n",
       "                       51        257.00      128.50          2.00\n",
       "                       61        195.00      195.00          1.00\n",
       "                       75         76.00       76.00          1.00\n",
       "                       88         76.00       76.00          1.00\n",
       "                       95        193.00      193.00          1.00\n",
       "                       96         70.00       70.00          1.00"
      ]
     },
     "execution_count": 19,
     "metadata": {},
     "output_type": "execute_result"
    }
   ],
   "source": [
    "agg.head(10)"
   ]
  },
  {
   "cell_type": "code",
   "execution_count": 20,
   "id": "1039a98e",
   "metadata": {},
   "outputs": [],
   "source": [
    "df = df.merge(agg, on=[\"shop_id\", \"item_id\",\"date_block_num\"], how='left')"
   ]
  },
  {
   "cell_type": "code",
   "execution_count": 21,
   "id": "0e85a68e",
   "metadata": {
    "scrolled": false
   },
   "outputs": [
    {
     "data": {
      "text/html": [
       "<div>\n",
       "<style scoped>\n",
       "    .dataframe tbody tr th:only-of-type {\n",
       "        vertical-align: middle;\n",
       "    }\n",
       "\n",
       "    .dataframe tbody tr th {\n",
       "        vertical-align: top;\n",
       "    }\n",
       "\n",
       "    .dataframe thead th {\n",
       "        text-align: right;\n",
       "    }\n",
       "</style>\n",
       "<table border=\"1\" class=\"dataframe\">\n",
       "  <thead>\n",
       "    <tr style=\"text-align: right;\">\n",
       "      <th></th>\n",
       "      <th>date_block_num</th>\n",
       "      <th>shop_id</th>\n",
       "      <th>item_id</th>\n",
       "      <th>item_cnt_month</th>\n",
       "      <th>revenue</th>\n",
       "      <th>item_price</th>\n",
       "      <th>item_cnt_day</th>\n",
       "    </tr>\n",
       "  </thead>\n",
       "  <tbody>\n",
       "    <tr>\n",
       "      <th>0</th>\n",
       "      <td>0</td>\n",
       "      <td>0</td>\n",
       "      <td>19</td>\n",
       "      <td>0.00</td>\n",
       "      <td>0.00</td>\n",
       "      <td>0.00</td>\n",
       "      <td>0.00</td>\n",
       "    </tr>\n",
       "    <tr>\n",
       "      <th>1</th>\n",
       "      <td>0</td>\n",
       "      <td>0</td>\n",
       "      <td>27</td>\n",
       "      <td>0.00</td>\n",
       "      <td>0.00</td>\n",
       "      <td>0.00</td>\n",
       "      <td>0.00</td>\n",
       "    </tr>\n",
       "    <tr>\n",
       "      <th>2</th>\n",
       "      <td>0</td>\n",
       "      <td>0</td>\n",
       "      <td>28</td>\n",
       "      <td>0.00</td>\n",
       "      <td>0.00</td>\n",
       "      <td>0.00</td>\n",
       "      <td>0.00</td>\n",
       "    </tr>\n",
       "    <tr>\n",
       "      <th>3</th>\n",
       "      <td>0</td>\n",
       "      <td>0</td>\n",
       "      <td>29</td>\n",
       "      <td>0.00</td>\n",
       "      <td>0.00</td>\n",
       "      <td>0.00</td>\n",
       "      <td>0.00</td>\n",
       "    </tr>\n",
       "    <tr>\n",
       "      <th>4</th>\n",
       "      <td>0</td>\n",
       "      <td>0</td>\n",
       "      <td>32</td>\n",
       "      <td>6.00</td>\n",
       "      <td>1326.00</td>\n",
       "      <td>221.00</td>\n",
       "      <td>6.00</td>\n",
       "    </tr>\n",
       "  </tbody>\n",
       "</table>\n",
       "</div>"
      ],
      "text/plain": [
       "   date_block_num  shop_id  item_id  item_cnt_month  revenue  item_price  \\\n",
       "0               0        0       19            0.00     0.00        0.00   \n",
       "1               0        0       27            0.00     0.00        0.00   \n",
       "2               0        0       28            0.00     0.00        0.00   \n",
       "3               0        0       29            0.00     0.00        0.00   \n",
       "4               0        0       32            6.00  1326.00      221.00   \n",
       "\n",
       "   item_cnt_day  \n",
       "0          0.00  \n",
       "1          0.00  \n",
       "2          0.00  \n",
       "3          0.00  \n",
       "4          6.00  "
      ]
     },
     "execution_count": 21,
     "metadata": {},
     "output_type": "execute_result"
    }
   ],
   "source": [
    "df.fillna(0, inplace=True)\n",
    "df.head()"
   ]
  },
  {
   "cell_type": "code",
   "execution_count": 22,
   "id": "941ed9c0",
   "metadata": {},
   "outputs": [],
   "source": [
    "agg = sales.groupby(['date_block_num','date']).agg({'holiday':'mean','num_weekend_days':'mean'})"
   ]
  },
  {
   "cell_type": "code",
   "execution_count": 23,
   "id": "54a9599b",
   "metadata": {},
   "outputs": [
    {
     "data": {
      "text/html": [
       "<div>\n",
       "<style scoped>\n",
       "    .dataframe tbody tr th:only-of-type {\n",
       "        vertical-align: middle;\n",
       "    }\n",
       "\n",
       "    .dataframe tbody tr th {\n",
       "        vertical-align: top;\n",
       "    }\n",
       "\n",
       "    .dataframe thead th {\n",
       "        text-align: right;\n",
       "    }\n",
       "</style>\n",
       "<table border=\"1\" class=\"dataframe\">\n",
       "  <thead>\n",
       "    <tr style=\"text-align: right;\">\n",
       "      <th></th>\n",
       "      <th></th>\n",
       "      <th>holiday</th>\n",
       "      <th>num_weekend_days</th>\n",
       "    </tr>\n",
       "    <tr>\n",
       "      <th>date_block_num</th>\n",
       "      <th>date</th>\n",
       "      <th></th>\n",
       "      <th></th>\n",
       "    </tr>\n",
       "  </thead>\n",
       "  <tbody>\n",
       "    <tr>\n",
       "      <th rowspan=\"5\" valign=\"top\">0</th>\n",
       "      <th>01.01.2013</th>\n",
       "      <td>1.00</td>\n",
       "      <td>0.00</td>\n",
       "    </tr>\n",
       "    <tr>\n",
       "      <th>02.01.2013</th>\n",
       "      <td>1.00</td>\n",
       "      <td>0.00</td>\n",
       "    </tr>\n",
       "    <tr>\n",
       "      <th>03.01.2013</th>\n",
       "      <td>1.00</td>\n",
       "      <td>0.00</td>\n",
       "    </tr>\n",
       "    <tr>\n",
       "      <th>04.01.2013</th>\n",
       "      <td>1.00</td>\n",
       "      <td>0.00</td>\n",
       "    </tr>\n",
       "    <tr>\n",
       "      <th>05.01.2013</th>\n",
       "      <td>1.00</td>\n",
       "      <td>1.00</td>\n",
       "    </tr>\n",
       "  </tbody>\n",
       "</table>\n",
       "</div>"
      ],
      "text/plain": [
       "                           holiday  num_weekend_days\n",
       "date_block_num date                                 \n",
       "0              01.01.2013     1.00              0.00\n",
       "               02.01.2013     1.00              0.00\n",
       "               03.01.2013     1.00              0.00\n",
       "               04.01.2013     1.00              0.00\n",
       "               05.01.2013     1.00              1.00"
      ]
     },
     "execution_count": 23,
     "metadata": {},
     "output_type": "execute_result"
    }
   ],
   "source": [
    "agg.head()"
   ]
  },
  {
   "cell_type": "code",
   "execution_count": 24,
   "id": "065210db",
   "metadata": {},
   "outputs": [],
   "source": [
    "agg = agg.groupby('date_block_num').agg({'holiday':'sum','num_weekend_days':'sum'})"
   ]
  },
  {
   "cell_type": "code",
   "execution_count": 25,
   "id": "4dff5ed7",
   "metadata": {
    "scrolled": true
   },
   "outputs": [],
   "source": [
    "df = df.merge(agg, on=[\"date_block_num\"], how='left')"
   ]
  },
  {
   "cell_type": "code",
   "execution_count": 26,
   "id": "aada4f10",
   "metadata": {
    "scrolled": false
   },
   "outputs": [
    {
     "data": {
      "text/html": [
       "<div>\n",
       "<style scoped>\n",
       "    .dataframe tbody tr th:only-of-type {\n",
       "        vertical-align: middle;\n",
       "    }\n",
       "\n",
       "    .dataframe tbody tr th {\n",
       "        vertical-align: top;\n",
       "    }\n",
       "\n",
       "    .dataframe thead th {\n",
       "        text-align: right;\n",
       "    }\n",
       "</style>\n",
       "<table border=\"1\" class=\"dataframe\">\n",
       "  <thead>\n",
       "    <tr style=\"text-align: right;\">\n",
       "      <th></th>\n",
       "      <th>date_block_num</th>\n",
       "      <th>shop_id</th>\n",
       "      <th>item_id</th>\n",
       "      <th>item_cnt_month</th>\n",
       "      <th>revenue</th>\n",
       "      <th>item_price</th>\n",
       "      <th>item_cnt_day</th>\n",
       "      <th>holiday</th>\n",
       "      <th>num_weekend_days</th>\n",
       "    </tr>\n",
       "  </thead>\n",
       "  <tbody>\n",
       "    <tr>\n",
       "      <th>0</th>\n",
       "      <td>0</td>\n",
       "      <td>0</td>\n",
       "      <td>19</td>\n",
       "      <td>0.00</td>\n",
       "      <td>0.00</td>\n",
       "      <td>0.00</td>\n",
       "      <td>0.00</td>\n",
       "      <td>10.00</td>\n",
       "      <td>8.00</td>\n",
       "    </tr>\n",
       "    <tr>\n",
       "      <th>1</th>\n",
       "      <td>0</td>\n",
       "      <td>0</td>\n",
       "      <td>27</td>\n",
       "      <td>0.00</td>\n",
       "      <td>0.00</td>\n",
       "      <td>0.00</td>\n",
       "      <td>0.00</td>\n",
       "      <td>10.00</td>\n",
       "      <td>8.00</td>\n",
       "    </tr>\n",
       "    <tr>\n",
       "      <th>2</th>\n",
       "      <td>0</td>\n",
       "      <td>0</td>\n",
       "      <td>28</td>\n",
       "      <td>0.00</td>\n",
       "      <td>0.00</td>\n",
       "      <td>0.00</td>\n",
       "      <td>0.00</td>\n",
       "      <td>10.00</td>\n",
       "      <td>8.00</td>\n",
       "    </tr>\n",
       "    <tr>\n",
       "      <th>3</th>\n",
       "      <td>0</td>\n",
       "      <td>0</td>\n",
       "      <td>29</td>\n",
       "      <td>0.00</td>\n",
       "      <td>0.00</td>\n",
       "      <td>0.00</td>\n",
       "      <td>0.00</td>\n",
       "      <td>10.00</td>\n",
       "      <td>8.00</td>\n",
       "    </tr>\n",
       "    <tr>\n",
       "      <th>4</th>\n",
       "      <td>0</td>\n",
       "      <td>0</td>\n",
       "      <td>32</td>\n",
       "      <td>6.00</td>\n",
       "      <td>1326.00</td>\n",
       "      <td>221.00</td>\n",
       "      <td>6.00</td>\n",
       "      <td>10.00</td>\n",
       "      <td>8.00</td>\n",
       "    </tr>\n",
       "  </tbody>\n",
       "</table>\n",
       "</div>"
      ],
      "text/plain": [
       "   date_block_num  shop_id  item_id  item_cnt_month  revenue  item_price  \\\n",
       "0               0        0       19            0.00     0.00        0.00   \n",
       "1               0        0       27            0.00     0.00        0.00   \n",
       "2               0        0       28            0.00     0.00        0.00   \n",
       "3               0        0       29            0.00     0.00        0.00   \n",
       "4               0        0       32            6.00  1326.00      221.00   \n",
       "\n",
       "   item_cnt_day  holiday  num_weekend_days  \n",
       "0          0.00    10.00              8.00  \n",
       "1          0.00    10.00              8.00  \n",
       "2          0.00    10.00              8.00  \n",
       "3          0.00    10.00              8.00  \n",
       "4          6.00    10.00              8.00  "
      ]
     },
     "execution_count": 26,
     "metadata": {},
     "output_type": "execute_result"
    }
   ],
   "source": [
    "df.head()"
   ]
  },
  {
   "cell_type": "markdown",
   "id": "66b15b21",
   "metadata": {},
   "source": [
    "## Clipping"
   ]
  },
  {
   "cell_type": "markdown",
   "id": "bbefe3f8",
   "metadata": {},
   "source": [
    "### Important! \n",
    "In section 01: Data_Wrangling, I decided that I should clip the data since a lot of the negative values are -1, implying returns or canceled transactions. Fortunately, the competition description states that the true target values are clipped into the 0,20 range. "
   ]
  },
  {
   "cell_type": "markdown",
   "id": "5173f8b3",
   "metadata": {},
   "source": [
    "Note: without clipping, I get a validation_0-rmse of 1.38168 and validation_1-rmse of 4.520234.520245 on a very simple xgboost model without hyperparameter tuning. The model was as follows: \n",
    "\n",
    "`model.fit(X_train, y_train, eval_metric=\"rmse\", eval_set=[(X_train, y_train), (X_valid, y_valid)], verbose=True)`"
   ]
  },
  {
   "cell_type": "code",
   "execution_count": 27,
   "id": "7d717d6a",
   "metadata": {},
   "outputs": [],
   "source": [
    "df['item_cnt_month'] = (df['item_cnt_month'].fillna(0).clip(0,20).astype(np.float16))"
   ]
  },
  {
   "cell_type": "markdown",
   "id": "249d0a6b",
   "metadata": {},
   "source": [
    "### 2.4 Month (categorical)"
   ]
  },
  {
   "cell_type": "code",
   "execution_count": 28,
   "id": "474e0f71",
   "metadata": {},
   "outputs": [],
   "source": [
    "df['month'] = df['date_block_num'] % 12"
   ]
  },
  {
   "cell_type": "code",
   "execution_count": 29,
   "id": "82db4f0f",
   "metadata": {
    "scrolled": true
   },
   "outputs": [
    {
     "data": {
      "text/html": [
       "<div>\n",
       "<style scoped>\n",
       "    .dataframe tbody tr th:only-of-type {\n",
       "        vertical-align: middle;\n",
       "    }\n",
       "\n",
       "    .dataframe tbody tr th {\n",
       "        vertical-align: top;\n",
       "    }\n",
       "\n",
       "    .dataframe thead th {\n",
       "        text-align: right;\n",
       "    }\n",
       "</style>\n",
       "<table border=\"1\" class=\"dataframe\">\n",
       "  <thead>\n",
       "    <tr style=\"text-align: right;\">\n",
       "      <th></th>\n",
       "      <th>date_block_num</th>\n",
       "      <th>shop_id</th>\n",
       "      <th>item_id</th>\n",
       "      <th>item_cnt_month</th>\n",
       "      <th>revenue</th>\n",
       "      <th>item_price</th>\n",
       "      <th>item_cnt_day</th>\n",
       "      <th>holiday</th>\n",
       "      <th>num_weekend_days</th>\n",
       "      <th>month</th>\n",
       "    </tr>\n",
       "  </thead>\n",
       "  <tbody>\n",
       "    <tr>\n",
       "      <th>0</th>\n",
       "      <td>0</td>\n",
       "      <td>0</td>\n",
       "      <td>19</td>\n",
       "      <td>0.00</td>\n",
       "      <td>0.00</td>\n",
       "      <td>0.00</td>\n",
       "      <td>0.00</td>\n",
       "      <td>10.00</td>\n",
       "      <td>8.00</td>\n",
       "      <td>0</td>\n",
       "    </tr>\n",
       "    <tr>\n",
       "      <th>1</th>\n",
       "      <td>0</td>\n",
       "      <td>0</td>\n",
       "      <td>27</td>\n",
       "      <td>0.00</td>\n",
       "      <td>0.00</td>\n",
       "      <td>0.00</td>\n",
       "      <td>0.00</td>\n",
       "      <td>10.00</td>\n",
       "      <td>8.00</td>\n",
       "      <td>0</td>\n",
       "    </tr>\n",
       "    <tr>\n",
       "      <th>2</th>\n",
       "      <td>0</td>\n",
       "      <td>0</td>\n",
       "      <td>28</td>\n",
       "      <td>0.00</td>\n",
       "      <td>0.00</td>\n",
       "      <td>0.00</td>\n",
       "      <td>0.00</td>\n",
       "      <td>10.00</td>\n",
       "      <td>8.00</td>\n",
       "      <td>0</td>\n",
       "    </tr>\n",
       "    <tr>\n",
       "      <th>3</th>\n",
       "      <td>0</td>\n",
       "      <td>0</td>\n",
       "      <td>29</td>\n",
       "      <td>0.00</td>\n",
       "      <td>0.00</td>\n",
       "      <td>0.00</td>\n",
       "      <td>0.00</td>\n",
       "      <td>10.00</td>\n",
       "      <td>8.00</td>\n",
       "      <td>0</td>\n",
       "    </tr>\n",
       "    <tr>\n",
       "      <th>4</th>\n",
       "      <td>0</td>\n",
       "      <td>0</td>\n",
       "      <td>32</td>\n",
       "      <td>6.00</td>\n",
       "      <td>1326.00</td>\n",
       "      <td>221.00</td>\n",
       "      <td>6.00</td>\n",
       "      <td>10.00</td>\n",
       "      <td>8.00</td>\n",
       "      <td>0</td>\n",
       "    </tr>\n",
       "  </tbody>\n",
       "</table>\n",
       "</div>"
      ],
      "text/plain": [
       "   date_block_num  shop_id  item_id  item_cnt_month  revenue  item_price  \\\n",
       "0               0        0       19            0.00     0.00        0.00   \n",
       "1               0        0       27            0.00     0.00        0.00   \n",
       "2               0        0       28            0.00     0.00        0.00   \n",
       "3               0        0       29            0.00     0.00        0.00   \n",
       "4               0        0       32            6.00  1326.00      221.00   \n",
       "\n",
       "   item_cnt_day  holiday  num_weekend_days  month  \n",
       "0          0.00    10.00              8.00      0  \n",
       "1          0.00    10.00              8.00      0  \n",
       "2          0.00    10.00              8.00      0  \n",
       "3          0.00    10.00              8.00      0  \n",
       "4          6.00    10.00              8.00      0  "
      ]
     },
     "execution_count": 29,
     "metadata": {},
     "output_type": "execute_result"
    }
   ],
   "source": [
    "df.head()"
   ]
  },
  {
   "cell_type": "markdown",
   "id": "36941621",
   "metadata": {},
   "source": [
    "### 2.5 Days per month"
   ]
  },
  {
   "cell_type": "code",
   "execution_count": 30,
   "id": "bef91f9e",
   "metadata": {},
   "outputs": [],
   "source": [
    "days = pd.Series([31,28,31,30,31,30,31,31,30,31,30,31])\n",
    "df['days'] = df['month'].map(days).astype(np.int8)"
   ]
  },
  {
   "cell_type": "code",
   "execution_count": 31,
   "id": "4ad308f5",
   "metadata": {},
   "outputs": [
    {
     "data": {
      "text/html": [
       "<div>\n",
       "<style scoped>\n",
       "    .dataframe tbody tr th:only-of-type {\n",
       "        vertical-align: middle;\n",
       "    }\n",
       "\n",
       "    .dataframe tbody tr th {\n",
       "        vertical-align: top;\n",
       "    }\n",
       "\n",
       "    .dataframe thead th {\n",
       "        text-align: right;\n",
       "    }\n",
       "</style>\n",
       "<table border=\"1\" class=\"dataframe\">\n",
       "  <thead>\n",
       "    <tr style=\"text-align: right;\">\n",
       "      <th></th>\n",
       "      <th>date_block_num</th>\n",
       "      <th>shop_id</th>\n",
       "      <th>item_id</th>\n",
       "      <th>item_cnt_month</th>\n",
       "      <th>revenue</th>\n",
       "      <th>item_price</th>\n",
       "      <th>item_cnt_day</th>\n",
       "      <th>holiday</th>\n",
       "      <th>num_weekend_days</th>\n",
       "      <th>month</th>\n",
       "      <th>days</th>\n",
       "    </tr>\n",
       "  </thead>\n",
       "  <tbody>\n",
       "    <tr>\n",
       "      <th>0</th>\n",
       "      <td>0</td>\n",
       "      <td>0</td>\n",
       "      <td>19</td>\n",
       "      <td>0.00</td>\n",
       "      <td>0.00</td>\n",
       "      <td>0.00</td>\n",
       "      <td>0.00</td>\n",
       "      <td>10.00</td>\n",
       "      <td>8.00</td>\n",
       "      <td>0</td>\n",
       "      <td>31</td>\n",
       "    </tr>\n",
       "    <tr>\n",
       "      <th>1</th>\n",
       "      <td>0</td>\n",
       "      <td>0</td>\n",
       "      <td>27</td>\n",
       "      <td>0.00</td>\n",
       "      <td>0.00</td>\n",
       "      <td>0.00</td>\n",
       "      <td>0.00</td>\n",
       "      <td>10.00</td>\n",
       "      <td>8.00</td>\n",
       "      <td>0</td>\n",
       "      <td>31</td>\n",
       "    </tr>\n",
       "    <tr>\n",
       "      <th>2</th>\n",
       "      <td>0</td>\n",
       "      <td>0</td>\n",
       "      <td>28</td>\n",
       "      <td>0.00</td>\n",
       "      <td>0.00</td>\n",
       "      <td>0.00</td>\n",
       "      <td>0.00</td>\n",
       "      <td>10.00</td>\n",
       "      <td>8.00</td>\n",
       "      <td>0</td>\n",
       "      <td>31</td>\n",
       "    </tr>\n",
       "    <tr>\n",
       "      <th>3</th>\n",
       "      <td>0</td>\n",
       "      <td>0</td>\n",
       "      <td>29</td>\n",
       "      <td>0.00</td>\n",
       "      <td>0.00</td>\n",
       "      <td>0.00</td>\n",
       "      <td>0.00</td>\n",
       "      <td>10.00</td>\n",
       "      <td>8.00</td>\n",
       "      <td>0</td>\n",
       "      <td>31</td>\n",
       "    </tr>\n",
       "    <tr>\n",
       "      <th>4</th>\n",
       "      <td>0</td>\n",
       "      <td>0</td>\n",
       "      <td>32</td>\n",
       "      <td>6.00</td>\n",
       "      <td>1326.00</td>\n",
       "      <td>221.00</td>\n",
       "      <td>6.00</td>\n",
       "      <td>10.00</td>\n",
       "      <td>8.00</td>\n",
       "      <td>0</td>\n",
       "      <td>31</td>\n",
       "    </tr>\n",
       "  </tbody>\n",
       "</table>\n",
       "</div>"
      ],
      "text/plain": [
       "   date_block_num  shop_id  item_id  item_cnt_month  revenue  item_price  \\\n",
       "0               0        0       19            0.00     0.00        0.00   \n",
       "1               0        0       27            0.00     0.00        0.00   \n",
       "2               0        0       28            0.00     0.00        0.00   \n",
       "3               0        0       29            0.00     0.00        0.00   \n",
       "4               0        0       32            6.00  1326.00      221.00   \n",
       "\n",
       "   item_cnt_day  holiday  num_weekend_days  month  days  \n",
       "0          0.00    10.00              8.00      0    31  \n",
       "1          0.00    10.00              8.00      0    31  \n",
       "2          0.00    10.00              8.00      0    31  \n",
       "3          0.00    10.00              8.00      0    31  \n",
       "4          6.00    10.00              8.00      0    31  "
      ]
     },
     "execution_count": 31,
     "metadata": {},
     "output_type": "execute_result"
    }
   ],
   "source": [
    "df.head()"
   ]
  },
  {
   "cell_type": "code",
   "execution_count": 32,
   "id": "737ac76b",
   "metadata": {},
   "outputs": [],
   "source": [
    "df = df.rename(columns={'item_price':'item_monthly_avg_price','holiday':'num_holiday_month'})\n",
    "df.drop('item_cnt_day', axis=1, inplace=True)"
   ]
  },
  {
   "cell_type": "code",
   "execution_count": 33,
   "id": "f4bd43d2",
   "metadata": {
    "scrolled": true
   },
   "outputs": [
    {
     "data": {
      "text/html": [
       "<div>\n",
       "<style scoped>\n",
       "    .dataframe tbody tr th:only-of-type {\n",
       "        vertical-align: middle;\n",
       "    }\n",
       "\n",
       "    .dataframe tbody tr th {\n",
       "        vertical-align: top;\n",
       "    }\n",
       "\n",
       "    .dataframe thead th {\n",
       "        text-align: right;\n",
       "    }\n",
       "</style>\n",
       "<table border=\"1\" class=\"dataframe\">\n",
       "  <thead>\n",
       "    <tr style=\"text-align: right;\">\n",
       "      <th></th>\n",
       "      <th>date_block_num</th>\n",
       "      <th>shop_id</th>\n",
       "      <th>item_id</th>\n",
       "      <th>item_cnt_month</th>\n",
       "      <th>revenue</th>\n",
       "      <th>item_monthly_avg_price</th>\n",
       "      <th>num_holiday_month</th>\n",
       "      <th>num_weekend_days</th>\n",
       "      <th>month</th>\n",
       "      <th>days</th>\n",
       "    </tr>\n",
       "  </thead>\n",
       "  <tbody>\n",
       "    <tr>\n",
       "      <th>0</th>\n",
       "      <td>0</td>\n",
       "      <td>0</td>\n",
       "      <td>19</td>\n",
       "      <td>0.00</td>\n",
       "      <td>0.00</td>\n",
       "      <td>0.00</td>\n",
       "      <td>10.00</td>\n",
       "      <td>8.00</td>\n",
       "      <td>0</td>\n",
       "      <td>31</td>\n",
       "    </tr>\n",
       "    <tr>\n",
       "      <th>1</th>\n",
       "      <td>0</td>\n",
       "      <td>0</td>\n",
       "      <td>27</td>\n",
       "      <td>0.00</td>\n",
       "      <td>0.00</td>\n",
       "      <td>0.00</td>\n",
       "      <td>10.00</td>\n",
       "      <td>8.00</td>\n",
       "      <td>0</td>\n",
       "      <td>31</td>\n",
       "    </tr>\n",
       "    <tr>\n",
       "      <th>2</th>\n",
       "      <td>0</td>\n",
       "      <td>0</td>\n",
       "      <td>28</td>\n",
       "      <td>0.00</td>\n",
       "      <td>0.00</td>\n",
       "      <td>0.00</td>\n",
       "      <td>10.00</td>\n",
       "      <td>8.00</td>\n",
       "      <td>0</td>\n",
       "      <td>31</td>\n",
       "    </tr>\n",
       "    <tr>\n",
       "      <th>3</th>\n",
       "      <td>0</td>\n",
       "      <td>0</td>\n",
       "      <td>29</td>\n",
       "      <td>0.00</td>\n",
       "      <td>0.00</td>\n",
       "      <td>0.00</td>\n",
       "      <td>10.00</td>\n",
       "      <td>8.00</td>\n",
       "      <td>0</td>\n",
       "      <td>31</td>\n",
       "    </tr>\n",
       "    <tr>\n",
       "      <th>4</th>\n",
       "      <td>0</td>\n",
       "      <td>0</td>\n",
       "      <td>32</td>\n",
       "      <td>6.00</td>\n",
       "      <td>1326.00</td>\n",
       "      <td>221.00</td>\n",
       "      <td>10.00</td>\n",
       "      <td>8.00</td>\n",
       "      <td>0</td>\n",
       "      <td>31</td>\n",
       "    </tr>\n",
       "  </tbody>\n",
       "</table>\n",
       "</div>"
      ],
      "text/plain": [
       "   date_block_num  shop_id  item_id  item_cnt_month  revenue  \\\n",
       "0               0        0       19            0.00     0.00   \n",
       "1               0        0       27            0.00     0.00   \n",
       "2               0        0       28            0.00     0.00   \n",
       "3               0        0       29            0.00     0.00   \n",
       "4               0        0       32            6.00  1326.00   \n",
       "\n",
       "   item_monthly_avg_price  num_holiday_month  num_weekend_days  month  days  \n",
       "0                    0.00              10.00              8.00      0    31  \n",
       "1                    0.00              10.00              8.00      0    31  \n",
       "2                    0.00              10.00              8.00      0    31  \n",
       "3                    0.00              10.00              8.00      0    31  \n",
       "4                  221.00              10.00              8.00      0    31  "
      ]
     },
     "execution_count": 33,
     "metadata": {},
     "output_type": "execute_result"
    }
   ],
   "source": [
    "df.head()"
   ]
  },
  {
   "cell_type": "markdown",
   "id": "d2362655",
   "metadata": {},
   "source": [
    "### 2.6 Group (categorical)"
   ]
  },
  {
   "cell_type": "code",
   "execution_count": 34,
   "id": "882ab99d",
   "metadata": {},
   "outputs": [
    {
     "data": {
      "text/html": [
       "<div>\n",
       "<style scoped>\n",
       "    .dataframe tbody tr th:only-of-type {\n",
       "        vertical-align: middle;\n",
       "    }\n",
       "\n",
       "    .dataframe tbody tr th {\n",
       "        vertical-align: top;\n",
       "    }\n",
       "\n",
       "    .dataframe thead th {\n",
       "        text-align: right;\n",
       "    }\n",
       "</style>\n",
       "<table border=\"1\" class=\"dataframe\">\n",
       "  <thead>\n",
       "    <tr style=\"text-align: right;\">\n",
       "      <th></th>\n",
       "      <th>date_block_num</th>\n",
       "      <th>shop_id</th>\n",
       "      <th>item_id</th>\n",
       "      <th>item_cnt_month</th>\n",
       "      <th>revenue</th>\n",
       "      <th>item_monthly_avg_price</th>\n",
       "      <th>num_holiday_month</th>\n",
       "      <th>num_weekend_days</th>\n",
       "      <th>month</th>\n",
       "      <th>days</th>\n",
       "      <th>item_category_id</th>\n",
       "    </tr>\n",
       "  </thead>\n",
       "  <tbody>\n",
       "    <tr>\n",
       "      <th>0</th>\n",
       "      <td>0</td>\n",
       "      <td>0</td>\n",
       "      <td>19</td>\n",
       "      <td>0.00</td>\n",
       "      <td>0.00</td>\n",
       "      <td>0.00</td>\n",
       "      <td>10.00</td>\n",
       "      <td>8.00</td>\n",
       "      <td>0</td>\n",
       "      <td>31</td>\n",
       "      <td>40</td>\n",
       "    </tr>\n",
       "    <tr>\n",
       "      <th>1</th>\n",
       "      <td>0</td>\n",
       "      <td>0</td>\n",
       "      <td>27</td>\n",
       "      <td>0.00</td>\n",
       "      <td>0.00</td>\n",
       "      <td>0.00</td>\n",
       "      <td>10.00</td>\n",
       "      <td>8.00</td>\n",
       "      <td>0</td>\n",
       "      <td>31</td>\n",
       "      <td>19</td>\n",
       "    </tr>\n",
       "    <tr>\n",
       "      <th>2</th>\n",
       "      <td>0</td>\n",
       "      <td>0</td>\n",
       "      <td>28</td>\n",
       "      <td>0.00</td>\n",
       "      <td>0.00</td>\n",
       "      <td>0.00</td>\n",
       "      <td>10.00</td>\n",
       "      <td>8.00</td>\n",
       "      <td>0</td>\n",
       "      <td>31</td>\n",
       "      <td>30</td>\n",
       "    </tr>\n",
       "    <tr>\n",
       "      <th>3</th>\n",
       "      <td>0</td>\n",
       "      <td>0</td>\n",
       "      <td>29</td>\n",
       "      <td>0.00</td>\n",
       "      <td>0.00</td>\n",
       "      <td>0.00</td>\n",
       "      <td>10.00</td>\n",
       "      <td>8.00</td>\n",
       "      <td>0</td>\n",
       "      <td>31</td>\n",
       "      <td>23</td>\n",
       "    </tr>\n",
       "    <tr>\n",
       "      <th>4</th>\n",
       "      <td>0</td>\n",
       "      <td>0</td>\n",
       "      <td>32</td>\n",
       "      <td>6.00</td>\n",
       "      <td>1326.00</td>\n",
       "      <td>221.00</td>\n",
       "      <td>10.00</td>\n",
       "      <td>8.00</td>\n",
       "      <td>0</td>\n",
       "      <td>31</td>\n",
       "      <td>40</td>\n",
       "    </tr>\n",
       "  </tbody>\n",
       "</table>\n",
       "</div>"
      ],
      "text/plain": [
       "   date_block_num  shop_id  item_id  item_cnt_month  revenue  \\\n",
       "0               0        0       19            0.00     0.00   \n",
       "1               0        0       27            0.00     0.00   \n",
       "2               0        0       28            0.00     0.00   \n",
       "3               0        0       29            0.00     0.00   \n",
       "4               0        0       32            6.00  1326.00   \n",
       "\n",
       "   item_monthly_avg_price  num_holiday_month  num_weekend_days  month  days  \\\n",
       "0                    0.00              10.00              8.00      0    31   \n",
       "1                    0.00              10.00              8.00      0    31   \n",
       "2                    0.00              10.00              8.00      0    31   \n",
       "3                    0.00              10.00              8.00      0    31   \n",
       "4                  221.00              10.00              8.00      0    31   \n",
       "\n",
       "   item_category_id  \n",
       "0                40  \n",
       "1                19  \n",
       "2                30  \n",
       "3                23  \n",
       "4                40  "
      ]
     },
     "execution_count": 34,
     "metadata": {},
     "output_type": "execute_result"
    }
   ],
   "source": [
    "# add item category id\n",
    "df = pd.merge(df, items[['item_id','item_category_id']], on='item_id', how='left')\n",
    "df.head()"
   ]
  },
  {
   "cell_type": "code",
   "execution_count": 35,
   "id": "f245ac52",
   "metadata": {
    "scrolled": false
   },
   "outputs": [
    {
     "name": "stdout",
     "output_type": "stream",
     "text": [
      "Number of groups: 18\n",
      "Number of categories: 84\n"
     ]
    },
    {
     "data": {
      "text/html": [
       "<div>\n",
       "<style scoped>\n",
       "    .dataframe tbody tr th:only-of-type {\n",
       "        vertical-align: middle;\n",
       "    }\n",
       "\n",
       "    .dataframe tbody tr th {\n",
       "        vertical-align: top;\n",
       "    }\n",
       "\n",
       "    .dataframe thead th {\n",
       "        text-align: right;\n",
       "    }\n",
       "</style>\n",
       "<table border=\"1\" class=\"dataframe\">\n",
       "  <thead>\n",
       "    <tr style=\"text-align: right;\">\n",
       "      <th></th>\n",
       "      <th>item_category_name</th>\n",
       "      <th>item_category_id</th>\n",
       "      <th>group_name</th>\n",
       "      <th>group_id</th>\n",
       "    </tr>\n",
       "  </thead>\n",
       "  <tbody>\n",
       "    <tr>\n",
       "      <th>83</th>\n",
       "      <td>Элементы питания</td>\n",
       "      <td>83</td>\n",
       "      <td>Элементы питания</td>\n",
       "      <td>17</td>\n",
       "    </tr>\n",
       "    <tr>\n",
       "      <th>47</th>\n",
       "      <td>Книги - Комиксы, манга</td>\n",
       "      <td>47</td>\n",
       "      <td>Книги</td>\n",
       "      <td>11</td>\n",
       "    </tr>\n",
       "    <tr>\n",
       "      <th>40</th>\n",
       "      <td>Кино - DVD</td>\n",
       "      <td>40</td>\n",
       "      <td>Кино</td>\n",
       "      <td>10</td>\n",
       "    </tr>\n",
       "    <tr>\n",
       "      <th>65</th>\n",
       "      <td>Подарки - Настольные игры (компактные)</td>\n",
       "      <td>65</td>\n",
       "      <td>Подарки</td>\n",
       "      <td>13</td>\n",
       "    </tr>\n",
       "    <tr>\n",
       "      <th>36</th>\n",
       "      <td>Карты оплаты - Windows (Цифра)</td>\n",
       "      <td>36</td>\n",
       "      <td>Карты оплаты</td>\n",
       "      <td>9</td>\n",
       "    </tr>\n",
       "  </tbody>\n",
       "</table>\n",
       "</div>"
      ],
      "text/plain": [
       "                        item_category_name  item_category_id  \\\n",
       "83                        Элементы питания                83   \n",
       "47                  Книги - Комиксы, манга                47   \n",
       "40                              Кино - DVD                40   \n",
       "65  Подарки - Настольные игры (компактные)                65   \n",
       "36          Карты оплаты - Windows (Цифра)                36   \n",
       "\n",
       "          group_name  group_id  \n",
       "83  Элементы питания        17  \n",
       "47             Книги        11  \n",
       "40              Кино        10  \n",
       "65           Подарки        13  \n",
       "36      Карты оплаты         9  "
      ]
     },
     "execution_count": 35,
     "metadata": {},
     "output_type": "execute_result"
    }
   ],
   "source": [
    "from sklearn.preprocessing import LabelEncoder\n",
    "le = LabelEncoder()\n",
    "\n",
    "#create broader category groupings, where group is general and item_category is more specific\n",
    "categories['group_name'] = categories['item_category_name'].str.extract(r'(^[\\w\\s]*)')\n",
    "categories['group_name'] = categories['group_name'].str.strip()\n",
    "#label encode group names\n",
    "categories['group_id']  = le.fit_transform(categories.group_name.values)\n",
    "print(\"Number of groups:\", len(categories['group_id'].unique()))\n",
    "print(\"Number of categories:\", len(categories['item_category_id'].unique()))\n",
    "categories.sample(5)"
   ]
  },
  {
   "cell_type": "code",
   "execution_count": 36,
   "id": "b6fec8e8",
   "metadata": {
    "scrolled": false
   },
   "outputs": [
    {
     "data": {
      "text/html": [
       "<div>\n",
       "<style scoped>\n",
       "    .dataframe tbody tr th:only-of-type {\n",
       "        vertical-align: middle;\n",
       "    }\n",
       "\n",
       "    .dataframe tbody tr th {\n",
       "        vertical-align: top;\n",
       "    }\n",
       "\n",
       "    .dataframe thead th {\n",
       "        text-align: right;\n",
       "    }\n",
       "</style>\n",
       "<table border=\"1\" class=\"dataframe\">\n",
       "  <thead>\n",
       "    <tr style=\"text-align: right;\">\n",
       "      <th></th>\n",
       "      <th>date_block_num</th>\n",
       "      <th>shop_id</th>\n",
       "      <th>item_id</th>\n",
       "      <th>item_cnt_month</th>\n",
       "      <th>revenue</th>\n",
       "      <th>item_monthly_avg_price</th>\n",
       "      <th>num_holiday_month</th>\n",
       "      <th>num_weekend_days</th>\n",
       "      <th>month</th>\n",
       "      <th>days</th>\n",
       "      <th>item_category_id</th>\n",
       "      <th>item_category_name</th>\n",
       "      <th>group_name</th>\n",
       "      <th>group_id</th>\n",
       "    </tr>\n",
       "  </thead>\n",
       "  <tbody>\n",
       "    <tr>\n",
       "      <th>0</th>\n",
       "      <td>0</td>\n",
       "      <td>0</td>\n",
       "      <td>19</td>\n",
       "      <td>0.00</td>\n",
       "      <td>0.00</td>\n",
       "      <td>0.00</td>\n",
       "      <td>10.00</td>\n",
       "      <td>8.00</td>\n",
       "      <td>0</td>\n",
       "      <td>31</td>\n",
       "      <td>40</td>\n",
       "      <td>Кино - DVD</td>\n",
       "      <td>Кино</td>\n",
       "      <td>10</td>\n",
       "    </tr>\n",
       "    <tr>\n",
       "      <th>1</th>\n",
       "      <td>0</td>\n",
       "      <td>0</td>\n",
       "      <td>27</td>\n",
       "      <td>0.00</td>\n",
       "      <td>0.00</td>\n",
       "      <td>0.00</td>\n",
       "      <td>10.00</td>\n",
       "      <td>8.00</td>\n",
       "      <td>0</td>\n",
       "      <td>31</td>\n",
       "      <td>19</td>\n",
       "      <td>Игры - PS3</td>\n",
       "      <td>Игры</td>\n",
       "      <td>5</td>\n",
       "    </tr>\n",
       "    <tr>\n",
       "      <th>2</th>\n",
       "      <td>0</td>\n",
       "      <td>0</td>\n",
       "      <td>28</td>\n",
       "      <td>0.00</td>\n",
       "      <td>0.00</td>\n",
       "      <td>0.00</td>\n",
       "      <td>10.00</td>\n",
       "      <td>8.00</td>\n",
       "      <td>0</td>\n",
       "      <td>31</td>\n",
       "      <td>30</td>\n",
       "      <td>Игры PC - Стандартные издания</td>\n",
       "      <td>Игры PC</td>\n",
       "      <td>8</td>\n",
       "    </tr>\n",
       "    <tr>\n",
       "      <th>3</th>\n",
       "      <td>0</td>\n",
       "      <td>0</td>\n",
       "      <td>29</td>\n",
       "      <td>0.00</td>\n",
       "      <td>0.00</td>\n",
       "      <td>0.00</td>\n",
       "      <td>10.00</td>\n",
       "      <td>8.00</td>\n",
       "      <td>0</td>\n",
       "      <td>31</td>\n",
       "      <td>23</td>\n",
       "      <td>Игры - XBOX 360</td>\n",
       "      <td>Игры</td>\n",
       "      <td>5</td>\n",
       "    </tr>\n",
       "    <tr>\n",
       "      <th>4</th>\n",
       "      <td>0</td>\n",
       "      <td>0</td>\n",
       "      <td>32</td>\n",
       "      <td>6.00</td>\n",
       "      <td>1326.00</td>\n",
       "      <td>221.00</td>\n",
       "      <td>10.00</td>\n",
       "      <td>8.00</td>\n",
       "      <td>0</td>\n",
       "      <td>31</td>\n",
       "      <td>40</td>\n",
       "      <td>Кино - DVD</td>\n",
       "      <td>Кино</td>\n",
       "      <td>10</td>\n",
       "    </tr>\n",
       "  </tbody>\n",
       "</table>\n",
       "</div>"
      ],
      "text/plain": [
       "   date_block_num  shop_id  item_id  item_cnt_month  revenue  \\\n",
       "0               0        0       19            0.00     0.00   \n",
       "1               0        0       27            0.00     0.00   \n",
       "2               0        0       28            0.00     0.00   \n",
       "3               0        0       29            0.00     0.00   \n",
       "4               0        0       32            6.00  1326.00   \n",
       "\n",
       "   item_monthly_avg_price  num_holiday_month  num_weekend_days  month  days  \\\n",
       "0                    0.00              10.00              8.00      0    31   \n",
       "1                    0.00              10.00              8.00      0    31   \n",
       "2                    0.00              10.00              8.00      0    31   \n",
       "3                    0.00              10.00              8.00      0    31   \n",
       "4                  221.00              10.00              8.00      0    31   \n",
       "\n",
       "   item_category_id             item_category_name group_name  group_id  \n",
       "0                40                     Кино - DVD       Кино        10  \n",
       "1                19                     Игры - PS3       Игры         5  \n",
       "2                30  Игры PC - Стандартные издания    Игры PC         8  \n",
       "3                23                Игры - XBOX 360       Игры         5  \n",
       "4                40                     Кино - DVD       Кино        10  "
      ]
     },
     "execution_count": 36,
     "metadata": {},
     "output_type": "execute_result"
    }
   ],
   "source": [
    "df = pd.merge(df, categories, on = 'item_category_id', how='left') \n",
    "df.head()"
   ]
  },
  {
   "cell_type": "markdown",
   "id": "f7354b3b",
   "metadata": {},
   "source": [
    "### 2.7 First month sale of item"
   ]
  },
  {
   "cell_type": "code",
   "execution_count": null,
   "id": "2f8aaa19",
   "metadata": {},
   "outputs": [],
   "source": []
  },
  {
   "cell_type": "markdown",
   "id": "c3bb3bd0",
   "metadata": {},
   "source": [
    "### TODO\n",
    "\n",
    "Add previous sales data (how many times it has sold)\n",
    "\n",
    "Mean first month sales per item\n",
    "\n",
    "First month that it sold"
   ]
  },
  {
   "cell_type": "code",
   "execution_count": null,
   "id": "9342726f",
   "metadata": {},
   "outputs": [],
   "source": []
  },
  {
   "cell_type": "markdown",
   "id": "6554f5ca",
   "metadata": {},
   "source": [
    "### 2.8 Number of months since last sale of item"
   ]
  },
  {
   "cell_type": "markdown",
   "id": "d616f940",
   "metadata": {},
   "source": [
    "For this, I simply search for the item in a dictionary. If the item is not in the dictionary, then it is the first sale so the value will be some null value (-1). If the item is in the list, then the value is the difference between the current row date and the stored  date. Then update the store value date with the current row date. "
   ]
  },
  {
   "cell_type": "code",
   "execution_count": 37,
   "id": "6790d610",
   "metadata": {
    "scrolled": false
   },
   "outputs": [
    {
     "name": "stdout",
     "output_type": "stream",
     "text": [
      "437.90196323394775 seconds 7.298366053899129 minutes\n"
     ]
    }
   ],
   "source": [
    "ts = time.time()\n",
    "hist = {}\n",
    "\n",
    "df['item_months_since_last_sale'] = -1\n",
    "df['item_months_since_last_sale'] = df['item_months_since_last_sale'].astype('int8')\n",
    "\n",
    "for x, row in df.iterrows(): \n",
    "    key = row.item_id\n",
    "    if key not in hist:\n",
    "        if row.item_cnt_month is not 0:\n",
    "            hist[key]=row.date_block_num\n",
    "    else: \n",
    "        last_date_block_num = hist[key]\n",
    "        if row.date_block_num > last_date_block_num:\n",
    "            df.at[x, 'item_months_since_last_sale'] = row.date_block_num - last_date_block_num\n",
    "            hist[key] = row.date_block_num\n",
    "                \n",
    "print(time.time()-ts, \"seconds\", (time.time()-ts)/60.0,\"minutes\")"
   ]
  },
  {
   "cell_type": "markdown",
   "id": "9b9b8d4e",
   "metadata": {},
   "source": [
    "### 2.9 Lag features: \n",
    "Here I want to encode some of the historical data into the newer rows; for example, the average item count for last month, two months ago, etc. or the shop's sales last month, two months ago, etc. \n",
    "\n",
    "To do this, I am going to make a helper function. "
   ]
  },
  {
   "cell_type": "code",
   "execution_count": 38,
   "id": "dd5fa4b5",
   "metadata": {},
   "outputs": [],
   "source": [
    "# Given the data, the number of months back it should look, and the column, get the data and merge it and return it\n",
    "\n",
    "def lag_feature(df, lags, col):\n",
    "    tmp = df[['date_block_num','shop_id','item_id',col]]\n",
    "    for i in lags:\n",
    "        shifted = tmp.copy()\n",
    "        shifted.columns = ['date_block_num','shop_id','item_id', col+'_lag_'+str(i)]\n",
    "        shifted['date_block_num'] += i\n",
    "        df = pd.merge(df, shifted, on=['date_block_num','shop_id','item_id'], how='left')\n",
    "    return df"
   ]
  },
  {
   "cell_type": "markdown",
   "id": "77af1033",
   "metadata": {},
   "source": [
    "Item average count per month:"
   ]
  },
  {
   "cell_type": "code",
   "execution_count": 39,
   "id": "139523e5",
   "metadata": {},
   "outputs": [
    {
     "name": "stdout",
     "output_type": "stream",
     "text": [
      "23.169960021972656 seconds 0.38616600036621096 minutes\n"
     ]
    }
   ],
   "source": [
    "ts = time.time()\n",
    "\n",
    "group = df.groupby(['date_block_num', 'item_id']).agg({'item_cnt_month': ['mean']})\n",
    "group.columns = [ 'date_item_avg_item_cnt' ]\n",
    "group.reset_index(inplace=True)\n",
    "\n",
    "df = pd.merge(df, group, on=['date_block_num','item_id'], how='left')\n",
    "df['date_item_avg_item_cnt'] = df['date_item_avg_item_cnt'].astype(np.float16)\n",
    "df = lag_feature(df, [1,2,3,12], 'date_item_avg_item_cnt')\n",
    "df.drop(['date_item_avg_item_cnt'], axis=1, inplace=True)\n",
    "\n",
    "print(time.time()-ts, \"seconds\", (time.time()-ts)/60.0,\"minutes\")"
   ]
  },
  {
   "cell_type": "markdown",
   "id": "c13794fc",
   "metadata": {},
   "source": [
    "Average shop sales per month: "
   ]
  },
  {
   "cell_type": "code",
   "execution_count": 40,
   "id": "0a21dfb5",
   "metadata": {},
   "outputs": [
    {
     "name": "stdout",
     "output_type": "stream",
     "text": [
      "23.72103762626648 seconds 0.3953506271044413 minutes\n"
     ]
    }
   ],
   "source": [
    "ts = time.time()\n",
    "\n",
    "group = df.groupby(['date_block_num', 'shop_id']).agg({'item_cnt_month': ['mean']})\n",
    "group.columns = [ 'date_shop_avg_item_cnt' ]\n",
    "group.reset_index(inplace=True)\n",
    "\n",
    "df = pd.merge(df, group, on=['date_block_num','shop_id'], how='left')\n",
    "df['date_shop_avg_item_cnt'] = df['date_shop_avg_item_cnt'].astype(np.float16)\n",
    "df = lag_feature(df, [1,2,3,12], 'date_shop_avg_item_cnt')\n",
    "df.drop(['date_shop_avg_item_cnt'], axis=1, inplace=True)\n",
    "\n",
    "print(time.time()-ts, \"seconds\", (time.time()-ts)/60.0,\"minutes\")"
   ]
  },
  {
   "cell_type": "markdown",
   "id": "bc5de3c2",
   "metadata": {},
   "source": [
    "Average item category sales per month: "
   ]
  },
  {
   "cell_type": "code",
   "execution_count": 41,
   "id": "42f69585",
   "metadata": {},
   "outputs": [
    {
     "name": "stdout",
     "output_type": "stream",
     "text": [
      "24.815932512283325 seconds 0.4135988752047221 minutes\n"
     ]
    }
   ],
   "source": [
    "ts = time.time()\n",
    "\n",
    "group = df.groupby(['date_block_num', 'item_category_id']).agg({'item_cnt_month': ['mean']})\n",
    "group.columns = [ 'date_cat_avg_item_cnt' ]\n",
    "group.reset_index(inplace=True)\n",
    "\n",
    "df = pd.merge(df, group, on=['date_block_num','item_category_id'], how='left')\n",
    "df['date_cat_avg_item_cnt'] = df['date_cat_avg_item_cnt'].astype(np.float16)\n",
    "df = lag_feature(df, [1,2,3,12], 'date_cat_avg_item_cnt')\n",
    "df.drop(['date_cat_avg_item_cnt'], axis=1, inplace=True)\n",
    "\n",
    "print(time.time()-ts, \"seconds\", (time.time()-ts)/60.0,\"minutes\")"
   ]
  },
  {
   "cell_type": "markdown",
   "id": "c6886a2f",
   "metadata": {},
   "source": [
    "Average shop item category sales per month: "
   ]
  },
  {
   "cell_type": "code",
   "execution_count": 42,
   "id": "ac5ea5c0",
   "metadata": {
    "scrolled": true
   },
   "outputs": [
    {
     "name": "stdout",
     "output_type": "stream",
     "text": [
      "27.72647786140442 seconds 0.46210796435674034 minutes\n"
     ]
    }
   ],
   "source": [
    "ts = time.time()\n",
    "\n",
    "group = df.groupby(['date_block_num', 'shop_id', 'item_category_id']).agg({'item_cnt_month': ['mean']})\n",
    "group.columns = ['date_shop_cat_avg_item_cnt']\n",
    "group.reset_index(inplace=True)\n",
    "\n",
    "df = pd.merge(df, group, on=['date_block_num', 'shop_id', 'item_category_id'], how='left')\n",
    "df['date_shop_cat_avg_item_cnt'] = df['date_shop_cat_avg_item_cnt'].astype(np.float16)\n",
    "df = lag_feature(df, [1,2,3,12], 'date_shop_cat_avg_item_cnt')\n",
    "df.drop(['date_shop_cat_avg_item_cnt'], axis=1, inplace=True)\n",
    "\n",
    "print(time.time()-ts, \"seconds\", (time.time()-ts)/60.0,\"minutes\")"
   ]
  },
  {
   "cell_type": "markdown",
   "id": "49b3f821",
   "metadata": {},
   "source": [
    "Using lags like this (especially large lags, like 12 months) will produce a lot of null values and make the first 12 months have values which cannot be calculated. Therefore, I am going to drop the first 12 months of data. "
   ]
  },
  {
   "cell_type": "code",
   "execution_count": 43,
   "id": "9324f0d6",
   "metadata": {},
   "outputs": [],
   "source": [
    "df = df[df.date_block_num > 11]"
   ]
  },
  {
   "cell_type": "code",
   "execution_count": 44,
   "id": "dd0d0783",
   "metadata": {
    "scrolled": true
   },
   "outputs": [
    {
     "data": {
      "text/plain": [
       "4488756   0.16\n",
       "4488757    NaN\n",
       "4488758    NaN\n",
       "4488759   5.38\n",
       "4488760   1.36\n",
       "Name: date_item_avg_item_cnt_lag_12, dtype: float16"
      ]
     },
     "execution_count": 44,
     "metadata": {},
     "output_type": "execute_result"
    }
   ],
   "source": [
    "df['date_item_avg_item_cnt_lag_12'].head()"
   ]
  },
  {
   "cell_type": "code",
   "execution_count": 45,
   "id": "4061ceb9",
   "metadata": {},
   "outputs": [
    {
     "name": "stdout",
     "output_type": "stream",
     "text": [
      "1.0787787437438965 seconds 0.017979645729064943 minutes\n"
     ]
    }
   ],
   "source": [
    "ts = time.time()\n",
    "\n",
    "def fill_na(df):\n",
    "    for col in df.columns:\n",
    "        if ('_lag_' in col) & (df[col].isnull().any()):\n",
    "            if ('item_cnt' in col):\n",
    "                df[col].fillna(0, inplace=True)         \n",
    "    return df\n",
    "\n",
    "df = fill_na(df)\n",
    "\n",
    "print(time.time()-ts, \"seconds\", (time.time()-ts)/60.0,\"minutes\")"
   ]
  },
  {
   "cell_type": "markdown",
   "id": "7f69f4b9",
   "metadata": {},
   "source": [
    "# XGB TEST"
   ]
  },
  {
   "cell_type": "markdown",
   "id": "e2ee8764",
   "metadata": {},
   "source": [
    "Just a test :D"
   ]
  },
  {
   "cell_type": "code",
   "execution_count": 46,
   "id": "3bd82edb",
   "metadata": {},
   "outputs": [],
   "source": [
    "X_train = df[df.date_block_num < 33].drop(['item_cnt_month','item_category_name', 'group_name'], axis=1)\n",
    "y_train = df[df.date_block_num < 33]['item_cnt_month']\n",
    "X_valid = df[df.date_block_num == 33].drop(['item_cnt_month','item_category_name', 'group_name'], axis=1)\n",
    "y_valid = df[df.date_block_num == 33]['item_cnt_month']\n",
    "X_test = df[df.date_block_num == 34].drop(['item_cnt_month','item_category_name', 'group_name'], axis=1)"
   ]
  },
  {
   "cell_type": "code",
   "execution_count": 47,
   "id": "6a4b2a64",
   "metadata": {
    "scrolled": false
   },
   "outputs": [
    {
     "name": "stdout",
     "output_type": "stream",
     "text": [
      "[0]\tvalidation_0-rmse:0.92640\tvalidation_1-rmse:0.89748\n",
      "[1]\tvalidation_0-rmse:0.74793\tvalidation_1-rmse:0.73328\n",
      "[2]\tvalidation_0-rmse:0.63991\tvalidation_1-rmse:0.63643\n",
      "[3]\tvalidation_0-rmse:0.57210\tvalidation_1-rmse:0.58546\n",
      "[4]\tvalidation_0-rmse:0.52933\tvalidation_1-rmse:0.55537\n",
      "[5]\tvalidation_0-rmse:0.50705\tvalidation_1-rmse:0.53919\n",
      "[6]\tvalidation_0-rmse:0.49434\tvalidation_1-rmse:0.53168\n",
      "[7]\tvalidation_0-rmse:0.48685\tvalidation_1-rmse:0.52783\n",
      "[8]\tvalidation_0-rmse:0.48033\tvalidation_1-rmse:0.52456\n",
      "[9]\tvalidation_0-rmse:0.47720\tvalidation_1-rmse:0.52419\n",
      "[10]\tvalidation_0-rmse:0.47100\tvalidation_1-rmse:0.51719\n",
      "[11]\tvalidation_0-rmse:0.46512\tvalidation_1-rmse:0.51555\n",
      "[12]\tvalidation_0-rmse:0.46180\tvalidation_1-rmse:0.51183\n",
      "[13]\tvalidation_0-rmse:0.46061\tvalidation_1-rmse:0.51132\n",
      "[14]\tvalidation_0-rmse:0.45933\tvalidation_1-rmse:0.51051\n",
      "[15]\tvalidation_0-rmse:0.45707\tvalidation_1-rmse:0.50965\n",
      "[16]\tvalidation_0-rmse:0.45647\tvalidation_1-rmse:0.50929\n",
      "[17]\tvalidation_0-rmse:0.45513\tvalidation_1-rmse:0.50826\n",
      "[18]\tvalidation_0-rmse:0.45493\tvalidation_1-rmse:0.50805\n",
      "[19]\tvalidation_0-rmse:0.45305\tvalidation_1-rmse:0.50648\n",
      "[20]\tvalidation_0-rmse:0.45263\tvalidation_1-rmse:0.50538\n",
      "[21]\tvalidation_0-rmse:0.45009\tvalidation_1-rmse:0.50439\n",
      "[22]\tvalidation_0-rmse:0.44970\tvalidation_1-rmse:0.50392\n",
      "[23]\tvalidation_0-rmse:0.44707\tvalidation_1-rmse:0.50401\n",
      "[24]\tvalidation_0-rmse:0.44643\tvalidation_1-rmse:0.50365\n",
      "[25]\tvalidation_0-rmse:0.44534\tvalidation_1-rmse:0.50399\n",
      "[26]\tvalidation_0-rmse:0.44514\tvalidation_1-rmse:0.50378\n",
      "[27]\tvalidation_0-rmse:0.44250\tvalidation_1-rmse:0.50351\n",
      "[28]\tvalidation_0-rmse:0.44224\tvalidation_1-rmse:0.50356\n",
      "[29]\tvalidation_0-rmse:0.44124\tvalidation_1-rmse:0.50352\n",
      "[30]\tvalidation_0-rmse:0.43964\tvalidation_1-rmse:0.50306\n",
      "[31]\tvalidation_0-rmse:0.43687\tvalidation_1-rmse:0.49752\n",
      "[32]\tvalidation_0-rmse:0.43540\tvalidation_1-rmse:0.49764\n",
      "[33]\tvalidation_0-rmse:0.43456\tvalidation_1-rmse:0.49751\n",
      "[34]\tvalidation_0-rmse:0.43453\tvalidation_1-rmse:0.49755\n",
      "[35]\tvalidation_0-rmse:0.43299\tvalidation_1-rmse:0.49634\n",
      "[36]\tvalidation_0-rmse:0.43126\tvalidation_1-rmse:0.49464\n",
      "[37]\tvalidation_0-rmse:0.43037\tvalidation_1-rmse:0.49480\n",
      "[38]\tvalidation_0-rmse:0.42908\tvalidation_1-rmse:0.49331\n",
      "[39]\tvalidation_0-rmse:0.42835\tvalidation_1-rmse:0.49345\n",
      "[40]\tvalidation_0-rmse:0.42804\tvalidation_1-rmse:0.49348\n",
      "[41]\tvalidation_0-rmse:0.42715\tvalidation_1-rmse:0.49354\n",
      "[42]\tvalidation_0-rmse:0.42550\tvalidation_1-rmse:0.49177\n",
      "[43]\tvalidation_0-rmse:0.42461\tvalidation_1-rmse:0.49270\n",
      "[44]\tvalidation_0-rmse:0.42384\tvalidation_1-rmse:0.49180\n",
      "[45]\tvalidation_0-rmse:0.42345\tvalidation_1-rmse:0.49145\n",
      "[46]\tvalidation_0-rmse:0.42323\tvalidation_1-rmse:0.49181\n",
      "[47]\tvalidation_0-rmse:0.42241\tvalidation_1-rmse:0.49133\n",
      "[48]\tvalidation_0-rmse:0.42113\tvalidation_1-rmse:0.49399\n",
      "[49]\tvalidation_0-rmse:0.42089\tvalidation_1-rmse:0.49223\n",
      "[50]\tvalidation_0-rmse:0.42033\tvalidation_1-rmse:0.49199\n",
      "[51]\tvalidation_0-rmse:0.41919\tvalidation_1-rmse:0.49122\n",
      "[52]\tvalidation_0-rmse:0.41865\tvalidation_1-rmse:0.49107\n",
      "[53]\tvalidation_0-rmse:0.41828\tvalidation_1-rmse:0.49069\n",
      "[54]\tvalidation_0-rmse:0.41819\tvalidation_1-rmse:0.49070\n",
      "[55]\tvalidation_0-rmse:0.41689\tvalidation_1-rmse:0.49414\n",
      "[56]\tvalidation_0-rmse:0.41677\tvalidation_1-rmse:0.49409\n",
      "[57]\tvalidation_0-rmse:0.41663\tvalidation_1-rmse:0.49411\n",
      "[58]\tvalidation_0-rmse:0.41628\tvalidation_1-rmse:0.49406\n",
      "[59]\tvalidation_0-rmse:0.41615\tvalidation_1-rmse:0.49412\n",
      "[60]\tvalidation_0-rmse:0.41543\tvalidation_1-rmse:0.49439\n",
      "[61]\tvalidation_0-rmse:0.41459\tvalidation_1-rmse:0.49709\n",
      "[62]\tvalidation_0-rmse:0.41445\tvalidation_1-rmse:0.49727\n",
      "[63]\tvalidation_0-rmse:0.41444\tvalidation_1-rmse:0.49727\n",
      "[64]\tvalidation_0-rmse:0.41369\tvalidation_1-rmse:0.49698\n",
      "[65]\tvalidation_0-rmse:0.41328\tvalidation_1-rmse:0.49702\n",
      "[66]\tvalidation_0-rmse:0.41231\tvalidation_1-rmse:0.49544\n",
      "[67]\tvalidation_0-rmse:0.41228\tvalidation_1-rmse:0.49547\n",
      "[68]\tvalidation_0-rmse:0.41219\tvalidation_1-rmse:0.49547\n",
      "[69]\tvalidation_0-rmse:0.41153\tvalidation_1-rmse:0.49530\n",
      "[70]\tvalidation_0-rmse:0.41040\tvalidation_1-rmse:0.49475\n",
      "[71]\tvalidation_0-rmse:0.41011\tvalidation_1-rmse:0.49416\n",
      "[72]\tvalidation_0-rmse:0.40971\tvalidation_1-rmse:0.49413\n",
      "[73]\tvalidation_0-rmse:0.40961\tvalidation_1-rmse:0.49325\n",
      "[74]\tvalidation_0-rmse:0.40938\tvalidation_1-rmse:0.49326\n",
      "[75]\tvalidation_0-rmse:0.40762\tvalidation_1-rmse:0.49059\n",
      "[76]\tvalidation_0-rmse:0.40731\tvalidation_1-rmse:0.49064\n",
      "[77]\tvalidation_0-rmse:0.40718\tvalidation_1-rmse:0.49083\n",
      "[78]\tvalidation_0-rmse:0.40703\tvalidation_1-rmse:0.49051\n",
      "[79]\tvalidation_0-rmse:0.40655\tvalidation_1-rmse:0.49039\n",
      "[80]\tvalidation_0-rmse:0.40616\tvalidation_1-rmse:0.49060\n",
      "[81]\tvalidation_0-rmse:0.40435\tvalidation_1-rmse:0.48937\n",
      "[82]\tvalidation_0-rmse:0.40365\tvalidation_1-rmse:0.49512\n",
      "[83]\tvalidation_0-rmse:0.40344\tvalidation_1-rmse:0.49489\n",
      "[84]\tvalidation_0-rmse:0.40235\tvalidation_1-rmse:0.49387\n",
      "[85]\tvalidation_0-rmse:0.40218\tvalidation_1-rmse:0.49381\n",
      "[86]\tvalidation_0-rmse:0.40137\tvalidation_1-rmse:0.49411\n",
      "[87]\tvalidation_0-rmse:0.40109\tvalidation_1-rmse:0.49392\n",
      "[88]\tvalidation_0-rmse:0.40095\tvalidation_1-rmse:0.49414\n",
      "[89]\tvalidation_0-rmse:0.40087\tvalidation_1-rmse:0.49427\n",
      "[90]\tvalidation_0-rmse:0.40036\tvalidation_1-rmse:0.49323\n",
      "[91]\tvalidation_0-rmse:0.40035\tvalidation_1-rmse:0.49323\n",
      "[92]\tvalidation_0-rmse:0.40006\tvalidation_1-rmse:0.49325\n",
      "[93]\tvalidation_0-rmse:0.39969\tvalidation_1-rmse:0.49310\n",
      "[94]\tvalidation_0-rmse:0.39965\tvalidation_1-rmse:0.49324\n",
      "[95]\tvalidation_0-rmse:0.39856\tvalidation_1-rmse:0.49166\n",
      "[96]\tvalidation_0-rmse:0.39849\tvalidation_1-rmse:0.49185\n",
      "[97]\tvalidation_0-rmse:0.39846\tvalidation_1-rmse:0.49190\n",
      "[98]\tvalidation_0-rmse:0.39819\tvalidation_1-rmse:0.49193\n",
      "[99]\tvalidation_0-rmse:0.39771\tvalidation_1-rmse:0.49189\n",
      "306.92981576919556 seconds 5.115496929486593 minutes\n"
     ]
    }
   ],
   "source": [
    "import xgboost as xgb\n",
    "model = xgb.XGBRegressor()\n",
    "\n",
    "ts = time.time()\n",
    "\n",
    "model.fit(X_train, y_train, eval_metric=\"rmse\", eval_set=[(X_train, y_train), (X_valid, y_valid)], verbose=True)\n",
    "\n",
    "print(time.time()-ts, \"seconds\", (time.time()-ts)/60.0,\"minutes\")"
   ]
  },
  {
   "cell_type": "markdown",
   "id": "c89a8293",
   "metadata": {},
   "source": [
    "Since we clipped the item count values earlier, I clip them here as well. This ensures the training and test data is similar, and that I am getting the best score I can in the Kaggle competition. "
   ]
  },
  {
   "cell_type": "code",
   "execution_count": 48,
   "id": "06ccc31d",
   "metadata": {},
   "outputs": [],
   "source": [
    "y_pred = model.predict(X_valid).clip(0,20)\n",
    "y_test = model.predict(X_test).clip(0,20)"
   ]
  },
  {
   "cell_type": "code",
   "execution_count": 49,
   "id": "dfdf299d",
   "metadata": {},
   "outputs": [
    {
     "name": "stdout",
     "output_type": "stream",
     "text": [
      "R-squared score: 0.8127474532255108\n",
      "Mean Squared Error: 0.24167496\n",
      "Root mean Squared Error: 0.49160448\n"
     ]
    }
   ],
   "source": [
    "from sklearn.metrics import accuracy_score, r2_score, mean_squared_error\n",
    "r2 = r2_score(y_valid, y_pred)\n",
    "print(\"R-squared score:\",(r2))\n",
    "\n",
    "mse = mean_squared_error(y_valid, y_pred)\n",
    "print(\"Mean Squared Error:\",(mse))\n",
    "\n",
    "rmse = mean_squared_error(y_valid, y_pred, squared=False)\n",
    "print(\"Root mean Squared Error:\",(rmse))"
   ]
  },
  {
   "cell_type": "code",
   "execution_count": 50,
   "id": "64a2faf7",
   "metadata": {
    "scrolled": false
   },
   "outputs": [
    {
     "data": {
      "text/plain": [
       "<AxesSubplot:title={'center':'Feature importance'}, xlabel='F score', ylabel='Features'>"
      ]
     },
     "execution_count": 50,
     "metadata": {},
     "output_type": "execute_result"
    },
    {
     "data": {
      "image/png": "[encoded data removed]",
      "text/plain": [
       "<Figure size 1152x576 with 1 Axes>"
      ]
     },
     "metadata": {
      "needs_background": "light"
     },
     "output_type": "display_data"
    }
   ],
   "source": [
    "plt.rcParams[\"figure.figsize\"] = (16, 8)\n",
    "xgb.plot_importance(model, max_num_features=12)"
   ]
  },
  {
   "cell_type": "code",
   "execution_count": 52,
   "id": "4535a88c",
   "metadata": {},
   "outputs": [
    {
     "name": "stdout",
     "output_type": "stream",
     "text": [
      "A file already exists with this name.\n",
      "\n",
      "Do you want to overwrite? (Y/N)y\n",
      "Writing file.  \"./data/feature_engineered\\simple_xgb_feature_engineered.csv\"\n"
     ]
    }
   ],
   "source": [
    "submission = pd.DataFrame({\"ID\": test.index, \"item_cnt_month\": y_test})\n",
    "datapath = './data/feature_engineered'\n",
    "save_file(submission, 'simple_xgb_feature_engineered.csv', datapath)"
   ]
  },
  {
   "cell_type": "markdown",
   "id": "a06aedab",
   "metadata": {},
   "source": [
    "# 3. Save the new dataframe"
   ]
  },
  {
   "cell_type": "code",
   "execution_count": 53,
   "id": "9d766a7d",
   "metadata": {
    "scrolled": false
   },
   "outputs": [
    {
     "name": "stdout",
     "output_type": "stream",
     "text": [
      "A file already exists with this name.\n",
      "\n",
      "Do you want to overwrite? (Y/N)y\n",
      "Writing file.  \"./data/feature_engineered\\df_feature_engineered.csv\"\n"
     ]
    }
   ],
   "source": [
    "# Save the data\n",
    "datapath = './data/feature_engineered'\n",
    "save_file(df, 'df_feature_engineered.csv', datapath)"
   ]
  }
 ],
 "metadata": {
  "kernelspec": {
   "display_name": "Python 3 (ipykernel)",
   "language": "python",
   "name": "python3"
  },
  "language_info": {
   "codemirror_mode": {
    "name": "ipython",
    "version": 3
   },
   "file_extension": ".py",
   "mimetype": "text/x-python",
   "name": "python",
   "nbconvert_exporter": "python",
   "pygments_lexer": "ipython3",
   "version": "3.8.8"
  }
 },
 "nbformat": 4,
 "nbformat_minor": 5
}
