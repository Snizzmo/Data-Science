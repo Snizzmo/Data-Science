{
 "cells": [
  {
   "cell_type": "markdown",
   "id": "178e1d5f",
   "metadata": {},
   "source": [
    "# Capstone Two: Modeling\n",
    "\n",
    "In this step of my capstone, I am going to be assessing different models (and tuning hyperparamteters) in order to find the best model I can. \n",
    "\n",
    "1. Import the data, libraries. \n",
    "2. Run XGBoost \n",
    "3. Try a multitude of other algorithms"
   ]
  },
  {
   "cell_type": "markdown",
   "id": "b7f8eaba",
   "metadata": {},
   "source": [
    "## 1. Import"
   ]
  },
  {
   "cell_type": "code",
   "execution_count": 1,
   "id": "e0175801",
   "metadata": {},
   "outputs": [],
   "source": [
    "import numpy as np\n",
    "import pandas as pd\n",
    "import matplotlib.pyplot as plt\n",
    "import seaborn as sns\n",
    "import xgboost as xgb\n",
    "from xgboost import plot_importance \n",
    "\n",
    "from sklearn.model_selection import train_test_split\n",
    "from sklearn.metrics import accuracy_score, r2_score, mean_squared_error\n",
    "\n",
    "import time\n",
    "import os\n",
    "from library.sb_utils import save_file"
   ]
  },
  {
   "cell_type": "code",
   "execution_count": 2,
   "id": "f005fee4",
   "metadata": {},
   "outputs": [],
   "source": [
    "df = pd.read_csv('./data/feature_engineered/df_feature_engineered.csv')\n",
    "test = pd.read_csv('./data/clean/clean_test.csv').set_index('ID') # retain the ID data by setting it to the index"
   ]
  },
  {
   "cell_type": "code",
   "execution_count": 3,
   "id": "80163cf3",
   "metadata": {
    "scrolled": false
   },
   "outputs": [
    {
     "data": {
      "text/html": [
       "<div>\n",
       "<style scoped>\n",
       "    .dataframe tbody tr th:only-of-type {\n",
       "        vertical-align: middle;\n",
       "    }\n",
       "\n",
       "    .dataframe tbody tr th {\n",
       "        vertical-align: top;\n",
       "    }\n",
       "\n",
       "    .dataframe thead th {\n",
       "        text-align: right;\n",
       "    }\n",
       "</style>\n",
       "<table border=\"1\" class=\"dataframe\">\n",
       "  <thead>\n",
       "    <tr style=\"text-align: right;\">\n",
       "      <th></th>\n",
       "      <th>date_block_num</th>\n",
       "      <th>shop_id</th>\n",
       "      <th>item_id</th>\n",
       "      <th>item_cnt_month</th>\n",
       "      <th>revenue</th>\n",
       "      <th>item_monthly_avg_price</th>\n",
       "      <th>num_holiday_month</th>\n",
       "      <th>num_weekend_days</th>\n",
       "      <th>month</th>\n",
       "      <th>days</th>\n",
       "      <th>...</th>\n",
       "      <th>date_shop_avg_item_cnt_lag_3</th>\n",
       "      <th>date_shop_avg_item_cnt_lag_12</th>\n",
       "      <th>date_cat_avg_item_cnt_lag_1</th>\n",
       "      <th>date_cat_avg_item_cnt_lag_2</th>\n",
       "      <th>date_cat_avg_item_cnt_lag_3</th>\n",
       "      <th>date_cat_avg_item_cnt_lag_12</th>\n",
       "      <th>date_shop_cat_avg_item_cnt_lag_1</th>\n",
       "      <th>date_shop_cat_avg_item_cnt_lag_2</th>\n",
       "      <th>date_shop_cat_avg_item_cnt_lag_3</th>\n",
       "      <th>date_shop_cat_avg_item_cnt_lag_12</th>\n",
       "    </tr>\n",
       "  </thead>\n",
       "  <tbody>\n",
       "    <tr>\n",
       "      <th>0</th>\n",
       "      <td>12</td>\n",
       "      <td>2</td>\n",
       "      <td>27</td>\n",
       "      <td>0.0</td>\n",
       "      <td>0.0</td>\n",
       "      <td>0.0</td>\n",
       "      <td>10.0</td>\n",
       "      <td>8.0</td>\n",
       "      <td>0</td>\n",
       "      <td>31</td>\n",
       "      <td>...</td>\n",
       "      <td>0.08905</td>\n",
       "      <td>0.1412</td>\n",
       "      <td>1.0820</td>\n",
       "      <td>0.7650</td>\n",
       "      <td>0.9120</td>\n",
       "      <td>0.835</td>\n",
       "      <td>0.95560</td>\n",
       "      <td>0.57130</td>\n",
       "      <td>0.68600</td>\n",
       "      <td>0.4850</td>\n",
       "    </tr>\n",
       "    <tr>\n",
       "      <th>1</th>\n",
       "      <td>12</td>\n",
       "      <td>2</td>\n",
       "      <td>30</td>\n",
       "      <td>0.0</td>\n",
       "      <td>0.0</td>\n",
       "      <td>0.0</td>\n",
       "      <td>10.0</td>\n",
       "      <td>8.0</td>\n",
       "      <td>0</td>\n",
       "      <td>31</td>\n",
       "      <td>...</td>\n",
       "      <td>0.08905</td>\n",
       "      <td>0.0000</td>\n",
       "      <td>0.2915</td>\n",
       "      <td>0.2449</td>\n",
       "      <td>0.2362</td>\n",
       "      <td>0.000</td>\n",
       "      <td>0.04623</td>\n",
       "      <td>0.02293</td>\n",
       "      <td>0.02129</td>\n",
       "      <td>0.0000</td>\n",
       "    </tr>\n",
       "    <tr>\n",
       "      <th>2</th>\n",
       "      <td>12</td>\n",
       "      <td>2</td>\n",
       "      <td>31</td>\n",
       "      <td>0.0</td>\n",
       "      <td>0.0</td>\n",
       "      <td>0.0</td>\n",
       "      <td>10.0</td>\n",
       "      <td>8.0</td>\n",
       "      <td>0</td>\n",
       "      <td>31</td>\n",
       "      <td>...</td>\n",
       "      <td>0.08905</td>\n",
       "      <td>0.0000</td>\n",
       "      <td>0.2328</td>\n",
       "      <td>0.1831</td>\n",
       "      <td>0.1708</td>\n",
       "      <td>0.000</td>\n",
       "      <td>0.05945</td>\n",
       "      <td>0.04680</td>\n",
       "      <td>0.03293</td>\n",
       "      <td>0.0000</td>\n",
       "    </tr>\n",
       "    <tr>\n",
       "      <th>3</th>\n",
       "      <td>12</td>\n",
       "      <td>2</td>\n",
       "      <td>32</td>\n",
       "      <td>1.0</td>\n",
       "      <td>119.0</td>\n",
       "      <td>119.0</td>\n",
       "      <td>10.0</td>\n",
       "      <td>8.0</td>\n",
       "      <td>0</td>\n",
       "      <td>31</td>\n",
       "      <td>...</td>\n",
       "      <td>0.08905</td>\n",
       "      <td>0.1412</td>\n",
       "      <td>0.2915</td>\n",
       "      <td>0.2449</td>\n",
       "      <td>0.2362</td>\n",
       "      <td>0.294</td>\n",
       "      <td>0.04623</td>\n",
       "      <td>0.02293</td>\n",
       "      <td>0.02129</td>\n",
       "      <td>0.0731</td>\n",
       "    </tr>\n",
       "    <tr>\n",
       "      <th>4</th>\n",
       "      <td>12</td>\n",
       "      <td>2</td>\n",
       "      <td>33</td>\n",
       "      <td>1.0</td>\n",
       "      <td>199.0</td>\n",
       "      <td>199.0</td>\n",
       "      <td>10.0</td>\n",
       "      <td>8.0</td>\n",
       "      <td>0</td>\n",
       "      <td>31</td>\n",
       "      <td>...</td>\n",
       "      <td>0.08905</td>\n",
       "      <td>0.1412</td>\n",
       "      <td>0.2328</td>\n",
       "      <td>0.1831</td>\n",
       "      <td>0.1708</td>\n",
       "      <td>0.196</td>\n",
       "      <td>0.05945</td>\n",
       "      <td>0.04680</td>\n",
       "      <td>0.03293</td>\n",
       "      <td>0.0767</td>\n",
       "    </tr>\n",
       "  </tbody>\n",
       "</table>\n",
       "<p>5 rows × 32 columns</p>\n",
       "</div>"
      ],
      "text/plain": [
       "   date_block_num  shop_id  item_id  item_cnt_month  revenue  \\\n",
       "0              12        2       27             0.0      0.0   \n",
       "1              12        2       30             0.0      0.0   \n",
       "2              12        2       31             0.0      0.0   \n",
       "3              12        2       32             1.0    119.0   \n",
       "4              12        2       33             1.0    199.0   \n",
       "\n",
       "   item_monthly_avg_price  num_holiday_month  num_weekend_days  month  days  \\\n",
       "0                     0.0               10.0               8.0      0    31   \n",
       "1                     0.0               10.0               8.0      0    31   \n",
       "2                     0.0               10.0               8.0      0    31   \n",
       "3                   119.0               10.0               8.0      0    31   \n",
       "4                   199.0               10.0               8.0      0    31   \n",
       "\n",
       "   ...  date_shop_avg_item_cnt_lag_3 date_shop_avg_item_cnt_lag_12  \\\n",
       "0  ...                       0.08905                        0.1412   \n",
       "1  ...                       0.08905                        0.0000   \n",
       "2  ...                       0.08905                        0.0000   \n",
       "3  ...                       0.08905                        0.1412   \n",
       "4  ...                       0.08905                        0.1412   \n",
       "\n",
       "  date_cat_avg_item_cnt_lag_1  date_cat_avg_item_cnt_lag_2  \\\n",
       "0                      1.0820                       0.7650   \n",
       "1                      0.2915                       0.2449   \n",
       "2                      0.2328                       0.1831   \n",
       "3                      0.2915                       0.2449   \n",
       "4                      0.2328                       0.1831   \n",
       "\n",
       "   date_cat_avg_item_cnt_lag_3  date_cat_avg_item_cnt_lag_12  \\\n",
       "0                       0.9120                         0.835   \n",
       "1                       0.2362                         0.000   \n",
       "2                       0.1708                         0.000   \n",
       "3                       0.2362                         0.294   \n",
       "4                       0.1708                         0.196   \n",
       "\n",
       "   date_shop_cat_avg_item_cnt_lag_1  date_shop_cat_avg_item_cnt_lag_2  \\\n",
       "0                           0.95560                           0.57130   \n",
       "1                           0.04623                           0.02293   \n",
       "2                           0.05945                           0.04680   \n",
       "3                           0.04623                           0.02293   \n",
       "4                           0.05945                           0.04680   \n",
       "\n",
       "   date_shop_cat_avg_item_cnt_lag_3  date_shop_cat_avg_item_cnt_lag_12  \n",
       "0                           0.68600                             0.4850  \n",
       "1                           0.02129                             0.0000  \n",
       "2                           0.03293                             0.0000  \n",
       "3                           0.02129                             0.0731  \n",
       "4                           0.03293                             0.0767  \n",
       "\n",
       "[5 rows x 32 columns]"
      ]
     },
     "execution_count": 3,
     "metadata": {},
     "output_type": "execute_result"
    }
   ],
   "source": [
    "df.head()"
   ]
  },
  {
   "cell_type": "code",
   "execution_count": 4,
   "id": "191a79f9",
   "metadata": {},
   "outputs": [
    {
     "data": {
      "text/plain": [
       "date_block_num                       0\n",
       "shop_id                              0\n",
       "item_id                              0\n",
       "item_cnt_month                       0\n",
       "revenue                              0\n",
       "item_monthly_avg_price               0\n",
       "num_holiday_month                    0\n",
       "num_weekend_days                     0\n",
       "month                                0\n",
       "days                                 0\n",
       "item_category_id                     0\n",
       "item_category_name                   0\n",
       "group_name                           0\n",
       "group_id                             0\n",
       "item_first_month_sold                0\n",
       "item_months_since_last_sale          0\n",
       "date_item_avg_item_cnt_lag_1         0\n",
       "date_item_avg_item_cnt_lag_2         0\n",
       "date_item_avg_item_cnt_lag_3         0\n",
       "date_item_avg_item_cnt_lag_12        0\n",
       "date_shop_avg_item_cnt_lag_1         0\n",
       "date_shop_avg_item_cnt_lag_2         0\n",
       "date_shop_avg_item_cnt_lag_3         0\n",
       "date_shop_avg_item_cnt_lag_12        0\n",
       "date_cat_avg_item_cnt_lag_1          0\n",
       "date_cat_avg_item_cnt_lag_2          0\n",
       "date_cat_avg_item_cnt_lag_3          0\n",
       "date_cat_avg_item_cnt_lag_12         0\n",
       "date_shop_cat_avg_item_cnt_lag_1     0\n",
       "date_shop_cat_avg_item_cnt_lag_2     0\n",
       "date_shop_cat_avg_item_cnt_lag_3     0\n",
       "date_shop_cat_avg_item_cnt_lag_12    0\n",
       "dtype: int64"
      ]
     },
     "execution_count": 4,
     "metadata": {},
     "output_type": "execute_result"
    }
   ],
   "source": [
    "df.isna().sum()"
   ]
  },
  {
   "cell_type": "code",
   "execution_count": 5,
   "id": "97765f4b",
   "metadata": {},
   "outputs": [
    {
     "data": {
      "text/plain": [
       "date_block_num                         int64\n",
       "shop_id                                int64\n",
       "item_id                                int64\n",
       "item_cnt_month                       float64\n",
       "revenue                              float64\n",
       "item_monthly_avg_price               float64\n",
       "num_holiday_month                    float64\n",
       "num_weekend_days                     float64\n",
       "month                                  int64\n",
       "days                                   int64\n",
       "item_category_id                       int64\n",
       "item_category_name                    object\n",
       "group_name                            object\n",
       "group_id                               int64\n",
       "item_first_month_sold                  int64\n",
       "item_months_since_last_sale            int64\n",
       "date_item_avg_item_cnt_lag_1         float64\n",
       "date_item_avg_item_cnt_lag_2         float64\n",
       "date_item_avg_item_cnt_lag_3         float64\n",
       "date_item_avg_item_cnt_lag_12        float64\n",
       "date_shop_avg_item_cnt_lag_1         float64\n",
       "date_shop_avg_item_cnt_lag_2         float64\n",
       "date_shop_avg_item_cnt_lag_3         float64\n",
       "date_shop_avg_item_cnt_lag_12        float64\n",
       "date_cat_avg_item_cnt_lag_1          float64\n",
       "date_cat_avg_item_cnt_lag_2          float64\n",
       "date_cat_avg_item_cnt_lag_3          float64\n",
       "date_cat_avg_item_cnt_lag_12         float64\n",
       "date_shop_cat_avg_item_cnt_lag_1     float64\n",
       "date_shop_cat_avg_item_cnt_lag_2     float64\n",
       "date_shop_cat_avg_item_cnt_lag_3     float64\n",
       "date_shop_cat_avg_item_cnt_lag_12    float64\n",
       "dtype: object"
      ]
     },
     "execution_count": 5,
     "metadata": {},
     "output_type": "execute_result"
    }
   ],
   "source": [
    "df.dtypes"
   ]
  },
  {
   "cell_type": "markdown",
   "id": "e9edb7fb",
   "metadata": {},
   "source": [
    "## 2. Untuned Benchmark"
   ]
  },
  {
   "cell_type": "code",
   "execution_count": 6,
   "id": "fea94ea4",
   "metadata": {},
   "outputs": [],
   "source": [
    "X_train = df[df.date_block_num < 33].drop(['item_cnt_month','item_category_name', 'group_name'], axis=1)\n",
    "y_train = df[df.date_block_num < 33]['item_cnt_month']\n",
    "X_valid = df[df.date_block_num == 33].drop(['item_cnt_month','item_category_name', 'group_name'], axis=1)\n",
    "y_valid = df[df.date_block_num == 33]['item_cnt_month']\n",
    "X_test = df[df.date_block_num == 34].drop(['item_cnt_month','item_category_name', 'group_name'], axis=1)"
   ]
  },
  {
   "cell_type": "code",
   "execution_count": 7,
   "id": "20c4b9a1",
   "metadata": {
    "scrolled": false
   },
   "outputs": [
    {
     "name": "stdout",
     "output_type": "stream",
     "text": [
      "[0]\tvalidation_0-rmse:0.88703\tvalidation_1-rmse:0.85872\n",
      "[1]\tvalidation_0-rmse:0.66770\tvalidation_1-rmse:0.64851\n",
      "[2]\tvalidation_0-rmse:0.52163\tvalidation_1-rmse:0.51505\n",
      "[3]\tvalidation_0-rmse:0.42751\tvalidation_1-rmse:0.43295\n",
      "[4]\tvalidation_0-rmse:0.36861\tvalidation_1-rmse:0.38299\n",
      "[5]\tvalidation_0-rmse:0.32997\tvalidation_1-rmse:0.35354\n",
      "[6]\tvalidation_0-rmse:0.30738\tvalidation_1-rmse:0.33754\n",
      "[7]\tvalidation_0-rmse:0.29352\tvalidation_1-rmse:0.33125\n",
      "[8]\tvalidation_0-rmse:0.28432\tvalidation_1-rmse:0.32773\n",
      "[9]\tvalidation_0-rmse:0.27826\tvalidation_1-rmse:0.32422\n",
      "[10]\tvalidation_0-rmse:0.27481\tvalidation_1-rmse:0.32291\n",
      "[11]\tvalidation_0-rmse:0.27025\tvalidation_1-rmse:0.32061\n",
      "[12]\tvalidation_0-rmse:0.26608\tvalidation_1-rmse:0.31797\n",
      "[13]\tvalidation_0-rmse:0.26492\tvalidation_1-rmse:0.31744\n",
      "[14]\tvalidation_0-rmse:0.26213\tvalidation_1-rmse:0.31708\n",
      "[15]\tvalidation_0-rmse:0.26058\tvalidation_1-rmse:0.31694\n",
      "[16]\tvalidation_0-rmse:0.26000\tvalidation_1-rmse:0.31633\n",
      "[17]\tvalidation_0-rmse:0.25907\tvalidation_1-rmse:0.31633\n",
      "[18]\tvalidation_0-rmse:0.25838\tvalidation_1-rmse:0.31686\n",
      "[19]\tvalidation_0-rmse:0.25684\tvalidation_1-rmse:0.31681\n",
      "[20]\tvalidation_0-rmse:0.25653\tvalidation_1-rmse:0.31648\n",
      "[21]\tvalidation_0-rmse:0.25554\tvalidation_1-rmse:0.31649\n",
      "[22]\tvalidation_0-rmse:0.25406\tvalidation_1-rmse:0.31512\n",
      "[23]\tvalidation_0-rmse:0.25373\tvalidation_1-rmse:0.31506\n",
      "[24]\tvalidation_0-rmse:0.25341\tvalidation_1-rmse:0.31502\n",
      "[25]\tvalidation_0-rmse:0.25208\tvalidation_1-rmse:0.31410\n",
      "[26]\tvalidation_0-rmse:0.25171\tvalidation_1-rmse:0.31405\n",
      "[27]\tvalidation_0-rmse:0.25127\tvalidation_1-rmse:0.31401\n",
      "[28]\tvalidation_0-rmse:0.25074\tvalidation_1-rmse:0.31400\n",
      "[29]\tvalidation_0-rmse:0.25004\tvalidation_1-rmse:0.31328\n",
      "[30]\tvalidation_0-rmse:0.24711\tvalidation_1-rmse:0.31222\n",
      "[31]\tvalidation_0-rmse:0.24564\tvalidation_1-rmse:0.31042\n",
      "[32]\tvalidation_0-rmse:0.24412\tvalidation_1-rmse:0.30906\n",
      "[33]\tvalidation_0-rmse:0.24184\tvalidation_1-rmse:0.30895\n",
      "[34]\tvalidation_0-rmse:0.24105\tvalidation_1-rmse:0.30856\n",
      "[35]\tvalidation_0-rmse:0.23998\tvalidation_1-rmse:0.30697\n",
      "[36]\tvalidation_0-rmse:0.23835\tvalidation_1-rmse:0.30711\n",
      "[37]\tvalidation_0-rmse:0.23787\tvalidation_1-rmse:0.30494\n",
      "[38]\tvalidation_0-rmse:0.23706\tvalidation_1-rmse:0.30407\n",
      "[39]\tvalidation_0-rmse:0.23672\tvalidation_1-rmse:0.30417\n",
      "[40]\tvalidation_0-rmse:0.23597\tvalidation_1-rmse:0.30401\n",
      "[41]\tvalidation_0-rmse:0.23584\tvalidation_1-rmse:0.30395\n",
      "[42]\tvalidation_0-rmse:0.23574\tvalidation_1-rmse:0.30401\n",
      "[43]\tvalidation_0-rmse:0.23555\tvalidation_1-rmse:0.30382\n",
      "[44]\tvalidation_0-rmse:0.23479\tvalidation_1-rmse:0.30345\n",
      "[45]\tvalidation_0-rmse:0.23473\tvalidation_1-rmse:0.30341\n",
      "[46]\tvalidation_0-rmse:0.23410\tvalidation_1-rmse:0.30302\n",
      "[47]\tvalidation_0-rmse:0.23269\tvalidation_1-rmse:0.30339\n",
      "[48]\tvalidation_0-rmse:0.23187\tvalidation_1-rmse:0.30308\n",
      "[49]\tvalidation_0-rmse:0.23089\tvalidation_1-rmse:0.30121\n",
      "[50]\tvalidation_0-rmse:0.23062\tvalidation_1-rmse:0.30137\n",
      "[51]\tvalidation_0-rmse:0.22934\tvalidation_1-rmse:0.30292\n",
      "[52]\tvalidation_0-rmse:0.22897\tvalidation_1-rmse:0.30221\n",
      "[53]\tvalidation_0-rmse:0.22889\tvalidation_1-rmse:0.30219\n",
      "[54]\tvalidation_0-rmse:0.22880\tvalidation_1-rmse:0.30222\n",
      "[55]\tvalidation_0-rmse:0.22840\tvalidation_1-rmse:0.30609\n",
      "[56]\tvalidation_0-rmse:0.22774\tvalidation_1-rmse:0.30585\n",
      "[57]\tvalidation_0-rmse:0.22728\tvalidation_1-rmse:0.30622\n",
      "[58]\tvalidation_0-rmse:0.22723\tvalidation_1-rmse:0.30619\n",
      "[59]\tvalidation_0-rmse:0.22595\tvalidation_1-rmse:0.30470\n",
      "[60]\tvalidation_0-rmse:0.22568\tvalidation_1-rmse:0.30466\n",
      "[61]\tvalidation_0-rmse:0.22543\tvalidation_1-rmse:0.30501\n",
      "[62]\tvalidation_0-rmse:0.22522\tvalidation_1-rmse:0.30514\n",
      "[63]\tvalidation_0-rmse:0.22455\tvalidation_1-rmse:0.30870\n",
      "[64]\tvalidation_0-rmse:0.22357\tvalidation_1-rmse:0.31196\n",
      "[65]\tvalidation_0-rmse:0.22354\tvalidation_1-rmse:0.31197\n",
      "[66]\tvalidation_0-rmse:0.22352\tvalidation_1-rmse:0.31197\n",
      "[67]\tvalidation_0-rmse:0.22314\tvalidation_1-rmse:0.31134\n",
      "[68]\tvalidation_0-rmse:0.22293\tvalidation_1-rmse:0.31126\n",
      "[69]\tvalidation_0-rmse:0.22290\tvalidation_1-rmse:0.31119\n",
      "[70]\tvalidation_0-rmse:0.22251\tvalidation_1-rmse:0.31115\n",
      "[71]\tvalidation_0-rmse:0.22208\tvalidation_1-rmse:0.31083\n",
      "[72]\tvalidation_0-rmse:0.22187\tvalidation_1-rmse:0.31081\n",
      "[73]\tvalidation_0-rmse:0.22179\tvalidation_1-rmse:0.31080\n",
      "[74]\tvalidation_0-rmse:0.22120\tvalidation_1-rmse:0.30994\n",
      "[75]\tvalidation_0-rmse:0.22084\tvalidation_1-rmse:0.30953\n",
      "[76]\tvalidation_0-rmse:0.22065\tvalidation_1-rmse:0.30964\n",
      "[77]\tvalidation_0-rmse:0.22057\tvalidation_1-rmse:0.30962\n",
      "[78]\tvalidation_0-rmse:0.22055\tvalidation_1-rmse:0.30961\n",
      "[79]\tvalidation_0-rmse:0.21997\tvalidation_1-rmse:0.30779\n",
      "[80]\tvalidation_0-rmse:0.21943\tvalidation_1-rmse:0.30741\n",
      "[81]\tvalidation_0-rmse:0.21870\tvalidation_1-rmse:0.30961\n",
      "[82]\tvalidation_0-rmse:0.21848\tvalidation_1-rmse:0.30958\n",
      "[83]\tvalidation_0-rmse:0.21790\tvalidation_1-rmse:0.30946\n",
      "[84]\tvalidation_0-rmse:0.21780\tvalidation_1-rmse:0.30935\n",
      "[85]\tvalidation_0-rmse:0.21764\tvalidation_1-rmse:0.30939\n",
      "[86]\tvalidation_0-rmse:0.21758\tvalidation_1-rmse:0.30937\n",
      "[87]\tvalidation_0-rmse:0.21676\tvalidation_1-rmse:0.30942\n",
      "[88]\tvalidation_0-rmse:0.21669\tvalidation_1-rmse:0.30957\n",
      "[89]\tvalidation_0-rmse:0.21641\tvalidation_1-rmse:0.30978\n",
      "[90]\tvalidation_0-rmse:0.21624\tvalidation_1-rmse:0.30974\n",
      "[91]\tvalidation_0-rmse:0.21591\tvalidation_1-rmse:0.30963\n",
      "[92]\tvalidation_0-rmse:0.21579\tvalidation_1-rmse:0.30952\n",
      "[93]\tvalidation_0-rmse:0.21567\tvalidation_1-rmse:0.30943\n",
      "[94]\tvalidation_0-rmse:0.21532\tvalidation_1-rmse:0.30998\n",
      "[95]\tvalidation_0-rmse:0.21510\tvalidation_1-rmse:0.30987\n",
      "[96]\tvalidation_0-rmse:0.21499\tvalidation_1-rmse:0.30972\n",
      "[97]\tvalidation_0-rmse:0.21468\tvalidation_1-rmse:0.31029\n",
      "[98]\tvalidation_0-rmse:0.21431\tvalidation_1-rmse:0.31043\n",
      "[99]\tvalidation_0-rmse:0.21423\tvalidation_1-rmse:0.31039\n",
      "7.445496082305908 seconds 0.12409160137176514 minutes\n"
     ]
    }
   ],
   "source": [
    "model = xgb.XGBRegressor(tree_method='gpu_hist') #if you don't have a gpu and want to run, simply remove this parameter\n",
    "\n",
    "ts = time.time()\n",
    "\n",
    "model.fit(X_train, y_train, eval_metric=\"rmse\", eval_set=[(X_train, y_train), (X_valid, y_valid)], verbose=True)\n",
    "\n",
    "print(time.time()-ts, \"seconds\", (time.time()-ts)/60.0,\"minutes\")"
   ]
  },
  {
   "cell_type": "code",
   "execution_count": 8,
   "id": "f0e91929",
   "metadata": {},
   "outputs": [],
   "source": [
    "#Does rounding help? \n",
    "y_valid_pred = model.predict(X_valid).clip(0,20)\n",
    "y_valid_pred_rounded = [round(value) for value in y_valid_pred]"
   ]
  },
  {
   "cell_type": "code",
   "execution_count": 9,
   "id": "fae7633b",
   "metadata": {
    "scrolled": true
   },
   "outputs": [
    {
     "name": "stdout",
     "output_type": "stream",
     "text": [
      "R-squared score: 0.9255745603931576\n",
      "R-squared score (rounded prediction): 0.9254660470604992\n",
      "\n",
      "Mean Squared Error: 0.09607190707204073\n",
      "Mean Squared Error (rounded prediction): 0.09621198125724266\n",
      "\n",
      "Root mean Squared Error: 0.3099546855139324\n",
      "Root mean Squared Error (rounded prediction): 0.31018056234593855\n"
     ]
    }
   ],
   "source": [
    "from sklearn.metrics import accuracy_score, r2_score, mean_squared_error\n",
    "\n",
    "r2 = r2_score(y_valid, y_valid_pred)\n",
    "print(\"R-squared score:\",(r2))\n",
    "r2 = r2_score(y_valid, y_valid_pred_rounded)\n",
    "print(\"R-squared score (rounded prediction):\",(r2))\n",
    "\n",
    "print(\"\")\n",
    "\n",
    "mse = mean_squared_error(y_valid, y_valid_pred)\n",
    "print(\"Mean Squared Error:\",(mse))\n",
    "mse = mean_squared_error(y_valid, y_valid_pred_rounded)\n",
    "print(\"Mean Squared Error (rounded prediction):\",(mse))\n",
    "\n",
    "print(\"\")\n",
    "\n",
    "rmse = mean_squared_error(y_valid, y_valid_pred, squared=False)\n",
    "print(\"Root mean Squared Error:\",(rmse))\n",
    "rmse = mean_squared_error(y_valid, y_valid_pred_rounded, squared=False)\n",
    "print(\"Root mean Squared Error (rounded prediction):\",(rmse))"
   ]
  },
  {
   "cell_type": "markdown",
   "id": "43e88da5",
   "metadata": {},
   "source": [
    "The rounded values are better for R-squared but the RMSE is higher, so we will not round. "
   ]
  },
  {
   "cell_type": "code",
   "execution_count": 10,
   "id": "1f76b3fb",
   "metadata": {
    "scrolled": false
   },
   "outputs": [
    {
     "data": {
      "text/plain": [
       "<AxesSubplot:title={'center':'Feature importance'}, xlabel='F score', ylabel='Features'>"
      ]
     },
     "execution_count": 10,
     "metadata": {},
     "output_type": "execute_result"
    },
    {
     "data": {
      "image/png": "[encoded data removed]",
      "text/plain": [
       "<Figure size 1152x576 with 1 Axes>"
      ]
     },
     "metadata": {
      "needs_background": "light"
     },
     "output_type": "display_data"
    }
   ],
   "source": [
    "plt.rcParams[\"figure.figsize\"] = (16, 8)\n",
    "xgb.plot_importance(model, max_num_features=12)"
   ]
  },
  {
   "cell_type": "markdown",
   "id": "476ef152",
   "metadata": {},
   "source": [
    "Here we see the most important feaures: revenue of an item, the item monthly average price, and which shop and item ID they have. Seeing these features as important is intuitive! "
   ]
  },
  {
   "cell_type": "code",
   "execution_count": 11,
   "id": "918fe78c",
   "metadata": {},
   "outputs": [],
   "source": [
    "y_test = model.predict(X_test).clip(0,20)\n",
    "# y_test = [round(value) for value in y_test]"
   ]
  },
  {
   "cell_type": "code",
   "execution_count": 12,
   "id": "57ddae6d",
   "metadata": {
    "scrolled": true
   },
   "outputs": [
    {
     "name": "stdout",
     "output_type": "stream",
     "text": [
      "A file already exists with this name.\n",
      "\n",
      "Do you want to overwrite? (Y/N)Y\n",
      "Writing file.  \"./data/modeling\\untuned_xgb.csv\"\n"
     ]
    }
   ],
   "source": [
    "untuned_XGB = pd.DataFrame({\"ID\": test.index, \"item_cnt_month\": y_test})\n",
    "datapath = './data/modeling'\n",
    "save_file(untuned_XGB, 'untuned_xgb.csv', datapath)"
   ]
  },
  {
   "cell_type": "markdown",
   "id": "52306417",
   "metadata": {},
   "source": [
    "## 3. Other algorithms"
   ]
  },
  {
   "cell_type": "code",
   "execution_count": 13,
   "id": "6c6eb464",
   "metadata": {},
   "outputs": [],
   "source": [
    "from sklearn.preprocessing import StandardScaler\n",
    "from sklearn.pipeline import Pipeline\n",
    "from sklearn.model_selection import cross_val_score\n",
    "from sklearn.model_selection import KFold\n",
    "\n",
    "\n",
    "from sklearn.linear_model import LinearRegression\n",
    "from sklearn.linear_model import Lasso\n",
    "from sklearn.linear_model import ElasticNet\n",
    "from sklearn.tree import DecisionTreeRegressor\n",
    "from sklearn.neighbors import KNeighborsRegressor\n",
    "from sklearn.ensemble import GradientBoostingRegressor"
   ]
  },
  {
   "cell_type": "code",
   "execution_count": 14,
   "id": "cb4d9336",
   "metadata": {},
   "outputs": [],
   "source": [
    "# Now that we are introducing cross fold validation and we are not validating, I am going to include the last month. \n",
    "X_train = df[df.date_block_num < 34].drop(['item_cnt_month','item_category_name', 'group_name'], axis=1)\n",
    "y_train = df[df.date_block_num < 34]['item_cnt_month']\n",
    "X_test = df[df.date_block_num == 34].drop(['item_cnt_month','item_category_name', 'group_name'], axis=1)"
   ]
  },
  {
   "cell_type": "code",
   "execution_count": 15,
   "id": "5ab860b0",
   "metadata": {},
   "outputs": [],
   "source": [
    "pipelines = []\n",
    "pipelines.append(('ScaledLR', Pipeline([('Scaler', StandardScaler()),('LR',LinearRegression())])))\n",
    "pipelines.append(('ScaledLASSO', Pipeline([('Scaler', StandardScaler()),('LASSO', Lasso())])))\n",
    "pipelines.append(('ScaledEN', Pipeline([('Scaler', StandardScaler()),('EN', ElasticNet())])))\n",
    "#pipelines.append(('ScaledKNN', Pipeline([('Scaler', StandardScaler()),('KNN', KNeighborsRegressor())])))\n",
    "pipelines.append(('ScaledCART', Pipeline([('Scaler', StandardScaler()),('CART', DecisionTreeRegressor())])))\n",
    "#pipelines.append(('ScaledGBM', Pipeline([('Scaler', StandardScaler()),('GBM', GradientBoostingRegressor())])))\n",
    "pipelines.append(('UnscaledXGB', Pipeline([('XGB', xgb.XGBRegressor(tree_method='gpu_hist'))])))\n",
    "pipelines.append(('ScaledXGB', Pipeline([('Scaler', StandardScaler()),('XGB', xgb.XGBRegressor(tree_method='gpu_hist'))])))"
   ]
  },
  {
   "cell_type": "code",
   "execution_count": 16,
   "id": "f966fc41",
   "metadata": {
    "scrolled": true
   },
   "outputs": [
    {
     "name": "stdout",
     "output_type": "stream",
     "text": [
      "ScaledLR: -0.917796 (0.076413)\n",
      "42.26550769805908 seconds 0.7044251283009847 minutes\n",
      "ScaledLASSO: -1.182766 (0.093565)\n",
      "27.565963983535767 seconds 0.45943273305892945 minutes\n",
      "ScaledEN: -1.161050 (0.094933)\n",
      "28.183366060256958 seconds 0.4697227676709493 minutes\n",
      "ScaledCART: -0.066854 (0.012705)\n",
      "130.8963806629181 seconds 2.181606344381968 minutes\n",
      "UnscaledXGB: -0.279887 (0.048419)\n",
      "35.98086881637573 seconds 0.5996811469395955 minutes\n",
      "ScaledXGB: -0.279887 (0.048419)\n",
      "50.94003891944885 seconds 0.8490006486574809 minutes\n"
     ]
    }
   ],
   "source": [
    "results = []\n",
    "names = []\n",
    "for name, model in pipelines:\n",
    "    ts = time.time()\n",
    "    kfold = KFold(n_splits=5)#, random_state=42\n",
    "    cv_results = cross_val_score(model, X_train, y_train, cv=kfold, scoring='neg_root_mean_squared_error')\n",
    "    results.append(cv_results)\n",
    "    names.append(name)\n",
    "    msg = \"%s: %f (%f)\" % (name, cv_results.mean(), cv_results.std())\n",
    "    print(msg)\n",
    "    print(time.time()-ts, \"seconds\", (time.time()-ts)/60.0,\"minutes\")"
   ]
  },
  {
   "cell_type": "code",
   "execution_count": 17,
   "id": "f3fb99be",
   "metadata": {
    "scrolled": true
   },
   "outputs": [
    {
     "name": "stdout",
     "output_type": "stream",
     "text": [
      "30.018590211868286 seconds 0.5003098368644714 minutes\n"
     ]
    }
   ],
   "source": [
    "model = DecisionTreeRegressor()\n",
    "\n",
    "ts = time.time()\n",
    "\n",
    "model.fit(X_train, y_train)\n",
    "\n",
    "print(time.time()-ts, \"seconds\", (time.time()-ts)/60.0,\"minutes\")"
   ]
  },
  {
   "cell_type": "code",
   "execution_count": 18,
   "id": "67df5142",
   "metadata": {
    "scrolled": false
   },
   "outputs": [
    {
     "data": {
      "text/plain": [
       "date_block_num                       0\n",
       "shop_id                              0\n",
       "item_id                              0\n",
       "revenue                              0\n",
       "item_monthly_avg_price               0\n",
       "num_holiday_month                    0\n",
       "num_weekend_days                     0\n",
       "month                                0\n",
       "days                                 0\n",
       "item_category_id                     0\n",
       "group_id                             0\n",
       "item_first_month_sold                0\n",
       "item_months_since_last_sale          0\n",
       "date_item_avg_item_cnt_lag_1         0\n",
       "date_item_avg_item_cnt_lag_2         0\n",
       "date_item_avg_item_cnt_lag_3         0\n",
       "date_item_avg_item_cnt_lag_12        0\n",
       "date_shop_avg_item_cnt_lag_1         0\n",
       "date_shop_avg_item_cnt_lag_2         0\n",
       "date_shop_avg_item_cnt_lag_3         0\n",
       "date_shop_avg_item_cnt_lag_12        0\n",
       "date_cat_avg_item_cnt_lag_1          0\n",
       "date_cat_avg_item_cnt_lag_2          0\n",
       "date_cat_avg_item_cnt_lag_3          0\n",
       "date_cat_avg_item_cnt_lag_12         0\n",
       "date_shop_cat_avg_item_cnt_lag_1     0\n",
       "date_shop_cat_avg_item_cnt_lag_2     0\n",
       "date_shop_cat_avg_item_cnt_lag_3     0\n",
       "date_shop_cat_avg_item_cnt_lag_12    0\n",
       "dtype: int64"
      ]
     },
     "execution_count": 18,
     "metadata": {},
     "output_type": "execute_result"
    }
   ],
   "source": [
    "X_test.isna().sum()"
   ]
  },
  {
   "cell_type": "code",
   "execution_count": 19,
   "id": "9728297a",
   "metadata": {},
   "outputs": [],
   "source": [
    "y_test = model.predict(X_test).clip(0,20)"
   ]
  },
  {
   "cell_type": "code",
   "execution_count": 20,
   "id": "eb229e79",
   "metadata": {},
   "outputs": [
    {
     "name": "stdout",
     "output_type": "stream",
     "text": [
      "R-squared score: 0.9255745603931576\n",
      "\n",
      "Mean Squared Error: 0.09607190707204073\n",
      "Mean Squared Error (rounded prediction): 0.09621198125724266\n",
      "\n",
      "Root mean Squared Error: 0.3099546855139324\n",
      "Root mean Squared Error (rounded prediction): 0.31018056234593855\n"
     ]
    }
   ],
   "source": [
    "from sklearn.metrics import accuracy_score, r2_score, mean_squared_error\n",
    "\n",
    "r2 = r2_score(y_valid, y_valid_pred)\n",
    "print(\"R-squared score:\",(r2))\n",
    "\n",
    "print(\"\")\n",
    "\n",
    "mse = mean_squared_error(y_valid, y_valid_pred)\n",
    "print(\"Mean Squared Error:\",(mse))\n",
    "mse = mean_squared_error(y_valid, y_valid_pred_rounded)\n",
    "print(\"Mean Squared Error (rounded prediction):\",(mse))\n",
    "\n",
    "print(\"\")\n",
    "\n",
    "rmse = mean_squared_error(y_valid, y_valid_pred, squared=False)\n",
    "print(\"Root mean Squared Error:\",(rmse))\n",
    "rmse = mean_squared_error(y_valid, y_valid_pred_rounded, squared=False)\n",
    "print(\"Root mean Squared Error (rounded prediction):\",(rmse))"
   ]
  },
  {
   "cell_type": "code",
   "execution_count": 21,
   "id": "7d7c5ba5",
   "metadata": {},
   "outputs": [
    {
     "name": "stdout",
     "output_type": "stream",
     "text": [
      "A file already exists with this name.\n",
      "\n",
      "Do you want to overwrite? (Y/N)Y\n",
      "Writing file.  \"./data/modeling\\untuned_CART.csv\"\n"
     ]
    }
   ],
   "source": [
    "untuned_CART = pd.DataFrame({\"ID\": test.index, \"item_cnt_month\": y_test})\n",
    "datapath = './data/modeling'\n",
    "save_file(untuned_CART, 'untuned_CART.csv', datapath)"
   ]
  },
  {
   "cell_type": "markdown",
   "id": "87fddba6",
   "metadata": {},
   "source": [
    "From this we can see that the best is Scaled CART. Let's play with the hyperparameters and see if we can get even better scores. "
   ]
  },
  {
   "cell_type": "markdown",
   "id": "0c90d440",
   "metadata": {},
   "source": [
    "# TODO\n",
    "Hyperparameter tuning, more exploration"
   ]
  }
 ],
 "metadata": {
  "kernelspec": {
   "display_name": "Python 3 (ipykernel)",
   "language": "python",
   "name": "python3"
  },
  "language_info": {
   "codemirror_mode": {
    "name": "ipython",
    "version": 3
   },
   "file_extension": ".py",
   "mimetype": "text/x-python",
   "name": "python",
   "nbconvert_exporter": "python",
   "pygments_lexer": "ipython3",
   "version": "3.8.8"
  }
 },
 "nbformat": 4,
 "nbformat_minor": 5
}
