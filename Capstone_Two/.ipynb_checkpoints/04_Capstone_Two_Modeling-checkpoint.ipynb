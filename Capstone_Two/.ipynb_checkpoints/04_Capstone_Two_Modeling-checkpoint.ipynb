{
 "cells": [
  {
   "cell_type": "markdown",
   "id": "6b0c7510",
   "metadata": {},
   "source": [
    "X_train = data[data.date_block_num < 33].drop(['item_cnt_month'], axis=1)\n",
    "Y_train = data[data.date_block_num < 33]['item_cnt_month']\n",
    "X_valid = data[data.date_block_num == 33].drop(['item_cnt_month'], axis=1)\n",
    "Y_valid = data[data.date_block_num == 33]['item_cnt_month']\n",
    "X_test = data[data.date_block_num == 34].drop(['item_cnt_month'], axis=1)"
   ]
  },
  {
   "cell_type": "markdown",
   "id": "178e1d5f",
   "metadata": {},
   "source": [
    "# Capstone Two: Modeling\n",
    "\n",
    "In this step of my capstone, I am going to be assessing different models (and tuning hyperparamteters) in order to find the best model I can. \n",
    "\n",
    "1. Import the data, libraries. \n",
    "2. Run XGBoost \n",
    "3. Try a multitude of other algorithms"
   ]
  },
  {
   "cell_type": "markdown",
   "id": "b7f8eaba",
   "metadata": {},
   "source": [
    "## 1. Import"
   ]
  },
  {
   "cell_type": "code",
   "execution_count": 1,
   "id": "e0175801",
   "metadata": {},
   "outputs": [],
   "source": [
    "import numpy as np\n",
    "import pandas as pd\n",
    "import matplotlib.pyplot as plt\n",
    "import seaborn as sns\n",
    "import xgboost as xgb\n",
    "from xgboost import plot_importance \n",
    "\n",
    "from sklearn.model_selection import train_test_split\n",
    "from sklearn.metrics import accuracy_score, r2_score, mean_squared_error\n",
    "\n",
    "import time\n",
    "import os\n",
    "from library.sb_utils import save_file"
   ]
  },
  {
   "cell_type": "code",
   "execution_count": 2,
   "id": "f005fee4",
   "metadata": {},
   "outputs": [],
   "source": [
    "df = pd.read_csv('./data/feature_engineered/df_feature_engineered.csv')\n",
    "test = pd.read_csv('./data/clean/clean_test.csv').set_index('ID') # retain the ID data by setting it to the index"
   ]
  },
  {
   "cell_type": "code",
   "execution_count": 3,
   "id": "80163cf3",
   "metadata": {
    "scrolled": true
   },
   "outputs": [
    {
     "data": {
      "text/html": [
       "<div>\n",
       "<style scoped>\n",
       "    .dataframe tbody tr th:only-of-type {\n",
       "        vertical-align: middle;\n",
       "    }\n",
       "\n",
       "    .dataframe tbody tr th {\n",
       "        vertical-align: top;\n",
       "    }\n",
       "\n",
       "    .dataframe thead th {\n",
       "        text-align: right;\n",
       "    }\n",
       "</style>\n",
       "<table border=\"1\" class=\"dataframe\">\n",
       "  <thead>\n",
       "    <tr style=\"text-align: right;\">\n",
       "      <th></th>\n",
       "      <th>date_block_num</th>\n",
       "      <th>shop_id</th>\n",
       "      <th>item_id</th>\n",
       "      <th>item_cnt_month</th>\n",
       "      <th>revenue</th>\n",
       "      <th>item_monthly_avg_price</th>\n",
       "      <th>num_holiday_month</th>\n",
       "      <th>num_weekend_days</th>\n",
       "      <th>month</th>\n",
       "      <th>days</th>\n",
       "      <th>...</th>\n",
       "      <th>date_shop_avg_item_cnt_lag_3</th>\n",
       "      <th>date_shop_avg_item_cnt_lag_12</th>\n",
       "      <th>date_cat_avg_item_cnt_lag_1</th>\n",
       "      <th>date_cat_avg_item_cnt_lag_2</th>\n",
       "      <th>date_cat_avg_item_cnt_lag_3</th>\n",
       "      <th>date_cat_avg_item_cnt_lag_12</th>\n",
       "      <th>date_shop_cat_avg_item_cnt_lag_1</th>\n",
       "      <th>date_shop_cat_avg_item_cnt_lag_2</th>\n",
       "      <th>date_shop_cat_avg_item_cnt_lag_3</th>\n",
       "      <th>date_shop_cat_avg_item_cnt_lag_12</th>\n",
       "    </tr>\n",
       "  </thead>\n",
       "  <tbody>\n",
       "    <tr>\n",
       "      <th>0</th>\n",
       "      <td>12</td>\n",
       "      <td>2</td>\n",
       "      <td>27</td>\n",
       "      <td>0.0</td>\n",
       "      <td>0.0</td>\n",
       "      <td>0.0</td>\n",
       "      <td>10.0</td>\n",
       "      <td>8.0</td>\n",
       "      <td>0</td>\n",
       "      <td>31</td>\n",
       "      <td>...</td>\n",
       "      <td>0.08905</td>\n",
       "      <td>0.1412</td>\n",
       "      <td>1.0820</td>\n",
       "      <td>0.7650</td>\n",
       "      <td>0.9120</td>\n",
       "      <td>0.835</td>\n",
       "      <td>0.95560</td>\n",
       "      <td>0.57130</td>\n",
       "      <td>0.68600</td>\n",
       "      <td>0.4850</td>\n",
       "    </tr>\n",
       "    <tr>\n",
       "      <th>1</th>\n",
       "      <td>12</td>\n",
       "      <td>2</td>\n",
       "      <td>30</td>\n",
       "      <td>0.0</td>\n",
       "      <td>0.0</td>\n",
       "      <td>0.0</td>\n",
       "      <td>10.0</td>\n",
       "      <td>8.0</td>\n",
       "      <td>0</td>\n",
       "      <td>31</td>\n",
       "      <td>...</td>\n",
       "      <td>0.08905</td>\n",
       "      <td>0.0000</td>\n",
       "      <td>0.2915</td>\n",
       "      <td>0.2449</td>\n",
       "      <td>0.2362</td>\n",
       "      <td>0.000</td>\n",
       "      <td>0.04623</td>\n",
       "      <td>0.02293</td>\n",
       "      <td>0.02129</td>\n",
       "      <td>0.0000</td>\n",
       "    </tr>\n",
       "    <tr>\n",
       "      <th>2</th>\n",
       "      <td>12</td>\n",
       "      <td>2</td>\n",
       "      <td>31</td>\n",
       "      <td>0.0</td>\n",
       "      <td>0.0</td>\n",
       "      <td>0.0</td>\n",
       "      <td>10.0</td>\n",
       "      <td>8.0</td>\n",
       "      <td>0</td>\n",
       "      <td>31</td>\n",
       "      <td>...</td>\n",
       "      <td>0.08905</td>\n",
       "      <td>0.0000</td>\n",
       "      <td>0.2328</td>\n",
       "      <td>0.1831</td>\n",
       "      <td>0.1708</td>\n",
       "      <td>0.000</td>\n",
       "      <td>0.05945</td>\n",
       "      <td>0.04680</td>\n",
       "      <td>0.03293</td>\n",
       "      <td>0.0000</td>\n",
       "    </tr>\n",
       "    <tr>\n",
       "      <th>3</th>\n",
       "      <td>12</td>\n",
       "      <td>2</td>\n",
       "      <td>32</td>\n",
       "      <td>1.0</td>\n",
       "      <td>119.0</td>\n",
       "      <td>119.0</td>\n",
       "      <td>10.0</td>\n",
       "      <td>8.0</td>\n",
       "      <td>0</td>\n",
       "      <td>31</td>\n",
       "      <td>...</td>\n",
       "      <td>0.08905</td>\n",
       "      <td>0.1412</td>\n",
       "      <td>0.2915</td>\n",
       "      <td>0.2449</td>\n",
       "      <td>0.2362</td>\n",
       "      <td>0.294</td>\n",
       "      <td>0.04623</td>\n",
       "      <td>0.02293</td>\n",
       "      <td>0.02129</td>\n",
       "      <td>0.0731</td>\n",
       "    </tr>\n",
       "    <tr>\n",
       "      <th>4</th>\n",
       "      <td>12</td>\n",
       "      <td>2</td>\n",
       "      <td>33</td>\n",
       "      <td>1.0</td>\n",
       "      <td>199.0</td>\n",
       "      <td>199.0</td>\n",
       "      <td>10.0</td>\n",
       "      <td>8.0</td>\n",
       "      <td>0</td>\n",
       "      <td>31</td>\n",
       "      <td>...</td>\n",
       "      <td>0.08905</td>\n",
       "      <td>0.1412</td>\n",
       "      <td>0.2328</td>\n",
       "      <td>0.1831</td>\n",
       "      <td>0.1708</td>\n",
       "      <td>0.196</td>\n",
       "      <td>0.05945</td>\n",
       "      <td>0.04680</td>\n",
       "      <td>0.03293</td>\n",
       "      <td>0.0767</td>\n",
       "    </tr>\n",
       "  </tbody>\n",
       "</table>\n",
       "<p>5 rows × 31 columns</p>\n",
       "</div>"
      ],
      "text/plain": [
       "   date_block_num  shop_id  item_id  item_cnt_month  revenue  \\\n",
       "0              12        2       27             0.0      0.0   \n",
       "1              12        2       30             0.0      0.0   \n",
       "2              12        2       31             0.0      0.0   \n",
       "3              12        2       32             1.0    119.0   \n",
       "4              12        2       33             1.0    199.0   \n",
       "\n",
       "   item_monthly_avg_price  num_holiday_month  num_weekend_days  month  days  \\\n",
       "0                     0.0               10.0               8.0      0    31   \n",
       "1                     0.0               10.0               8.0      0    31   \n",
       "2                     0.0               10.0               8.0      0    31   \n",
       "3                   119.0               10.0               8.0      0    31   \n",
       "4                   199.0               10.0               8.0      0    31   \n",
       "\n",
       "   ...  date_shop_avg_item_cnt_lag_3 date_shop_avg_item_cnt_lag_12  \\\n",
       "0  ...                       0.08905                        0.1412   \n",
       "1  ...                       0.08905                        0.0000   \n",
       "2  ...                       0.08905                        0.0000   \n",
       "3  ...                       0.08905                        0.1412   \n",
       "4  ...                       0.08905                        0.1412   \n",
       "\n",
       "  date_cat_avg_item_cnt_lag_1  date_cat_avg_item_cnt_lag_2  \\\n",
       "0                      1.0820                       0.7650   \n",
       "1                      0.2915                       0.2449   \n",
       "2                      0.2328                       0.1831   \n",
       "3                      0.2915                       0.2449   \n",
       "4                      0.2328                       0.1831   \n",
       "\n",
       "   date_cat_avg_item_cnt_lag_3  date_cat_avg_item_cnt_lag_12  \\\n",
       "0                       0.9120                         0.835   \n",
       "1                       0.2362                         0.000   \n",
       "2                       0.1708                         0.000   \n",
       "3                       0.2362                         0.294   \n",
       "4                       0.1708                         0.196   \n",
       "\n",
       "   date_shop_cat_avg_item_cnt_lag_1  date_shop_cat_avg_item_cnt_lag_2  \\\n",
       "0                           0.95560                           0.57130   \n",
       "1                           0.04623                           0.02293   \n",
       "2                           0.05945                           0.04680   \n",
       "3                           0.04623                           0.02293   \n",
       "4                           0.05945                           0.04680   \n",
       "\n",
       "   date_shop_cat_avg_item_cnt_lag_3  date_shop_cat_avg_item_cnt_lag_12  \n",
       "0                           0.68600                             0.4850  \n",
       "1                           0.02129                             0.0000  \n",
       "2                           0.03293                             0.0000  \n",
       "3                           0.02129                             0.0731  \n",
       "4                           0.03293                             0.0767  \n",
       "\n",
       "[5 rows x 31 columns]"
      ]
     },
     "execution_count": 3,
     "metadata": {},
     "output_type": "execute_result"
    }
   ],
   "source": [
    "df.head()"
   ]
  },
  {
   "cell_type": "code",
   "execution_count": 4,
   "id": "97765f4b",
   "metadata": {},
   "outputs": [
    {
     "data": {
      "text/plain": [
       "date_block_num                         int64\n",
       "shop_id                                int64\n",
       "item_id                                int64\n",
       "item_cnt_month                       float64\n",
       "revenue                              float64\n",
       "item_monthly_avg_price               float64\n",
       "num_holiday_month                    float64\n",
       "num_weekend_days                     float64\n",
       "month                                  int64\n",
       "days                                   int64\n",
       "item_category_id                       int64\n",
       "item_category_name                    object\n",
       "group_name                            object\n",
       "group_id                               int64\n",
       "item_months_since_last_sale            int64\n",
       "date_item_avg_item_cnt_lag_1         float64\n",
       "date_item_avg_item_cnt_lag_2         float64\n",
       "date_item_avg_item_cnt_lag_3         float64\n",
       "date_item_avg_item_cnt_lag_12        float64\n",
       "date_shop_avg_item_cnt_lag_1         float64\n",
       "date_shop_avg_item_cnt_lag_2         float64\n",
       "date_shop_avg_item_cnt_lag_3         float64\n",
       "date_shop_avg_item_cnt_lag_12        float64\n",
       "date_cat_avg_item_cnt_lag_1          float64\n",
       "date_cat_avg_item_cnt_lag_2          float64\n",
       "date_cat_avg_item_cnt_lag_3          float64\n",
       "date_cat_avg_item_cnt_lag_12         float64\n",
       "date_shop_cat_avg_item_cnt_lag_1     float64\n",
       "date_shop_cat_avg_item_cnt_lag_2     float64\n",
       "date_shop_cat_avg_item_cnt_lag_3     float64\n",
       "date_shop_cat_avg_item_cnt_lag_12    float64\n",
       "dtype: object"
      ]
     },
     "execution_count": 4,
     "metadata": {},
     "output_type": "execute_result"
    }
   ],
   "source": [
    "df.dtypes"
   ]
  },
  {
   "cell_type": "markdown",
   "id": "e9edb7fb",
   "metadata": {},
   "source": [
    "## 2. Untuned Benchmark"
   ]
  },
  {
   "cell_type": "code",
   "execution_count": 5,
   "id": "fea94ea4",
   "metadata": {},
   "outputs": [],
   "source": [
    "X_train = df[df.date_block_num < 33].drop(['item_cnt_month','item_category_name', 'group_name'], axis=1)\n",
    "y_train = df[df.date_block_num < 33]['item_cnt_month']\n",
    "X_valid = df[df.date_block_num == 33].drop(['item_cnt_month','item_category_name', 'group_name'], axis=1)\n",
    "y_valid = df[df.date_block_num == 33]['item_cnt_month']\n",
    "X_test = df[df.date_block_num == 34].drop(['item_cnt_month','item_category_name', 'group_name'], axis=1)"
   ]
  },
  {
   "cell_type": "code",
   "execution_count": 6,
   "id": "20c4b9a1",
   "metadata": {
    "scrolled": false
   },
   "outputs": [
    {
     "name": "stdout",
     "output_type": "stream",
     "text": [
      "[0]\tvalidation_0-rmse:0.88703\tvalidation_1-rmse:0.85872\n",
      "[1]\tvalidation_0-rmse:0.66770\tvalidation_1-rmse:0.64851\n",
      "[2]\tvalidation_0-rmse:0.52172\tvalidation_1-rmse:0.51704\n",
      "[3]\tvalidation_0-rmse:0.42789\tvalidation_1-rmse:0.43597\n",
      "[4]\tvalidation_0-rmse:0.37036\tvalidation_1-rmse:0.38448\n",
      "[5]\tvalidation_0-rmse:0.33218\tvalidation_1-rmse:0.35223\n",
      "[6]\tvalidation_0-rmse:0.30807\tvalidation_1-rmse:0.33447\n",
      "[7]\tvalidation_0-rmse:0.29553\tvalidation_1-rmse:0.32489\n",
      "[8]\tvalidation_0-rmse:0.28610\tvalidation_1-rmse:0.31857\n",
      "[9]\tvalidation_0-rmse:0.28029\tvalidation_1-rmse:0.31658\n",
      "[10]\tvalidation_0-rmse:0.27558\tvalidation_1-rmse:0.31369\n",
      "[11]\tvalidation_0-rmse:0.27373\tvalidation_1-rmse:0.31283\n",
      "[12]\tvalidation_0-rmse:0.27039\tvalidation_1-rmse:0.31132\n",
      "[13]\tvalidation_0-rmse:0.26887\tvalidation_1-rmse:0.31074\n",
      "[14]\tvalidation_0-rmse:0.26525\tvalidation_1-rmse:0.30625\n",
      "[15]\tvalidation_0-rmse:0.26384\tvalidation_1-rmse:0.30592\n",
      "[16]\tvalidation_0-rmse:0.25971\tvalidation_1-rmse:0.30357\n",
      "[17]\tvalidation_0-rmse:0.25801\tvalidation_1-rmse:0.30244\n",
      "[18]\tvalidation_0-rmse:0.25562\tvalidation_1-rmse:0.30174\n",
      "[19]\tvalidation_0-rmse:0.25407\tvalidation_1-rmse:0.30115\n",
      "[20]\tvalidation_0-rmse:0.25377\tvalidation_1-rmse:0.30095\n",
      "[21]\tvalidation_0-rmse:0.25345\tvalidation_1-rmse:0.30080\n",
      "[22]\tvalidation_0-rmse:0.25264\tvalidation_1-rmse:0.30017\n",
      "[23]\tvalidation_0-rmse:0.25212\tvalidation_1-rmse:0.30016\n",
      "[24]\tvalidation_0-rmse:0.25198\tvalidation_1-rmse:0.30004\n",
      "[25]\tvalidation_0-rmse:0.25084\tvalidation_1-rmse:0.29938\n",
      "[26]\tvalidation_0-rmse:0.25023\tvalidation_1-rmse:0.29927\n",
      "[27]\tvalidation_0-rmse:0.24951\tvalidation_1-rmse:0.29927\n",
      "[28]\tvalidation_0-rmse:0.24930\tvalidation_1-rmse:0.29932\n",
      "[29]\tvalidation_0-rmse:0.24751\tvalidation_1-rmse:0.29895\n",
      "[30]\tvalidation_0-rmse:0.24621\tvalidation_1-rmse:0.29851\n",
      "[31]\tvalidation_0-rmse:0.24595\tvalidation_1-rmse:0.29844\n",
      "[32]\tvalidation_0-rmse:0.24520\tvalidation_1-rmse:0.29842\n",
      "[33]\tvalidation_0-rmse:0.24242\tvalidation_1-rmse:0.29744\n",
      "[34]\tvalidation_0-rmse:0.24207\tvalidation_1-rmse:0.29717\n",
      "[35]\tvalidation_0-rmse:0.24168\tvalidation_1-rmse:0.29697\n",
      "[36]\tvalidation_0-rmse:0.24088\tvalidation_1-rmse:0.29689\n",
      "[37]\tvalidation_0-rmse:0.24031\tvalidation_1-rmse:0.29658\n",
      "[38]\tvalidation_0-rmse:0.23969\tvalidation_1-rmse:0.29676\n",
      "[39]\tvalidation_0-rmse:0.23954\tvalidation_1-rmse:0.29693\n",
      "[40]\tvalidation_0-rmse:0.23893\tvalidation_1-rmse:0.29700\n",
      "[41]\tvalidation_0-rmse:0.23775\tvalidation_1-rmse:0.29689\n",
      "[42]\tvalidation_0-rmse:0.23729\tvalidation_1-rmse:0.29683\n",
      "[43]\tvalidation_0-rmse:0.23696\tvalidation_1-rmse:0.29672\n",
      "[44]\tvalidation_0-rmse:0.23642\tvalidation_1-rmse:0.29613\n",
      "[45]\tvalidation_0-rmse:0.23576\tvalidation_1-rmse:0.29470\n",
      "[46]\tvalidation_0-rmse:0.23567\tvalidation_1-rmse:0.29465\n",
      "[47]\tvalidation_0-rmse:0.23455\tvalidation_1-rmse:0.29519\n",
      "[48]\tvalidation_0-rmse:0.23341\tvalidation_1-rmse:0.29577\n",
      "[49]\tvalidation_0-rmse:0.23232\tvalidation_1-rmse:0.29428\n",
      "[50]\tvalidation_0-rmse:0.23217\tvalidation_1-rmse:0.29419\n",
      "[51]\tvalidation_0-rmse:0.23148\tvalidation_1-rmse:0.29399\n",
      "[52]\tvalidation_0-rmse:0.23055\tvalidation_1-rmse:0.29441\n",
      "[53]\tvalidation_0-rmse:0.23009\tvalidation_1-rmse:0.29397\n",
      "[54]\tvalidation_0-rmse:0.22917\tvalidation_1-rmse:0.29354\n",
      "[55]\tvalidation_0-rmse:0.22849\tvalidation_1-rmse:0.29339\n",
      "[56]\tvalidation_0-rmse:0.22767\tvalidation_1-rmse:0.29263\n",
      "[57]\tvalidation_0-rmse:0.22641\tvalidation_1-rmse:0.29376\n",
      "[58]\tvalidation_0-rmse:0.22614\tvalidation_1-rmse:0.29340\n",
      "[59]\tvalidation_0-rmse:0.22580\tvalidation_1-rmse:0.29343\n",
      "[60]\tvalidation_0-rmse:0.22507\tvalidation_1-rmse:0.29301\n",
      "[61]\tvalidation_0-rmse:0.22455\tvalidation_1-rmse:0.29276\n",
      "[62]\tvalidation_0-rmse:0.22414\tvalidation_1-rmse:0.29177\n",
      "[63]\tvalidation_0-rmse:0.22394\tvalidation_1-rmse:0.29177\n",
      "[64]\tvalidation_0-rmse:0.22383\tvalidation_1-rmse:0.29176\n",
      "[65]\tvalidation_0-rmse:0.22354\tvalidation_1-rmse:0.29172\n",
      "[66]\tvalidation_0-rmse:0.22337\tvalidation_1-rmse:0.29211\n",
      "[67]\tvalidation_0-rmse:0.22330\tvalidation_1-rmse:0.29209\n",
      "[68]\tvalidation_0-rmse:0.22298\tvalidation_1-rmse:0.29139\n",
      "[69]\tvalidation_0-rmse:0.22265\tvalidation_1-rmse:0.29001\n",
      "[70]\tvalidation_0-rmse:0.22228\tvalidation_1-rmse:0.28932\n",
      "[71]\tvalidation_0-rmse:0.22218\tvalidation_1-rmse:0.28934\n",
      "[72]\tvalidation_0-rmse:0.22196\tvalidation_1-rmse:0.28954\n",
      "[73]\tvalidation_0-rmse:0.22152\tvalidation_1-rmse:0.28907\n",
      "[74]\tvalidation_0-rmse:0.22116\tvalidation_1-rmse:0.29070\n",
      "[75]\tvalidation_0-rmse:0.22048\tvalidation_1-rmse:0.29015\n",
      "[76]\tvalidation_0-rmse:0.22010\tvalidation_1-rmse:0.28981\n",
      "[77]\tvalidation_0-rmse:0.21926\tvalidation_1-rmse:0.28972\n",
      "[78]\tvalidation_0-rmse:0.21921\tvalidation_1-rmse:0.28968\n",
      "[79]\tvalidation_0-rmse:0.21879\tvalidation_1-rmse:0.28919\n",
      "[80]\tvalidation_0-rmse:0.21842\tvalidation_1-rmse:0.28901\n",
      "[81]\tvalidation_0-rmse:0.21835\tvalidation_1-rmse:0.28907\n",
      "[82]\tvalidation_0-rmse:0.21811\tvalidation_1-rmse:0.28900\n",
      "[83]\tvalidation_0-rmse:0.21776\tvalidation_1-rmse:0.28885\n",
      "[84]\tvalidation_0-rmse:0.21750\tvalidation_1-rmse:0.28858\n",
      "[85]\tvalidation_0-rmse:0.21733\tvalidation_1-rmse:0.28858\n",
      "[86]\tvalidation_0-rmse:0.21678\tvalidation_1-rmse:0.28828\n",
      "[87]\tvalidation_0-rmse:0.21667\tvalidation_1-rmse:0.28832\n",
      "[88]\tvalidation_0-rmse:0.21616\tvalidation_1-rmse:0.28828\n",
      "[89]\tvalidation_0-rmse:0.21579\tvalidation_1-rmse:0.28864\n",
      "[90]\tvalidation_0-rmse:0.21576\tvalidation_1-rmse:0.28869\n",
      "[91]\tvalidation_0-rmse:0.21568\tvalidation_1-rmse:0.28872\n",
      "[92]\tvalidation_0-rmse:0.21510\tvalidation_1-rmse:0.28937\n",
      "[93]\tvalidation_0-rmse:0.21480\tvalidation_1-rmse:0.28931\n",
      "[94]\tvalidation_0-rmse:0.21467\tvalidation_1-rmse:0.28937\n",
      "[95]\tvalidation_0-rmse:0.21463\tvalidation_1-rmse:0.28938\n",
      "[96]\tvalidation_0-rmse:0.21457\tvalidation_1-rmse:0.28942\n",
      "[97]\tvalidation_0-rmse:0.21442\tvalidation_1-rmse:0.28943\n",
      "[98]\tvalidation_0-rmse:0.21409\tvalidation_1-rmse:0.28921\n",
      "[99]\tvalidation_0-rmse:0.21398\tvalidation_1-rmse:0.29016\n",
      "7.2491655349731445 seconds 0.12081942558288575 minutes\n"
     ]
    }
   ],
   "source": [
    "model = xgb.XGBRegressor(tree_method='gpu_hist') #if you don't have a gpu and want to run, simply remove this parameter\n",
    "\n",
    "ts = time.time()\n",
    "\n",
    "model.fit(X_train, y_train, eval_metric=\"rmse\", eval_set=[(X_train, y_train), (X_valid, y_valid)], verbose=True)\n",
    "\n",
    "print(time.time()-ts, \"seconds\", (time.time()-ts)/60.0,\"minutes\")"
   ]
  },
  {
   "cell_type": "code",
   "execution_count": 7,
   "id": "f0e91929",
   "metadata": {},
   "outputs": [],
   "source": [
    "#Does rounding help? \n",
    "y_valid_pred = model.predict(X_valid).clip(0,20)\n",
    "y_valid_pred_rounded = [round(value) for value in y_valid_pred]"
   ]
  },
  {
   "cell_type": "code",
   "execution_count": 8,
   "id": "fae7633b",
   "metadata": {
    "scrolled": true
   },
   "outputs": [
    {
     "name": "stdout",
     "output_type": "stream",
     "text": [
      "R-squared score: 0.9349862221535119\n",
      "R-squared score (rounded prediction): 0.9345668980456497\n",
      "\n",
      "Mean Squared Error: 0.08392288519443099\n",
      "Mean Squared Error (rounded prediction): 0.08446416875199436\n",
      "\n",
      "Root mean Squared Error: 0.2896944686983702\n",
      "Root mean Squared Error (rounded prediction): 0.2906271989198436\n"
     ]
    }
   ],
   "source": [
    "from sklearn.metrics import accuracy_score, r2_score, mean_squared_error\n",
    "\n",
    "r2 = r2_score(y_valid, y_valid_pred)\n",
    "print(\"R-squared score:\",(r2))\n",
    "r2 = r2_score(y_valid, y_valid_pred_rounded)\n",
    "print(\"R-squared score (rounded prediction):\",(r2))\n",
    "\n",
    "print(\"\")\n",
    "\n",
    "mse = mean_squared_error(y_valid, y_valid_pred)\n",
    "print(\"Mean Squared Error:\",(mse))\n",
    "mse = mean_squared_error(y_valid, y_valid_pred_rounded)\n",
    "print(\"Mean Squared Error (rounded prediction):\",(mse))\n",
    "\n",
    "print(\"\")\n",
    "\n",
    "rmse = mean_squared_error(y_valid, y_valid_pred, squared=False)\n",
    "print(\"Root mean Squared Error:\",(rmse))\n",
    "rmse = mean_squared_error(y_valid, y_valid_pred_rounded, squared=False)\n",
    "print(\"Root mean Squared Error (rounded prediction):\",(rmse))"
   ]
  },
  {
   "cell_type": "markdown",
   "id": "43e88da5",
   "metadata": {},
   "source": [
    "The rounded values are better for R-squared but the RMSE is higher, so we will not round. "
   ]
  },
  {
   "cell_type": "code",
   "execution_count": 9,
   "id": "1f76b3fb",
   "metadata": {
    "scrolled": false
   },
   "outputs": [
    {
     "data": {
      "text/plain": [
       "<AxesSubplot:title={'center':'Feature importance'}, xlabel='F score', ylabel='Features'>"
      ]
     },
     "execution_count": 9,
     "metadata": {},
     "output_type": "execute_result"
    },
    {
     "data": {
      "image/png": "[encoded data removed]",
      "text/plain": [
       "<Figure size 1152x576 with 1 Axes>"
      ]
     },
     "metadata": {
      "needs_background": "light"
     },
     "output_type": "display_data"
    }
   ],
   "source": [
    "plt.rcParams[\"figure.figsize\"] = (16, 8)\n",
    "xgb.plot_importance(model, max_num_features=12)"
   ]
  },
  {
   "cell_type": "markdown",
   "id": "476ef152",
   "metadata": {},
   "source": [
    "Here we see the most important feaures: revenue of an item, the item monthly average price, and which shop and item ID they have. Seeing these features as important is intuitive! "
   ]
  },
  {
   "cell_type": "code",
   "execution_count": 10,
   "id": "918fe78c",
   "metadata": {},
   "outputs": [],
   "source": [
    "y_test = model.predict(X_test).clip(0,20)\n",
    "# y_test = [round(value) for value in y_test]"
   ]
  },
  {
   "cell_type": "code",
   "execution_count": 11,
   "id": "57ddae6d",
   "metadata": {
    "scrolled": true
   },
   "outputs": [
    {
     "name": "stdout",
     "output_type": "stream",
     "text": [
      "A file already exists with this name.\n",
      "\n",
      "Do you want to overwrite? (Y/N)n\n",
      "\n",
      "Please re-run this cell with a new filename.\n"
     ]
    }
   ],
   "source": [
    "untuned = pd.DataFrame({\"ID\": test.index, \"item_cnt_month\": y_test})\n",
    "datapath = './data/modeling'\n",
    "save_file(untuned, 'untuned_xgb.csv', datapath)"
   ]
  },
  {
   "cell_type": "markdown",
   "id": "52306417",
   "metadata": {},
   "source": [
    "## 3. Other algorithms"
   ]
  },
  {
   "cell_type": "code",
   "execution_count": 12,
   "id": "6c6eb464",
   "metadata": {},
   "outputs": [],
   "source": [
    "from sklearn.preprocessing import StandardScaler\n",
    "from sklearn.pipeline import Pipeline\n",
    "from sklearn.model_selection import cross_val_score\n",
    "from sklearn.model_selection import KFold\n",
    "\n",
    "\n",
    "from sklearn.linear_model import LinearRegression\n",
    "from sklearn.linear_model import Lasso\n",
    "from sklearn.linear_model import ElasticNet\n",
    "from sklearn.tree import DecisionTreeRegressor\n",
    "from sklearn.neighbors import KNeighborsRegressor\n",
    "from sklearn.ensemble import GradientBoostingRegressor"
   ]
  },
  {
   "cell_type": "code",
   "execution_count": 13,
   "id": "cb4d9336",
   "metadata": {},
   "outputs": [],
   "source": [
    "# Now that we are introducing cross fold validation and we are not validating, I am going to include the last month. \n",
    "X_train = df[df.date_block_num < 34].drop(['item_cnt_month','item_category_name', 'group_name'], axis=1)\n",
    "y_train = df[df.date_block_num < 34]['item_cnt_month']"
   ]
  },
  {
   "cell_type": "code",
   "execution_count": 14,
   "id": "5ab860b0",
   "metadata": {},
   "outputs": [],
   "source": [
    "pipelines = []\n",
    "pipelines.append(('ScaledLR', Pipeline([('Scaler', StandardScaler()),('LR',LinearRegression())])))\n",
    "pipelines.append(('ScaledLASSO', Pipeline([('Scaler', StandardScaler()),('LASSO', Lasso())])))\n",
    "pipelines.append(('ScaledEN', Pipeline([('Scaler', StandardScaler()),('EN', ElasticNet())])))\n",
    "#pipelines.append(('ScaledKNN', Pipeline([('Scaler', StandardScaler()),('KNN', KNeighborsRegressor())])))\n",
    "pipelines.append(('ScaledCART', Pipeline([('Scaler', StandardScaler()),('CART', DecisionTreeRegressor())])))\n",
    "#pipelines.append(('ScaledGBM', Pipeline([('Scaler', StandardScaler()),('GBM', GradientBoostingRegressor())])))\n",
    "pipelines.append(('UnscaledXGB', Pipeline([('XGB', xgb.XGBRegressor(tree_method='gpu_hist'))])))\n",
    "pipelines.append(('ScaledXGB', Pipeline([('Scaler', StandardScaler()),('XGB', xgb.XGBRegressor(tree_method='gpu_hist'))])))"
   ]
  },
  {
   "cell_type": "code",
   "execution_count": 15,
   "id": "f966fc41",
   "metadata": {
    "scrolled": true
   },
   "outputs": [
    {
     "name": "stdout",
     "output_type": "stream",
     "text": [
      "ScaledLR: -0.918533 (0.076946)\n",
      "35.04542803764343 seconds 0.5840904672940572 minutes\n",
      "ScaledLASSO: -1.182766 (0.093565)\n",
      "25.23447036743164 seconds 0.42057450612386066 minutes\n",
      "ScaledEN: -1.161050 (0.094933)\n",
      "26.293538093566895 seconds 0.4382256348927816 minutes\n",
      "ScaledCART: -0.064052 (0.014446)\n",
      "122.02705121040344 seconds 2.0337841868400575 minutes\n",
      "UnscaledXGB: -0.270461 (0.043610)\n",
      "32.57545351982117 seconds 0.5429242253303528 minutes\n",
      "ScaledXGB: -0.270461 (0.043610)\n",
      "46.53338408470154 seconds 0.7755564014116924 minutes\n"
     ]
    }
   ],
   "source": [
    "results = []\n",
    "names = []\n",
    "for name, model in pipelines:\n",
    "    ts = time.time()\n",
    "    kfold = KFold(n_splits=5)#, random_state=42\n",
    "    cv_results = cross_val_score(model, X_train, y_train, cv=kfold, scoring='neg_root_mean_squared_error')\n",
    "    results.append(cv_results)\n",
    "    names.append(name)\n",
    "    msg = \"%s: %f (%f)\" % (name, cv_results.mean(), cv_results.std())\n",
    "    print(msg)\n",
    "    print(time.time()-ts, \"seconds\", (time.time()-ts)/60.0,\"minutes\")"
   ]
  },
  {
   "cell_type": "markdown",
   "id": "87fddba6",
   "metadata": {},
   "source": [
    "From this we can see that the best is Scaled CART. Let's play with the hyperparameters and see if we can get even better scores. "
   ]
  },
  {
   "cell_type": "markdown",
   "id": "0c90d440",
   "metadata": {},
   "source": [
    "# TODO\n",
    "Hyperparameter tuning, more exploration"
   ]
  }
 ],
 "metadata": {
  "kernelspec": {
   "display_name": "Python 3 (ipykernel)",
   "language": "python",
   "name": "python3"
  },
  "language_info": {
   "codemirror_mode": {
    "name": "ipython",
    "version": 3
   },
   "file_extension": ".py",
   "mimetype": "text/x-python",
   "name": "python",
   "nbconvert_exporter": "python",
   "pygments_lexer": "ipython3",
   "version": "3.8.8"
  }
 },
 "nbformat": 4,
 "nbformat_minor": 5
}
