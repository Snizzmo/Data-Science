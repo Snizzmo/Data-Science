{
 "cells": [
  {
   "cell_type": "markdown",
   "id": "56c33896",
   "metadata": {},
   "source": [
    "# Data preprocessing\n",
    "\n",
    "In this notebook, I am going to take the raw book data and prepare it for the modeling stage. "
   ]
  },
  {
   "cell_type": "code",
   "execution_count": 1,
   "id": "b2c75887",
   "metadata": {},
   "outputs": [],
   "source": [
    "#Installs\n",
    "# !pip install surprise"
   ]
  },
  {
   "cell_type": "code",
   "execution_count": 2,
   "id": "ecc58398",
   "metadata": {},
   "outputs": [],
   "source": [
    "# Import the necessary libraries \n",
    "import numpy as np \n",
    "import pandas as pd\n",
    "import matplotlib.pyplot as plt\n",
    "\n",
    "from sklearn.model_selection import train_test_split\n",
    "from sklearn.metrics import mean_squared_error # We will use squared=False\n",
    "\n",
    "import time\n",
    "#import os\n",
    "from library.sb_utils import save_file\n",
    "\n",
    "import scipy.sparse\n",
    "from tqdm.notebook import tqdm\n",
    "\n",
    "import warnings\n",
    "warnings.filterwarnings(\"ignore\")"
   ]
  },
  {
   "cell_type": "code",
   "execution_count": 3,
   "id": "107f488d",
   "metadata": {},
   "outputs": [],
   "source": [
    "# Import the data \n",
    "books = pd.read_csv('../data/raw/books.csv')\n",
    "ratings = pd.read_csv('../data/raw/ratings.csv')\n",
    "tags = pd.read_csv('../data/raw/tags.csv')\n",
    "book_tags = pd.read_csv('../data/raw/book_tags.csv')\n",
    "to_read = pd.read_csv('../data/raw/to_read.csv')"
   ]
  },
  {
   "cell_type": "code",
   "execution_count": 4,
   "id": "5fd38933",
   "metadata": {},
   "outputs": [
    {
     "data": {
      "text/plain": [
       "(10000, 23)"
      ]
     },
     "execution_count": 4,
     "metadata": {},
     "output_type": "execute_result"
    }
   ],
   "source": [
    "books.shape"
   ]
  },
  {
   "cell_type": "code",
   "execution_count": 5,
   "id": "c7976365",
   "metadata": {
    "scrolled": true
   },
   "outputs": [],
   "source": [
    "books.replace(to_replace='J.K. Rowling, Mary GrandPré', value = 'J.K. Rowling', inplace=True)"
   ]
  },
  {
   "cell_type": "code",
   "execution_count": 6,
   "id": "ef6e20b5",
   "metadata": {},
   "outputs": [
    {
     "data": {
      "text/html": [
       "<div>\n",
       "<style scoped>\n",
       "    .dataframe tbody tr th:only-of-type {\n",
       "        vertical-align: middle;\n",
       "    }\n",
       "\n",
       "    .dataframe tbody tr th {\n",
       "        vertical-align: top;\n",
       "    }\n",
       "\n",
       "    .dataframe thead th {\n",
       "        text-align: right;\n",
       "    }\n",
       "</style>\n",
       "<table border=\"1\" class=\"dataframe\">\n",
       "  <thead>\n",
       "    <tr style=\"text-align: right;\">\n",
       "      <th></th>\n",
       "      <th>book_id</th>\n",
       "      <th>to_read_count</th>\n",
       "    </tr>\n",
       "  </thead>\n",
       "  <tbody>\n",
       "    <tr>\n",
       "      <th>0</th>\n",
       "      <td>47</td>\n",
       "      <td>2772</td>\n",
       "    </tr>\n",
       "    <tr>\n",
       "      <th>1</th>\n",
       "      <td>143</td>\n",
       "      <td>1967</td>\n",
       "    </tr>\n",
       "    <tr>\n",
       "      <th>2</th>\n",
       "      <td>113</td>\n",
       "      <td>1840</td>\n",
       "    </tr>\n",
       "    <tr>\n",
       "      <th>3</th>\n",
       "      <td>13</td>\n",
       "      <td>1812</td>\n",
       "    </tr>\n",
       "    <tr>\n",
       "      <th>4</th>\n",
       "      <td>11</td>\n",
       "      <td>1767</td>\n",
       "    </tr>\n",
       "  </tbody>\n",
       "</table>\n",
       "</div>"
      ],
      "text/plain": [
       "   book_id  to_read_count\n",
       "0       47           2772\n",
       "1      143           1967\n",
       "2      113           1840\n",
       "3       13           1812\n",
       "4       11           1767"
      ]
     },
     "execution_count": 6,
     "metadata": {},
     "output_type": "execute_result"
    }
   ],
   "source": [
    "to_read_counts = pd.DataFrame(to_read['book_id'].value_counts())\n",
    "to_read_counts = to_read_counts.rename(columns={'book_id':'to_read_count'})\n",
    "to_read_counts.index.name =\"book_id\"\n",
    "to_read_counts.reset_index(inplace=True)\n",
    "to_read_counts.head()"
   ]
  },
  {
   "cell_type": "code",
   "execution_count": 7,
   "id": "69bc7274",
   "metadata": {
    "scrolled": true
   },
   "outputs": [
    {
     "data": {
      "text/html": [
       "<div>\n",
       "<style scoped>\n",
       "    .dataframe tbody tr th:only-of-type {\n",
       "        vertical-align: middle;\n",
       "    }\n",
       "\n",
       "    .dataframe tbody tr th {\n",
       "        vertical-align: top;\n",
       "    }\n",
       "\n",
       "    .dataframe thead th {\n",
       "        text-align: right;\n",
       "    }\n",
       "</style>\n",
       "<table border=\"1\" class=\"dataframe\">\n",
       "  <thead>\n",
       "    <tr style=\"text-align: right;\">\n",
       "      <th></th>\n",
       "      <th>book_id</th>\n",
       "      <th>goodreads_book_id</th>\n",
       "      <th>best_book_id</th>\n",
       "      <th>work_id</th>\n",
       "      <th>books_count</th>\n",
       "      <th>isbn</th>\n",
       "      <th>isbn13</th>\n",
       "      <th>authors</th>\n",
       "      <th>original_publication_year</th>\n",
       "      <th>original_title</th>\n",
       "      <th>...</th>\n",
       "      <th>work_ratings_count</th>\n",
       "      <th>work_text_reviews_count</th>\n",
       "      <th>ratings_1</th>\n",
       "      <th>ratings_2</th>\n",
       "      <th>ratings_3</th>\n",
       "      <th>ratings_4</th>\n",
       "      <th>ratings_5</th>\n",
       "      <th>image_url</th>\n",
       "      <th>small_image_url</th>\n",
       "      <th>to_read_count</th>\n",
       "    </tr>\n",
       "  </thead>\n",
       "  <tbody>\n",
       "    <tr>\n",
       "      <th>0</th>\n",
       "      <td>1</td>\n",
       "      <td>2767052</td>\n",
       "      <td>2767052</td>\n",
       "      <td>2792775</td>\n",
       "      <td>272</td>\n",
       "      <td>439023483</td>\n",
       "      <td>9.780439e+12</td>\n",
       "      <td>Suzanne Collins</td>\n",
       "      <td>2008.0</td>\n",
       "      <td>The Hunger Games</td>\n",
       "      <td>...</td>\n",
       "      <td>4942365</td>\n",
       "      <td>155254</td>\n",
       "      <td>66715</td>\n",
       "      <td>127936</td>\n",
       "      <td>560092</td>\n",
       "      <td>1481305</td>\n",
       "      <td>2706317</td>\n",
       "      <td>https://images.gr-assets.com/books/1447303603m...</td>\n",
       "      <td>https://images.gr-assets.com/books/1447303603s...</td>\n",
       "      <td>973.0</td>\n",
       "    </tr>\n",
       "    <tr>\n",
       "      <th>1</th>\n",
       "      <td>2</td>\n",
       "      <td>3</td>\n",
       "      <td>3</td>\n",
       "      <td>4640799</td>\n",
       "      <td>491</td>\n",
       "      <td>439554934</td>\n",
       "      <td>9.780440e+12</td>\n",
       "      <td>J.K. Rowling</td>\n",
       "      <td>1997.0</td>\n",
       "      <td>Harry Potter and the Philosopher's Stone</td>\n",
       "      <td>...</td>\n",
       "      <td>4800065</td>\n",
       "      <td>75867</td>\n",
       "      <td>75504</td>\n",
       "      <td>101676</td>\n",
       "      <td>455024</td>\n",
       "      <td>1156318</td>\n",
       "      <td>3011543</td>\n",
       "      <td>https://images.gr-assets.com/books/1474154022m...</td>\n",
       "      <td>https://images.gr-assets.com/books/1474154022s...</td>\n",
       "      <td>400.0</td>\n",
       "    </tr>\n",
       "    <tr>\n",
       "      <th>2</th>\n",
       "      <td>3</td>\n",
       "      <td>41865</td>\n",
       "      <td>41865</td>\n",
       "      <td>3212258</td>\n",
       "      <td>226</td>\n",
       "      <td>316015849</td>\n",
       "      <td>9.780316e+12</td>\n",
       "      <td>Stephenie Meyer</td>\n",
       "      <td>2005.0</td>\n",
       "      <td>Twilight</td>\n",
       "      <td>...</td>\n",
       "      <td>3916824</td>\n",
       "      <td>95009</td>\n",
       "      <td>456191</td>\n",
       "      <td>436802</td>\n",
       "      <td>793319</td>\n",
       "      <td>875073</td>\n",
       "      <td>1355439</td>\n",
       "      <td>https://images.gr-assets.com/books/1361039443m...</td>\n",
       "      <td>https://images.gr-assets.com/books/1361039443s...</td>\n",
       "      <td>287.0</td>\n",
       "    </tr>\n",
       "    <tr>\n",
       "      <th>3</th>\n",
       "      <td>4</td>\n",
       "      <td>2657</td>\n",
       "      <td>2657</td>\n",
       "      <td>3275794</td>\n",
       "      <td>487</td>\n",
       "      <td>61120081</td>\n",
       "      <td>9.780061e+12</td>\n",
       "      <td>Harper Lee</td>\n",
       "      <td>1960.0</td>\n",
       "      <td>To Kill a Mockingbird</td>\n",
       "      <td>...</td>\n",
       "      <td>3340896</td>\n",
       "      <td>72586</td>\n",
       "      <td>60427</td>\n",
       "      <td>117415</td>\n",
       "      <td>446835</td>\n",
       "      <td>1001952</td>\n",
       "      <td>1714267</td>\n",
       "      <td>https://images.gr-assets.com/books/1361975680m...</td>\n",
       "      <td>https://images.gr-assets.com/books/1361975680s...</td>\n",
       "      <td>1478.0</td>\n",
       "    </tr>\n",
       "    <tr>\n",
       "      <th>4</th>\n",
       "      <td>5</td>\n",
       "      <td>4671</td>\n",
       "      <td>4671</td>\n",
       "      <td>245494</td>\n",
       "      <td>1356</td>\n",
       "      <td>743273567</td>\n",
       "      <td>9.780743e+12</td>\n",
       "      <td>F. Scott Fitzgerald</td>\n",
       "      <td>1925.0</td>\n",
       "      <td>The Great Gatsby</td>\n",
       "      <td>...</td>\n",
       "      <td>2773745</td>\n",
       "      <td>51992</td>\n",
       "      <td>86236</td>\n",
       "      <td>197621</td>\n",
       "      <td>606158</td>\n",
       "      <td>936012</td>\n",
       "      <td>947718</td>\n",
       "      <td>https://images.gr-assets.com/books/1490528560m...</td>\n",
       "      <td>https://images.gr-assets.com/books/1490528560s...</td>\n",
       "      <td>1293.0</td>\n",
       "    </tr>\n",
       "  </tbody>\n",
       "</table>\n",
       "<p>5 rows × 24 columns</p>\n",
       "</div>"
      ],
      "text/plain": [
       "   book_id  goodreads_book_id  best_book_id  work_id  books_count       isbn  \\\n",
       "0        1            2767052       2767052  2792775          272  439023483   \n",
       "1        2                  3             3  4640799          491  439554934   \n",
       "2        3              41865         41865  3212258          226  316015849   \n",
       "3        4               2657          2657  3275794          487   61120081   \n",
       "4        5               4671          4671   245494         1356  743273567   \n",
       "\n",
       "         isbn13              authors  original_publication_year  \\\n",
       "0  9.780439e+12      Suzanne Collins                     2008.0   \n",
       "1  9.780440e+12         J.K. Rowling                     1997.0   \n",
       "2  9.780316e+12      Stephenie Meyer                     2005.0   \n",
       "3  9.780061e+12           Harper Lee                     1960.0   \n",
       "4  9.780743e+12  F. Scott Fitzgerald                     1925.0   \n",
       "\n",
       "                             original_title  ... work_ratings_count  \\\n",
       "0                          The Hunger Games  ...            4942365   \n",
       "1  Harry Potter and the Philosopher's Stone  ...            4800065   \n",
       "2                                  Twilight  ...            3916824   \n",
       "3                     To Kill a Mockingbird  ...            3340896   \n",
       "4                          The Great Gatsby  ...            2773745   \n",
       "\n",
       "  work_text_reviews_count  ratings_1  ratings_2  ratings_3  ratings_4  \\\n",
       "0                  155254      66715     127936     560092    1481305   \n",
       "1                   75867      75504     101676     455024    1156318   \n",
       "2                   95009     456191     436802     793319     875073   \n",
       "3                   72586      60427     117415     446835    1001952   \n",
       "4                   51992      86236     197621     606158     936012   \n",
       "\n",
       "   ratings_5                                          image_url  \\\n",
       "0    2706317  https://images.gr-assets.com/books/1447303603m...   \n",
       "1    3011543  https://images.gr-assets.com/books/1474154022m...   \n",
       "2    1355439  https://images.gr-assets.com/books/1361039443m...   \n",
       "3    1714267  https://images.gr-assets.com/books/1361975680m...   \n",
       "4     947718  https://images.gr-assets.com/books/1490528560m...   \n",
       "\n",
       "                                     small_image_url  to_read_count  \n",
       "0  https://images.gr-assets.com/books/1447303603s...          973.0  \n",
       "1  https://images.gr-assets.com/books/1474154022s...          400.0  \n",
       "2  https://images.gr-assets.com/books/1361039443s...          287.0  \n",
       "3  https://images.gr-assets.com/books/1361975680s...         1478.0  \n",
       "4  https://images.gr-assets.com/books/1490528560s...         1293.0  \n",
       "\n",
       "[5 rows x 24 columns]"
      ]
     },
     "execution_count": 7,
     "metadata": {},
     "output_type": "execute_result"
    }
   ],
   "source": [
    "books=books.merge(to_read_counts, on='book_id', how='left')\n",
    "books.head()"
   ]
  },
  {
   "cell_type": "code",
   "execution_count": 8,
   "id": "944462bc",
   "metadata": {},
   "outputs": [
    {
     "data": {
      "text/plain": [
       "(10000, 24)"
      ]
     },
     "execution_count": 8,
     "metadata": {},
     "output_type": "execute_result"
    }
   ],
   "source": [
    "books.shape"
   ]
  },
  {
   "cell_type": "code",
   "execution_count": 9,
   "id": "26d75480",
   "metadata": {},
   "outputs": [],
   "source": [
    "books=books.drop(['image_url','small_image_url'], axis=1)"
   ]
  },
  {
   "cell_type": "code",
   "execution_count": 10,
   "id": "358a5c50",
   "metadata": {},
   "outputs": [
    {
     "data": {
      "text/html": [
       "<div>\n",
       "<style scoped>\n",
       "    .dataframe tbody tr th:only-of-type {\n",
       "        vertical-align: middle;\n",
       "    }\n",
       "\n",
       "    .dataframe tbody tr th {\n",
       "        vertical-align: top;\n",
       "    }\n",
       "\n",
       "    .dataframe thead th {\n",
       "        text-align: right;\n",
       "    }\n",
       "</style>\n",
       "<table border=\"1\" class=\"dataframe\">\n",
       "  <thead>\n",
       "    <tr style=\"text-align: right;\">\n",
       "      <th></th>\n",
       "      <th>tag_id</th>\n",
       "      <th>tag_name</th>\n",
       "    </tr>\n",
       "  </thead>\n",
       "  <tbody>\n",
       "    <tr>\n",
       "      <th>0</th>\n",
       "      <td>0</td>\n",
       "      <td>-</td>\n",
       "    </tr>\n",
       "    <tr>\n",
       "      <th>1</th>\n",
       "      <td>1</td>\n",
       "      <td>--1-</td>\n",
       "    </tr>\n",
       "    <tr>\n",
       "      <th>2</th>\n",
       "      <td>2</td>\n",
       "      <td>--10-</td>\n",
       "    </tr>\n",
       "    <tr>\n",
       "      <th>3</th>\n",
       "      <td>3</td>\n",
       "      <td>--12-</td>\n",
       "    </tr>\n",
       "    <tr>\n",
       "      <th>4</th>\n",
       "      <td>4</td>\n",
       "      <td>--122-</td>\n",
       "    </tr>\n",
       "  </tbody>\n",
       "</table>\n",
       "</div>"
      ],
      "text/plain": [
       "   tag_id tag_name\n",
       "0       0        -\n",
       "1       1     --1-\n",
       "2       2    --10-\n",
       "3       3    --12-\n",
       "4       4   --122-"
      ]
     },
     "execution_count": 10,
     "metadata": {},
     "output_type": "execute_result"
    }
   ],
   "source": [
    "tags.head()"
   ]
  },
  {
   "cell_type": "code",
   "execution_count": 11,
   "id": "0b943b22",
   "metadata": {},
   "outputs": [
    {
     "data": {
      "text/html": [
       "<div>\n",
       "<style scoped>\n",
       "    .dataframe tbody tr th:only-of-type {\n",
       "        vertical-align: middle;\n",
       "    }\n",
       "\n",
       "    .dataframe tbody tr th {\n",
       "        vertical-align: top;\n",
       "    }\n",
       "\n",
       "    .dataframe thead th {\n",
       "        text-align: right;\n",
       "    }\n",
       "</style>\n",
       "<table border=\"1\" class=\"dataframe\">\n",
       "  <thead>\n",
       "    <tr style=\"text-align: right;\">\n",
       "      <th></th>\n",
       "      <th>goodreads_book_id</th>\n",
       "      <th>tag_id</th>\n",
       "      <th>count</th>\n",
       "    </tr>\n",
       "  </thead>\n",
       "  <tbody>\n",
       "    <tr>\n",
       "      <th>0</th>\n",
       "      <td>1</td>\n",
       "      <td>30574</td>\n",
       "      <td>167697</td>\n",
       "    </tr>\n",
       "    <tr>\n",
       "      <th>1</th>\n",
       "      <td>1</td>\n",
       "      <td>11305</td>\n",
       "      <td>37174</td>\n",
       "    </tr>\n",
       "    <tr>\n",
       "      <th>2</th>\n",
       "      <td>1</td>\n",
       "      <td>11557</td>\n",
       "      <td>34173</td>\n",
       "    </tr>\n",
       "    <tr>\n",
       "      <th>3</th>\n",
       "      <td>1</td>\n",
       "      <td>8717</td>\n",
       "      <td>12986</td>\n",
       "    </tr>\n",
       "    <tr>\n",
       "      <th>4</th>\n",
       "      <td>1</td>\n",
       "      <td>33114</td>\n",
       "      <td>12716</td>\n",
       "    </tr>\n",
       "  </tbody>\n",
       "</table>\n",
       "</div>"
      ],
      "text/plain": [
       "   goodreads_book_id  tag_id   count\n",
       "0                  1   30574  167697\n",
       "1                  1   11305   37174\n",
       "2                  1   11557   34173\n",
       "3                  1    8717   12986\n",
       "4                  1   33114   12716"
      ]
     },
     "execution_count": 11,
     "metadata": {},
     "output_type": "execute_result"
    }
   ],
   "source": [
    "book_tags.head()"
   ]
  },
  {
   "cell_type": "code",
   "execution_count": 12,
   "id": "355c84eb",
   "metadata": {
    "scrolled": false
   },
   "outputs": [
    {
     "data": {
      "text/html": [
       "<div>\n",
       "<style scoped>\n",
       "    .dataframe tbody tr th:only-of-type {\n",
       "        vertical-align: middle;\n",
       "    }\n",
       "\n",
       "    .dataframe tbody tr th {\n",
       "        vertical-align: top;\n",
       "    }\n",
       "\n",
       "    .dataframe thead th {\n",
       "        text-align: right;\n",
       "    }\n",
       "</style>\n",
       "<table border=\"1\" class=\"dataframe\">\n",
       "  <thead>\n",
       "    <tr style=\"text-align: right;\">\n",
       "      <th></th>\n",
       "      <th>goodreads_book_id</th>\n",
       "      <th>tag_id</th>\n",
       "      <th>count</th>\n",
       "      <th>tag_name</th>\n",
       "    </tr>\n",
       "  </thead>\n",
       "  <tbody>\n",
       "    <tr>\n",
       "      <th>0</th>\n",
       "      <td>1</td>\n",
       "      <td>30574</td>\n",
       "      <td>167697</td>\n",
       "      <td>to-read</td>\n",
       "    </tr>\n",
       "    <tr>\n",
       "      <th>1</th>\n",
       "      <td>2</td>\n",
       "      <td>30574</td>\n",
       "      <td>24549</td>\n",
       "      <td>to-read</td>\n",
       "    </tr>\n",
       "    <tr>\n",
       "      <th>2</th>\n",
       "      <td>3</td>\n",
       "      <td>30574</td>\n",
       "      <td>496107</td>\n",
       "      <td>to-read</td>\n",
       "    </tr>\n",
       "    <tr>\n",
       "      <th>3</th>\n",
       "      <td>5</td>\n",
       "      <td>30574</td>\n",
       "      <td>11909</td>\n",
       "      <td>to-read</td>\n",
       "    </tr>\n",
       "    <tr>\n",
       "      <th>4</th>\n",
       "      <td>6</td>\n",
       "      <td>30574</td>\n",
       "      <td>298</td>\n",
       "      <td>to-read</td>\n",
       "    </tr>\n",
       "  </tbody>\n",
       "</table>\n",
       "</div>"
      ],
      "text/plain": [
       "   goodreads_book_id  tag_id   count tag_name\n",
       "0                  1   30574  167697  to-read\n",
       "1                  2   30574   24549  to-read\n",
       "2                  3   30574  496107  to-read\n",
       "3                  5   30574   11909  to-read\n",
       "4                  6   30574     298  to-read"
      ]
     },
     "execution_count": 12,
     "metadata": {},
     "output_type": "execute_result"
    }
   ],
   "source": [
    "tag_merged = book_tags.merge(tags, on='tag_id')\n",
    "tag_merged.head()"
   ]
  },
  {
   "cell_type": "code",
   "execution_count": 13,
   "id": "bc96b2d3",
   "metadata": {
    "scrolled": true
   },
   "outputs": [
    {
     "data": {
      "text/html": [
       "<div>\n",
       "<style scoped>\n",
       "    .dataframe tbody tr th:only-of-type {\n",
       "        vertical-align: middle;\n",
       "    }\n",
       "\n",
       "    .dataframe tbody tr th {\n",
       "        vertical-align: top;\n",
       "    }\n",
       "\n",
       "    .dataframe thead th {\n",
       "        text-align: right;\n",
       "    }\n",
       "</style>\n",
       "<table border=\"1\" class=\"dataframe\">\n",
       "  <thead>\n",
       "    <tr style=\"text-align: right;\">\n",
       "      <th></th>\n",
       "      <th>book_id</th>\n",
       "      <th>goodreads_book_id</th>\n",
       "      <th>best_book_id</th>\n",
       "      <th>work_id</th>\n",
       "      <th>books_count</th>\n",
       "      <th>isbn</th>\n",
       "      <th>isbn13</th>\n",
       "      <th>authors</th>\n",
       "      <th>original_publication_year</th>\n",
       "      <th>original_title</th>\n",
       "      <th>...</th>\n",
       "      <th>average_rating</th>\n",
       "      <th>ratings_count</th>\n",
       "      <th>work_ratings_count</th>\n",
       "      <th>work_text_reviews_count</th>\n",
       "      <th>ratings_1</th>\n",
       "      <th>ratings_2</th>\n",
       "      <th>ratings_3</th>\n",
       "      <th>ratings_4</th>\n",
       "      <th>ratings_5</th>\n",
       "      <th>to_read_count</th>\n",
       "    </tr>\n",
       "  </thead>\n",
       "  <tbody>\n",
       "    <tr>\n",
       "      <th>0</th>\n",
       "      <td>1</td>\n",
       "      <td>2767052</td>\n",
       "      <td>2767052</td>\n",
       "      <td>2792775</td>\n",
       "      <td>272</td>\n",
       "      <td>439023483</td>\n",
       "      <td>9.780439e+12</td>\n",
       "      <td>Suzanne Collins</td>\n",
       "      <td>2008.0</td>\n",
       "      <td>The Hunger Games</td>\n",
       "      <td>...</td>\n",
       "      <td>4.34</td>\n",
       "      <td>4780653</td>\n",
       "      <td>4942365</td>\n",
       "      <td>155254</td>\n",
       "      <td>66715</td>\n",
       "      <td>127936</td>\n",
       "      <td>560092</td>\n",
       "      <td>1481305</td>\n",
       "      <td>2706317</td>\n",
       "      <td>973.0</td>\n",
       "    </tr>\n",
       "    <tr>\n",
       "      <th>1</th>\n",
       "      <td>2</td>\n",
       "      <td>3</td>\n",
       "      <td>3</td>\n",
       "      <td>4640799</td>\n",
       "      <td>491</td>\n",
       "      <td>439554934</td>\n",
       "      <td>9.780440e+12</td>\n",
       "      <td>J.K. Rowling</td>\n",
       "      <td>1997.0</td>\n",
       "      <td>Harry Potter and the Philosopher's Stone</td>\n",
       "      <td>...</td>\n",
       "      <td>4.44</td>\n",
       "      <td>4602479</td>\n",
       "      <td>4800065</td>\n",
       "      <td>75867</td>\n",
       "      <td>75504</td>\n",
       "      <td>101676</td>\n",
       "      <td>455024</td>\n",
       "      <td>1156318</td>\n",
       "      <td>3011543</td>\n",
       "      <td>400.0</td>\n",
       "    </tr>\n",
       "    <tr>\n",
       "      <th>2</th>\n",
       "      <td>3</td>\n",
       "      <td>41865</td>\n",
       "      <td>41865</td>\n",
       "      <td>3212258</td>\n",
       "      <td>226</td>\n",
       "      <td>316015849</td>\n",
       "      <td>9.780316e+12</td>\n",
       "      <td>Stephenie Meyer</td>\n",
       "      <td>2005.0</td>\n",
       "      <td>Twilight</td>\n",
       "      <td>...</td>\n",
       "      <td>3.57</td>\n",
       "      <td>3866839</td>\n",
       "      <td>3916824</td>\n",
       "      <td>95009</td>\n",
       "      <td>456191</td>\n",
       "      <td>436802</td>\n",
       "      <td>793319</td>\n",
       "      <td>875073</td>\n",
       "      <td>1355439</td>\n",
       "      <td>287.0</td>\n",
       "    </tr>\n",
       "    <tr>\n",
       "      <th>3</th>\n",
       "      <td>4</td>\n",
       "      <td>2657</td>\n",
       "      <td>2657</td>\n",
       "      <td>3275794</td>\n",
       "      <td>487</td>\n",
       "      <td>61120081</td>\n",
       "      <td>9.780061e+12</td>\n",
       "      <td>Harper Lee</td>\n",
       "      <td>1960.0</td>\n",
       "      <td>To Kill a Mockingbird</td>\n",
       "      <td>...</td>\n",
       "      <td>4.25</td>\n",
       "      <td>3198671</td>\n",
       "      <td>3340896</td>\n",
       "      <td>72586</td>\n",
       "      <td>60427</td>\n",
       "      <td>117415</td>\n",
       "      <td>446835</td>\n",
       "      <td>1001952</td>\n",
       "      <td>1714267</td>\n",
       "      <td>1478.0</td>\n",
       "    </tr>\n",
       "    <tr>\n",
       "      <th>4</th>\n",
       "      <td>5</td>\n",
       "      <td>4671</td>\n",
       "      <td>4671</td>\n",
       "      <td>245494</td>\n",
       "      <td>1356</td>\n",
       "      <td>743273567</td>\n",
       "      <td>9.780743e+12</td>\n",
       "      <td>F. Scott Fitzgerald</td>\n",
       "      <td>1925.0</td>\n",
       "      <td>The Great Gatsby</td>\n",
       "      <td>...</td>\n",
       "      <td>3.89</td>\n",
       "      <td>2683664</td>\n",
       "      <td>2773745</td>\n",
       "      <td>51992</td>\n",
       "      <td>86236</td>\n",
       "      <td>197621</td>\n",
       "      <td>606158</td>\n",
       "      <td>936012</td>\n",
       "      <td>947718</td>\n",
       "      <td>1293.0</td>\n",
       "    </tr>\n",
       "  </tbody>\n",
       "</table>\n",
       "<p>5 rows × 22 columns</p>\n",
       "</div>"
      ],
      "text/plain": [
       "   book_id  goodreads_book_id  best_book_id  work_id  books_count       isbn  \\\n",
       "0        1            2767052       2767052  2792775          272  439023483   \n",
       "1        2                  3             3  4640799          491  439554934   \n",
       "2        3              41865         41865  3212258          226  316015849   \n",
       "3        4               2657          2657  3275794          487   61120081   \n",
       "4        5               4671          4671   245494         1356  743273567   \n",
       "\n",
       "         isbn13              authors  original_publication_year  \\\n",
       "0  9.780439e+12      Suzanne Collins                     2008.0   \n",
       "1  9.780440e+12         J.K. Rowling                     1997.0   \n",
       "2  9.780316e+12      Stephenie Meyer                     2005.0   \n",
       "3  9.780061e+12           Harper Lee                     1960.0   \n",
       "4  9.780743e+12  F. Scott Fitzgerald                     1925.0   \n",
       "\n",
       "                             original_title  ... average_rating ratings_count  \\\n",
       "0                          The Hunger Games  ...           4.34       4780653   \n",
       "1  Harry Potter and the Philosopher's Stone  ...           4.44       4602479   \n",
       "2                                  Twilight  ...           3.57       3866839   \n",
       "3                     To Kill a Mockingbird  ...           4.25       3198671   \n",
       "4                          The Great Gatsby  ...           3.89       2683664   \n",
       "\n",
       "   work_ratings_count  work_text_reviews_count  ratings_1  ratings_2  \\\n",
       "0             4942365                   155254      66715     127936   \n",
       "1             4800065                    75867      75504     101676   \n",
       "2             3916824                    95009     456191     436802   \n",
       "3             3340896                    72586      60427     117415   \n",
       "4             2773745                    51992      86236     197621   \n",
       "\n",
       "   ratings_3  ratings_4  ratings_5  to_read_count  \n",
       "0     560092    1481305    2706317          973.0  \n",
       "1     455024    1156318    3011543          400.0  \n",
       "2     793319     875073    1355439          287.0  \n",
       "3     446835    1001952    1714267         1478.0  \n",
       "4     606158     936012     947718         1293.0  \n",
       "\n",
       "[5 rows x 22 columns]"
      ]
     },
     "execution_count": 13,
     "metadata": {},
     "output_type": "execute_result"
    }
   ],
   "source": [
    "books.head()"
   ]
  },
  {
   "cell_type": "code",
   "execution_count": 14,
   "id": "e865535c",
   "metadata": {},
   "outputs": [
    {
     "data": {
      "text/plain": [
       "(10000, 22)"
      ]
     },
     "execution_count": 14,
     "metadata": {},
     "output_type": "execute_result"
    }
   ],
   "source": [
    "books.shape"
   ]
  },
  {
   "cell_type": "markdown",
   "id": "4d727cee",
   "metadata": {},
   "source": [
    "### Genres\n",
    "I am going to hardcode some basic genres since the tags list is so varied and unclean. I will base it off of the most popular tags.  "
   ]
  },
  {
   "cell_type": "code",
   "execution_count": 15,
   "id": "16630116",
   "metadata": {},
   "outputs": [],
   "source": [
    "# Top 50 tags\n",
    "top_tags = sorted(tag_merged.sort_values('count',ascending=False).tag_name.unique()[:50])"
   ]
  },
  {
   "cell_type": "code",
   "execution_count": 16,
   "id": "fee9877b",
   "metadata": {},
   "outputs": [
    {
     "name": "stdout",
     "output_type": "stream",
     "text": [
      "['biography', 'book-club', 'books-i-own', 'chick-lit', 'childrens', 'classic', 'classics', 'comics', 'contemporary', 'currently-reading', 'dystopia', 'dystopian', 'fantasy', 'favorites', 'favourites', 'fiction', 'graphic-novel', 'graphic-novels', 'harry-potter', 'historical', 'historical-fiction', 'history', 'horror', 'humor', 'magic', 'manga', 'memoir', 'mystery', 'mythology', 'non-fiction', 'nonfiction', 'owned', 'paranormal', 'philosophy', 'plays', 'poetry', 'romance', 'sci-fi', 'science', 'science-fiction', 'series', 'steampunk', 'thriller', 'to-read', 'urban-fantasy', 'vampires', 'writing', 'ya', 'young-adult', 'Ｆａｖｏｒｉｔｅｓ']\n"
     ]
    }
   ],
   "source": [
    "print(top_tags)"
   ]
  },
  {
   "cell_type": "code",
   "execution_count": 17,
   "id": "a2cb512e",
   "metadata": {},
   "outputs": [],
   "source": [
    "# Hard code some popular genres\n",
    "genres=[\"Art\", \"Biography\", \"Business\", \"Chick Lit\", \"Children's\", \"Christian\", \"Classics\", \"Comics\", \\\n",
    "        \"Contemporary\", \"Cookbooks\", \"Crime\", \"Ebooks\", \"Fantasy\", \"Fiction\", \"Gay and Lesbian\", \\\n",
    "        \"Graphic Novels\", \"Historical Fiction\", \"History\", \"Horror\", \"Humor and Comedy\", \"Manga\", \\\n",
    "        \"Memoir\", \"Music\", \"Mystery\", \"Nonfiction\", \"Paranormal\", \"Philosophy\", \"Poetry\", \"Psychology\", \\\n",
    "        \"Religion\", \"Romance\", \"Science\", \"Science Fiction\", \"Self Help\", \"Suspense\", \"Spirituality\", \\\n",
    "        \"Sports\", \"Thriller\", \"Travel\", \"Young Adult\"]\n",
    "for i in range(len(genres)):\n",
    "    genres[i]=genres[i].lower()\n",
    "\n",
    "for genre in top_tags: \n",
    "    if genre not in genres: \n",
    "        genres.append(genre)"
   ]
  },
  {
   "cell_type": "code",
   "execution_count": 18,
   "id": "2036fc90",
   "metadata": {
    "scrolled": true
   },
   "outputs": [
    {
     "name": "stdout",
     "output_type": "stream",
     "text": [
      "['art', 'biography', 'business', 'chick lit', \"children's\", 'christian', 'classics', 'comics', 'contemporary', 'cookbooks', 'crime', 'ebooks', 'fantasy', 'fiction', 'gay and lesbian', 'graphic novels', 'historical fiction', 'history', 'horror', 'humor and comedy', 'manga', 'memoir', 'music', 'mystery', 'nonfiction', 'paranormal', 'philosophy', 'poetry', 'psychology', 'religion', 'romance', 'science', 'science fiction', 'self help', 'suspense', 'spirituality', 'sports', 'thriller', 'travel', 'young adult', 'book-club', 'books-i-own', 'chick-lit', 'childrens', 'classic', 'currently-reading', 'dystopia', 'dystopian', 'favorites', 'favourites', 'graphic-novel', 'graphic-novels', 'harry-potter', 'historical', 'historical-fiction', 'humor', 'magic', 'mythology', 'non-fiction', 'owned', 'plays', 'sci-fi', 'science-fiction', 'series', 'steampunk', 'to-read', 'urban-fantasy', 'vampires', 'writing', 'ya', 'young-adult', 'Ｆａｖｏｒｉｔｅｓ']\n"
     ]
    }
   ],
   "source": [
    "print(genres)"
   ]
  },
  {
   "cell_type": "code",
   "execution_count": 19,
   "id": "32c824ca",
   "metadata": {},
   "outputs": [],
   "source": [
    "# replace all instances of \"chick-lit\" with \"chick lit\"\n",
    "\n",
    "# genres.remove('chick-lit')\n",
    "\n",
    "# remove non-genre tags\n",
    "genres.remove(\"to-read\")\n",
    "genres.remove(\"currently-reading\") \n",
    "genres.remove(\"books-i-own\")\n",
    "genres.remove(\"book-club\")\n",
    "genres.remove(\"favorites\")\n",
    "genres.remove(\"favourites\")\n",
    "genres.remove(\"Ｆａｖｏｒｉｔｅｓ\")\n",
    "genres.remove(\"series\")\n",
    "genres.remove(\"owned\")"
   ]
  },
  {
   "cell_type": "code",
   "execution_count": 20,
   "id": "b32af801",
   "metadata": {
    "scrolled": true
   },
   "outputs": [
    {
     "data": {
      "text/plain": [
       "63"
      ]
     },
     "execution_count": 20,
     "metadata": {},
     "output_type": "execute_result"
    }
   ],
   "source": [
    "len(genres)"
   ]
  },
  {
   "cell_type": "code",
   "execution_count": 21,
   "id": "24bd48c3",
   "metadata": {},
   "outputs": [],
   "source": [
    "new_tags=tag_merged[tag_merged.tag_name.isin(genres)]"
   ]
  },
  {
   "cell_type": "code",
   "execution_count": 22,
   "id": "9e3e553c",
   "metadata": {},
   "outputs": [],
   "source": [
    "new_tags.replace(\"chick-lit\", \"chick lit\", inplace=True)\n",
    "genres.remove(\"chick-lit\")"
   ]
  },
  {
   "cell_type": "code",
   "execution_count": 23,
   "id": "9120a73f",
   "metadata": {
    "scrolled": true
   },
   "outputs": [
    {
     "data": {
      "text/html": [
       "<div>\n",
       "<style scoped>\n",
       "    .dataframe tbody tr th:only-of-type {\n",
       "        vertical-align: middle;\n",
       "    }\n",
       "\n",
       "    .dataframe tbody tr th {\n",
       "        vertical-align: top;\n",
       "    }\n",
       "\n",
       "    .dataframe thead th {\n",
       "        text-align: right;\n",
       "    }\n",
       "</style>\n",
       "<table border=\"1\" class=\"dataframe\">\n",
       "  <thead>\n",
       "    <tr style=\"text-align: right;\">\n",
       "      <th></th>\n",
       "      <th>goodreads_book_id</th>\n",
       "      <th>tag_id</th>\n",
       "      <th>count</th>\n",
       "      <th>tag_name</th>\n",
       "    </tr>\n",
       "  </thead>\n",
       "  <tbody>\n",
       "    <tr>\n",
       "      <th>9985</th>\n",
       "      <td>3</td>\n",
       "      <td>11305</td>\n",
       "      <td>47478</td>\n",
       "      <td>fantasy</td>\n",
       "    </tr>\n",
       "    <tr>\n",
       "      <th>10134</th>\n",
       "      <td>5907</td>\n",
       "      <td>11305</td>\n",
       "      <td>41786</td>\n",
       "      <td>fantasy</td>\n",
       "    </tr>\n",
       "    <tr>\n",
       "      <th>10477</th>\n",
       "      <td>15881</td>\n",
       "      <td>11305</td>\n",
       "      <td>39501</td>\n",
       "      <td>fantasy</td>\n",
       "    </tr>\n",
       "    <tr>\n",
       "      <th>9986</th>\n",
       "      <td>5</td>\n",
       "      <td>11305</td>\n",
       "      <td>39330</td>\n",
       "      <td>fantasy</td>\n",
       "    </tr>\n",
       "    <tr>\n",
       "      <th>9987</th>\n",
       "      <td>6</td>\n",
       "      <td>11305</td>\n",
       "      <td>38378</td>\n",
       "      <td>fantasy</td>\n",
       "    </tr>\n",
       "    <tr>\n",
       "      <th>...</th>\n",
       "      <td>...</td>\n",
       "      <td>...</td>\n",
       "      <td>...</td>\n",
       "      <td>...</td>\n",
       "    </tr>\n",
       "    <tr>\n",
       "      <th>261397</th>\n",
       "      <td>2358870</td>\n",
       "      <td>26138</td>\n",
       "      <td>1</td>\n",
       "      <td>romance</td>\n",
       "    </tr>\n",
       "    <tr>\n",
       "      <th>204824</th>\n",
       "      <td>18387597</td>\n",
       "      <td>20939</td>\n",
       "      <td>1</td>\n",
       "      <td>mystery</td>\n",
       "    </tr>\n",
       "    <tr>\n",
       "      <th>746593</th>\n",
       "      <td>852460</td>\n",
       "      <td>7077</td>\n",
       "      <td>1</td>\n",
       "      <td>christian</td>\n",
       "    </tr>\n",
       "    <tr>\n",
       "      <th>418919</th>\n",
       "      <td>276289</td>\n",
       "      <td>26816</td>\n",
       "      <td>1</td>\n",
       "      <td>science</td>\n",
       "    </tr>\n",
       "    <tr>\n",
       "      <th>701780</th>\n",
       "      <td>7278837</td>\n",
       "      <td>13547</td>\n",
       "      <td>1</td>\n",
       "      <td>graphic-novel</td>\n",
       "    </tr>\n",
       "  </tbody>\n",
       "</table>\n",
       "<p>93593 rows × 4 columns</p>\n",
       "</div>"
      ],
      "text/plain": [
       "        goodreads_book_id  tag_id  count       tag_name\n",
       "9985                    3   11305  47478        fantasy\n",
       "10134                5907   11305  41786        fantasy\n",
       "10477               15881   11305  39501        fantasy\n",
       "9986                    5   11305  39330        fantasy\n",
       "9987                    6   11305  38378        fantasy\n",
       "...                   ...     ...    ...            ...\n",
       "261397            2358870   26138      1        romance\n",
       "204824           18387597   20939      1        mystery\n",
       "746593             852460    7077      1      christian\n",
       "418919             276289   26816      1        science\n",
       "701780            7278837   13547      1  graphic-novel\n",
       "\n",
       "[93593 rows x 4 columns]"
      ]
     },
     "execution_count": 23,
     "metadata": {},
     "output_type": "execute_result"
    }
   ],
   "source": [
    "new_tags.sort_values('count', ascending=False)"
   ]
  },
  {
   "cell_type": "markdown",
   "id": "e8d05c24",
   "metadata": {},
   "source": [
    "This has helped us keep tags to a minimum, helping computation, while still adding a lot of value! \n",
    "\n",
    "Let's add them to the books dataframe. "
   ]
  },
  {
   "cell_type": "code",
   "execution_count": 24,
   "id": "af38ebea",
   "metadata": {},
   "outputs": [
    {
     "name": "stdout",
     "output_type": "stream",
     "text": [
      "(10000, 22)\n"
     ]
    }
   ],
   "source": [
    "print(books.shape)"
   ]
  },
  {
   "cell_type": "code",
   "execution_count": 25,
   "id": "3e27b1e5",
   "metadata": {},
   "outputs": [],
   "source": [
    "# make a new row per item per tag\n",
    "books=books.join(\n",
    "    pd.concat(\n",
    "        [new_tags.set_index('goodreads_book_id')['tag_name']],\n",
    "        axis=1, keys='tags' #list(range(len(new_tags)))\n",
    "    ), on='goodreads_book_id')"
   ]
  },
  {
   "cell_type": "code",
   "execution_count": 26,
   "id": "e5caafe5",
   "metadata": {},
   "outputs": [],
   "source": [
    "# # Aggregate the tags into a single column\n",
    "books=books.groupby('book_id').agg({'goodreads_book_id':'first', 'best_book_id':'first', 'work_id':'first',\n",
    "       'books_count':'first', 'isbn':'first', 'isbn13':'first', 'authors':'first', 'original_publication_year':'first',\n",
    "       'original_title':'first', 'title':'first', 'language_code':'first', 'average_rating':'first',\n",
    "       'ratings_count':'first', 'work_ratings_count':'first', 'work_text_reviews_count':'first',\n",
    "       'ratings_1':'first', 'ratings_2':'first', 'ratings_3':'first', 'ratings_4':'first', 'ratings_5':'first',\n",
    "       'to_read_count':'first','t': ', '.join}).reset_index()"
   ]
  },
  {
   "cell_type": "code",
   "execution_count": 27,
   "id": "fb0833f7",
   "metadata": {},
   "outputs": [],
   "source": [
    "books.rename(columns={'t':'tags'}, inplace=True)"
   ]
  },
  {
   "cell_type": "code",
   "execution_count": 28,
   "id": "cf5e8081",
   "metadata": {
    "scrolled": false
   },
   "outputs": [
    {
     "name": "stdout",
     "output_type": "stream",
     "text": [
      "(10000, 23)\n"
     ]
    },
    {
     "data": {
      "text/html": [
       "<div>\n",
       "<style scoped>\n",
       "    .dataframe tbody tr th:only-of-type {\n",
       "        vertical-align: middle;\n",
       "    }\n",
       "\n",
       "    .dataframe tbody tr th {\n",
       "        vertical-align: top;\n",
       "    }\n",
       "\n",
       "    .dataframe thead th {\n",
       "        text-align: right;\n",
       "    }\n",
       "</style>\n",
       "<table border=\"1\" class=\"dataframe\">\n",
       "  <thead>\n",
       "    <tr style=\"text-align: right;\">\n",
       "      <th></th>\n",
       "      <th>book_id</th>\n",
       "      <th>goodreads_book_id</th>\n",
       "      <th>best_book_id</th>\n",
       "      <th>work_id</th>\n",
       "      <th>books_count</th>\n",
       "      <th>isbn</th>\n",
       "      <th>isbn13</th>\n",
       "      <th>authors</th>\n",
       "      <th>original_publication_year</th>\n",
       "      <th>original_title</th>\n",
       "      <th>...</th>\n",
       "      <th>ratings_count</th>\n",
       "      <th>work_ratings_count</th>\n",
       "      <th>work_text_reviews_count</th>\n",
       "      <th>ratings_1</th>\n",
       "      <th>ratings_2</th>\n",
       "      <th>ratings_3</th>\n",
       "      <th>ratings_4</th>\n",
       "      <th>ratings_5</th>\n",
       "      <th>to_read_count</th>\n",
       "      <th>tags</th>\n",
       "    </tr>\n",
       "  </thead>\n",
       "  <tbody>\n",
       "    <tr>\n",
       "      <th>0</th>\n",
       "      <td>1</td>\n",
       "      <td>2767052</td>\n",
       "      <td>2767052</td>\n",
       "      <td>2792775</td>\n",
       "      <td>272</td>\n",
       "      <td>439023483</td>\n",
       "      <td>9.780439e+12</td>\n",
       "      <td>Suzanne Collins</td>\n",
       "      <td>2008.0</td>\n",
       "      <td>The Hunger Games</td>\n",
       "      <td>...</td>\n",
       "      <td>4780653</td>\n",
       "      <td>4942365</td>\n",
       "      <td>155254</td>\n",
       "      <td>66715</td>\n",
       "      <td>127936</td>\n",
       "      <td>560092</td>\n",
       "      <td>1481305</td>\n",
       "      <td>2706317</td>\n",
       "      <td>973.0</td>\n",
       "      <td>fantasy, young-adult, fiction, ya, romance, co...</td>\n",
       "    </tr>\n",
       "    <tr>\n",
       "      <th>1</th>\n",
       "      <td>2</td>\n",
       "      <td>3</td>\n",
       "      <td>3</td>\n",
       "      <td>4640799</td>\n",
       "      <td>491</td>\n",
       "      <td>439554934</td>\n",
       "      <td>9.780440e+12</td>\n",
       "      <td>J.K. Rowling</td>\n",
       "      <td>1997.0</td>\n",
       "      <td>Harry Potter and the Philosopher's Stone</td>\n",
       "      <td>...</td>\n",
       "      <td>4602479</td>\n",
       "      <td>4800065</td>\n",
       "      <td>75867</td>\n",
       "      <td>75504</td>\n",
       "      <td>101676</td>\n",
       "      <td>455024</td>\n",
       "      <td>1156318</td>\n",
       "      <td>3011543</td>\n",
       "      <td>400.0</td>\n",
       "      <td>fantasy, young-adult, fiction, harry-potter, y...</td>\n",
       "    </tr>\n",
       "    <tr>\n",
       "      <th>2</th>\n",
       "      <td>3</td>\n",
       "      <td>41865</td>\n",
       "      <td>41865</td>\n",
       "      <td>3212258</td>\n",
       "      <td>226</td>\n",
       "      <td>316015849</td>\n",
       "      <td>9.780316e+12</td>\n",
       "      <td>Stephenie Meyer</td>\n",
       "      <td>2005.0</td>\n",
       "      <td>Twilight</td>\n",
       "      <td>...</td>\n",
       "      <td>3866839</td>\n",
       "      <td>3916824</td>\n",
       "      <td>95009</td>\n",
       "      <td>456191</td>\n",
       "      <td>436802</td>\n",
       "      <td>793319</td>\n",
       "      <td>875073</td>\n",
       "      <td>1355439</td>\n",
       "      <td>287.0</td>\n",
       "      <td>fantasy, young-adult, fiction, ya, paranormal,...</td>\n",
       "    </tr>\n",
       "    <tr>\n",
       "      <th>3</th>\n",
       "      <td>4</td>\n",
       "      <td>2657</td>\n",
       "      <td>2657</td>\n",
       "      <td>3275794</td>\n",
       "      <td>487</td>\n",
       "      <td>61120081</td>\n",
       "      <td>9.780061e+12</td>\n",
       "      <td>Harper Lee</td>\n",
       "      <td>1960.0</td>\n",
       "      <td>To Kill a Mockingbird</td>\n",
       "      <td>...</td>\n",
       "      <td>3198671</td>\n",
       "      <td>3340896</td>\n",
       "      <td>72586</td>\n",
       "      <td>60427</td>\n",
       "      <td>117415</td>\n",
       "      <td>446835</td>\n",
       "      <td>1001952</td>\n",
       "      <td>1714267</td>\n",
       "      <td>1478.0</td>\n",
       "      <td>young-adult, fiction, ya, classics, mystery, c...</td>\n",
       "    </tr>\n",
       "    <tr>\n",
       "      <th>4</th>\n",
       "      <td>5</td>\n",
       "      <td>4671</td>\n",
       "      <td>4671</td>\n",
       "      <td>245494</td>\n",
       "      <td>1356</td>\n",
       "      <td>743273567</td>\n",
       "      <td>9.780743e+12</td>\n",
       "      <td>F. Scott Fitzgerald</td>\n",
       "      <td>1925.0</td>\n",
       "      <td>The Great Gatsby</td>\n",
       "      <td>...</td>\n",
       "      <td>2683664</td>\n",
       "      <td>2773745</td>\n",
       "      <td>51992</td>\n",
       "      <td>86236</td>\n",
       "      <td>197621</td>\n",
       "      <td>606158</td>\n",
       "      <td>936012</td>\n",
       "      <td>947718</td>\n",
       "      <td>1293.0</td>\n",
       "      <td>young-adult, fiction, classics, romance, class...</td>\n",
       "    </tr>\n",
       "  </tbody>\n",
       "</table>\n",
       "<p>5 rows × 23 columns</p>\n",
       "</div>"
      ],
      "text/plain": [
       "   book_id  goodreads_book_id  best_book_id  work_id  books_count       isbn  \\\n",
       "0        1            2767052       2767052  2792775          272  439023483   \n",
       "1        2                  3             3  4640799          491  439554934   \n",
       "2        3              41865         41865  3212258          226  316015849   \n",
       "3        4               2657          2657  3275794          487   61120081   \n",
       "4        5               4671          4671   245494         1356  743273567   \n",
       "\n",
       "         isbn13              authors  original_publication_year  \\\n",
       "0  9.780439e+12      Suzanne Collins                     2008.0   \n",
       "1  9.780440e+12         J.K. Rowling                     1997.0   \n",
       "2  9.780316e+12      Stephenie Meyer                     2005.0   \n",
       "3  9.780061e+12           Harper Lee                     1960.0   \n",
       "4  9.780743e+12  F. Scott Fitzgerald                     1925.0   \n",
       "\n",
       "                             original_title  ... ratings_count  \\\n",
       "0                          The Hunger Games  ...       4780653   \n",
       "1  Harry Potter and the Philosopher's Stone  ...       4602479   \n",
       "2                                  Twilight  ...       3866839   \n",
       "3                     To Kill a Mockingbird  ...       3198671   \n",
       "4                          The Great Gatsby  ...       2683664   \n",
       "\n",
       "  work_ratings_count  work_text_reviews_count  ratings_1  ratings_2  \\\n",
       "0            4942365                   155254      66715     127936   \n",
       "1            4800065                    75867      75504     101676   \n",
       "2            3916824                    95009     456191     436802   \n",
       "3            3340896                    72586      60427     117415   \n",
       "4            2773745                    51992      86236     197621   \n",
       "\n",
       "   ratings_3  ratings_4  ratings_5  to_read_count  \\\n",
       "0     560092    1481305    2706317          973.0   \n",
       "1     455024    1156318    3011543          400.0   \n",
       "2     793319     875073    1355439          287.0   \n",
       "3     446835    1001952    1714267         1478.0   \n",
       "4     606158     936012     947718         1293.0   \n",
       "\n",
       "                                                tags  \n",
       "0  fantasy, young-adult, fiction, ya, romance, co...  \n",
       "1  fantasy, young-adult, fiction, harry-potter, y...  \n",
       "2  fantasy, young-adult, fiction, ya, paranormal,...  \n",
       "3  young-adult, fiction, ya, classics, mystery, c...  \n",
       "4  young-adult, fiction, classics, romance, class...  \n",
       "\n",
       "[5 rows x 23 columns]"
      ]
     },
     "execution_count": 28,
     "metadata": {},
     "output_type": "execute_result"
    }
   ],
   "source": [
    "print(books.shape)\n",
    "books.head()"
   ]
  },
  {
   "cell_type": "code",
   "execution_count": 29,
   "id": "b593fde0",
   "metadata": {
    "scrolled": true
   },
   "outputs": [
    {
     "name": "stdout",
     "output_type": "stream",
     "text": [
      "10000\n",
      "10000\n"
     ]
    }
   ],
   "source": [
    "# Get the top 3 tags for each book\n",
    "top_3 = {}\n",
    "for book_id in new_tags.goodreads_book_id.unique(): \n",
    "    book_tags = new_tags[new_tags.goodreads_book_id == book_id].sort_values('count', ascending=False)\n",
    "    # top_3[book_id] = list(zip(book_tags.tag_id[:3], book_tags.tag_name[:3]))\n",
    "    top_3[book_id] = list(book_tags.tag_name[:3])\n",
    "\n",
    "print(len(new_tags.goodreads_book_id.unique()))\n",
    "print(len(top_3.keys()))"
   ]
  },
  {
   "cell_type": "code",
   "execution_count": 30,
   "id": "f3fbafa3",
   "metadata": {},
   "outputs": [
    {
     "name": "stdout",
     "output_type": "stream",
     "text": [
      "<class 'dict'>\n"
     ]
    }
   ],
   "source": [
    "print(type(top_3))"
   ]
  },
  {
   "cell_type": "code",
   "execution_count": 85,
   "id": "2e043ba1",
   "metadata": {
    "scrolled": true
   },
   "outputs": [
    {
     "data": {
      "text/html": [
       "<div>\n",
       "<style scoped>\n",
       "    .dataframe tbody tr th:only-of-type {\n",
       "        vertical-align: middle;\n",
       "    }\n",
       "\n",
       "    .dataframe tbody tr th {\n",
       "        vertical-align: top;\n",
       "    }\n",
       "\n",
       "    .dataframe thead th {\n",
       "        text-align: right;\n",
       "    }\n",
       "</style>\n",
       "<table border=\"1\" class=\"dataframe\">\n",
       "  <thead>\n",
       "    <tr style=\"text-align: right;\">\n",
       "      <th></th>\n",
       "      <th>tag_1</th>\n",
       "      <th>tag_2</th>\n",
       "      <th>tag_3</th>\n",
       "      <th>book_id</th>\n",
       "    </tr>\n",
       "  </thead>\n",
       "  <tbody>\n",
       "    <tr>\n",
       "      <th>1</th>\n",
       "      <td>fantasy</td>\n",
       "      <td>young-adult</td>\n",
       "      <td>fiction</td>\n",
       "      <td>1</td>\n",
       "    </tr>\n",
       "    <tr>\n",
       "      <th>2</th>\n",
       "      <td>fantasy</td>\n",
       "      <td>fiction</td>\n",
       "      <td>young-adult</td>\n",
       "      <td>2</td>\n",
       "    </tr>\n",
       "    <tr>\n",
       "      <th>3</th>\n",
       "      <td>fantasy</td>\n",
       "      <td>young-adult</td>\n",
       "      <td>fiction</td>\n",
       "      <td>3</td>\n",
       "    </tr>\n",
       "    <tr>\n",
       "      <th>5</th>\n",
       "      <td>fantasy</td>\n",
       "      <td>young-adult</td>\n",
       "      <td>fiction</td>\n",
       "      <td>5</td>\n",
       "    </tr>\n",
       "    <tr>\n",
       "      <th>6</th>\n",
       "      <td>fantasy</td>\n",
       "      <td>young-adult</td>\n",
       "      <td>fiction</td>\n",
       "      <td>6</td>\n",
       "    </tr>\n",
       "    <tr>\n",
       "      <th>8</th>\n",
       "      <td>fantasy</td>\n",
       "      <td>harry-potter</td>\n",
       "      <td>young-adult</td>\n",
       "      <td>8</td>\n",
       "    </tr>\n",
       "    <tr>\n",
       "      <th>10</th>\n",
       "      <td>fantasy</td>\n",
       "      <td>fiction</td>\n",
       "      <td>harry-potter</td>\n",
       "      <td>10</td>\n",
       "    </tr>\n",
       "    <tr>\n",
       "      <th>11</th>\n",
       "      <td>science-fiction</td>\n",
       "      <td>sci-fi</td>\n",
       "      <td>fiction</td>\n",
       "      <td>11</td>\n",
       "    </tr>\n",
       "    <tr>\n",
       "      <th>13</th>\n",
       "      <td>science-fiction</td>\n",
       "      <td>sci-fi</td>\n",
       "      <td>fiction</td>\n",
       "      <td>13</td>\n",
       "    </tr>\n",
       "    <tr>\n",
       "      <th>30</th>\n",
       "      <td>fiction</td>\n",
       "      <td>classic</td>\n",
       "      <td>fantasy</td>\n",
       "      <td>30</td>\n",
       "    </tr>\n",
       "  </tbody>\n",
       "</table>\n",
       "</div>"
      ],
      "text/plain": [
       "              tag_1         tag_2         tag_3  book_id\n",
       "1           fantasy   young-adult       fiction        1\n",
       "2           fantasy       fiction   young-adult        2\n",
       "3           fantasy   young-adult       fiction        3\n",
       "5           fantasy   young-adult       fiction        5\n",
       "6           fantasy   young-adult       fiction        6\n",
       "8           fantasy  harry-potter   young-adult        8\n",
       "10          fantasy       fiction  harry-potter       10\n",
       "11  science-fiction        sci-fi       fiction       11\n",
       "13  science-fiction        sci-fi       fiction       13\n",
       "30          fiction       classic       fantasy       30"
      ]
     },
     "execution_count": 85,
     "metadata": {},
     "output_type": "execute_result"
    }
   ],
   "source": [
    "# Make it a dataframe to merge it\n",
    "top_3_df = pd.DataFrame.from_dict(top_3, orient='index', columns=[\"tag_1\",\"tag_2\",\"tag_3\"])\n",
    "top_3_df['book_id'] = top_3_df.index\n",
    "top_3_df.head(10)"
   ]
  },
  {
   "cell_type": "code",
   "execution_count": 32,
   "id": "8c2a5586",
   "metadata": {},
   "outputs": [],
   "source": [
    "books = books.merge(top_3_df, on='book_id', how='left')"
   ]
  },
  {
   "cell_type": "code",
   "execution_count": 33,
   "id": "24cab081",
   "metadata": {
    "scrolled": true
   },
   "outputs": [
    {
     "data": {
      "text/html": [
       "<div>\n",
       "<style scoped>\n",
       "    .dataframe tbody tr th:only-of-type {\n",
       "        vertical-align: middle;\n",
       "    }\n",
       "\n",
       "    .dataframe tbody tr th {\n",
       "        vertical-align: top;\n",
       "    }\n",
       "\n",
       "    .dataframe thead th {\n",
       "        text-align: right;\n",
       "    }\n",
       "</style>\n",
       "<table border=\"1\" class=\"dataframe\">\n",
       "  <thead>\n",
       "    <tr style=\"text-align: right;\">\n",
       "      <th></th>\n",
       "      <th>book_id</th>\n",
       "      <th>goodreads_book_id</th>\n",
       "      <th>best_book_id</th>\n",
       "      <th>work_id</th>\n",
       "      <th>books_count</th>\n",
       "      <th>isbn</th>\n",
       "      <th>isbn13</th>\n",
       "      <th>authors</th>\n",
       "      <th>original_publication_year</th>\n",
       "      <th>original_title</th>\n",
       "      <th>...</th>\n",
       "      <th>ratings_1</th>\n",
       "      <th>ratings_2</th>\n",
       "      <th>ratings_3</th>\n",
       "      <th>ratings_4</th>\n",
       "      <th>ratings_5</th>\n",
       "      <th>to_read_count</th>\n",
       "      <th>tags</th>\n",
       "      <th>tag_1</th>\n",
       "      <th>tag_2</th>\n",
       "      <th>tag_3</th>\n",
       "    </tr>\n",
       "  </thead>\n",
       "  <tbody>\n",
       "    <tr>\n",
       "      <th>0</th>\n",
       "      <td>1</td>\n",
       "      <td>2767052</td>\n",
       "      <td>2767052</td>\n",
       "      <td>2792775</td>\n",
       "      <td>272</td>\n",
       "      <td>439023483</td>\n",
       "      <td>9.780439e+12</td>\n",
       "      <td>Suzanne Collins</td>\n",
       "      <td>2008.0</td>\n",
       "      <td>The Hunger Games</td>\n",
       "      <td>...</td>\n",
       "      <td>66715</td>\n",
       "      <td>127936</td>\n",
       "      <td>560092</td>\n",
       "      <td>1481305</td>\n",
       "      <td>2706317</td>\n",
       "      <td>973.0</td>\n",
       "      <td>fantasy, young-adult, fiction, ya, romance, co...</td>\n",
       "      <td>fantasy</td>\n",
       "      <td>young-adult</td>\n",
       "      <td>fiction</td>\n",
       "    </tr>\n",
       "    <tr>\n",
       "      <th>1</th>\n",
       "      <td>2</td>\n",
       "      <td>3</td>\n",
       "      <td>3</td>\n",
       "      <td>4640799</td>\n",
       "      <td>491</td>\n",
       "      <td>439554934</td>\n",
       "      <td>9.780440e+12</td>\n",
       "      <td>J.K. Rowling</td>\n",
       "      <td>1997.0</td>\n",
       "      <td>Harry Potter and the Philosopher's Stone</td>\n",
       "      <td>...</td>\n",
       "      <td>75504</td>\n",
       "      <td>101676</td>\n",
       "      <td>455024</td>\n",
       "      <td>1156318</td>\n",
       "      <td>3011543</td>\n",
       "      <td>400.0</td>\n",
       "      <td>fantasy, young-adult, fiction, harry-potter, y...</td>\n",
       "      <td>fantasy</td>\n",
       "      <td>fiction</td>\n",
       "      <td>young-adult</td>\n",
       "    </tr>\n",
       "    <tr>\n",
       "      <th>2</th>\n",
       "      <td>3</td>\n",
       "      <td>41865</td>\n",
       "      <td>41865</td>\n",
       "      <td>3212258</td>\n",
       "      <td>226</td>\n",
       "      <td>316015849</td>\n",
       "      <td>9.780316e+12</td>\n",
       "      <td>Stephenie Meyer</td>\n",
       "      <td>2005.0</td>\n",
       "      <td>Twilight</td>\n",
       "      <td>...</td>\n",
       "      <td>456191</td>\n",
       "      <td>436802</td>\n",
       "      <td>793319</td>\n",
       "      <td>875073</td>\n",
       "      <td>1355439</td>\n",
       "      <td>287.0</td>\n",
       "      <td>fantasy, young-adult, fiction, ya, paranormal,...</td>\n",
       "      <td>fantasy</td>\n",
       "      <td>young-adult</td>\n",
       "      <td>fiction</td>\n",
       "    </tr>\n",
       "  </tbody>\n",
       "</table>\n",
       "<p>3 rows × 26 columns</p>\n",
       "</div>"
      ],
      "text/plain": [
       "   book_id  goodreads_book_id  best_book_id  work_id  books_count       isbn  \\\n",
       "0        1            2767052       2767052  2792775          272  439023483   \n",
       "1        2                  3             3  4640799          491  439554934   \n",
       "2        3              41865         41865  3212258          226  316015849   \n",
       "\n",
       "         isbn13          authors  original_publication_year  \\\n",
       "0  9.780439e+12  Suzanne Collins                     2008.0   \n",
       "1  9.780440e+12     J.K. Rowling                     1997.0   \n",
       "2  9.780316e+12  Stephenie Meyer                     2005.0   \n",
       "\n",
       "                             original_title  ... ratings_1 ratings_2  \\\n",
       "0                          The Hunger Games  ...     66715    127936   \n",
       "1  Harry Potter and the Philosopher's Stone  ...     75504    101676   \n",
       "2                                  Twilight  ...    456191    436802   \n",
       "\n",
       "   ratings_3  ratings_4  ratings_5  to_read_count  \\\n",
       "0     560092    1481305    2706317          973.0   \n",
       "1     455024    1156318    3011543          400.0   \n",
       "2     793319     875073    1355439          287.0   \n",
       "\n",
       "                                                tags    tag_1        tag_2  \\\n",
       "0  fantasy, young-adult, fiction, ya, romance, co...  fantasy  young-adult   \n",
       "1  fantasy, young-adult, fiction, harry-potter, y...  fantasy      fiction   \n",
       "2  fantasy, young-adult, fiction, ya, paranormal,...  fantasy  young-adult   \n",
       "\n",
       "         tag_3  \n",
       "0      fiction  \n",
       "1  young-adult  \n",
       "2      fiction  \n",
       "\n",
       "[3 rows x 26 columns]"
      ]
     },
     "execution_count": 33,
     "metadata": {},
     "output_type": "execute_result"
    }
   ],
   "source": [
    "books.head(3)"
   ]
  },
  {
   "cell_type": "code",
   "execution_count": 34,
   "id": "8edd4076",
   "metadata": {},
   "outputs": [
    {
     "data": {
      "text/plain": [
       "(10000, 26)"
      ]
     },
     "execution_count": 34,
     "metadata": {},
     "output_type": "execute_result"
    }
   ],
   "source": [
    "books.shape"
   ]
  },
  {
   "cell_type": "markdown",
   "id": "f46fbb83",
   "metadata": {},
   "source": [
    "### Average vs Bayesian average"
   ]
  },
  {
   "cell_type": "markdown",
   "id": "f465b7f9",
   "metadata": {},
   "source": [
    "The Bayesian average adjusts the average rating of products whose rating counts fall below a threshold. I'll calcualte it below and show how it impacts averages. "
   ]
  },
  {
   "cell_type": "code",
   "execution_count": 35,
   "id": "4078e116",
   "metadata": {},
   "outputs": [],
   "source": [
    "book_stats = ratings.groupby('book_id')[['rating']].agg(['count', 'mean'])\n",
    "book_stats.columns = book_stats.columns.droplevel()"
   ]
  },
  {
   "cell_type": "code",
   "execution_count": 36,
   "id": "1d93312a",
   "metadata": {},
   "outputs": [],
   "source": [
    "C = book_stats['count'].mean()\n",
    "m = book_stats['mean'].mean()\n",
    "\n",
    "def bayesian_avg(ratings):\n",
    "    bayesian_avg = (C*m+ratings.sum())/(C+ratings.count())\n",
    "    return bayesian_avg\n",
    "\n",
    "bayesian_avg_ratings = ratings.groupby('book_id')['rating'].agg(bayesian_avg).reset_index()\n",
    "bayesian_avg_ratings.columns = ['book_id', 'bayesian_avg']\n",
    "book_stats = book_stats.merge(bayesian_avg_ratings, on='book_id')"
   ]
  },
  {
   "cell_type": "code",
   "execution_count": 37,
   "id": "55502bcf",
   "metadata": {},
   "outputs": [
    {
     "data": {
      "text/plain": [
       "(10000, 4)"
      ]
     },
     "execution_count": 37,
     "metadata": {},
     "output_type": "execute_result"
    }
   ],
   "source": [
    "book_stats.shape"
   ]
  },
  {
   "cell_type": "code",
   "execution_count": 38,
   "id": "13485f47",
   "metadata": {
    "scrolled": true
   },
   "outputs": [
    {
     "data": {
      "text/html": [
       "<div>\n",
       "<style scoped>\n",
       "    .dataframe tbody tr th:only-of-type {\n",
       "        vertical-align: middle;\n",
       "    }\n",
       "\n",
       "    .dataframe tbody tr th {\n",
       "        vertical-align: top;\n",
       "    }\n",
       "\n",
       "    .dataframe thead th {\n",
       "        text-align: right;\n",
       "    }\n",
       "</style>\n",
       "<table border=\"1\" class=\"dataframe\">\n",
       "  <thead>\n",
       "    <tr style=\"text-align: right;\">\n",
       "      <th></th>\n",
       "      <th>book_id</th>\n",
       "      <th>count</th>\n",
       "      <th>mean</th>\n",
       "      <th>bayesian_avg</th>\n",
       "      <th>title</th>\n",
       "    </tr>\n",
       "  </thead>\n",
       "  <tbody>\n",
       "    <tr>\n",
       "      <th>24</th>\n",
       "      <td>25</td>\n",
       "      <td>15304</td>\n",
       "      <td>4.525941</td>\n",
       "      <td>4.502533</td>\n",
       "      <td>Harry Potter and the Deathly Hallows (Harry Po...</td>\n",
       "    </tr>\n",
       "    <tr>\n",
       "      <th>421</th>\n",
       "      <td>422</td>\n",
       "      <td>1915</td>\n",
       "      <td>4.659530</td>\n",
       "      <td>4.479617</td>\n",
       "      <td>Harry Potter Boxset (Harry Potter, #1-7)</td>\n",
       "    </tr>\n",
       "    <tr>\n",
       "      <th>861</th>\n",
       "      <td>862</td>\n",
       "      <td>1373</td>\n",
       "      <td>4.702840</td>\n",
       "      <td>4.460310</td>\n",
       "      <td>Words of Radiance (The Stormlight Archive, #2)</td>\n",
       "    </tr>\n",
       "    <tr>\n",
       "      <th>779</th>\n",
       "      <td>780</td>\n",
       "      <td>1394</td>\n",
       "      <td>4.661406</td>\n",
       "      <td>4.433867</td>\n",
       "      <td>Calvin and Hobbes</td>\n",
       "    </tr>\n",
       "    <tr>\n",
       "      <th>26</th>\n",
       "      <td>27</td>\n",
       "      <td>15081</td>\n",
       "      <td>4.443339</td>\n",
       "      <td>4.422748</td>\n",
       "      <td>Harry Potter and the Half-Blood Prince (Harry ...</td>\n",
       "    </tr>\n",
       "  </tbody>\n",
       "</table>\n",
       "</div>"
      ],
      "text/plain": [
       "     book_id  count      mean  bayesian_avg  \\\n",
       "24        25  15304  4.525941      4.502533   \n",
       "421      422   1915  4.659530      4.479617   \n",
       "861      862   1373  4.702840      4.460310   \n",
       "779      780   1394  4.661406      4.433867   \n",
       "26        27  15081  4.443339      4.422748   \n",
       "\n",
       "                                                 title  \n",
       "24   Harry Potter and the Deathly Hallows (Harry Po...  \n",
       "421           Harry Potter Boxset (Harry Potter, #1-7)  \n",
       "861     Words of Radiance (The Stormlight Archive, #2)  \n",
       "779                                  Calvin and Hobbes  \n",
       "26   Harry Potter and the Half-Blood Prince (Harry ...  "
      ]
     },
     "execution_count": 38,
     "metadata": {},
     "output_type": "execute_result"
    }
   ],
   "source": [
    "book_stats = book_stats.merge(books[['book_id', 'title']])\n",
    "book_stats.sort_values('bayesian_avg', ascending=False).head()"
   ]
  },
  {
   "cell_type": "markdown",
   "id": "f4078cc4",
   "metadata": {},
   "source": [
    "Above the mean rating and the average rating are shown. The values of the top rated books are close to their true average, which is good. "
   ]
  },
  {
   "cell_type": "code",
   "execution_count": 39,
   "id": "3303e892",
   "metadata": {},
   "outputs": [
    {
     "data": {
      "text/html": [
       "<div>\n",
       "<style scoped>\n",
       "    .dataframe tbody tr th:only-of-type {\n",
       "        vertical-align: middle;\n",
       "    }\n",
       "\n",
       "    .dataframe tbody tr th {\n",
       "        vertical-align: top;\n",
       "    }\n",
       "\n",
       "    .dataframe thead th {\n",
       "        text-align: right;\n",
       "    }\n",
       "</style>\n",
       "<table border=\"1\" class=\"dataframe\">\n",
       "  <thead>\n",
       "    <tr style=\"text-align: right;\">\n",
       "      <th></th>\n",
       "      <th>book_id</th>\n",
       "      <th>count</th>\n",
       "      <th>mean</th>\n",
       "      <th>bayesian_avg</th>\n",
       "      <th>title</th>\n",
       "    </tr>\n",
       "  </thead>\n",
       "  <tbody>\n",
       "    <tr>\n",
       "      <th>33</th>\n",
       "      <td>34</td>\n",
       "      <td>7724</td>\n",
       "      <td>3.092439</td>\n",
       "      <td>3.150662</td>\n",
       "      <td>Fifty Shades of Grey (Fifty Shades, #1)</td>\n",
       "    </tr>\n",
       "    <tr>\n",
       "      <th>2</th>\n",
       "      <td>3</td>\n",
       "      <td>16931</td>\n",
       "      <td>3.214341</td>\n",
       "      <td>3.237825</td>\n",
       "      <td>Twilight (Twilight, #1)</td>\n",
       "    </tr>\n",
       "    <tr>\n",
       "      <th>48</th>\n",
       "      <td>49</td>\n",
       "      <td>9712</td>\n",
       "      <td>3.217360</td>\n",
       "      <td>3.257114</td>\n",
       "      <td>New Moon (Twilight, #2)</td>\n",
       "    </tr>\n",
       "    <tr>\n",
       "      <th>1792</th>\n",
       "      <td>1793</td>\n",
       "      <td>295</td>\n",
       "      <td>2.077966</td>\n",
       "      <td>3.299958</td>\n",
       "      <td>One Night at the Call Center</td>\n",
       "    </tr>\n",
       "    <tr>\n",
       "      <th>341</th>\n",
       "      <td>342</td>\n",
       "      <td>2863</td>\n",
       "      <td>3.174991</td>\n",
       "      <td>3.300741</td>\n",
       "      <td>The Casual Vacancy</td>\n",
       "    </tr>\n",
       "  </tbody>\n",
       "</table>\n",
       "</div>"
      ],
      "text/plain": [
       "      book_id  count      mean  bayesian_avg  \\\n",
       "33         34   7724  3.092439      3.150662   \n",
       "2           3  16931  3.214341      3.237825   \n",
       "48         49   9712  3.217360      3.257114   \n",
       "1792     1793    295  2.077966      3.299958   \n",
       "341       342   2863  3.174991      3.300741   \n",
       "\n",
       "                                        title  \n",
       "33    Fifty Shades of Grey (Fifty Shades, #1)  \n",
       "2                     Twilight (Twilight, #1)  \n",
       "48                    New Moon (Twilight, #2)  \n",
       "1792             One Night at the Call Center  \n",
       "341                        The Casual Vacancy  "
      ]
     },
     "execution_count": 39,
     "metadata": {},
     "output_type": "execute_result"
    }
   ],
   "source": [
    "book_stats.sort_values('bayesian_avg', ascending=True).head()"
   ]
  },
  {
   "cell_type": "markdown",
   "id": "97de57c5",
   "metadata": {},
   "source": [
    "Here we see that the average rating for lower rated books have more varience. This makes sense in accordance to the bayseian average!"
   ]
  },
  {
   "cell_type": "code",
   "execution_count": 40,
   "id": "ddb21e83",
   "metadata": {},
   "outputs": [],
   "source": [
    "books=books.merge(book_stats[['book_id','bayesian_avg']], on='book_id')"
   ]
  },
  {
   "cell_type": "code",
   "execution_count": 41,
   "id": "2ae7bbbf",
   "metadata": {
    "scrolled": true
   },
   "outputs": [
    {
     "data": {
      "text/html": [
       "<div>\n",
       "<style scoped>\n",
       "    .dataframe tbody tr th:only-of-type {\n",
       "        vertical-align: middle;\n",
       "    }\n",
       "\n",
       "    .dataframe tbody tr th {\n",
       "        vertical-align: top;\n",
       "    }\n",
       "\n",
       "    .dataframe thead th {\n",
       "        text-align: right;\n",
       "    }\n",
       "</style>\n",
       "<table border=\"1\" class=\"dataframe\">\n",
       "  <thead>\n",
       "    <tr style=\"text-align: right;\">\n",
       "      <th></th>\n",
       "      <th>book_id</th>\n",
       "      <th>goodreads_book_id</th>\n",
       "      <th>best_book_id</th>\n",
       "      <th>work_id</th>\n",
       "      <th>books_count</th>\n",
       "      <th>isbn</th>\n",
       "      <th>isbn13</th>\n",
       "      <th>authors</th>\n",
       "      <th>original_publication_year</th>\n",
       "      <th>original_title</th>\n",
       "      <th>...</th>\n",
       "      <th>ratings_2</th>\n",
       "      <th>ratings_3</th>\n",
       "      <th>ratings_4</th>\n",
       "      <th>ratings_5</th>\n",
       "      <th>to_read_count</th>\n",
       "      <th>tags</th>\n",
       "      <th>tag_1</th>\n",
       "      <th>tag_2</th>\n",
       "      <th>tag_3</th>\n",
       "      <th>bayesian_avg</th>\n",
       "    </tr>\n",
       "  </thead>\n",
       "  <tbody>\n",
       "    <tr>\n",
       "      <th>0</th>\n",
       "      <td>1</td>\n",
       "      <td>2767052</td>\n",
       "      <td>2767052</td>\n",
       "      <td>2792775</td>\n",
       "      <td>272</td>\n",
       "      <td>439023483</td>\n",
       "      <td>9.780439e+12</td>\n",
       "      <td>Suzanne Collins</td>\n",
       "      <td>2008.0</td>\n",
       "      <td>The Hunger Games</td>\n",
       "      <td>...</td>\n",
       "      <td>127936</td>\n",
       "      <td>560092</td>\n",
       "      <td>1481305</td>\n",
       "      <td>2706317</td>\n",
       "      <td>973.0</td>\n",
       "      <td>fantasy, young-adult, fiction, ya, romance, co...</td>\n",
       "      <td>fantasy</td>\n",
       "      <td>young-adult</td>\n",
       "      <td>fiction</td>\n",
       "      <td>4.270091</td>\n",
       "    </tr>\n",
       "    <tr>\n",
       "      <th>1</th>\n",
       "      <td>2</td>\n",
       "      <td>3</td>\n",
       "      <td>3</td>\n",
       "      <td>4640799</td>\n",
       "      <td>491</td>\n",
       "      <td>439554934</td>\n",
       "      <td>9.780440e+12</td>\n",
       "      <td>J.K. Rowling</td>\n",
       "      <td>1997.0</td>\n",
       "      <td>Harry Potter and the Philosopher's Stone</td>\n",
       "      <td>...</td>\n",
       "      <td>101676</td>\n",
       "      <td>455024</td>\n",
       "      <td>1156318</td>\n",
       "      <td>3011543</td>\n",
       "      <td>400.0</td>\n",
       "      <td>fantasy, young-adult, fiction, harry-potter, y...</td>\n",
       "      <td>fantasy</td>\n",
       "      <td>fiction</td>\n",
       "      <td>young-adult</td>\n",
       "      <td>4.339417</td>\n",
       "    </tr>\n",
       "    <tr>\n",
       "      <th>2</th>\n",
       "      <td>3</td>\n",
       "      <td>41865</td>\n",
       "      <td>41865</td>\n",
       "      <td>3212258</td>\n",
       "      <td>226</td>\n",
       "      <td>316015849</td>\n",
       "      <td>9.780316e+12</td>\n",
       "      <td>Stephenie Meyer</td>\n",
       "      <td>2005.0</td>\n",
       "      <td>Twilight</td>\n",
       "      <td>...</td>\n",
       "      <td>436802</td>\n",
       "      <td>793319</td>\n",
       "      <td>875073</td>\n",
       "      <td>1355439</td>\n",
       "      <td>287.0</td>\n",
       "      <td>fantasy, young-adult, fiction, ya, paranormal,...</td>\n",
       "      <td>fantasy</td>\n",
       "      <td>young-adult</td>\n",
       "      <td>fiction</td>\n",
       "      <td>3.237825</td>\n",
       "    </tr>\n",
       "    <tr>\n",
       "      <th>3</th>\n",
       "      <td>4</td>\n",
       "      <td>2657</td>\n",
       "      <td>2657</td>\n",
       "      <td>3275794</td>\n",
       "      <td>487</td>\n",
       "      <td>61120081</td>\n",
       "      <td>9.780061e+12</td>\n",
       "      <td>Harper Lee</td>\n",
       "      <td>1960.0</td>\n",
       "      <td>To Kill a Mockingbird</td>\n",
       "      <td>...</td>\n",
       "      <td>117415</td>\n",
       "      <td>446835</td>\n",
       "      <td>1001952</td>\n",
       "      <td>1714267</td>\n",
       "      <td>1478.0</td>\n",
       "      <td>young-adult, fiction, ya, classics, mystery, c...</td>\n",
       "      <td>NaN</td>\n",
       "      <td>NaN</td>\n",
       "      <td>NaN</td>\n",
       "      <td>4.316429</td>\n",
       "    </tr>\n",
       "    <tr>\n",
       "      <th>4</th>\n",
       "      <td>5</td>\n",
       "      <td>4671</td>\n",
       "      <td>4671</td>\n",
       "      <td>245494</td>\n",
       "      <td>1356</td>\n",
       "      <td>743273567</td>\n",
       "      <td>9.780743e+12</td>\n",
       "      <td>F. Scott Fitzgerald</td>\n",
       "      <td>1925.0</td>\n",
       "      <td>The Great Gatsby</td>\n",
       "      <td>...</td>\n",
       "      <td>197621</td>\n",
       "      <td>606158</td>\n",
       "      <td>936012</td>\n",
       "      <td>947718</td>\n",
       "      <td>1293.0</td>\n",
       "      <td>young-adult, fiction, classics, romance, class...</td>\n",
       "      <td>fantasy</td>\n",
       "      <td>young-adult</td>\n",
       "      <td>fiction</td>\n",
       "      <td>3.776772</td>\n",
       "    </tr>\n",
       "  </tbody>\n",
       "</table>\n",
       "<p>5 rows × 27 columns</p>\n",
       "</div>"
      ],
      "text/plain": [
       "   book_id  goodreads_book_id  best_book_id  work_id  books_count       isbn  \\\n",
       "0        1            2767052       2767052  2792775          272  439023483   \n",
       "1        2                  3             3  4640799          491  439554934   \n",
       "2        3              41865         41865  3212258          226  316015849   \n",
       "3        4               2657          2657  3275794          487   61120081   \n",
       "4        5               4671          4671   245494         1356  743273567   \n",
       "\n",
       "         isbn13              authors  original_publication_year  \\\n",
       "0  9.780439e+12      Suzanne Collins                     2008.0   \n",
       "1  9.780440e+12         J.K. Rowling                     1997.0   \n",
       "2  9.780316e+12      Stephenie Meyer                     2005.0   \n",
       "3  9.780061e+12           Harper Lee                     1960.0   \n",
       "4  9.780743e+12  F. Scott Fitzgerald                     1925.0   \n",
       "\n",
       "                             original_title  ... ratings_2 ratings_3  \\\n",
       "0                          The Hunger Games  ...    127936    560092   \n",
       "1  Harry Potter and the Philosopher's Stone  ...    101676    455024   \n",
       "2                                  Twilight  ...    436802    793319   \n",
       "3                     To Kill a Mockingbird  ...    117415    446835   \n",
       "4                          The Great Gatsby  ...    197621    606158   \n",
       "\n",
       "   ratings_4  ratings_5  to_read_count  \\\n",
       "0    1481305    2706317          973.0   \n",
       "1    1156318    3011543          400.0   \n",
       "2     875073    1355439          287.0   \n",
       "3    1001952    1714267         1478.0   \n",
       "4     936012     947718         1293.0   \n",
       "\n",
       "                                                tags    tag_1        tag_2  \\\n",
       "0  fantasy, young-adult, fiction, ya, romance, co...  fantasy  young-adult   \n",
       "1  fantasy, young-adult, fiction, harry-potter, y...  fantasy      fiction   \n",
       "2  fantasy, young-adult, fiction, ya, paranormal,...  fantasy  young-adult   \n",
       "3  young-adult, fiction, ya, classics, mystery, c...      NaN          NaN   \n",
       "4  young-adult, fiction, classics, romance, class...  fantasy  young-adult   \n",
       "\n",
       "         tag_3  bayesian_avg  \n",
       "0      fiction      4.270091  \n",
       "1  young-adult      4.339417  \n",
       "2      fiction      3.237825  \n",
       "3          NaN      4.316429  \n",
       "4      fiction      3.776772  \n",
       "\n",
       "[5 rows x 27 columns]"
      ]
     },
     "execution_count": 41,
     "metadata": {},
     "output_type": "execute_result"
    }
   ],
   "source": [
    "books.head()"
   ]
  },
  {
   "cell_type": "code",
   "execution_count": 42,
   "id": "346607da",
   "metadata": {},
   "outputs": [
    {
     "data": {
      "text/plain": [
       "(10000, 27)"
      ]
     },
     "execution_count": 42,
     "metadata": {},
     "output_type": "execute_result"
    }
   ],
   "source": [
    "books.shape"
   ]
  },
  {
   "cell_type": "markdown",
   "id": "666507b2",
   "metadata": {},
   "source": [
    "Now that we have added the tags, I am ready to move to the modeling phase. "
   ]
  },
  {
   "cell_type": "markdown",
   "id": "5207ffd0",
   "metadata": {},
   "source": [
    "# Modeling\n",
    "\n",
    "1. Split the data into train and test\n",
    "2. Performace criterion\n",
    "3. Some basic options\n",
    "4. The Surprise library"
   ]
  },
  {
   "cell_type": "markdown",
   "id": "60c9149f",
   "metadata": {},
   "source": [
    "### 1. Split data into train and test"
   ]
  },
  {
   "cell_type": "code",
   "execution_count": 43,
   "id": "c10e68dd",
   "metadata": {
    "scrolled": true
   },
   "outputs": [
    {
     "data": {
      "text/plain": [
       "53424"
      ]
     },
     "execution_count": 43,
     "metadata": {},
     "output_type": "execute_result"
    }
   ],
   "source": [
    "user_ids = ratings.user_id.unique()\n",
    "len(user_ids)"
   ]
  },
  {
   "cell_type": "code",
   "execution_count": 44,
   "id": "3ccce088",
   "metadata": {},
   "outputs": [],
   "source": [
    "users_train, users_test = train_test_split(user_ids, test_size=0.3, random_state=42)"
   ]
  },
  {
   "cell_type": "code",
   "execution_count": 45,
   "id": "297577b4",
   "metadata": {},
   "outputs": [],
   "source": [
    "ratings_train = ratings[ratings.user_id.isin(users_train)]\n",
    "ratings_test = ratings[~ratings.user_id.isin(users_train)]"
   ]
  },
  {
   "cell_type": "code",
   "execution_count": 46,
   "id": "37f93c52",
   "metadata": {
    "scrolled": false
   },
   "outputs": [
    {
     "name": "stdout",
     "output_type": "stream",
     "text": [
      "(4183807, 3) (1792672, 3)\n"
     ]
    }
   ],
   "source": [
    "print(ratings_train.shape, ratings_test.shape)"
   ]
  },
  {
   "cell_type": "code",
   "execution_count": 47,
   "id": "15d4eb4d",
   "metadata": {},
   "outputs": [
    {
     "data": {
      "text/plain": [
       "Index(['user_id', 'book_id', 'rating'], dtype='object')"
      ]
     },
     "execution_count": 47,
     "metadata": {},
     "output_type": "execute_result"
    }
   ],
   "source": [
    "ratings_test.columns"
   ]
  },
  {
   "cell_type": "markdown",
   "id": "ed4965ee",
   "metadata": {},
   "source": [
    "### 2. Performace criterion"
   ]
  },
  {
   "cell_type": "markdown",
   "id": "8c83c542",
   "metadata": {},
   "source": [
    "Performance can be evaluated in a number of ways. Options include RMSE, ROC curves, Precision/Recall/F-Scores, and cost curves. I am going to focus on RMSE as our main criterion."
   ]
  },
  {
   "cell_type": "markdown",
   "id": "19a2f463",
   "metadata": {},
   "source": [
    "### 3. Some basic options\n",
    "\n",
    "In terms of recommendation systems, there are three major options: collaborative filtering, content-based filtering, and a hybrid of the two. Collaborative filtering  focuses on the user, asking \"what do users like you like?\" Content based filtering asks, \"What items are similar to items you like?\" Hybrid takes both of these into account. A great lecture on the different styles can be found here: https://www.youtube.com/watch?v=F6gWjOc1FUs&ab_channel=PyCon2015\n",
    "\n",
    "I am skipping these and moving directly to using the surprise library, which is an easy to use python library for recommendation systems. "
   ]
  },
  {
   "cell_type": "markdown",
   "id": "f75743e5",
   "metadata": {},
   "source": [
    "First, the baseline: if we simply took the average rating, how do we do? "
   ]
  },
  {
   "cell_type": "code",
   "execution_count": 48,
   "id": "3f2f506f",
   "metadata": {
    "scrolled": true
   },
   "outputs": [
    {
     "data": {
      "text/plain": [
       "3.9213512956023067"
      ]
     },
     "execution_count": 48,
     "metadata": {},
     "output_type": "execute_result"
    }
   ],
   "source": [
    "ratings_train_avg = ratings_train.rating.mean()\n",
    "ratings_train_avg"
   ]
  },
  {
   "cell_type": "code",
   "execution_count": 49,
   "id": "523a11f3",
   "metadata": {},
   "outputs": [],
   "source": [
    "def evaluate(estimate_f):\n",
    "    \"\"\"\n",
    "    RMSE based predictive performace evaluation.\n",
    "    \n",
    "    Args:\n",
    "        estimate_f: the function we are evaluating\n",
    "    \n",
    "    Returns:\n",
    "        RMSE of the function, tested on the test set of the book ratings\n",
    "    \"\"\"\n",
    "    ids_to_estimate = zip(ratings_test.user_id, ratings_test.book_id)\n",
    "    estimated = np.array([estimate_f(u,b) for (u,b) in (ids_to_estimate)])\n",
    "    real = ratings_test.rating.values\n",
    "    return mean_squared_error(estimated, real, squared=False)"
   ]
  },
  {
   "cell_type": "code",
   "execution_count": 50,
   "id": "f47f2ad7",
   "metadata": {},
   "outputs": [],
   "source": [
    "def avg_rating(user_id, book_id):\n",
    "    return(ratings_train_avg)"
   ]
  },
  {
   "cell_type": "code",
   "execution_count": 51,
   "id": "11ab9cc0",
   "metadata": {
    "scrolled": true
   },
   "outputs": [
    {
     "name": "stdout",
     "output_type": "stream",
     "text": [
      "RMSE for content-mean estimate: 0.9937\n",
      "took 0.50 seconds (0.01 minutes) to evaluate\n"
     ]
    }
   ],
   "source": [
    "ts = time.time()\n",
    "print(\"RMSE for content-mean estimate: {:.4f}\".format(evaluate(avg_rating)))\n",
    "print(\"took {:.2f} seconds ({:.2f} minutes) to evaluate\".format(time.time()-ts, (time.time()-ts)/60.0))"
   ]
  },
  {
   "cell_type": "markdown",
   "id": "17aa2ad3",
   "metadata": {},
   "source": [
    "### Helper function: Sparce matrix"
   ]
  },
  {
   "cell_type": "code",
   "execution_count": 52,
   "id": "4e79f030",
   "metadata": {},
   "outputs": [],
   "source": [
    "# Make a sparce matrix\n",
    "\n",
    "from scipy.sparse import csr_matrix\n",
    "\n",
    "def create_X(df):\n",
    "    \"\"\"\n",
    "    Generates a sparse matrix from ratings dataframe.\n",
    "    \n",
    "    Args:\n",
    "        df: pandas dataframe\n",
    "    \n",
    "    Returns:\n",
    "        X: sparse matrix (scipy.sparse.csr.csr_matrix)\n",
    "        user_mapper: dict that maps user id's to user indices\n",
    "        user_inv_mapper: dict that maps user indices to user id's\n",
    "        book_mapper: dict that maps movie id's to movie indices\n",
    "        book_inv_mapper: dict that maps movie indices to movie id's\n",
    "    \"\"\"\n",
    "    N = df['user_id'].nunique()\n",
    "    M = df['book_id'].nunique()\n",
    "\n",
    "    user_mapper = dict(zip(np.unique(df[\"user_id\"]), list(range(N))))\n",
    "    book_mapper = dict(zip(np.unique(df[\"book_id\"]), list(range(M))))\n",
    "    \n",
    "    user_inv_mapper = dict(zip(list(range(N)), np.unique(df[\"user_id\"])))\n",
    "    book_inv_mapper = dict(zip(list(range(M)), np.unique(df[\"book_id\"])))\n",
    "    \n",
    "    user_index = [user_mapper[i] for i in df['user_id']]\n",
    "    book_index = [book_mapper[i] for i in df['book_id']]\n",
    "\n",
    "    X = csr_matrix((df[\"rating\"], (book_index, user_index)), shape=(M, N))\n",
    "    \n",
    "    return X, user_mapper, book_mapper, user_inv_mapper, book_inv_mapper"
   ]
  },
  {
   "cell_type": "code",
   "execution_count": 53,
   "id": "7fe722b3",
   "metadata": {},
   "outputs": [],
   "source": [
    "X, user_mapper, book_mapper, user_inv_mapper, book_inv_mapper = create_X(ratings)"
   ]
  },
  {
   "cell_type": "code",
   "execution_count": 54,
   "id": "f8c5a59b",
   "metadata": {},
   "outputs": [
    {
     "name": "stdout",
     "output_type": "stream",
     "text": [
      "Matrix sparsity: 1.12%\n"
     ]
    }
   ],
   "source": [
    "sparsity = X.count_nonzero()/(X.shape[0]*X.shape[1])\n",
    "\n",
    "print(f\"Matrix sparsity: {round(sparsity*100,2)}%\")"
   ]
  },
  {
   "cell_type": "code",
   "execution_count": 55,
   "id": "d3ab9920",
   "metadata": {
    "scrolled": false
   },
   "outputs": [
    {
     "name": "stdout",
     "output_type": "stream",
     "text": [
      "<class 'scipy.sparse.csr.csr_matrix'>\n"
     ]
    }
   ],
   "source": [
    "print(type(X))"
   ]
  },
  {
   "cell_type": "markdown",
   "id": "de4ac3b1",
   "metadata": {},
   "source": [
    "Only 1.12% of cells in our user-item matrix are populated with ratings. This is fine, since it is more than 0.5%"
   ]
  },
  {
   "cell_type": "code",
   "execution_count": 56,
   "id": "82b50bc2",
   "metadata": {},
   "outputs": [],
   "source": [
    "# Save the data\n",
    "books.to_csv(\"../data/processed/books.csv\", index=False)"
   ]
  },
  {
   "cell_type": "code",
   "execution_count": 57,
   "id": "2bf8fbc5",
   "metadata": {},
   "outputs": [],
   "source": [
    "ratings.to_csv(\"../data/processed/ratings.csv\", index=False)"
   ]
  },
  {
   "cell_type": "code",
   "execution_count": 58,
   "id": "fb923ea0",
   "metadata": {
    "scrolled": true
   },
   "outputs": [],
   "source": [
    "scipy.sparse.save_npz('../data/processed/sparse_matrix.npz', X)"
   ]
  },
  {
   "cell_type": "markdown",
   "id": "f366abcb",
   "metadata": {},
   "source": [
    "### A simple hybrid system"
   ]
  },
  {
   "cell_type": "code",
   "execution_count": 59,
   "id": "a1d1d1df",
   "metadata": {},
   "outputs": [],
   "source": [
    "def pearson(s1, s2):\n",
    "    # Take two series and return pearson correlation\n",
    "    s1_c = s1 - s1.mean()\n",
    "    s2_c = s2 - s2.mean()\n",
    "    return(np.sum(s1_c * s2_c) / np.sqrt(np.sum(s1_c ** 2) * (np.sum(s2_c ** 2))))"
   ]
  },
  {
   "cell_type": "code",
   "execution_count": 60,
   "id": "7640180d",
   "metadata": {},
   "outputs": [],
   "source": [
    "class CollabPearsonReco:\n",
    "    \n",
    "    def learn(self):\n",
    "        self.all_user_profiles = ratings.pivot_table(values='rating', index='book_id',columns='user_id')\n",
    "    \n",
    "    def estimate(self, user_id, book_id):\n",
    "        ratings_by_others = ratings_train[ratings_train.book_id == book_id]\n",
    "        if ratings_by_others.empty: \n",
    "            return(ratings_train_avg)\n",
    "        \n",
    "        ratings_by_others.set_index('user_id', inplace=True)\n",
    "        their_ids = ratings_by_others.index\n",
    "        their_ratings = ratings_by_others.rating\n",
    "        their_profiles = self.all_user_profiles[their_ids]\n",
    "        user_profile = self.all_user_profiles[user_id]\n",
    "        sims = their_profiles.apply(lambda profile: pearson(profile, user_profile), axis=0)\n",
    "        ratings_sims = pd.DataFrame({'sim': sims, 'rating':their_ratings})\n",
    "        ratings_sims = ratings_sims[ratings_sims.sim > 0]\n",
    "        \n",
    "        if ratings_sims.empty: \n",
    "            return(their_ratings.mean())\n",
    "        else:\n",
    "            return(np.average(ratings_sims.rating, weights=ratings_sims.sim))"
   ]
  },
  {
   "cell_type": "code",
   "execution_count": 61,
   "id": "474d71fd",
   "metadata": {
    "scrolled": true
   },
   "outputs": [
    {
     "name": "stdout",
     "output_type": "stream",
     "text": [
      "took 15.10 seconds (0.25 minutes) to learn\n"
     ]
    }
   ],
   "source": [
    "ts = time.time()\n",
    "reco = CollabPearsonReco()\n",
    "reco.learn()\n",
    "print(\"took {:.2f} seconds ({:.2f} minutes) to learn\".format(time.time()-ts, (time.time()-ts)/60.0))"
   ]
  },
  {
   "cell_type": "code",
   "execution_count": 62,
   "id": "b4736bfc",
   "metadata": {},
   "outputs": [],
   "source": [
    "# It turns out, this takes a while to run and is not really worth it for the sake of the capstone. \n",
    "# ts = time.time()\n",
    "# print(\"RMSE for content-mean estimate: {:.4f}\".format(evaluate(reco.estimate)))\n",
    "# print(\"took {:.2f} seconds ({:.2f} minutes) to evaluate\".format(time.time()-ts, (time.time()-ts)/60.0))"
   ]
  },
  {
   "cell_type": "markdown",
   "id": "66e8f86f",
   "metadata": {},
   "source": [
    "### 4. The Surprise Library\n",
    "\n",
    "Surprise is a Python scikit for building and analyzing recommender systems that deal with explicit rating data. Find out more here: http://surpriselib.com/"
   ]
  },
  {
   "cell_type": "code",
   "execution_count": 63,
   "id": "d98973d5",
   "metadata": {},
   "outputs": [],
   "source": [
    "#Installs\n",
    "# !pip install surprise"
   ]
  },
  {
   "cell_type": "code",
   "execution_count": 64,
   "id": "7b110685",
   "metadata": {},
   "outputs": [],
   "source": [
    "# imports \n",
    "import seaborn as sns\n",
    "import scipy\n",
    "from collections import defaultdict\n",
    "import surprise as sp\n",
    "from surprise.model_selection import cross_validate\n",
    "from surprise.model_selection import KFold\n",
    "from surprise.model_selection import train_test_split\n",
    "from surprise.model_selection import GridSearchCV"
   ]
  },
  {
   "cell_type": "code",
   "execution_count": 65,
   "id": "3b4b3bcf",
   "metadata": {},
   "outputs": [],
   "source": [
    "#Turn the CSV files into data frames\n",
    "books = pd.read_csv('../data/processed/books.csv')\n",
    "ratings = pd.read_csv('../data/processed/ratings.csv')\n",
    "sparse = scipy.sparse.load_npz('../data/processed/sparse_matrix.npz')"
   ]
  },
  {
   "cell_type": "code",
   "execution_count": 66,
   "id": "167fee3c",
   "metadata": {},
   "outputs": [
    {
     "name": "stdout",
     "output_type": "stream",
     "text": [
      "Matrix sparsity: 1.12%\n"
     ]
    }
   ],
   "source": [
    "sparsity = sparse.count_nonzero()/(sparse.shape[0]*sparse.shape[1])\n",
    "\n",
    "print(f\"Matrix sparsity: {round(sparsity*100,2)}%\")"
   ]
  },
  {
   "cell_type": "code",
   "execution_count": 67,
   "id": "eb7ba737",
   "metadata": {},
   "outputs": [
    {
     "data": {
      "text/plain": [
       "12874    200\n",
       "30944    200\n",
       "52036    199\n",
       "12381    199\n",
       "28158    199\n",
       "45554    197\n",
       "6630     197\n",
       "37834    196\n",
       "15604    196\n",
       "7563     196\n",
       "Name: user_id, dtype: int64"
      ]
     },
     "execution_count": 67,
     "metadata": {},
     "output_type": "execute_result"
    }
   ],
   "source": [
    "# Top 10 raters by id\n",
    "ratings.user_id.value_counts(ascending=False)[:10]"
   ]
  },
  {
   "cell_type": "code",
   "execution_count": 68,
   "id": "97329d21",
   "metadata": {
    "scrolled": true
   },
   "outputs": [
    {
     "data": {
      "text/plain": [
       "34590    19\n",
       "43675    20\n",
       "40753    21\n",
       "32128    21\n",
       "51725    21\n",
       "42736    22\n",
       "25258    22\n",
       "38280    22\n",
       "16470    22\n",
       "37640    22\n",
       "Name: user_id, dtype: int64"
      ]
     },
     "execution_count": 68,
     "metadata": {},
     "output_type": "execute_result"
    }
   ],
   "source": [
    "# Bottom 10 raters by id\n",
    "ratings.user_id.value_counts(ascending=True)[:10]"
   ]
  },
  {
   "cell_type": "markdown",
   "id": "50fd2b70",
   "metadata": {},
   "source": [
    "### Helper functions"
   ]
  },
  {
   "cell_type": "code",
   "execution_count": 69,
   "id": "2fbc1e19",
   "metadata": {},
   "outputs": [],
   "source": [
    "def read_data_surprise (df, minstar=1, maxstar=3, col1='user_id', col2='route', col3='rating'):\n",
    "    '''\n",
    "    Produces a surpise library data object from original dataframe\n",
    "\n",
    "    ---Parameters---\n",
    "\n",
    "    df (Pandas DataFrame)\n",
    "    minstar (int) minimum star possible in dataset (default set to 1)\n",
    "    maxstar (int) maximum star possible in dataset (default set to 3)\n",
    "    col1 (string) column name that MUST correspond the the users in the df\n",
    "    col2 (string) column name that MUST corresponds the the items in the df\n",
    "    col3 (string) column name that corresponds the the ratings of the items in the df\n",
    "\n",
    "    ---Returns---\n",
    "    surprise library data object to manipulate later\n",
    "\n",
    "    '''\n",
    "    # need to specify the rating_scale of stars (default 1-3 stars)\n",
    "    reader = sp.Reader(rating_scale=(minstar, maxstar))\n",
    "    # The columns must correspond to user id, item id and ratings (in that order).\n",
    "    data = sp.Dataset.load_from_df(df[[col1, col2, col3]], reader)\n",
    "\n",
    "    return data"
   ]
  },
  {
   "cell_type": "code",
   "execution_count": 70,
   "id": "a2bb9e4d",
   "metadata": {},
   "outputs": [],
   "source": [
    "def algo_tester(data_object):\n",
    "    '''\n",
    "    Produces a dataframe displaying all the different RMSE's, test & train times of the different surprise algorithms\n",
    "\n",
    "    ---Parameters---\n",
    "    data_object(variable) created from the read_data_surprise function\n",
    "\n",
    "    ---Returns---\n",
    "    returns a dataframe where you can compare the performance of different algorithms\n",
    "    '''\n",
    "    benchmark = []\n",
    "    algos = [sp.SVDpp(), sp.SVD(), sp.SlopeOne(), sp.NMF(), sp.NormalPredictor(), sp.KNNBaseline(), sp.KNNBasic(), sp.KNNWithMeans(), sp.KNNWithZScore(), sp.BaselineOnly(), sp.CoClustering()]\n",
    "\n",
    "    # Iterate over all algorithms\n",
    "    for algorithm in tqdm(algos):\n",
    "        # Perform cross validation\n",
    "        results = cross_validate(algorithm, data_object, measures=['RMSE'], cv=3, verbose=False)\n",
    "\n",
    "        # Get results & append algorithm name\n",
    "        tmp = pd.DataFrame.from_dict(results).mean(axis=0)\n",
    "        tmp = tmp.append(pd.Series([str(algorithm).split(' ')[0].split('.')[-1]], index=['Algorithm']))\n",
    "        benchmark.append(tmp)\n",
    "\n",
    "    benchmark = pd.DataFrame(benchmark).set_index('Algorithm').sort_values('test_rmse')\n",
    "    return benchmark\n"
   ]
  },
  {
   "cell_type": "code",
   "execution_count": 71,
   "id": "6120cc80",
   "metadata": {},
   "outputs": [],
   "source": [
    "def violin_accuracy(algo, testset):\n",
    "    '''\n",
    "    Plot violin chart showing descrepancy between true and predicted ratings with means & standard deviations included\n",
    "\n",
    "    ---Parameters---\n",
    "    algo (predefined variable) of the algorithm being used\n",
    "    testset (variable) of which test data set being used\n",
    "\n",
    "    ---Returns---\n",
    "    Means and standard deviations of the estimated predictions per true rating\n",
    "    Violin chart comparing real ratings to predicted ratings\n",
    "\n",
    "    '''\n",
    "\n",
    "    predictions = algo.test(testset)\n",
    "    predict_df = pd.DataFrame(predictions)\n",
    "\n",
    "    #Calculating Means and standard deviations per true rating\n",
    "    p_mean= predict_df.groupby(\"r_ui\")[\"est\"].mean()\n",
    "    p_std = predict_df.groupby(\"r_ui\")[\"est\"].std()\n",
    "    print (type(p_mean))\n",
    "    print (f\"Means of Predicted per True Rating: {p_mean}\")\n",
    "    print (f\"STD of Predicted per True Rating: {p_std}\")\n",
    "\n",
    "    #Plotting the Violin plot\n",
    "    sns.violinplot( x=predict_df[\"r_ui\"], y= predict_df[\"est\"], saturation= .5)\n",
    "    plt.xlabel('True Ratings')\n",
    "    plt.ylabel('Predicted Ratings')\n",
    "    plt.title('True vs. Predicted Ratings Using KNN Baseline')"
   ]
  },
  {
   "cell_type": "markdown",
   "id": "54a828ea",
   "metadata": {},
   "source": [
    "**For the sake of getting the best results with my limited RAM, I am going to take only users with 100-200 ratings. I wrote code for both 100+ and 150+ data, the former I used in the final modeling and the latter I used for testing algorithms.**"
   ]
  },
  {
   "cell_type": "markdown",
   "id": "2e065cb3",
   "metadata": {},
   "source": [
    "Hundred and fifty"
   ]
  },
  {
   "cell_type": "code",
   "execution_count": 72,
   "id": "f558806d",
   "metadata": {},
   "outputs": [
    {
     "data": {
      "text/html": [
       "<div>\n",
       "<style scoped>\n",
       "    .dataframe tbody tr th:only-of-type {\n",
       "        vertical-align: middle;\n",
       "    }\n",
       "\n",
       "    .dataframe tbody tr th {\n",
       "        vertical-align: top;\n",
       "    }\n",
       "\n",
       "    .dataframe thead th {\n",
       "        text-align: right;\n",
       "    }\n",
       "</style>\n",
       "<table border=\"1\" class=\"dataframe\">\n",
       "  <thead>\n",
       "    <tr style=\"text-align: right;\">\n",
       "      <th></th>\n",
       "      <th>user_id</th>\n",
       "      <th>book_id</th>\n",
       "      <th>rating</th>\n",
       "    </tr>\n",
       "  </thead>\n",
       "  <tbody>\n",
       "    <tr>\n",
       "      <th>977</th>\n",
       "      <td>75</td>\n",
       "      <td>3254</td>\n",
       "      <td>2</td>\n",
       "    </tr>\n",
       "    <tr>\n",
       "      <th>978</th>\n",
       "      <td>75</td>\n",
       "      <td>6777</td>\n",
       "      <td>5</td>\n",
       "    </tr>\n",
       "    <tr>\n",
       "      <th>979</th>\n",
       "      <td>75</td>\n",
       "      <td>11</td>\n",
       "      <td>5</td>\n",
       "    </tr>\n",
       "    <tr>\n",
       "      <th>981</th>\n",
       "      <td>75</td>\n",
       "      <td>372</td>\n",
       "      <td>4</td>\n",
       "    </tr>\n",
       "    <tr>\n",
       "      <th>982</th>\n",
       "      <td>75</td>\n",
       "      <td>476</td>\n",
       "      <td>3</td>\n",
       "    </tr>\n",
       "    <tr>\n",
       "      <th>...</th>\n",
       "      <td>...</td>\n",
       "      <td>...</td>\n",
       "      <td>...</td>\n",
       "    </tr>\n",
       "    <tr>\n",
       "      <th>5976353</th>\n",
       "      <td>50480</td>\n",
       "      <td>1688</td>\n",
       "      <td>3</td>\n",
       "    </tr>\n",
       "    <tr>\n",
       "      <th>5976354</th>\n",
       "      <td>50480</td>\n",
       "      <td>2216</td>\n",
       "      <td>4</td>\n",
       "    </tr>\n",
       "    <tr>\n",
       "      <th>5976355</th>\n",
       "      <td>50480</td>\n",
       "      <td>1539</td>\n",
       "      <td>3</td>\n",
       "    </tr>\n",
       "    <tr>\n",
       "      <th>5976356</th>\n",
       "      <td>50480</td>\n",
       "      <td>2772</td>\n",
       "      <td>4</td>\n",
       "    </tr>\n",
       "    <tr>\n",
       "      <th>5976462</th>\n",
       "      <td>15292</td>\n",
       "      <td>854</td>\n",
       "      <td>4</td>\n",
       "    </tr>\n",
       "  </tbody>\n",
       "</table>\n",
       "<p>688371 rows × 3 columns</p>\n",
       "</div>"
      ],
      "text/plain": [
       "         user_id  book_id  rating\n",
       "977           75     3254       2\n",
       "978           75     6777       5\n",
       "979           75       11       5\n",
       "981           75      372       4\n",
       "982           75      476       3\n",
       "...          ...      ...     ...\n",
       "5976353    50480     1688       3\n",
       "5976354    50480     2216       4\n",
       "5976355    50480     1539       3\n",
       "5976356    50480     2772       4\n",
       "5976462    15292      854       4\n",
       "\n",
       "[688371 rows x 3 columns]"
      ]
     },
     "execution_count": 72,
     "metadata": {},
     "output_type": "execute_result"
    }
   ],
   "source": [
    "num_ratings = ratings.user_id.value_counts()\n",
    "hundred_fifty_ids = num_ratings[num_ratings.values >= 150].index\n",
    "hundred_fifty = ratings[ratings.user_id.isin(hundred_fifty_ids)]\n",
    "hundred_fifty"
   ]
  },
  {
   "cell_type": "code",
   "execution_count": 73,
   "id": "f6158c9d",
   "metadata": {},
   "outputs": [],
   "source": [
    "reader = sp.Reader(rating_scale=(1, 5))\n",
    "surprise_150_data = sp.Dataset.load_from_df(hundred_fifty[['user_id','book_id','rating']], reader)"
   ]
  },
  {
   "cell_type": "markdown",
   "id": "a8965637",
   "metadata": {},
   "source": [
    "Hundred"
   ]
  },
  {
   "cell_type": "code",
   "execution_count": 74,
   "id": "0fd11f7f",
   "metadata": {},
   "outputs": [
    {
     "data": {
      "text/html": [
       "<div>\n",
       "<style scoped>\n",
       "    .dataframe tbody tr th:only-of-type {\n",
       "        vertical-align: middle;\n",
       "    }\n",
       "\n",
       "    .dataframe tbody tr th {\n",
       "        vertical-align: top;\n",
       "    }\n",
       "\n",
       "    .dataframe thead th {\n",
       "        text-align: right;\n",
       "    }\n",
       "</style>\n",
       "<table border=\"1\" class=\"dataframe\">\n",
       "  <thead>\n",
       "    <tr style=\"text-align: right;\">\n",
       "      <th></th>\n",
       "      <th>user_id</th>\n",
       "      <th>book_id</th>\n",
       "      <th>rating</th>\n",
       "    </tr>\n",
       "  </thead>\n",
       "  <tbody>\n",
       "    <tr>\n",
       "      <th>0</th>\n",
       "      <td>1</td>\n",
       "      <td>258</td>\n",
       "      <td>5</td>\n",
       "    </tr>\n",
       "    <tr>\n",
       "      <th>12</th>\n",
       "      <td>4</td>\n",
       "      <td>70</td>\n",
       "      <td>4</td>\n",
       "    </tr>\n",
       "    <tr>\n",
       "      <th>13</th>\n",
       "      <td>4</td>\n",
       "      <td>264</td>\n",
       "      <td>3</td>\n",
       "    </tr>\n",
       "    <tr>\n",
       "      <th>14</th>\n",
       "      <td>4</td>\n",
       "      <td>388</td>\n",
       "      <td>4</td>\n",
       "    </tr>\n",
       "    <tr>\n",
       "      <th>15</th>\n",
       "      <td>4</td>\n",
       "      <td>18</td>\n",
       "      <td>5</td>\n",
       "    </tr>\n",
       "    <tr>\n",
       "      <th>...</th>\n",
       "      <td>...</td>\n",
       "      <td>...</td>\n",
       "      <td>...</td>\n",
       "    </tr>\n",
       "    <tr>\n",
       "      <th>5976474</th>\n",
       "      <td>49925</td>\n",
       "      <td>510</td>\n",
       "      <td>5</td>\n",
       "    </tr>\n",
       "    <tr>\n",
       "      <th>5976475</th>\n",
       "      <td>49925</td>\n",
       "      <td>528</td>\n",
       "      <td>4</td>\n",
       "    </tr>\n",
       "    <tr>\n",
       "      <th>5976476</th>\n",
       "      <td>49925</td>\n",
       "      <td>722</td>\n",
       "      <td>4</td>\n",
       "    </tr>\n",
       "    <tr>\n",
       "      <th>5976477</th>\n",
       "      <td>49925</td>\n",
       "      <td>949</td>\n",
       "      <td>5</td>\n",
       "    </tr>\n",
       "    <tr>\n",
       "      <th>5976478</th>\n",
       "      <td>49925</td>\n",
       "      <td>1023</td>\n",
       "      <td>4</td>\n",
       "    </tr>\n",
       "  </tbody>\n",
       "</table>\n",
       "<p>4615637 rows × 3 columns</p>\n",
       "</div>"
      ],
      "text/plain": [
       "         user_id  book_id  rating\n",
       "0              1      258       5\n",
       "12             4       70       4\n",
       "13             4      264       3\n",
       "14             4      388       4\n",
       "15             4       18       5\n",
       "...          ...      ...     ...\n",
       "5976474    49925      510       5\n",
       "5976475    49925      528       4\n",
       "5976476    49925      722       4\n",
       "5976477    49925      949       5\n",
       "5976478    49925     1023       4\n",
       "\n",
       "[4615637 rows x 3 columns]"
      ]
     },
     "execution_count": 74,
     "metadata": {},
     "output_type": "execute_result"
    }
   ],
   "source": [
    "num_ratings = ratings.user_id.value_counts()\n",
    "hundred_ids = num_ratings[num_ratings.values >= 100].index\n",
    "hundred = ratings[ratings.user_id.isin(hundred_ids)]\n",
    "hundred"
   ]
  },
  {
   "cell_type": "code",
   "execution_count": 75,
   "id": "6f7f3d21",
   "metadata": {},
   "outputs": [],
   "source": [
    "reader = sp.Reader(rating_scale=(1, 5))\n",
    "surprise_100_data = sp.Dataset.load_from_df(hundred[['user_id','book_id','rating']], reader)"
   ]
  },
  {
   "cell_type": "markdown",
   "id": "e612fd45",
   "metadata": {},
   "source": [
    "### Choosing a model"
   ]
  },
  {
   "cell_type": "code",
   "execution_count": 76,
   "id": "98f5253c",
   "metadata": {
    "scrolled": false
   },
   "outputs": [],
   "source": [
    "# Only run if you have a while to spend waiting\n",
    "# %%time\n",
    "# algo_tests = algo_tester(surprise_150_data)\n",
    "# algo_tests"
   ]
  },
  {
   "attachments": {
    "image.png": {
     "image/png": "[encoded data removed]"
    }
   },
   "cell_type": "markdown",
   "id": "7d5720fb",
   "metadata": {},
   "source": [
    "The SVDpp had a very long fit time, but the test time was very short and it had the best RMSE.\n",
    "The KNNBaseline had a better fit time, with a slower test time, but overall shorter time and a very similar RMSE. \n",
    "Ran with 150+ ratings. \n",
    "Copy of results here:\n",
    "![image.png](attachment:image.png)"
   ]
  },
  {
   "cell_type": "markdown",
   "id": "41e0de58",
   "metadata": {},
   "source": [
    "### SVD++"
   ]
  },
  {
   "cell_type": "code",
   "execution_count": 79,
   "id": "6a2fd16d",
   "metadata": {},
   "outputs": [
    {
     "data": {
      "text/plain": [
       "<surprise.dataset.DatasetAutoFolds at 0x28fe93a42e0>"
      ]
     },
     "execution_count": 79,
     "metadata": {},
     "output_type": "execute_result"
    }
   ],
   "source": [
    "surprise_100_data"
   ]
  },
  {
   "cell_type": "code",
   "execution_count": 80,
   "id": "769be4cd",
   "metadata": {
    "scrolled": false
   },
   "outputs": [],
   "source": [
    "trainset, testset = train_test_split(surprise_100_data, test_size=.2, random_state=101)"
   ]
  },
  {
   "cell_type": "code",
   "execution_count": 79,
   "id": "7c02f24e",
   "metadata": {
    "scrolled": false
   },
   "outputs": [
    {
     "name": "stdout",
     "output_type": "stream",
     "text": [
      "RMSE: 0.8188\n",
      "Wall time: 1h 1min 10s\n"
     ]
    },
    {
     "data": {
      "text/plain": [
       "0.8187780899450757"
      ]
     },
     "execution_count": 79,
     "metadata": {},
     "output_type": "execute_result"
    }
   ],
   "source": [
    "%%time \n",
    "SVDpp_algo = sp.SVDpp()\n",
    "SVDpp_algo.fit(trainset)\n",
    "predictions_SVDpp = SVDpp_algo.test(testset)\n",
    "sp.accuracy.rmse(predictions_SVDpp)"
   ]
  },
  {
   "cell_type": "code",
   "execution_count": 80,
   "id": "40cfe1a3",
   "metadata": {},
   "outputs": [
    {
     "name": "stdout",
     "output_type": "stream",
     "text": [
      "<class 'pandas.core.series.Series'>\n",
      "Means of Predicted per True Rating: r_ui\n",
      "1.0    3.065401\n",
      "2.0    3.312075\n",
      "3.0    3.585588\n",
      "4.0    3.896850\n",
      "5.0    4.295433\n",
      "Name: est, dtype: float64\n",
      "STD of Predicted per True Rating: r_ui\n",
      "1.0    0.800925\n",
      "2.0    0.582983\n",
      "3.0    0.485005\n",
      "4.0    0.445393\n",
      "5.0    0.465664\n",
      "Name: est, dtype: float64\n"
     ]
    },
    {
     "data": {
      "image/png": "[encoded data removed]",
      "text/plain": [
       "<Figure size 432x288 with 1 Axes>"
      ]
     },
     "metadata": {
      "needs_background": "light"
     },
     "output_type": "display_data"
    }
   ],
   "source": [
    "violin_accuracy(SVDpp_algo, testset)"
   ]
  },
  {
   "cell_type": "code",
   "execution_count": 81,
   "id": "95f3393f",
   "metadata": {},
   "outputs": [],
   "source": [
    "# save the model \n",
    "import pickle\n",
    "pickle.dump(SVDpp_algo, open('../models/SVDpp_100.sav', 'wb'))"
   ]
  },
  {
   "cell_type": "markdown",
   "id": "52965471",
   "metadata": {},
   "source": [
    "### KNNBaseline"
   ]
  },
  {
   "cell_type": "code",
   "execution_count": 81,
   "id": "110db921",
   "metadata": {
    "scrolled": true
   },
   "outputs": [
    {
     "name": "stdout",
     "output_type": "stream",
     "text": [
      "Estimating biases using als...\n",
      "Computing the msd similarity matrix...\n",
      "Done computing similarity matrix.\n",
      "RMSE: 0.8420\n",
      "Wall time: 1h 29min 6s\n"
     ]
    },
    {
     "data": {
      "text/plain": [
       "0.8420047147574636"
      ]
     },
     "execution_count": 81,
     "metadata": {},
     "output_type": "execute_result"
    }
   ],
   "source": [
    "%%time \n",
    "KNNBaseline_algo = sp.KNNBaseline()\n",
    "KNNBaseline_algo.fit(trainset)\n",
    "predictions_KNNBaseline = KNNBaseline_algo.test(testset)\n",
    "sp.accuracy.rmse(predictions_KNNBaseline)"
   ]
  },
  {
   "cell_type": "code",
   "execution_count": 82,
   "id": "5f7ed629",
   "metadata": {},
   "outputs": [
    {
     "name": "stdout",
     "output_type": "stream",
     "text": [
      "<class 'pandas.core.series.Series'>\n",
      "Means of Predicted per True Rating: r_ui\n",
      "1.0    3.330594\n",
      "2.0    3.430826\n",
      "3.0    3.617570\n",
      "4.0    3.885709\n",
      "5.0    4.259962\n",
      "Name: est, dtype: float64\n",
      "STD of Predicted per True Rating: r_ui\n",
      "1.0    0.653943\n",
      "2.0    0.504075\n",
      "3.0    0.441961\n",
      "4.0    0.412507\n",
      "5.0    0.455687\n",
      "Name: est, dtype: float64\n"
     ]
    },
    {
     "data": {
      "image/png": "[encoded data removed]",
      "text/plain": [
       "<Figure size 432x288 with 1 Axes>"
      ]
     },
     "metadata": {
      "needs_background": "light"
     },
     "output_type": "display_data"
    }
   ],
   "source": [
    "violin_accuracy(KNNBaseline_algo, testset)"
   ]
  },
  {
   "cell_type": "code",
   "execution_count": 84,
   "id": "ccb3070d",
   "metadata": {},
   "outputs": [],
   "source": [
    "# save the model to disk\n",
    "import pickle\n",
    "pickle.dump(KNNBaseline_algo, open('../models/KNNBaseline_100.sav', 'wb'))"
   ]
  },
  {
   "cell_type": "markdown",
   "id": "f00284d9",
   "metadata": {},
   "source": [
    "As we can see from the violin plots, the items rated highly are most accurately high rated items; the lower accuracy on lower values is less important. "
   ]
  }
 ],
 "metadata": {
  "kernelspec": {
   "display_name": "Python 3 (ipykernel)",
   "language": "python",
   "name": "python3"
  },
  "language_info": {
   "codemirror_mode": {
    "name": "ipython",
    "version": 3
   },
   "file_extension": ".py",
   "mimetype": "text/x-python",
   "name": "python",
   "nbconvert_exporter": "python",
   "pygments_lexer": "ipython3",
   "version": "3.8.8"
  }
 },
 "nbformat": 4,
 "nbformat_minor": 5
}
