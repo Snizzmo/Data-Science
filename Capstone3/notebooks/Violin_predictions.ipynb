{
 "cells": [
  {
   "cell_type": "code",
   "execution_count": null,
   "id": "0155f697",
   "metadata": {},
   "outputs": [],
   "source": []
  },
  {
   "cell_type": "code",
   "execution_count": 12,
   "id": "991e9fc6",
   "metadata": {},
   "outputs": [],
   "source": [
    "#Installs\n",
    "# !pip install surprise"
   ]
  },
  {
   "cell_type": "code",
   "execution_count": 13,
   "id": "f0472ef3",
   "metadata": {},
   "outputs": [],
   "source": [
    "#imports\n",
    "import numpy as np \n",
    "import pandas as pd \n",
    "import matplotlib.pyplot as plt\n",
    "import seaborn as sns\n",
    "import matplotlib\n",
    "import base64\n",
    "from collections import defaultdict\n",
    "import surprise as sp\n",
    "from surprise.model_selection import cross_validate\n",
    "from surprise.model_selection import KFold\n",
    "from surprise.model_selection import train_test_split\n",
    "from surprise.model_selection import GridSearchCV"
   ]
  },
  {
   "cell_type": "code",
   "execution_count": 14,
   "id": "c624af43",
   "metadata": {},
   "outputs": [],
   "source": [
    "#reconfigure default plot settings\n",
    "pd.set_option('display.max_columns', 10)\n",
    "sns.set_palette(sns.color_palette(\"crest\", 8))\n",
    "matplotlib.rc('figure', figsize = (12, 7))\n",
    "matplotlib.rc('font', size = 14)\n",
    "matplotlib.rc('axes.spines', top = False, right = False)\n",
    "matplotlib.rc('axes', grid = False)\n",
    "matplotlib.rc('axes', facecolor = 'white')"
   ]
  },
  {
   "cell_type": "code",
   "execution_count": 15,
   "id": "f3a69934",
   "metadata": {},
   "outputs": [],
   "source": [
    "#Turn the CSV files into data frames\n",
    "books = pd.read_csv('../data/processed/books.csv')\n",
    "ratings = pd.read_csv('../data//raw//ratings.csv')"
   ]
  },
  {
   "cell_type": "code",
   "execution_count": 16,
   "id": "cfa9cca8",
   "metadata": {},
   "outputs": [],
   "source": [
    "# Make a sparce matrix\n",
    "\n",
    "from scipy.sparse import csr_matrix\n",
    "\n",
    "def create_X(df):\n",
    "    \"\"\"\n",
    "    Generates a sparse matrix from ratings dataframe.\n",
    "    \n",
    "    Args:\n",
    "        df: pandas dataframe\n",
    "    \n",
    "    Returns:\n",
    "        X: sparse matrix\n",
    "        user_mapper: dict that maps user id's to user indices\n",
    "        user_inv_mapper: dict that maps user indices to user id's\n",
    "        book_mapper: dict that maps movie id's to movie indices\n",
    "        book_inv_mapper: dict that maps movie indices to movie id's\n",
    "    \"\"\"\n",
    "    N = df['user_id'].nunique()\n",
    "    M = df['book_id'].nunique()\n",
    "\n",
    "    user_mapper = dict(zip(np.unique(df[\"user_id\"]), list(range(N))))\n",
    "    book_mapper = dict(zip(np.unique(df[\"book_id\"]), list(range(M))))\n",
    "    \n",
    "    user_inv_mapper = dict(zip(list(range(N)), np.unique(df[\"user_id\"])))\n",
    "    book_inv_mapper = dict(zip(list(range(M)), np.unique(df[\"book_id\"])))\n",
    "    \n",
    "    user_index = [user_mapper[i] for i in df['user_id']]\n",
    "    book_index = [book_mapper[i] for i in df['book_id']]\n",
    "\n",
    "    X = csr_matrix((df[\"rating\"], (book_index, user_index)), shape=(M, N))\n",
    "    \n",
    "    return X, user_mapper, book_mapper, user_inv_mapper, book_inv_mapper"
   ]
  },
  {
   "cell_type": "code",
   "execution_count": 17,
   "id": "a309ed08",
   "metadata": {},
   "outputs": [],
   "source": [
    "X, user_mapper, book_mapper, user_inv_mapper, book_inv_mapper = create_X(ratings)"
   ]
  },
  {
   "cell_type": "code",
   "execution_count": 18,
   "id": "65919345",
   "metadata": {},
   "outputs": [
    {
     "name": "stdout",
     "output_type": "stream",
     "text": [
      "Matrix sparsity: 1.12%\n"
     ]
    }
   ],
   "source": [
    "sparsity = X.count_nonzero()/(X.shape[0]*X.shape[1])\n",
    "\n",
    "print(f\"Matrix sparsity: {round(sparsity*100,2)}%\")"
   ]
  },
  {
   "cell_type": "code",
   "execution_count": 19,
   "id": "6e2d1e2c",
   "metadata": {},
   "outputs": [
    {
     "data": {
      "text/plain": [
       "12874    200\n",
       "30944    200\n",
       "52036    199\n",
       "12381    199\n",
       "28158    199\n",
       "45554    197\n",
       "6630     197\n",
       "37834    196\n",
       "15604    196\n",
       "7563     196\n",
       "14372    196\n",
       "19729    196\n",
       "9806     196\n",
       "9668     196\n",
       "24143    196\n",
       "10509    195\n",
       "33065    195\n",
       "25840    195\n",
       "9731     195\n",
       "38798    195\n",
       "Name: user_id, dtype: int64"
      ]
     },
     "execution_count": 19,
     "metadata": {},
     "output_type": "execute_result"
    }
   ],
   "source": [
    "# Top 20 raters by id\n",
    "ratings.user_id.value_counts(ascending=False)[:20]"
   ]
  },
  {
   "cell_type": "code",
   "execution_count": 20,
   "id": "5ee44c39",
   "metadata": {},
   "outputs": [
    {
     "data": {
      "text/plain": [
       "34590    19\n",
       "43675    20\n",
       "40753    21\n",
       "32128    21\n",
       "51725    21\n",
       "42736    22\n",
       "25258    22\n",
       "38280    22\n",
       "16470    22\n",
       "37640    22\n",
       "50918    22\n",
       "32960    22\n",
       "34099    22\n",
       "40299    22\n",
       "22020    22\n",
       "43672    22\n",
       "25856    22\n",
       "48077    22\n",
       "39865    23\n",
       "18327    23\n",
       "Name: user_id, dtype: int64"
      ]
     },
     "execution_count": 20,
     "metadata": {},
     "output_type": "execute_result"
    }
   ],
   "source": [
    "# Bottom 20 raters by id\n",
    "ratings.user_id.value_counts(ascending=True)[:20]"
   ]
  },
  {
   "cell_type": "code",
   "execution_count": 21,
   "id": "f558806d",
   "metadata": {},
   "outputs": [],
   "source": [
    "num_ratings = ratings.user_id.value_counts()"
   ]
  },
  {
   "cell_type": "code",
   "execution_count": 22,
   "id": "6c81a8a9",
   "metadata": {},
   "outputs": [],
   "source": [
    "hundred_fifty_ids = num_ratings[num_ratings.values > 150].index"
   ]
  },
  {
   "cell_type": "code",
   "execution_count": 23,
   "id": "c14ea1a4",
   "metadata": {},
   "outputs": [],
   "source": [
    "hundred_fifty = ratings[ratings.user_id.isin(hundred_fifty_ids)]"
   ]
  },
  {
   "cell_type": "code",
   "execution_count": 25,
   "id": "a0f75eb8",
   "metadata": {},
   "outputs": [
    {
     "data": {
      "text/html": [
       "<div>\n",
       "<style scoped>\n",
       "    .dataframe tbody tr th:only-of-type {\n",
       "        vertical-align: middle;\n",
       "    }\n",
       "\n",
       "    .dataframe tbody tr th {\n",
       "        vertical-align: top;\n",
       "    }\n",
       "\n",
       "    .dataframe thead th {\n",
       "        text-align: right;\n",
       "    }\n",
       "</style>\n",
       "<table border=\"1\" class=\"dataframe\">\n",
       "  <thead>\n",
       "    <tr style=\"text-align: right;\">\n",
       "      <th></th>\n",
       "      <th>user_id</th>\n",
       "      <th>book_id</th>\n",
       "      <th>rating</th>\n",
       "    </tr>\n",
       "  </thead>\n",
       "  <tbody>\n",
       "    <tr>\n",
       "      <th>977</th>\n",
       "      <td>75</td>\n",
       "      <td>3254</td>\n",
       "      <td>2</td>\n",
       "    </tr>\n",
       "    <tr>\n",
       "      <th>978</th>\n",
       "      <td>75</td>\n",
       "      <td>6777</td>\n",
       "      <td>5</td>\n",
       "    </tr>\n",
       "    <tr>\n",
       "      <th>979</th>\n",
       "      <td>75</td>\n",
       "      <td>11</td>\n",
       "      <td>5</td>\n",
       "    </tr>\n",
       "    <tr>\n",
       "      <th>981</th>\n",
       "      <td>75</td>\n",
       "      <td>372</td>\n",
       "      <td>4</td>\n",
       "    </tr>\n",
       "    <tr>\n",
       "      <th>982</th>\n",
       "      <td>75</td>\n",
       "      <td>476</td>\n",
       "      <td>3</td>\n",
       "    </tr>\n",
       "    <tr>\n",
       "      <th>...</th>\n",
       "      <td>...</td>\n",
       "      <td>...</td>\n",
       "      <td>...</td>\n",
       "    </tr>\n",
       "    <tr>\n",
       "      <th>5976353</th>\n",
       "      <td>50480</td>\n",
       "      <td>1688</td>\n",
       "      <td>3</td>\n",
       "    </tr>\n",
       "    <tr>\n",
       "      <th>5976354</th>\n",
       "      <td>50480</td>\n",
       "      <td>2216</td>\n",
       "      <td>4</td>\n",
       "    </tr>\n",
       "    <tr>\n",
       "      <th>5976355</th>\n",
       "      <td>50480</td>\n",
       "      <td>1539</td>\n",
       "      <td>3</td>\n",
       "    </tr>\n",
       "    <tr>\n",
       "      <th>5976356</th>\n",
       "      <td>50480</td>\n",
       "      <td>2772</td>\n",
       "      <td>4</td>\n",
       "    </tr>\n",
       "    <tr>\n",
       "      <th>5976462</th>\n",
       "      <td>15292</td>\n",
       "      <td>854</td>\n",
       "      <td>4</td>\n",
       "    </tr>\n",
       "  </tbody>\n",
       "</table>\n",
       "<p>654771 rows × 3 columns</p>\n",
       "</div>"
      ],
      "text/plain": [
       "         user_id  book_id  rating\n",
       "977           75     3254       2\n",
       "978           75     6777       5\n",
       "979           75       11       5\n",
       "981           75      372       4\n",
       "982           75      476       3\n",
       "...          ...      ...     ...\n",
       "5976353    50480     1688       3\n",
       "5976354    50480     2216       4\n",
       "5976355    50480     1539       3\n",
       "5976356    50480     2772       4\n",
       "5976462    15292      854       4\n",
       "\n",
       "[654771 rows x 3 columns]"
      ]
     },
     "execution_count": 25,
     "metadata": {},
     "output_type": "execute_result"
    }
   ],
   "source": [
    "hundred_fifty"
   ]
  },
  {
   "cell_type": "code",
   "execution_count": 39,
   "id": "3dbff2ea",
   "metadata": {},
   "outputs": [
    {
     "data": {
      "text/html": [
       "<div>\n",
       "<style scoped>\n",
       "    .dataframe tbody tr th:only-of-type {\n",
       "        vertical-align: middle;\n",
       "    }\n",
       "\n",
       "    .dataframe tbody tr th {\n",
       "        vertical-align: top;\n",
       "    }\n",
       "\n",
       "    .dataframe thead th {\n",
       "        text-align: right;\n",
       "    }\n",
       "</style>\n",
       "<table border=\"1\" class=\"dataframe\">\n",
       "  <thead>\n",
       "    <tr style=\"text-align: right;\">\n",
       "      <th></th>\n",
       "      <th>user_id</th>\n",
       "      <th>book_id</th>\n",
       "      <th>rating</th>\n",
       "    </tr>\n",
       "  </thead>\n",
       "  <tbody>\n",
       "    <tr>\n",
       "      <th>0</th>\n",
       "      <td>1</td>\n",
       "      <td>258</td>\n",
       "      <td>5</td>\n",
       "    </tr>\n",
       "    <tr>\n",
       "      <th>1</th>\n",
       "      <td>2</td>\n",
       "      <td>4081</td>\n",
       "      <td>4</td>\n",
       "    </tr>\n",
       "    <tr>\n",
       "      <th>2</th>\n",
       "      <td>2</td>\n",
       "      <td>260</td>\n",
       "      <td>5</td>\n",
       "    </tr>\n",
       "    <tr>\n",
       "      <th>3</th>\n",
       "      <td>2</td>\n",
       "      <td>9296</td>\n",
       "      <td>5</td>\n",
       "    </tr>\n",
       "    <tr>\n",
       "      <th>4</th>\n",
       "      <td>2</td>\n",
       "      <td>2318</td>\n",
       "      <td>3</td>\n",
       "    </tr>\n",
       "    <tr>\n",
       "      <th>...</th>\n",
       "      <td>...</td>\n",
       "      <td>...</td>\n",
       "      <td>...</td>\n",
       "    </tr>\n",
       "    <tr>\n",
       "      <th>5976474</th>\n",
       "      <td>49925</td>\n",
       "      <td>510</td>\n",
       "      <td>5</td>\n",
       "    </tr>\n",
       "    <tr>\n",
       "      <th>5976475</th>\n",
       "      <td>49925</td>\n",
       "      <td>528</td>\n",
       "      <td>4</td>\n",
       "    </tr>\n",
       "    <tr>\n",
       "      <th>5976476</th>\n",
       "      <td>49925</td>\n",
       "      <td>722</td>\n",
       "      <td>4</td>\n",
       "    </tr>\n",
       "    <tr>\n",
       "      <th>5976477</th>\n",
       "      <td>49925</td>\n",
       "      <td>949</td>\n",
       "      <td>5</td>\n",
       "    </tr>\n",
       "    <tr>\n",
       "      <th>5976478</th>\n",
       "      <td>49925</td>\n",
       "      <td>1023</td>\n",
       "      <td>4</td>\n",
       "    </tr>\n",
       "  </tbody>\n",
       "</table>\n",
       "<p>5976479 rows × 3 columns</p>\n",
       "</div>"
      ],
      "text/plain": [
       "         user_id  book_id  rating\n",
       "0              1      258       5\n",
       "1              2     4081       4\n",
       "2              2      260       5\n",
       "3              2     9296       5\n",
       "4              2     2318       3\n",
       "...          ...      ...     ...\n",
       "5976474    49925      510       5\n",
       "5976475    49925      528       4\n",
       "5976476    49925      722       4\n",
       "5976477    49925      949       5\n",
       "5976478    49925     1023       4\n",
       "\n",
       "[5976479 rows x 3 columns]"
      ]
     },
     "execution_count": 39,
     "metadata": {},
     "output_type": "execute_result"
    }
   ],
   "source": [
    "ratings"
   ]
  },
  {
   "cell_type": "code",
   "execution_count": 26,
   "id": "835e76e6",
   "metadata": {},
   "outputs": [],
   "source": [
    "def read_data_surprise (df, minstar=1, maxstar=3, col1='user_id', col2='route', col3='rating'):\n",
    "    '''\n",
    "    Produces a surpise library data object from original dataframe\n",
    "\n",
    "    ---Parameters---\n",
    "\n",
    "    df (Pandas DataFrame)\n",
    "    minstar (int) minimum star possible in dataset (default set to 1)\n",
    "    maxstar (int) maximum star possible in dataset (default set to 3)\n",
    "    col1 (string) column name that MUST correspond the the users in the df\n",
    "    col2 (string) column name that MUST corresponds the the items in the df\n",
    "    col3 (string) column name that corresponds the the ratings of the items in the df\n",
    "\n",
    "    ---Returns---\n",
    "    surprise library data object to manipulate later\n",
    "\n",
    "    '''\n",
    "    # need to specify the rating_scale of stars (default 1-3 stars)\n",
    "    reader = sp.Reader(rating_scale=(minstar, maxstar))\n",
    "    # The columns must correspond to user id, item id and ratings (in that order).\n",
    "    data = sp.Dataset.load_from_df(df[[col1, col2, col3]], reader)\n",
    "\n",
    "    return data\n"
   ]
  },
  {
   "cell_type": "code",
   "execution_count": 27,
   "id": "b79948ed",
   "metadata": {},
   "outputs": [],
   "source": [
    "reader = sp.Reader(rating_scale=(1, 5))\n",
    "surprise_150_data = sp.Dataset.load_from_df(hundred_fifty[['user_id','book_id','rating']], reader)"
   ]
  },
  {
   "cell_type": "code",
   "execution_count": 44,
   "id": "eca94cc7",
   "metadata": {},
   "outputs": [],
   "source": [
    "hundred_ids = num_ratings[num_ratings.values > 100].index\n",
    "hundred = ratings[ratings.user_id.isin(hundred_ids)]\n",
    "surprise_100_data = sp.Dataset.load_from_df(hundred[['user_id','book_id','rating']], reader)"
   ]
  },
  {
   "cell_type": "code",
   "execution_count": 45,
   "id": "d711cbcd",
   "metadata": {},
   "outputs": [],
   "source": [
    "reader = sp.Reader(rating_scale=(1, 5))\n",
    "surprise_data = sp.Dataset.load_from_df(ratings[['user_id','book_id','rating']], reader)"
   ]
  },
  {
   "cell_type": "code",
   "execution_count": 36,
   "id": "c9063dac",
   "metadata": {},
   "outputs": [],
   "source": [
    "#Violin plot of violin_accuracy\n",
    "\n",
    "def violin_accuracy(algo, testset):\n",
    "    '''\n",
    "    Plot violin chart showing descrepancy between true and predicted ratings with means & standard deviations included\n",
    "\n",
    "    ---Parameters---\n",
    "    algo (predefined variable) of the algorithm being used\n",
    "    testset (variable) of which test data set being used\n",
    "\n",
    "    ---Returns---\n",
    "    Means and standard deviations of the estimated predictions per true rating\n",
    "    Violin chart comparing real ratings to predicted ratings\n",
    "\n",
    "    '''\n",
    "\n",
    "    predictions = algo.test(testset)\n",
    "    predict_df = pd.DataFrame(predictions)\n",
    "\n",
    "    #Calculating Means and standard deviations per true rating\n",
    "    p_mean= predict_df.groupby(\"r_ui\")[\"est\"].mean()\n",
    "    p_std = predict_df.groupby(\"r_ui\")[\"est\"].std()\n",
    "    print (type(p_mean))\n",
    "    print (f\"Means of Predicted per True Rating: {p_mean}\")\n",
    "    print (f\"STD of Predicted per True Rating: {p_std}\")\n",
    "\n",
    "    #Plotting the Violin plot\n",
    "    sns.violinplot( x=predict_df[\"r_ui\"], y= predict_df[\"est\"], saturation= .5)\n",
    "    plt.xlabel('True Ratings')\n",
    "    plt.ylabel('Predicted Ratings')\n",
    "    plt.title('True vs. Predicted Ratings Using SVD')"
   ]
  },
  {
   "cell_type": "code",
   "execution_count": 37,
   "id": "9d744797",
   "metadata": {
    "scrolled": false
   },
   "outputs": [
    {
     "name": "stdout",
     "output_type": "stream",
     "text": [
      "Estimating biases using als...\n",
      "Computing the msd similarity matrix...\n",
      "Done computing similarity matrix.\n",
      "RMSE: 0.8487\n",
      "<class 'pandas.core.series.Series'>\n",
      "Means of Predicted per True Rating: r_ui\n",
      "1.0    3.206717\n",
      "2.0    3.357571\n",
      "3.0    3.586502\n",
      "4.0    3.866880\n",
      "5.0    4.242924\n",
      "Name: est, dtype: float64\n",
      "STD of Predicted per True Rating: r_ui\n",
      "1.0    0.696751\n",
      "2.0    0.519859\n",
      "3.0    0.450896\n",
      "4.0    0.427026\n",
      "5.0    0.468791\n",
      "Name: est, dtype: float64\n"
     ]
    },
    {
     "data": {
      "image/png": "[encoded data removed]",
      "text/plain": [
       "<Figure size 864x504 with 1 Axes>"
      ]
     },
     "metadata": {
      "needs_background": "light"
     },
     "output_type": "display_data"
    }
   ],
   "source": [
    "trainset2, testset2 = train_test_split(surprise_150_data, test_size=.2)\n",
    "algo = sp.KNNBaseline()\n",
    "algo.fit(trainset2)\n",
    "predictions2 = algo.test(testset2)\n",
    "sp.accuracy.rmse(predictions2)\n",
    "violin_accuracy(algo, testset2)"
   ]
  },
  {
   "cell_type": "code",
   "execution_count": 46,
   "id": "14f3138a",
   "metadata": {},
   "outputs": [],
   "source": [
    "hundred_ids = num_ratings[num_ratings.values > 100].index\n",
    "hundred = ratings[ratings.user_id.isin(hundred_ids)]\n",
    "surprise_100_data = sp.Dataset.load_from_df(hundred[['user_id','book_id','rating']], reader)"
   ]
  },
  {
   "cell_type": "code",
   "execution_count": 47,
   "id": "74ac69a7",
   "metadata": {
    "scrolled": false
   },
   "outputs": [
    {
     "name": "stdout",
     "output_type": "stream",
     "text": [
      "Estimating biases using als...\n",
      "Computing the msd similarity matrix...\n",
      "Done computing similarity matrix.\n",
      "RMSE: 0.8422\n",
      "<class 'pandas.core.series.Series'>\n",
      "Means of Predicted per True Rating: r_ui\n",
      "1.0    3.328582\n",
      "2.0    3.430918\n",
      "3.0    3.616640\n",
      "4.0    3.885248\n",
      "5.0    4.260179\n",
      "Name: est, dtype: float64\n",
      "STD of Predicted per True Rating: r_ui\n",
      "1.0    0.652801\n",
      "2.0    0.501992\n",
      "3.0    0.442585\n",
      "4.0    0.413249\n",
      "5.0    0.456126\n",
      "Name: est, dtype: float64\n"
     ]
    },
    {
     "data": {
      "image/png": "[encoded data removed]",
      "text/plain": [
       "<Figure size 864x504 with 1 Axes>"
      ]
     },
     "metadata": {
      "needs_background": "light"
     },
     "output_type": "display_data"
    }
   ],
   "source": [
    "trainset2, testset2 = train_test_split(surprise_100_data, test_size=.2)\n",
    "algo = sp.KNNBaseline()\n",
    "algo.fit(trainset2)\n",
    "predictions2 = algo.test(testset2)\n",
    "sp.accuracy.rmse(predictions2)\n",
    "violin_accuracy(algo, testset2)"
   ]
  },
  {
   "cell_type": "code",
   "execution_count": null,
   "id": "533de778",
   "metadata": {},
   "outputs": [],
   "source": [
    "reader = sp.Reader(rating_scale=(1, 5))\n",
    "surprise_data = sp.Dataset.load_from_df(ratings[['user_id','book_id','rating']], reader)"
   ]
  },
  {
   "cell_type": "code",
   "execution_count": null,
   "id": "cb538a29",
   "metadata": {},
   "outputs": [],
   "source": [
    "fifty_ids = num_ratings[num_ratings.values > 50].index\n",
    "fifty = ratings[ratings.user_id.isin(fifty_ids)]\n",
    "surprise_100_data = sp.Dataset.load_from_df(fifty[['user_id','book_id','rating']], reader)"
   ]
  },
  {
   "cell_type": "code",
   "execution_count": null,
   "id": "9025e8b6",
   "metadata": {},
   "outputs": [],
   "source": []
  },
  {
   "cell_type": "code",
   "execution_count": null,
   "id": "2f7cd336",
   "metadata": {},
   "outputs": [],
   "source": []
  },
  {
   "cell_type": "code",
   "execution_count": null,
   "id": "fe47e551",
   "metadata": {},
   "outputs": [],
   "source": [
    "reader = sp.Reader(rating_scale=(1, 5))\n",
    "surprise_data = sp.Dataset.load_from_df(ratings[['user_id','book_id','rating']], reader)"
   ]
  }
 ],
 "metadata": {
  "kernelspec": {
   "display_name": "Python 3 (ipykernel)",
   "language": "python",
   "name": "python3"
  },
  "language_info": {
   "codemirror_mode": {
    "name": "ipython",
    "version": 3
   },
   "file_extension": ".py",
   "mimetype": "text/x-python",
   "name": "python",
   "nbconvert_exporter": "python",
   "pygments_lexer": "ipython3",
   "version": "3.8.8"
  }
 },
 "nbformat": 4,
 "nbformat_minor": 5
}
