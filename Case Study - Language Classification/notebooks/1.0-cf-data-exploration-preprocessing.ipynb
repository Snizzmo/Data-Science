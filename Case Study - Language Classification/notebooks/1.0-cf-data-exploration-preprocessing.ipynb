{
 "cells": [
  {
   "cell_type": "markdown",
   "id": "fd020211",
   "metadata": {},
   "source": [
    "# Explore the data\n",
    "\n",
    "The data comes from https://www.kaggle.com/datasets/basilb2s/language-detection and is a small language detection dataset. This dataset consists of text details for 17 different languages, as follows: \n",
    "\n",
    "Languages\n",
    "1. English \n",
    "2. Malayalam\n",
    "3. Hindi\n",
    "4. Tamil\n",
    "5. Kannada\n",
    "6. French\n",
    "7. Spanish\n",
    "8. Portuguese\n",
    "9. Italian\n",
    "10. Russian\n",
    "11. Sweedish\n",
    "12. Dutch\n",
    "13. Arabic\n",
    "14. Turkish\n",
    "15. German\n",
    "16. Danish\n",
    "17. Greek"
   ]
  },
  {
   "cell_type": "markdown",
   "id": "1738bcaf",
   "metadata": {},
   "source": [
    "### Import the data, check duplicates"
   ]
  },
  {
   "cell_type": "code",
   "execution_count": 1,
   "id": "8f4eef16",
   "metadata": {},
   "outputs": [],
   "source": [
    "# Import the necessary libraries \n",
    "import numpy as np \n",
    "import pandas as pd\n",
    "import matplotlib.pyplot as plt\n",
    "import re\n",
    "import seaborn as sns\n",
    "\n",
    "import warnings\n",
    "warnings.filterwarnings(\"ignore\")"
   ]
  },
  {
   "cell_type": "code",
   "execution_count": 2,
   "id": "440eb211",
   "metadata": {},
   "outputs": [],
   "source": [
    "# Import the data \n",
    "data = pd.read_csv(\"../data/raw/Language Detection.csv\")"
   ]
  },
  {
   "cell_type": "code",
   "execution_count": 3,
   "id": "5b08fd4c",
   "metadata": {},
   "outputs": [
    {
     "data": {
      "text/plain": [
       "(10337, 2)"
      ]
     },
     "execution_count": 3,
     "metadata": {},
     "output_type": "execute_result"
    }
   ],
   "source": [
    "data.shape"
   ]
  },
  {
   "cell_type": "code",
   "execution_count": 4,
   "id": "c854abf9",
   "metadata": {
    "scrolled": true
   },
   "outputs": [
    {
     "data": {
      "text/html": [
       "<div>\n",
       "<style scoped>\n",
       "    .dataframe tbody tr th:only-of-type {\n",
       "        vertical-align: middle;\n",
       "    }\n",
       "\n",
       "    .dataframe tbody tr th {\n",
       "        vertical-align: top;\n",
       "    }\n",
       "\n",
       "    .dataframe thead th {\n",
       "        text-align: right;\n",
       "    }\n",
       "</style>\n",
       "<table border=\"1\" class=\"dataframe\">\n",
       "  <thead>\n",
       "    <tr style=\"text-align: right;\">\n",
       "      <th></th>\n",
       "      <th>Text</th>\n",
       "      <th>Language</th>\n",
       "    </tr>\n",
       "  </thead>\n",
       "  <tbody>\n",
       "    <tr>\n",
       "      <th>7576</th>\n",
       "      <td>e tu sei come oh quello che lo spiega quello c...</td>\n",
       "      <td>Italian</td>\n",
       "    </tr>\n",
       "    <tr>\n",
       "      <th>7844</th>\n",
       "      <td>Bu lisans ayrıca yeniden katılım gösterenlerin...</td>\n",
       "      <td>Turkish</td>\n",
       "    </tr>\n",
       "    <tr>\n",
       "      <th>9391</th>\n",
       "      <td>أنت محق تماما.</td>\n",
       "      <td>Arabic</td>\n",
       "    </tr>\n",
       "    <tr>\n",
       "      <th>5119</th>\n",
       "      <td>Esta organización se encargó de registrar los ...</td>\n",
       "      <td>Spanish</td>\n",
       "    </tr>\n",
       "    <tr>\n",
       "      <th>8142</th>\n",
       "      <td>bunu tekrar etmenin bir sakıncası var mı?</td>\n",
       "      <td>Turkish</td>\n",
       "    </tr>\n",
       "  </tbody>\n",
       "</table>\n",
       "</div>"
      ],
      "text/plain": [
       "                                                   Text Language\n",
       "7576  e tu sei come oh quello che lo spiega quello c...  Italian\n",
       "7844  Bu lisans ayrıca yeniden katılım gösterenlerin...  Turkish\n",
       "9391                                     أنت محق تماما.   Arabic\n",
       "5119  Esta organización se encargó de registrar los ...  Spanish\n",
       "8142          bunu tekrar etmenin bir sakıncası var mı?  Turkish"
      ]
     },
     "execution_count": 4,
     "metadata": {},
     "output_type": "execute_result"
    }
   ],
   "source": [
    "data.sample(5)"
   ]
  },
  {
   "cell_type": "code",
   "execution_count": 5,
   "id": "a33e4992",
   "metadata": {},
   "outputs": [
    {
     "data": {
      "text/plain": [
       "Text        0\n",
       "Language    0\n",
       "dtype: int64"
      ]
     },
     "execution_count": 5,
     "metadata": {},
     "output_type": "execute_result"
    }
   ],
   "source": [
    "# Are there missing data?\n",
    "data.isna().sum()"
   ]
  },
  {
   "cell_type": "code",
   "execution_count": 6,
   "id": "70693793",
   "metadata": {},
   "outputs": [
    {
     "data": {
      "text/plain": [
       "66"
      ]
     },
     "execution_count": 6,
     "metadata": {},
     "output_type": "execute_result"
    }
   ],
   "source": [
    "# There are 10,337 values. Are there duplicated? \n",
    "data.duplicated().sum()"
   ]
  },
  {
   "cell_type": "code",
   "execution_count": 7,
   "id": "3ae787d3",
   "metadata": {},
   "outputs": [
    {
     "data": {
      "text/html": [
       "<div>\n",
       "<style scoped>\n",
       "    .dataframe tbody tr th:only-of-type {\n",
       "        vertical-align: middle;\n",
       "    }\n",
       "\n",
       "    .dataframe tbody tr th {\n",
       "        vertical-align: top;\n",
       "    }\n",
       "\n",
       "    .dataframe thead th {\n",
       "        text-align: right;\n",
       "    }\n",
       "</style>\n",
       "<table border=\"1\" class=\"dataframe\">\n",
       "  <thead>\n",
       "    <tr style=\"text-align: right;\">\n",
       "      <th></th>\n",
       "      <th>Text</th>\n",
       "      <th>Language</th>\n",
       "    </tr>\n",
       "  </thead>\n",
       "  <tbody>\n",
       "    <tr>\n",
       "      <th>1141</th>\n",
       "      <td>i'm sorry.</td>\n",
       "      <td>English</td>\n",
       "    </tr>\n",
       "    <tr>\n",
       "      <th>1180</th>\n",
       "      <td>oh my god.</td>\n",
       "      <td>English</td>\n",
       "    </tr>\n",
       "    <tr>\n",
       "      <th>1196</th>\n",
       "      <td>i'm sorry.</td>\n",
       "      <td>English</td>\n",
       "    </tr>\n",
       "    <tr>\n",
       "      <th>1724</th>\n",
       "      <td>എന്നോട് ക്ഷമിക്കൂ.</td>\n",
       "      <td>Malayalam</td>\n",
       "    </tr>\n",
       "    <tr>\n",
       "      <th>1767</th>\n",
       "      <td>ഓ എന്റെ ദൈവമേ.</td>\n",
       "      <td>Malayalam</td>\n",
       "    </tr>\n",
       "    <tr>\n",
       "      <th>...</th>\n",
       "      <td>...</td>\n",
       "      <td>...</td>\n",
       "    </tr>\n",
       "    <tr>\n",
       "      <th>9706</th>\n",
       "      <td>Ach du lieber Gott.</td>\n",
       "      <td>German</td>\n",
       "    </tr>\n",
       "    <tr>\n",
       "      <th>9726</th>\n",
       "      <td>Es tut mir Leid.</td>\n",
       "      <td>German</td>\n",
       "    </tr>\n",
       "    <tr>\n",
       "      <th>10081</th>\n",
       "      <td>ನನ್ನನ್ನು ಕ್ಷಮಿಸು.</td>\n",
       "      <td>Kannada</td>\n",
       "    </tr>\n",
       "    <tr>\n",
       "      <th>10125</th>\n",
       "      <td>ಓ ದೇವರೇ.</td>\n",
       "      <td>Kannada</td>\n",
       "    </tr>\n",
       "    <tr>\n",
       "      <th>10141</th>\n",
       "      <td>ನನ್ನನ್ನು ಕ್ಷಮಿಸು.</td>\n",
       "      <td>Kannada</td>\n",
       "    </tr>\n",
       "  </tbody>\n",
       "</table>\n",
       "<p>66 rows × 2 columns</p>\n",
       "</div>"
      ],
      "text/plain": [
       "                      Text   Language\n",
       "1141            i'm sorry.    English\n",
       "1180            oh my god.    English\n",
       "1196            i'm sorry.    English\n",
       "1724   എന്നോട് ക്ഷമിക്കൂ.  Malayalam\n",
       "1767        ഓ എന്റെ ദൈവമേ.  Malayalam\n",
       "...                    ...        ...\n",
       "9706   Ach du lieber Gott.     German\n",
       "9726      Es tut mir Leid.     German\n",
       "10081    ನನ್ನನ್ನು ಕ್ಷಮಿಸು.    Kannada\n",
       "10125             ಓ ದೇವರೇ.    Kannada\n",
       "10141    ನನ್ನನ್ನು ಕ್ಷಮಿಸು.    Kannada\n",
       "\n",
       "[66 rows x 2 columns]"
      ]
     },
     "execution_count": 7,
     "metadata": {},
     "output_type": "execute_result"
    }
   ],
   "source": [
    "data[data.duplicated()]"
   ]
  },
  {
   "cell_type": "code",
   "execution_count": 8,
   "id": "ae665ea8",
   "metadata": {},
   "outputs": [],
   "source": [
    "# I don't want there to be duplicated data, so I will remove the duplicates and save as df\n",
    "df = data.drop_duplicates()"
   ]
  },
  {
   "cell_type": "code",
   "execution_count": 9,
   "id": "da304b1e",
   "metadata": {
    "scrolled": true
   },
   "outputs": [
    {
     "data": {
      "text/plain": [
       "(10271, 2)"
      ]
     },
     "execution_count": 9,
     "metadata": {},
     "output_type": "execute_result"
    }
   ],
   "source": [
    "df.shape"
   ]
  },
  {
   "cell_type": "code",
   "execution_count": 10,
   "id": "a2170d0f",
   "metadata": {
    "scrolled": false
   },
   "outputs": [
    {
     "data": {
      "text/plain": [
       "Language\n",
       "English       1382\n",
       "French        1007\n",
       "Spanish        816\n",
       "Portugeese     736\n",
       "Italian        694\n",
       "Name: Text, dtype: int64"
      ]
     },
     "execution_count": 10,
     "metadata": {},
     "output_type": "execute_result"
    }
   ],
   "source": [
    "# Let's see what the languages are most common \n",
    "lang_counts = df.groupby('Language')['Text'].count()\n",
    "lang_counts.sort_values(ascending=False, inplace=True)\n",
    "lang_counts.head()"
   ]
  },
  {
   "cell_type": "markdown",
   "id": "6c953f65",
   "metadata": {},
   "source": [
    "### Data exploration: distribution"
   ]
  },
  {
   "cell_type": "code",
   "execution_count": 11,
   "id": "e1402a29",
   "metadata": {
    "scrolled": false
   },
   "outputs": [
    {
     "data": {
      "text/plain": [
       "Text(0, 0.5, 'Number of text in language')"
      ]
     },
     "execution_count": 11,
     "metadata": {},
     "output_type": "execute_result"
    },
    {
     "data": {
      "image/png": "[encoded data removed]",
      "text/plain": [
       "<Figure size 1152x576 with 1 Axes>"
      ]
     },
     "metadata": {
      "needs_background": "light"
     },
     "output_type": "display_data"
    }
   ],
   "source": [
    "# This leaves us with 10,271 unique values. How are they distributed?\n",
    "sns.set_context('poster')\n",
    "plt.figure(figsize=(16,8))\n",
    "plt.xticks(fontsize = 15, rotation = 60)\n",
    "palette = sns.color_palette(\"crest\", n_colors=len(lang_counts))\n",
    "\n",
    "sns.barplot(x=lang_counts.index, y=lang_counts, palette=palette)\n",
    "\n",
    "plt.title('Language Distribution')\n",
    "plt.xlabel(\"Language\")\n",
    "plt.ylabel(\"Number of text in language\")"
   ]
  },
  {
   "cell_type": "markdown",
   "id": "4915dabb",
   "metadata": {},
   "source": [
    "The text is not evenly distributed! This will be important later, since we need to take this into account for out machine learning model. "
   ]
  },
  {
   "cell_type": "markdown",
   "id": "7c881301",
   "metadata": {},
   "source": [
    "### Text preprocessing"
   ]
  },
  {
   "cell_type": "code",
   "execution_count": 12,
   "id": "176b27b0",
   "metadata": {},
   "outputs": [],
   "source": [
    "# iterate through all the text and convert it to lower case without symbols and numbers\n",
    "text_list = []\n",
    "for text in df.Text:\n",
    "    text = re.sub(r'[\\[\\]!@#$(),\\n\"%^*?\\:;~`0-9]', ' ', text) # Remove symbols \n",
    "    text = text.lower() # convert to lower case\n",
    "    text = re.sub(' +', ' ', text) # Remove extra spaces\n",
    "    text_list.append(text)"
   ]
  },
  {
   "cell_type": "code",
   "execution_count": 14,
   "id": "dc1eaa4d",
   "metadata": {},
   "outputs": [],
   "source": [
    "df.Text = text_list"
   ]
  },
  {
   "cell_type": "code",
   "execution_count": 16,
   "id": "50554d24",
   "metadata": {},
   "outputs": [],
   "source": [
    "df.to_csv(\"../data/processed/language_cleaned.csv\")"
   ]
  }
 ],
 "metadata": {
  "kernelspec": {
   "display_name": "Python 3 (ipykernel)",
   "language": "python",
   "name": "python3"
  },
  "language_info": {
   "codemirror_mode": {
    "name": "ipython",
    "version": 3
   },
   "file_extension": ".py",
   "mimetype": "text/x-python",
   "name": "python",
   "nbconvert_exporter": "python",
   "pygments_lexer": "ipython3",
   "version": "3.8.8"
  }
 },
 "nbformat": 4,
 "nbformat_minor": 5
}
